{
 "cells": [
  {
   "cell_type": "markdown",
   "metadata": {
    "id": "WV1MrR_2cANj"
   },
   "source": [
    "[![open In Colab](https://colab.research.google.com/assets/colab-badge.svg)](https://colab.research.google.com/github/sarbol/NumericalReasoningModels/blob/main/ConFinQA_OpenAI_Qwen_Models.ipynb)"
   ]
  },
  {
   "cell_type": "code",
   "execution_count": null,
   "metadata": {
    "id": "DBcQS6Fu_oLR"
   },
   "outputs": [],
   "source": [
    "%%capture\n",
    "%pip install --upgrade tiktoken -q\n",
    "%pip install --upgrade openai -q"
   ]
  },
  {
   "cell_type": "code",
   "execution_count": null,
   "metadata": {
    "colab": {
     "base_uri": "https://localhost:8080/"
    },
    "id": "nQQDbc1wAAKr",
    "outputId": "0661f32c-4f44-4ec0-8881-f85930aa1f6e"
   },
   "outputs": [
    {
     "name": "stdout",
     "output_type": "stream",
     "text": [
      "Mounted at /content/drive\n"
     ]
    }
   ],
   "source": [
    "from google.colab import drive\n",
    "drive.mount('/content/drive')"
   ]
  },
  {
   "cell_type": "code",
   "execution_count": null,
   "metadata": {
    "id": "x-LwPpp-Ib_E"
   },
   "outputs": [],
   "source": [
    "from google.colab import userdata"
   ]
  },
  {
   "cell_type": "code",
   "execution_count": null,
   "metadata": {
    "id": "YtNSUlGbIQTT"
   },
   "outputs": [],
   "source": [
    "from openai import OpenAI"
   ]
  },
  {
   "cell_type": "code",
   "execution_count": null,
   "metadata": {
    "id": "pHqd2XypIS-x"
   },
   "outputs": [],
   "source": [
    "import os"
   ]
  },
  {
   "cell_type": "code",
   "execution_count": null,
   "metadata": {
    "id": "z_JW6xUZITCl"
   },
   "outputs": [],
   "source": [
    "os.environ[\"OPENAI_API_KEY\"] = userdata.get('OPENAI_KEY')"
   ]
  },
  {
   "cell_type": "code",
   "execution_count": null,
   "metadata": {
    "id": "hvV17MUHIqI9"
   },
   "outputs": [],
   "source": [
    "client = OpenAI()"
   ]
  },
  {
   "cell_type": "code",
   "execution_count": null,
   "metadata": {
    "id": "_Tizj71Fsvp6"
   },
   "outputs": [],
   "source": [
    "from transformers import (pipeline,\n",
    "                          RobertaTokenizer,\n",
    "                          RobertaConfig,\n",
    "                          AutoModelForCausalLM,\n",
    "                          AutoTokenizer)\n",
    "import tiktoken\n",
    "import tqdm\n",
    "import torch"
   ]
  },
  {
   "cell_type": "code",
   "execution_count": null,
   "metadata": {
    "id": "lR0JuWDDI-oB"
   },
   "outputs": [],
   "source": [
    "import numpy as np\n",
    "from sympy import simplify\n",
    "import operator\n",
    "import collections\n",
    "from jinja2 import Template\n",
    "import json\n",
    "import os\n",
    "import re\n",
    "import glob\n",
    "import pandas as pd\n",
    "import matplotlib.pyplot as plt\n",
    "from typing import Dict, List, Tuple, Union\n",
    "from IPython.display import HTML\n",
    "from datetime import datetime\n",
    "import time\n",
    "import seaborn as sns\n",
    "sns.set()\n",
    "%matplotlib inline"
   ]
  },
  {
   "cell_type": "code",
   "execution_count": null,
   "metadata": {
    "id": "Asx_k37eJR32"
   },
   "outputs": [],
   "source": [
    "DATA_PATH = \"/content/drive/MyDrive/ConvFinQA/data/\""
   ]
  },
  {
   "cell_type": "code",
   "execution_count": null,
   "metadata": {
    "id": "oD1RuPIKQcPm"
   },
   "outputs": [],
   "source": [
    "OUTPUT_PATH = \"/content/drive/MyDrive/tomoro_ai/train_json/\""
   ]
  },
  {
   "cell_type": "code",
   "execution_count": null,
   "metadata": {
    "id": "TKwS7LpUTCVZ"
   },
   "outputs": [],
   "source": [
    "files = glob.glob(os.path.join(\"/content/drive/MyDrive/tomoro_ai/llama31\", \"*.txt\"))"
   ]
  },
  {
   "cell_type": "code",
   "execution_count": null,
   "metadata": {
    "id": "3jmqGiS-TCZG"
   },
   "outputs": [],
   "source": [
    "valid_ids = [\n",
    "    int(os.path.basename(f).split(\"_\")[-1][:-4])\n",
    "    for f in files\n",
    "]"
   ]
  },
  {
   "cell_type": "code",
   "execution_count": null,
   "metadata": {
    "id": "dUOmhO2UJNyP"
   },
   "outputs": [],
   "source": [
    "with open(os.path.join(DATA_PATH, \"train.json\"), \"r\") as f:\n",
    "    train_data = json.load(f)\n",
    "\n",
    "# with open(os.path.join(DATA_PATH, \"dev_turn.json\"), \"r\") as f:\n",
    "#     valid_data = json.load(f)\n",
    "\n",
    "# with open(os.path.join(DATA_PATH, \"test_turn_private.json\"), \"r\") as f:\n",
    "#     test_data = json.load(f)"
   ]
  },
  {
   "cell_type": "code",
   "execution_count": null,
   "metadata": {
    "colab": {
     "base_uri": "https://localhost:8080/"
    },
    "id": "nLXV5Il4_ZZe",
    "outputId": "805e4e98-a240-4666-9be4-446538caa0ae"
   },
   "outputs": [
    {
     "data": {
      "text/plain": [
       "{'question': 'what was the percentage change in net sales from 2000 to 2001?',\n",
       " 'answer': '-32%',\n",
       " 'explanation': '',\n",
       " 'ann_table_rows': [1],\n",
       " 'ann_text_rows': [],\n",
       " 'steps': [{'op': 'minus1-1', 'arg1': '5363', 'arg2': '7983', 'res': '-2620'},\n",
       "  {'op': 'divide1-2', 'arg1': '#0', 'arg2': '7983', 'res': '-32%'}],\n",
       " 'program': 'subtract(5363, 7983), divide(#0, 7983)',\n",
       " 'gold_inds': {'table_1': 'the net sales of 2002 is $ 5742 ; the net sales of 2001 is $ 5363 ; the net sales of 2000 is $ 7983 ;'},\n",
       " 'exe_ans': -0.3282,\n",
       " 'program_re': 'divide(subtract(5363, 7983), 7983)'}"
      ]
     },
     "execution_count": 15,
     "metadata": {},
     "output_type": "execute_result"
    }
   ],
   "source": [
    "train_data[2][\"qa\"]"
   ]
  },
  {
   "cell_type": "code",
   "execution_count": null,
   "metadata": {
    "id": "P787CApf_Zco"
   },
   "outputs": [],
   "source": [
    "entry = {}\n",
    "for i, question in enumerate(train_data):\n",
    "  for key in [\"qa\", \"qa_0\", \"qa_1\"]:\n",
    "    if w:=question.get(key):\n",
    "      entry[str(i)] = {\n",
    "          \"question\": w.get(\"question\"),\n",
    "          \"answer\": w.get(\"answer\"),\n",
    "          \"program\": w.get(\"program\"),\n",
    "          \"exe_ans\": w.get(\"exe_ans\"),\n",
    "          \"pre_text\": question.get(\"pre_text\"),\n",
    "          \"post_text\": question.get(\"post_text\"),\n",
    "          \"table\": question.get(\"table\")\n",
    "      }"
   ]
  },
  {
   "cell_type": "code",
   "execution_count": null,
   "metadata": {
    "colab": {
     "base_uri": "https://localhost:8080/"
    },
    "id": "MYUZwrpH_Zfw",
    "outputId": "cfbe7b27-1a07-42e0-d6d2-c9215f0ccdbc"
   },
   "outputs": [
    {
     "data": {
      "text/plain": [
       "(3037, 3037)"
      ]
     },
     "execution_count": 17,
     "metadata": {},
     "output_type": "execute_result"
    }
   ],
   "source": [
    "len(entry), len(train_data)"
   ]
  },
  {
   "cell_type": "code",
   "execution_count": null,
   "metadata": {
    "id": "oLZkSziA_Zqd"
   },
   "outputs": [],
   "source": [
    "answer_formats = [entry.get(k).get(\"answer\") for k in entry.keys()]"
   ]
  },
  {
   "cell_type": "code",
   "execution_count": null,
   "metadata": {
    "colab": {
     "base_uri": "https://localhost:8080/"
    },
    "id": "MYuYZyLcCe9s",
    "outputId": "47e453f0-966e-467c-ce60-b3865d9f78a2"
   },
   "outputs": [
    {
     "data": {
      "text/plain": [
       "['14.1%',\n",
       " '1.3%',\n",
       " '-32%',\n",
       " '-26.16%',\n",
       " '-26.16%',\n",
       " '70.1%',\n",
       " '15.6%',\n",
       " '16%',\n",
       " '22.99%',\n",
       " '12']"
      ]
     },
     "execution_count": 19,
     "metadata": {},
     "output_type": "execute_result"
    }
   ],
   "source": [
    "answer_formats[:10]"
   ]
  },
  {
   "cell_type": "code",
   "execution_count": null,
   "metadata": {
    "id": "wSFrz78gKcVU"
   },
   "outputs": [],
   "source": [
    "percentage_formats_idx = [\n",
    "    i for i, a in enumerate(answer_formats) if bool(re.match(r\"^-?\\d+(\\.\\d+)?%$\", a))\n",
    "]"
   ]
  },
  {
   "cell_type": "code",
   "execution_count": null,
   "metadata": {
    "colab": {
     "base_uri": "https://localhost:8080/"
    },
    "collapsed": true,
    "id": "F1V7E-pmN-nh",
    "jupyter": {
     "outputs_hidden": true
    },
    "outputId": "22b65fa8-07cd-42ca-8cd3-efd246ab9486"
   },
   "outputs": [
    {
     "data": {
      "text/plain": [
       "['14.1%',\n",
       " '1.3%',\n",
       " '-32%',\n",
       " '-26.16%',\n",
       " '-26.16%',\n",
       " '70.1%',\n",
       " '15.6%',\n",
       " '16%',\n",
       " '22.99%',\n",
       " '2.4%']"
      ]
     },
     "execution_count": 21,
     "metadata": {},
     "output_type": "execute_result"
    }
   ],
   "source": [
    "[answer_formats[i] for i in percentage_formats_idx[:10]]"
   ]
  },
  {
   "cell_type": "code",
   "execution_count": null,
   "metadata": {
    "colab": {
     "base_uri": "https://localhost:8080/",
     "height": 35
    },
    "id": "DpbMTivWKcYZ",
    "outputId": "7228fdd6-94de-446e-e10f-6a87931fce58"
   },
   "outputs": [
    {
     "data": {
      "application/vnd.google.colaboratory.intrinsic+json": {
       "type": "string"
      },
      "text/plain": [
       "'56.6%'"
      ]
     },
     "execution_count": 22,
     "metadata": {},
     "output_type": "execute_result"
    }
   ],
   "source": [
    "answer_formats[percentage_formats_idx[10]]"
   ]
  },
  {
   "cell_type": "code",
   "execution_count": null,
   "metadata": {
    "colab": {
     "base_uri": "https://localhost:8080/"
    },
    "id": "veVNST9DPc4M",
    "outputId": "9678ddb2-7558-419a-b23d-4cec454fb9a3"
   },
   "outputs": [
    {
     "name": "stdout",
     "output_type": "stream",
     "text": [
      "1874\n"
     ]
    }
   ],
   "source": [
    "divide_idx = []\n",
    "count = 0\n",
    "for idx in percentage_formats_idx:\n",
    "  prog = entry.get(str(idx)).get(\"program\")\n",
    "  last_operation = prog.split(\"), \")[-1].strip()\n",
    "  if \"divide\" in last_operation:\n",
    "    count += 1\n",
    "    divide_idx.append(idx)\n",
    "print(count)"
   ]
  },
  {
   "cell_type": "code",
   "execution_count": null,
   "metadata": {
    "colab": {
     "base_uri": "https://localhost:8080/"
    },
    "id": "9M2wi75EAD93",
    "outputId": "de77892e-3cbe-4a57-8e5b-468f8ce89d9a"
   },
   "outputs": [
    {
     "name": "stdout",
     "output_type": "stream",
     "text": [
      "program: subtract(206588, 181001), divide(#0, 181001)\n",
      "exe_ans: 0.14136\n",
      "answer: 14.1%\n",
      "\n",
      "\n",
      "program: subtract(9362.2, 9244.9), divide(#0, 9244.9)\n",
      "exe_ans: 0.01269\n",
      "answer: 1.3%\n",
      "\n",
      "\n",
      "program: subtract(5363, 7983), divide(#0, 7983)\n",
      "exe_ans: -0.3282\n",
      "answer: -32%\n",
      "\n",
      "\n",
      "program: add(2530454, 5923147), divide(5923147, #0)\n",
      "exe_ans: 0.70067\n",
      "answer: 70.1%\n",
      "\n",
      "\n",
      "program: subtract(3.7, 3.2), divide(#0, 3.2)\n",
      "exe_ans: 0.15625\n",
      "answer: 15.6%\n",
      "\n",
      "\n",
      "program: subtract(118, 102), divide(#0, 102)\n",
      "exe_ans: 0.15686\n",
      "answer: 16%\n",
      "\n",
      "\n",
      "program: add(27729, 45161), divide(#0, 317105)\n",
      "exe_ans: 0.22986\n",
      "answer: 22.99%\n",
      "\n",
      "\n",
      "program: subtract(498.8, 486.9), divide(#0, 486.9)\n",
      "exe_ans: 0.02444\n",
      "answer: 2.4%\n",
      "\n",
      "\n",
      "program: multiply(1.25, const_1000), divide(707, #0)\n",
      "exe_ans: 0.5656\n",
      "answer: 56.6%\n",
      "\n",
      "\n",
      "program: divide(1697, 16088)\n",
      "exe_ans: 0.10548\n",
      "answer: 11%\n",
      "\n",
      "\n"
     ]
    }
   ],
   "source": [
    "for idx in divide_idx[:10]:\n",
    "  prog = entry.get(f\"{idx}\").get(\"program\")\n",
    "  exe_ans = entry.get(f\"{idx}\").get(\"exe_ans\")\n",
    "  answer = entry.get(f\"{idx}\").get(\"answer\")\n",
    "  print(f\"program: {prog}\")\n",
    "  print(f\"exe_ans: {exe_ans}\")\n",
    "  print(f\"answer: {answer}\\n\\n\")"
   ]
  },
  {
   "cell_type": "code",
   "execution_count": null,
   "metadata": {
    "colab": {
     "base_uri": "https://localhost:8080/"
    },
    "id": "0fMlH_cqNzsj",
    "outputId": "aa0dfe3b-6813-4a1e-91f0-3562f9ec1005"
   },
   "outputs": [
    {
     "name": "stdout",
     "output_type": "stream",
     "text": [
      "73\n"
     ]
    }
   ],
   "source": [
    "mul_idx = []\n",
    "count = 0\n",
    "for idx in percentage_formats_idx:\n",
    "  prog = entry.get(str(idx)).get(\"program\")\n",
    "  last_operation = prog.split(\"), \")[-1].strip()\n",
    "  if \"multiply\" in last_operation:\n",
    "    count += 1\n",
    "    mul_idx.append(idx)\n",
    "print(count)"
   ]
  },
  {
   "cell_type": "code",
   "execution_count": null,
   "metadata": {
    "colab": {
     "base_uri": "https://localhost:8080/"
    },
    "id": "Ztu3kl9o_qly",
    "outputId": "5568fab2-8c54-4cd0-c3e7-2e183bc9ee27"
   },
   "outputs": [
    {
     "name": "stdout",
     "output_type": "stream",
     "text": [
      "program: divide(98750, 432000), multiply(#0, const_100)\n",
      "exe_ans: 22.8588\n",
      "answer: 22.86%\n",
      "\n",
      "\n",
      "program: add(1610.3, 1612.9), add(1762.3, 1722.2), divide(#0, #1), multiply(#2, const_100)\n",
      "exe_ans: 92.50108\n",
      "answer: 92.5%\n",
      "\n",
      "\n",
      "program: divide(1881992, 5148881), multiply(#0, const_100)\n",
      "exe_ans: 36.55148\n",
      "answer: 36.55%\n",
      "\n",
      "\n",
      "program: multiply(11.4, const_1000000), multiply(3158226, #0)\n",
      "exe_ans: 36003776400000.0\n",
      "answer: 28%\n",
      "\n",
      "\n",
      "program: add(701, 161), divide(#0, 689), multiply(#1, const_100)\n",
      "exe_ans: 125.10885\n",
      "answer: 125.1%\n",
      "\n",
      "\n",
      "program: divide(687376, 600883), multiply(const_100, #0)\n",
      "exe_ans: 114.39432\n",
      "answer: 114%\n",
      "\n",
      "\n",
      "program: subtract(317, 290), divide(#0, 317), multiply(#1, const_100)\n",
      "exe_ans: 8.51735\n",
      "answer: 8.52%\n",
      "\n",
      "\n",
      "program: subtract(407, 258), divide(#0, 407), multiply(#1, const_100)\n",
      "exe_ans: 36.60934\n",
      "answer: 36.61%\n",
      "\n",
      "\n",
      "program: subtract(22.0, 20.9), divide(#0, 20.9), multiply(#1, const_100)\n",
      "exe_ans: 5.26316\n",
      "answer: 5.26%\n",
      "\n",
      "\n",
      "program: multiply(2, 7)\n",
      "exe_ans: 14.0\n",
      "answer: 28.6%\n",
      "\n",
      "\n"
     ]
    }
   ],
   "source": [
    "for idx in mul_idx[:10]:\n",
    "  prog = entry.get(f\"{idx}\").get(\"program\")\n",
    "  exe_ans = entry.get(f\"{idx}\").get(\"exe_ans\")\n",
    "  answer = entry.get(f\"{idx}\").get(\"answer\")\n",
    "  print(f\"program: {prog}\")\n",
    "  print(f\"exe_ans: {exe_ans}\")\n",
    "  print(f\"answer: {answer}\\n\\n\")"
   ]
  },
  {
   "cell_type": "code",
   "execution_count": null,
   "metadata": {
    "colab": {
     "base_uri": "https://localhost:8080/"
    },
    "id": "O-0a3fUU_tUx",
    "outputId": "6705f871-3591-452e-dc92-3f63470a3259"
   },
   "outputs": [
    {
     "data": {
      "text/plain": [
       "(22.8588, '22.86%')"
      ]
     },
     "execution_count": 27,
     "metadata": {},
     "output_type": "execute_result"
    }
   ],
   "source": [
    "entry.get(\"50\").get(\"exe_ans\"), entry.get(\"50\").get(\"answer\")"
   ]
  },
  {
   "cell_type": "code",
   "execution_count": null,
   "metadata": {
    "id": "4BHW-ZuDKcfy"
   },
   "outputs": [],
   "source": [
    "programs = [\n",
    "    entry.get(k).get(\"program\") for k in entry.keys()\n",
    "]"
   ]
  },
  {
   "cell_type": "code",
   "execution_count": null,
   "metadata": {
    "id": "0phBgSYvRTx6"
   },
   "outputs": [],
   "source": [
    "count_1000 = []\n",
    "for idx, prog in enumerate(programs):\n",
    "  match = re.findall(r\"const_\\d+\", prog)\n",
    "  if \"const_1000\" in match:\n",
    "    count_1000.append(idx)"
   ]
  },
  {
   "cell_type": "code",
   "execution_count": null,
   "metadata": {
    "colab": {
     "base_uri": "https://localhost:8080/"
    },
    "id": "26zacX-GZgDd",
    "outputId": "b68ba047-1bcf-4179-992d-b8effe9c328e"
   },
   "outputs": [
    {
     "data": {
      "text/plain": [
       "[12, 23, 49, 55, 77, 105, 122, 163, 164, 173]"
      ]
     },
     "execution_count": 34,
     "metadata": {},
     "output_type": "execute_result"
    }
   ],
   "source": [
    "count_1000[:10]"
   ]
  },
  {
   "cell_type": "code",
   "execution_count": null,
   "metadata": {
    "id": "ifVcacL7IxS9"
   },
   "outputs": [],
   "source": [
    "import re\n",
    "\n",
    "def generate_regex_pattern(element):\n",
    "    \"\"\"\n",
    "    Dynamically generates a regex pattern by generalizing numbers and special formats.\n",
    "    \"\"\"\n",
    "    pattern = re.sub(r'[-+]?\\d*\\.?\\d+', r'\\\\d+(\\\\.\\\\d+)?', element)  # Replace numbers with \\d+(\\.\\d+)?\n",
    "    return pattern\n",
    "\n",
    "def filter_unique_patterns(data):\n",
    "    seen_patterns = set()\n",
    "    unique_list = []\n",
    "\n",
    "    for item in data:\n",
    "        pattern = generate_regex_pattern(item)\n",
    "        if pattern not in seen_patterns:\n",
    "            seen_patterns.add(pattern)\n",
    "            unique_list.append(item)\n",
    "\n",
    "    return unique_list"
   ]
  },
  {
   "cell_type": "code",
   "execution_count": null,
   "metadata": {
    "id": "m3sW15LgJCuk"
   },
   "outputs": [],
   "source": [
    "uniques = filter_unique_patterns(answer_formats)"
   ]
  },
  {
   "cell_type": "code",
   "execution_count": null,
   "metadata": {
    "colab": {
     "base_uri": "https://localhost:8080/"
    },
    "collapsed": true,
    "id": "dAi_xlTgJc5N",
    "jupyter": {
     "outputs_hidden": true
    },
    "outputId": "276793af-2af6-4899-e564-60ebc7794342"
   },
   "outputs": [
    {
     "data": {
      "text/plain": [
       "['14.1%',\n",
       " '12',\n",
       " '$ 110774.5 million',\n",
       " 'no',\n",
       " 'yes',\n",
       " '8-14',\n",
       " '',\n",
       " 'increased 38.6%',\n",
       " '$ 12584',\n",
       " 'the cost of sales decreased 29333 from 2010 to 2012',\n",
       " 'the total reduction to cost of sales would be $ 4951',\n",
       " '265% increase',\n",
       " '$ 35411 or 9.8% increase',\n",
       " '17019.5 million',\n",
       " '$ 15100 thousand',\n",
       " '$ 8.3 < interest income < $ 41.1 . or the interest income would be between $ 8.3 million and $ 41.1 million',\n",
       " 'yes , 38.2%',\n",
       " '1.33:1',\n",
       " '( 98.9 )',\n",
       " '\\\\\\\\n0.5%',\n",
       " '[22] : we did not issue debt in 2005 versus $ 745 million of debt issuances in 2004 , and we repaid $ 699 million of debt in 2005 compared to $ 588 million in 2004.\\\\\\\\n\\\\\\\\n',\n",
       " 'global payments would have earned an 80.13% greater return than the overall information technology sector .',\n",
       " '$ 64708890.11 \\\\\\\\n',\n",
       " 'advance auto parts had a 62.63% greater return than the overall market',\n",
       " '1.91% and 3.46% , respectively',\n",
       " '56.4%\\\\\\\\n',\n",
       " '( $ 5.83 )',\n",
       " '33.9% decrease',\n",
       " 'increased $ 24641 thousand',\n",
       " '$ 20630 decrease in cost of sales',\n",
       " '3/5',\n",
       " '110\\\\\\\\n',\n",
       " 'the dividend yield increased 0.04% from 2010 to 2012']"
      ]
     },
     "execution_count": 37,
     "metadata": {},
     "output_type": "execute_result"
    }
   ],
   "source": [
    "uniques"
   ]
  },
  {
   "cell_type": "code",
   "execution_count": null,
   "metadata": {
    "colab": {
     "base_uri": "https://localhost:8080/"
    },
    "id": "BIVE3TR_YMke",
    "outputId": "1685ae62-bea6-4722-b859-44495964de86"
   },
   "outputs": [
    {
     "data": {
      "text/plain": [
       "dict_keys(['question', 'answer', 'program', 'exe_ans', 'pre_text', 'post_text', 'table'])"
      ]
     },
     "execution_count": 31,
     "metadata": {},
     "output_type": "execute_result"
    }
   ],
   "source": [
    "entry[\"45\"].keys()"
   ]
  },
  {
   "cell_type": "code",
   "execution_count": null,
   "metadata": {
    "id": "lirNVVNOI5xF"
   },
   "outputs": [],
   "source": [
    "def table_to_html(data: list) -> str:\n",
    "  html = \"<table class='wikitable'>\"\n",
    "\n",
    "  for i, row in enumerate(data, start=1):\n",
    "    html += \"<tr><td>{}</td>\".format(i) + \"\".join(f\"<td>{cell}</td>\" for cell in row) + \"</tr>\"\n",
    "  html += \"</table>\"\n",
    "\n",
    "  return html"
   ]
  },
  {
   "cell_type": "code",
   "execution_count": null,
   "metadata": {
    "id": "hARJ1nXnI50Z"
   },
   "outputs": [],
   "source": [
    "def financial_report_html(entry: dict) -> str:\n",
    "  pre_text = \" \".join(entry.get(\"pre_text\"))\n",
    "  post_text = \" \".join(entry.get(\"post_text\"))\n",
    "  table = entry.get(\"table\")\n",
    "\n",
    "  html = f\"\"\"\n",
    "              <div>\n",
    "                <p>{pre_text}</p>\n",
    "              </div>\n",
    "              <div>\n",
    "                {table_to_html(table)}\n",
    "              </div>\n",
    "              <div>\n",
    "                <p>{post_text}</p>\n",
    "              </div>\n",
    "  \"\"\"\n",
    "\n",
    "  return html"
   ]
  },
  {
   "cell_type": "code",
   "execution_count": null,
   "metadata": {
    "id": "nRBOVqupJkx1"
   },
   "outputs": [],
   "source": [
    "html = \"\"\"\n",
    "\n",
    "            <!DOCTYPE html>\n",
    "          <html lang=\"en\">\n",
    "          <head>\n",
    "              <meta charset=\"UTF-8\">\n",
    "              <meta name=\"viewport\" content=\"width=device-width, initial-scale=1.0\">\n",
    "              <title>Financial Report</title>\n",
    "          </head>\n",
    "          <body>\n",
    "              <h1>Report & Question</h1>\n",
    "\n",
    "              <div id=\"report\">\n",
    "                  <h2>Report Section</h2>\n",
    "                  <div>\n",
    "                      {{ report_content | safe }}\n",
    "                  </div>\n",
    "              </div>\n",
    "\n",
    "              <div id=\"chat\">\n",
    "                  <h2>Conversation</h2>\n",
    "                  <hr>\n",
    "                  <h3>Query</h3>\n",
    "                  <p>{{ current_message }}</p>\n",
    "              </div>\n",
    "          </body>\n",
    "          </html>\n",
    "\n",
    "  \"\"\""
   ]
  },
  {
   "cell_type": "code",
   "execution_count": null,
   "metadata": {
    "id": "Q_y6wrUrJnsg"
   },
   "outputs": [],
   "source": [
    "def user_message_template(entry: Dict, html_template = html) -> str:\n",
    "  template = Template(html_template)\n",
    "  current_message = entry.get(\"question\")\n",
    "  report_content = financial_report_html(entry)\n",
    "  html_output = template.render(current_message=current_message,\n",
    "                                report_content = report_content)\n",
    "\n",
    "  return html_output"
   ]
  },
  {
   "cell_type": "code",
   "execution_count": null,
   "metadata": {
    "colab": {
     "base_uri": "https://localhost:8080/",
     "height": 767
    },
    "id": "gw34MY5vJ082",
    "outputId": "da55d92e-0ea9-4ad7-953b-c607895cf0a6"
   },
   "outputs": [
    {
     "data": {
      "text/html": [
       "\n",
       "\n",
       "            <!DOCTYPE html>\n",
       "          <html lang=\"en\">\n",
       "          <head>\n",
       "              <meta charset=\"UTF-8\">\n",
       "              <meta name=\"viewport\" content=\"width=device-width, initial-scale=1.0\">\n",
       "              <title>Financial Report</title>\n",
       "          </head>\n",
       "          <body>\n",
       "              <h1>Report & Question</h1>\n",
       "\n",
       "              <div id=\"report\">\n",
       "                  <h2>Report Section</h2>\n",
       "                  <div>\n",
       "                      \n",
       "              <div>\n",
       "                <p>baker hughes , a ge company notes to consolidated and combined financial statements bhge 2017 form 10-k | 85 the total intrinsic value of rsus ( defined as the value of the shares awarded at the current market price ) vested and outstanding in 2017 was $ 17 million and $ 38 million , respectively . the total fair value of rsus vested in 2017 was $ 19 million . as of december 31 , 2017 , there was $ 98 million of total unrecognized compensation cost related to unvested rsus , which is expected to be recognized over a weighted average period of 2.5 years . note 12 . equity common stock we are authorized to issue 2 billion shares of class a common stock , 1.25 billion shares of class b common stock and 50 million shares of preferred stock each of which have a par value of $ 0.0001 per share . on july 3 , 2017 , each share of baker hughes common stock was converted into one share of class a common stock in the company . the number of class a common stock and class b common stock shares outstanding at december 31 , 2017 is 422 million and 707 million , respectively . we have not issued any preferred stock . ge owns all the issued and outstanding class b common stock . each share of class a and class b common stock and the associated membership interest in bhge llc form a paired interest . while each share of class b common stock has equal voting rights to a share of class a common stock , it has no economic rights , meaning holders of class b common stock have no right to dividends and any assets in the event of liquidation of the company . former baker hughes stockholders immediately after the completion of the transactions received a special one-time cash dividend of $ 17.50 per share paid by the company to holders of record of the company's class a common stock . in addition , during 2017 the company declared and paid regular dividends of $ 0.17 per share and $ 0.18 per share to holders of record of the company's class a common stock during the quarters ended september 30 , 2017 and december 31 , 2017 , respectively . the following table presents the changes in number of shares outstanding ( in thousands ) : class a common class b common .</p>\n",
       "              </div>\n",
       "              <div>\n",
       "                <table class='wikitable'><tr><td>1</td><td></td><td>class a common stock</td><td>class b common stock</td></tr><tr><td>2</td><td>balance at december 31 2016</td><td>2014</td><td>2014</td></tr><tr><td>3</td><td>issue of shares on business combination at july 3 2017</td><td>427709</td><td>717111</td></tr><tr><td>4</td><td>issue of shares upon vesting of restricted stock units ( 1 )</td><td>290</td><td>2014</td></tr><tr><td>5</td><td>issue of shares on exercises of stock options ( 1 )</td><td>256</td><td>2014</td></tr><tr><td>6</td><td>stock repurchase program ( 2 ) ( 3 )</td><td>-6047 ( 6047 )</td><td>-10126 ( 10126 )</td></tr><tr><td>7</td><td>balance at december 31 2017</td><td>422208</td><td>706985</td></tr></table>\n",
       "              </div>\n",
       "              <div>\n",
       "                <p>( 1 ) share amounts reflected above are net of shares withheld to satisfy the employee's tax withholding obligation . ( 2 ) on november 2 , 2017 , our board of directors authorized bhge llc to repurchase up to $ 3 billion of its common units from the company and ge . the proceeds of this repurchase are to be used by bhge to repurchase class a common stock of the company on the open market , which if fully implemented would result in the repurchase of approximately $ 1.1 billion of class a common stock . the class b common stock of the company , that is paired with repurchased common units , was repurchased by the company at par value . the $ 3 billion repurchase authorization is the aggregate authorization for repurchases of class a and class b common stock together with its paired unit . bhge llc had authorization remaining to repurchase up to approximately $ 2.5 billion of its common units from bhge and ge at december 31 , 2017 . ( 3 ) during 2017 , we repurchased and canceled 6046735 shares of class a common stock for a total of $ 187 million . we also repurchased and canceled 10126467 shares of class b common stock from ge which is paired together with common units of bhge llc for $ 314 million. .</p>\n",
       "              </div>\n",
       "  \n",
       "                  </div>\n",
       "              </div>\n",
       "\n",
       "              <div id=\"chat\">\n",
       "                  <h2>Conversation</h2>\n",
       "                  <hr>\n",
       "                  <h3>Query</h3>\n",
       "                  <p>what portion of the authorized shares of class b common stock is outstanding as of december 31 , 2017?</p>\n",
       "              </div>\n",
       "          </body>\n",
       "          </html>\n",
       "\n",
       "  "
      ],
      "text/plain": [
       "<IPython.core.display.HTML object>"
      ]
     },
     "execution_count": 42,
     "metadata": {},
     "output_type": "execute_result"
    }
   ],
   "source": [
    "HTML(user_message_template(entry[\"12\"]))"
   ]
  },
  {
   "cell_type": "code",
   "execution_count": null,
   "metadata": {
    "id": "I9KoMfs6I2vb"
   },
   "outputs": [],
   "source": [
    "SYSTEM_PROMPT = \"\"\"\n",
    "\n",
    "<|begin_of_text|><|start_header_id|>system<|end_header_id|>\n",
    "\n",
    "You are a helpful Financial Analyst with strong quantitative analysis skill and keen eyes for details.\n",
    "You provide accurate answers to users questions based on a financial report.\n",
    "\n",
    "You would be provided with a financial report containing tables and textual information.\n",
    "The report would serve as the context required to give accurate answers to users' queries.\n",
    "\n",
    "The user would ask you a question based on the report.\n",
    "Your ultimate goal is to breakdown complex numerical reasoning into simple programmatic steps.\n",
    "You are to generate a list of action steps\n",
    "Your response could be a single value from the report i.e `482` or muliple sequential and dependent steps `subtract(400, 210), divide(#0, const_100)`\n",
    "\n",
    "An operation takes two values as arguments. These arguments are retrieved from the provided context (Financial Report Text and Table).\n",
    "\n",
    "\n",
    "Reference Operations\n",
    "- add: addition\n",
    "- subtract: subtraction\n",
    "- multiply: multiplication\n",
    "- divide: division\n",
    "- exp: power\n",
    "- greater: maximum\n",
    "\n",
    "You are Limited to these operations.\n",
    "\n",
    "Reference Tags\n",
    "#0 references the first operation\n",
    "#1 references the second operation\n",
    "#2 references the third operation\n",
    "...\n",
    "\n",
    "#n references the nth operation\n",
    "\n",
    "Constants\n",
    "- const_1,\n",
    "- const_2,\n",
    "- const_3,\n",
    "- const_4,\n",
    "- const_5,\n",
    "- const_6,\n",
    "- const_7,\n",
    "- const_8,\n",
    "- const_9,\n",
    "- const_10,\n",
    "- const_100,\n",
    "- const_1000,\n",
    "- const_10000,\n",
    "- const_100000,\n",
    "- const_1000000,\n",
    "...\n",
    "\n",
    "- const_1000000000\n",
    "- const_m1\n",
    "\n",
    "Constants are important when an operation needs to be formatted eg currency conversion, percentage, ratio, proportion etc.\n",
    "The choice of constant is decided by the user query. Constants are always between 1 - 10 or multiple of 10 except constant_m1.\n",
    "Note: const_m1 (-1) is for negative\n",
    "\n",
    "Enclose information relevant to the user's question from the context using this tag\n",
    "<relevant_context>\n",
    "....\n",
    "</relevant_context>\n",
    "\n",
    "Enclose the list of operations to calculate the answer using this tag\n",
    "<operation>\n",
    "subtract(200, 100), divide(#0, const_100), subtract(1250, const_10)\n",
    "</operation>\n",
    "\n",
    "An operation could also be a single value.\n",
    "\n",
    "<operation> 10 </operation>\n",
    "\n",
    "Specify the format of the final answer using e.g (%) <format>%</format>\n",
    "\n",
    "\n",
    "<|eot_id|>\n",
    "\n",
    "\"\"\""
   ]
  },
  {
   "cell_type": "code",
   "execution_count": null,
   "metadata": {
    "colab": {
     "base_uri": "https://localhost:8080/",
     "height": 451,
     "referenced_widgets": [
      "7a1e70755bff473eb96e70a98d0b0568",
      "0740cfe6cbb04ee9a1f02c180cc71f97",
      "336a7d62eeec4ba689d4541f63e5f987",
      "d02f53b629834badbb70496293f39b0f",
      "d7241851a9374ff18e2f43e1b54e594e",
      "74d16ececedf4670a176d16fd5c84aa1",
      "a13193d20f3541a59cd9599cd2e4791b",
      "21fee7fff96b4b5ca1b557bff66b7906",
      "c0a5fe6ddf764fc1b16e75457ca89635",
      "eb9df24d3d3d48ddb464a566b34ce38b",
      "798ddd4241534111b279d9eee7bed2fc",
      "99ac86ff7e1c464bb8bc5df2f9b4b0c0",
      "f127a158caff44f19e6dbc92edc552d7",
      "b4f633a6879b424c815471c9fb5d325a",
      "cad8d485aea049c8b64b2c5d5dfe9b57",
      "1a1ab1402f144cc8898d1f15f34e73e8",
      "a20f6c184a9840929503f59b157c70fa",
      "743b9d977a5e4926bb1e1354cbe5225f",
      "89d8df9a3e9d4a6c8358cc1dc736ac46",
      "177c698730d84d8282baecef5a8a942d",
      "bf5a878592dd421d84a0622123e85f25",
      "f433d0ee1d234114ad5c129831485086",
      "245dc97ae356461f800eb8cc7c68d09d",
      "b3b531920b6845da9342c39f0fb3b7cb",
      "96b5ecc9e40a4819a20ced84ae25b9d6",
      "0de6eab98557479390745683900b4789",
      "235ae76f92304bd7baf4d1c80fad5b5d",
      "55d82aabd5204a56b3a23c983b8ffaed",
      "0e012ec0df174fb89d3da95efdbae99a",
      "4e4de8bb647a4b089474a654fce5e18a",
      "f8daf31e469a49d98f664c2a382bde90",
      "7f9c45a814274de5b38a46e6039d1d46",
      "bce5c71dd0984ee1be13061eb6d353fb",
      "edbbf4be2186496ab5578e972f9ebe6d",
      "9cca50cc20bf439299000d8b8d230d28",
      "bb788fe99d514e8a996659768f4e47d5",
      "588f48dc401c412cb29404a7e0dd0920",
      "83da6127266f44a3985c3c7e9a7f4719",
      "f57ce62dd80848578b0619489395af44",
      "03643c13165f428a91f3857081970bbd",
      "a4e611a3ecc74bdc98bfa37b3c4bbf34",
      "b0a83e23df5441fc8e0c56a73030b492",
      "d5b25e675ec0457db4ff8fc8e7cbd34f",
      "20d405c7cf744932b2c317268e55f45a",
      "0502ff289d23485ea8ac919c21d55486",
      "61a59615350c4092b9348958f4b6fbb3",
      "75b5c6afd73e400483b3218bc9067ccc",
      "ab359d23830b4f9b95a1adccfb0b0f3e",
      "7a376384650141939e2232a7809780c4",
      "295daaaa156e44208099e83bb1fd05c3",
      "5939184bce0a4c728ded6f43a0df4754",
      "29d102f9b3c441949a9e8ca6be6d7971",
      "9535412f0f6448b98c31020b7d417cf2",
      "5171230ea7e4480a9b864f1345dfb9cf",
      "2a0e64f16de84a7eb042c1c2570192b4",
      "f2d94312d677490a88036a293be8704a",
      "625dd7f18d144c9d9505351b6c422068",
      "c6fdf68013554e899b217b6d887107a2",
      "4f658ef14ed54af2834f7db7a894a3c7",
      "defa8cfcd7384753b38e6d19e7693c70",
      "b4d2e728550f492ba8a244d67789192a",
      "ae0414cac5494d70951f1b862b6df073",
      "c0c00a80781b4a98b42035a74f7a2d0f",
      "f6bb69ef662040589dba6c9345958af1",
      "1b5a3d8e03204870a5bbf706d6b94a30",
      "6d363daa2ca5433b826b4b1f3f11ee26",
      "643d643503f8467d9b67865f9667dc44",
      "105d6f1ad546430fa2d49e270debe6c8",
      "5660c3f598e04ef1b280f22b57fe5079",
      "f80b472e177843bdb8be64476c8c132b",
      "1c108dde3e1f4f09ba62897025eee061",
      "c45e1de2fc2c44ea8b37d997002ef34f",
      "b01ccd666fd345378f7d9c3ea7edc6fa",
      "36676b0ca86d45d7b1d6c87e206b4382",
      "1f3f1c724feb43f4bce6e93d449634a7",
      "e9e9d1d505c844da8d8008ff1a6f7903",
      "6b84e81b7ed240baab1b28d54ffe3c32",
      "0430ec50ab2d47538ab268b40ab9a235",
      "84dec5fdcc0240238d04ba38df363f6b",
      "bd974de33c4b452eabd95b4b9fdd6375",
      "d546d2857cfa40d5a8ec9a1c4dc7cb5b",
      "d5354f82a9d94f919ef54d6489d25d13",
      "d6ce2502249c4f6bb189f3396e0e11d8",
      "4150f641c4f64b3fab867e8b8641b117",
      "325fb4246a844c6aa33bb0e4e73e67d7",
      "3d434a540f624a2b95cd93335aa4252b",
      "2ec5d57f444b439c816fcb356fec4a2f",
      "b223f000290d46999594ad89d202bf31",
      "58503cad1d684a6b8a94c0a0581dde8c",
      "6b82219fa5f2441f90820d46bdfc58e1",
      "4bebd94f459645508724a7970bd0846b",
      "92e0172010e7488ab7b368ddb8b45c60",
      "ffd662bbb0e2408bafdd3e95877229b8",
      "8f5be995392042e1b01715bcbaa71e13",
      "86ae5cf69cfb4d34ba3ca315852cff61",
      "4282e4fb7ad34bd7aee2f6a397a8fb2e",
      "d4b7b0e64d4542f88d08eefc0369dad5",
      "e2d41502bdeb44e48ec13c3345aece53",
      "b44f29e84540482782eb8238cff95746",
      "27ef4eeb6ad444e2b43c57c2ce0bdfe6",
      "730f6bbf929a443286cc8fb2017fb4c5",
      "9071faa7eebd41398fa61b6a15809f6d",
      "9c3f80f6515d40f0ac43efaa768a36d8",
      "4fda505741e64e25b6d9eb4c91b2490c",
      "ce872a5e73ff42af853d4604550473dc",
      "763795b723c84a3aa7be42c93ea02ce1",
      "5a2f187cc57542aea5dc9803bec01880",
      "74774645b02145b480109211455506d9",
      "ddb597e9222941cd841b663598bc8f60",
      "017a09258ee445d391c7bb81900c7a72",
      "db89a1a3949e4af1adc1ac46b345b9bd",
      "7e1cd06fd95f4af5ab191e5c69965455",
      "c3e35c996bcf4ac9b01070df1979535e",
      "df22931c95af41e7809a595cee4c2000",
      "40085cbb963c42dbb817293049fcbe67",
      "5f0ddbf0d8654ee4aeed646fb7e542dc",
      "799a6fd22466476f92fdebf244f5e73b",
      "280fbf7e005f44f080b3adba36db5b82",
      "b298a16683664277b8ff30fef0513f01",
      "ee8bb2bea0df4cc392cde90efaed479d",
      "5ccf364292394f0da0d522ee42c63e16",
      "702af9f4880e4407aaa1710f02483452",
      "ea2274df662e40c6a96c06126b1da4ef",
      "d5d957b72e5f4e068b8ceba832879137",
      "c803be8f75a7427ea2885082ffbe77c5",
      "3a8441971be74b15995b13c4c7a9614f",
      "73cb24bcba074e9bbf4f9d0442579ebc",
      "35e8faf44fac4b96b7a3743ef35dc25b",
      "be39742d9c544196a18c84c6cf5a03f9",
      "059037b10aaf4a759943af8c2d2c45ea",
      "ee16d857d234495c83577a26a14d3124",
      "5038ff03b72d4e4cbbc9ddac21aaaca0",
      "697341a38e9d410dba51f0f2f5e9fb4c",
      "a9392fe4c9184398ab16f4731c4d86ab",
      "46e384d85c604ec0bfff017c965a7a6e",
      "c40ba0fe2a47411e99f48ab397af0113",
      "6ce2a1d8b9de4e909d0527f600f230da",
      "361a32e840aa4ac29b65aa6d50004320",
      "eb589d23d2a740b59ecaee7ca53ac505",
      "23d0abb796ca406cb6c6b32b91810c1b",
      "e19813827f5f473897a65a85260b835a",
      "de13f8808f2a4b49a291314cca980739",
      "c5b5086196074cf296bfefca18f432cc"
     ]
    },
    "id": "TKQjicJ6uKwQ",
    "outputId": "8f5c1cc0-240c-4e9c-a04a-e6ba658350a6"
   },
   "outputs": [
    {
     "data": {
      "application/vnd.jupyter.widget-view+json": {
       "model_id": "7a1e70755bff473eb96e70a98d0b0568",
       "version_major": 2,
       "version_minor": 0
      },
      "text/plain": [
       "config.json:   0%|          | 0.00/664 [00:00<?, ?B/s]"
      ]
     },
     "metadata": {},
     "output_type": "display_data"
    },
    {
     "data": {
      "application/vnd.jupyter.widget-view+json": {
       "model_id": "99ac86ff7e1c464bb8bc5df2f9b4b0c0",
       "version_major": 2,
       "version_minor": 0
      },
      "text/plain": [
       "model.safetensors.index.json:   0%|          | 0.00/47.5k [00:00<?, ?B/s]"
      ]
     },
     "metadata": {},
     "output_type": "display_data"
    },
    {
     "data": {
      "application/vnd.jupyter.widget-view+json": {
       "model_id": "245dc97ae356461f800eb8cc7c68d09d",
       "version_major": 2,
       "version_minor": 0
      },
      "text/plain": [
       "Fetching 8 files:   0%|          | 0/8 [00:00<?, ?it/s]"
      ]
     },
     "metadata": {},
     "output_type": "display_data"
    },
    {
     "data": {
      "application/vnd.jupyter.widget-view+json": {
       "model_id": "edbbf4be2186496ab5578e972f9ebe6d",
       "version_major": 2,
       "version_minor": 0
      },
      "text/plain": [
       "model-00002-of-00008.safetensors:   0%|          | 0.00/4.00G [00:00<?, ?B/s]"
      ]
     },
     "metadata": {},
     "output_type": "display_data"
    },
    {
     "data": {
      "application/vnd.jupyter.widget-view+json": {
       "model_id": "0502ff289d23485ea8ac919c21d55486",
       "version_major": 2,
       "version_minor": 0
      },
      "text/plain": [
       "model-00006-of-00008.safetensors:   0%|          | 0.00/4.00G [00:00<?, ?B/s]"
      ]
     },
     "metadata": {},
     "output_type": "display_data"
    },
    {
     "data": {
      "application/vnd.jupyter.widget-view+json": {
       "model_id": "f2d94312d677490a88036a293be8704a",
       "version_major": 2,
       "version_minor": 0
      },
      "text/plain": [
       "model-00004-of-00008.safetensors:   0%|          | 0.00/4.00G [00:00<?, ?B/s]"
      ]
     },
     "metadata": {},
     "output_type": "display_data"
    },
    {
     "data": {
      "application/vnd.jupyter.widget-view+json": {
       "model_id": "643d643503f8467d9b67865f9667dc44",
       "version_major": 2,
       "version_minor": 0
      },
      "text/plain": [
       "model-00007-of-00008.safetensors:   0%|          | 0.00/4.00G [00:00<?, ?B/s]"
      ]
     },
     "metadata": {},
     "output_type": "display_data"
    },
    {
     "data": {
      "application/vnd.jupyter.widget-view+json": {
       "model_id": "0430ec50ab2d47538ab268b40ab9a235",
       "version_major": 2,
       "version_minor": 0
      },
      "text/plain": [
       "model-00001-of-00008.safetensors:   0%|          | 0.00/3.89G [00:00<?, ?B/s]"
      ]
     },
     "metadata": {},
     "output_type": "display_data"
    },
    {
     "data": {
      "application/vnd.jupyter.widget-view+json": {
       "model_id": "58503cad1d684a6b8a94c0a0581dde8c",
       "version_major": 2,
       "version_minor": 0
      },
      "text/plain": [
       "model-00008-of-00008.safetensors:   0%|          | 0.00/1.70G [00:00<?, ?B/s]"
      ]
     },
     "metadata": {},
     "output_type": "display_data"
    },
    {
     "data": {
      "application/vnd.jupyter.widget-view+json": {
       "model_id": "27ef4eeb6ad444e2b43c57c2ce0bdfe6",
       "version_major": 2,
       "version_minor": 0
      },
      "text/plain": [
       "model-00005-of-00008.safetensors:   0%|          | 0.00/3.98G [00:00<?, ?B/s]"
      ]
     },
     "metadata": {},
     "output_type": "display_data"
    },
    {
     "data": {
      "application/vnd.jupyter.widget-view+json": {
       "model_id": "db89a1a3949e4af1adc1ac46b345b9bd",
       "version_major": 2,
       "version_minor": 0
      },
      "text/plain": [
       "model-00003-of-00008.safetensors:   0%|          | 0.00/4.00G [00:00<?, ?B/s]"
      ]
     },
     "metadata": {},
     "output_type": "display_data"
    },
    {
     "name": "stderr",
     "output_type": "stream",
     "text": [
      "Sliding Window Attention is enabled but not implemented for `sdpa`; unexpected results may be encountered.\n"
     ]
    },
    {
     "data": {
      "application/vnd.jupyter.widget-view+json": {
       "model_id": "702af9f4880e4407aaa1710f02483452",
       "version_major": 2,
       "version_minor": 0
      },
      "text/plain": [
       "Loading checkpoint shards:   0%|          | 0/8 [00:00<?, ?it/s]"
      ]
     },
     "metadata": {},
     "output_type": "display_data"
    },
    {
     "data": {
      "application/vnd.jupyter.widget-view+json": {
       "model_id": "697341a38e9d410dba51f0f2f5e9fb4c",
       "version_major": 2,
       "version_minor": 0
      },
      "text/plain": [
       "generation_config.json:   0%|          | 0.00/138 [00:00<?, ?B/s]"
      ]
     },
     "metadata": {},
     "output_type": "display_data"
    }
   ],
   "source": [
    "qwen_model = AutoModelForCausalLM.from_pretrained(\n",
    "    \"Qwen/Qwen2.5-14B\",\n",
    "    torch_dtype=\"auto\",\n",
    "    device_map=\"auto\"\n",
    ")"
   ]
  },
  {
   "cell_type": "code",
   "execution_count": null,
   "metadata": {
    "colab": {
     "base_uri": "https://localhost:8080/",
     "height": 145,
     "referenced_widgets": [
      "42e4383d3c7548cbbabfc15c5a8971c2",
      "a4c8fbb3bf21474ea00dc5aba779ef9c",
      "b971e77f53e646c483b37a8514eff324",
      "ff2615ad8e3943c593fc12fdc7075d14",
      "9b44794778b04b9da05cbb23aa5f849f",
      "d865e0936f4d4b868309da05b451bdbd",
      "21787b7ce0524ca0b6ee2aa11830b8c8",
      "7fe73fbbf8a14c75bde0eaba8131b5f8",
      "c7fb015165d8458f881d297d45cdfcff",
      "f2239908f948418ba5cfa7887762ec77",
      "3c620f356104419da67aa69b57396226",
      "451ab8b922724a7496c7e8b33fbdbbc5",
      "75e41a0e9fcf4f388152295171269e06",
      "34cfba0755d443739f94d37f46b2aab4",
      "4af11318c68142eaa89524eb2e41f3dc",
      "e90f4dbba1704d1d8e6c1e49304a7f5a",
      "4717b5234c08479b9c261dc953f8e213",
      "3af5b4b63c254d2db6897d6ad1e613c6",
      "a6e313ec65a240918401379ad7407058",
      "05bcf8fd18144ba9b66958f7d069096b",
      "4c22a331456f43d49fff1194c855a52a",
      "b7d0a53405e04adbbe11a44e221ed764",
      "fc48fc89857747368a5cd166dcab7eee",
      "bb53e7a97c6349ee909cdb35121586c0",
      "392199c6fe9745729939df04e1b43513",
      "b96dd6db15854005a1227b40f0b322b0",
      "bc7e255ea79f4aa0baecf0e11f85fbfe",
      "6857cc494b034e5389e8c57457e6d5d6",
      "297bf2d7205f451d8519aecd7497cd90",
      "7be25ed5a46e4a6089dc1f666d45b72a",
      "ff6a7e5a170e4fdcb034ed9dfdf1017e",
      "ffdf4078c892475dbd525c80f6379acc",
      "1b5ffecb148646bf8e827a282bcf4d60",
      "58170de52d8341b89e92abdb42a992fc",
      "85e188701cbb4942aa1a28227b5d1be6",
      "6dacb979979f4432a66b294387dcb201",
      "797382a7416843af96ea378a59fa9b18",
      "728765a037fa40aba1e176023f3dbadc",
      "130ab7e6b0de4125bca5db5d93e27f91",
      "9a0504d788d5432abe24fe8735888b00",
      "3dc4078c5536401e8837985bdf280183",
      "7c6a88ce2e4f4f25b097e3f325de1f84",
      "a4e8212dce614fbfa537cf10bc403220",
      "c247102cb82540e4ac8cf95d68a510d4"
     ]
    },
    "id": "9su9WpTduc6Q",
    "outputId": "e25d1848-7f9c-4c18-d3b9-e2304bae9163"
   },
   "outputs": [
    {
     "data": {
      "application/vnd.jupyter.widget-view+json": {
       "model_id": "42e4383d3c7548cbbabfc15c5a8971c2",
       "version_major": 2,
       "version_minor": 0
      },
      "text/plain": [
       "tokenizer_config.json:   0%|          | 0.00/7.23k [00:00<?, ?B/s]"
      ]
     },
     "metadata": {},
     "output_type": "display_data"
    },
    {
     "data": {
      "application/vnd.jupyter.widget-view+json": {
       "model_id": "451ab8b922724a7496c7e8b33fbdbbc5",
       "version_major": 2,
       "version_minor": 0
      },
      "text/plain": [
       "vocab.json:   0%|          | 0.00/2.78M [00:00<?, ?B/s]"
      ]
     },
     "metadata": {},
     "output_type": "display_data"
    },
    {
     "data": {
      "application/vnd.jupyter.widget-view+json": {
       "model_id": "fc48fc89857747368a5cd166dcab7eee",
       "version_major": 2,
       "version_minor": 0
      },
      "text/plain": [
       "merges.txt:   0%|          | 0.00/1.67M [00:00<?, ?B/s]"
      ]
     },
     "metadata": {},
     "output_type": "display_data"
    },
    {
     "data": {
      "application/vnd.jupyter.widget-view+json": {
       "model_id": "58170de52d8341b89e92abdb42a992fc",
       "version_major": 2,
       "version_minor": 0
      },
      "text/plain": [
       "tokenizer.json:   0%|          | 0.00/7.03M [00:00<?, ?B/s]"
      ]
     },
     "metadata": {},
     "output_type": "display_data"
    }
   ],
   "source": [
    "tokenizer = AutoTokenizer.from_pretrained(\"Qwen/Qwen2.5-14B\")"
   ]
  },
  {
   "cell_type": "code",
   "execution_count": null,
   "metadata": {
    "id": "gbiL8PoHvT35"
   },
   "outputs": [],
   "source": [
    "def qwen_response(id: str, entry: Dict, tokenizer = tokenizer, model = qwen_model) -> None:\n",
    "\n",
    "  result_dir = os.path.join(OUTPUT_PATH, \"qwen-14B\")\n",
    "  os.makedirs(result_dir, exist_ok=True)\n",
    "\n",
    "  messages = [\n",
    "      {\n",
    "          \"role\": \"system\",\n",
    "          \"content\": SYSTEM_PROMPT\n",
    "          },\n",
    "      {\n",
    "          \"role\": \"user\",\n",
    "          \"content\": user_message_template(entry)\n",
    "          }\n",
    "  ]\n",
    "\n",
    "  if os.path.exists(os.path.join(result_dir, f\"{id}.txt\")):\n",
    "    print(f\"File {id}.txt Processed >> Skipping.\\n\")\n",
    "    return\n",
    "\n",
    "  with open(os.path.join(result_dir, f\"{id}.txt\"), \"a\") as f:\n",
    "    f.write(f\"<prompt>\\n{SYSTEM_PROMPT}\\n</prompt>\\n\")\n",
    "\n",
    "  start = time.time()\n",
    "  text = tokenizer.apply_chat_template(\n",
    "      messages,\n",
    "      tokenize=False,\n",
    "      add_generation_prompt=True\n",
    "      )\n",
    "\n",
    "  model_inputs = tokenizer([text], return_tensors=\"pt\").to(model.device)\n",
    "  generated_ids = model.generate(\n",
    "      **model_inputs,\n",
    "      max_new_tokens = 1024\n",
    "      )\n",
    "\n",
    "  generated_ids = [\n",
    "      output_ids[len(input_ids):] for input_ids, output_ids in zip(model_inputs.input_ids, generated_ids)\n",
    "      ]\n",
    "  response = tokenizer.batch_decode(generated_ids, skip_special_tokens=True)[0]\n",
    "  end = time.time()\n",
    "  time_taken = end - start\n",
    "\n",
    "  with open(os.path.join(result_dir, f\"{id}.txt\"), \"a\") as f:\n",
    "    f.write(response)\n",
    "    f.write(f\"\\n<time>{time_taken}</time>\\n\")\n",
    "\n",
    "  print(f\"Saved to {result_dir}/{id}.txt. Total Time <{time_taken}>\\n\")"
   ]
  },
  {
   "cell_type": "code",
   "execution_count": null,
   "metadata": {
    "colab": {
     "base_uri": "https://localhost:8080/"
    },
    "id": "njOkfenZu1PV",
    "outputId": "46486b90-0112-4843-f99e-fc9fde45c260"
   },
   "outputs": [
    {
     "name": "stderr",
     "output_type": "stream",
     "text": [
      "Setting `pad_token_id` to `eos_token_id`:151643 for open-end generation.\n"
     ]
    },
    {
     "name": "stdout",
     "output_type": "stream",
     "text": [
      "File 0.txt Processed >> Skipping.\n",
      "\n",
      "File 1.txt Processed >> Skipping.\n",
      "\n",
      "File 2.txt Processed >> Skipping.\n",
      "\n",
      "File 3.txt Processed >> Skipping.\n",
      "\n",
      "File 4.txt Processed >> Skipping.\n",
      "\n",
      "File 5.txt Processed >> Skipping.\n",
      "\n",
      "File 6.txt Processed >> Skipping.\n",
      "\n",
      "File 7.txt Processed >> Skipping.\n",
      "\n",
      "File 8.txt Processed >> Skipping.\n",
      "\n",
      "File 9.txt Processed >> Skipping.\n",
      "\n",
      "File 10.txt Processed >> Skipping.\n",
      "\n",
      "File 11.txt Processed >> Skipping.\n",
      "\n",
      "File 12.txt Processed >> Skipping.\n",
      "\n",
      "File 13.txt Processed >> Skipping.\n",
      "\n",
      "File 14.txt Processed >> Skipping.\n",
      "\n",
      "File 15.txt Processed >> Skipping.\n",
      "\n",
      "File 16.txt Processed >> Skipping.\n",
      "\n",
      "File 17.txt Processed >> Skipping.\n",
      "\n",
      "File 18.txt Processed >> Skipping.\n",
      "\n",
      "File 19.txt Processed >> Skipping.\n",
      "\n",
      "File 20.txt Processed >> Skipping.\n",
      "\n",
      "File 21.txt Processed >> Skipping.\n",
      "\n"
     ]
    },
    {
     "name": "stderr",
     "output_type": "stream",
     "text": [
      "Setting `pad_token_id` to `eos_token_id`:151643 for open-end generation.\n"
     ]
    },
    {
     "name": "stdout",
     "output_type": "stream",
     "text": [
      "Saved to /content/drive/MyDrive/tomoro_ai/train_json/qwen-14B/22.txt. Total Time <5.259257793426514>\n",
      "\n"
     ]
    },
    {
     "name": "stderr",
     "output_type": "stream",
     "text": [
      "Setting `pad_token_id` to `eos_token_id`:151643 for open-end generation.\n"
     ]
    },
    {
     "name": "stdout",
     "output_type": "stream",
     "text": [
      "Saved to /content/drive/MyDrive/tomoro_ai/train_json/qwen-14B/23.txt. Total Time <64.27294063568115>\n",
      "\n"
     ]
    },
    {
     "name": "stderr",
     "output_type": "stream",
     "text": [
      "Setting `pad_token_id` to `eos_token_id`:151643 for open-end generation.\n"
     ]
    },
    {
     "name": "stdout",
     "output_type": "stream",
     "text": [
      "Saved to /content/drive/MyDrive/tomoro_ai/train_json/qwen-14B/24.txt. Total Time <4.467891693115234>\n",
      "\n"
     ]
    },
    {
     "name": "stderr",
     "output_type": "stream",
     "text": [
      "Setting `pad_token_id` to `eos_token_id`:151643 for open-end generation.\n"
     ]
    },
    {
     "name": "stdout",
     "output_type": "stream",
     "text": [
      "Saved to /content/drive/MyDrive/tomoro_ai/train_json/qwen-14B/25.txt. Total Time <51.185426473617554>\n",
      "\n"
     ]
    },
    {
     "name": "stderr",
     "output_type": "stream",
     "text": [
      "Setting `pad_token_id` to `eos_token_id`:151643 for open-end generation.\n"
     ]
    },
    {
     "name": "stdout",
     "output_type": "stream",
     "text": [
      "Saved to /content/drive/MyDrive/tomoro_ai/train_json/qwen-14B/26.txt. Total Time <3.4424850940704346>\n",
      "\n"
     ]
    },
    {
     "name": "stderr",
     "output_type": "stream",
     "text": [
      "Setting `pad_token_id` to `eos_token_id`:151643 for open-end generation.\n"
     ]
    },
    {
     "name": "stdout",
     "output_type": "stream",
     "text": [
      "Saved to /content/drive/MyDrive/tomoro_ai/train_json/qwen-14B/27.txt. Total Time <6.230879068374634>\n",
      "\n"
     ]
    },
    {
     "name": "stderr",
     "output_type": "stream",
     "text": [
      "Setting `pad_token_id` to `eos_token_id`:151643 for open-end generation.\n"
     ]
    },
    {
     "name": "stdout",
     "output_type": "stream",
     "text": [
      "Saved to /content/drive/MyDrive/tomoro_ai/train_json/qwen-14B/28.txt. Total Time <3.4945175647735596>\n",
      "\n"
     ]
    },
    {
     "name": "stderr",
     "output_type": "stream",
     "text": [
      "Setting `pad_token_id` to `eos_token_id`:151643 for open-end generation.\n"
     ]
    },
    {
     "name": "stdout",
     "output_type": "stream",
     "text": [
      "Saved to /content/drive/MyDrive/tomoro_ai/train_json/qwen-14B/29.txt. Total Time <6.05335259437561>\n",
      "\n"
     ]
    },
    {
     "name": "stderr",
     "output_type": "stream",
     "text": [
      "Setting `pad_token_id` to `eos_token_id`:151643 for open-end generation.\n"
     ]
    },
    {
     "name": "stdout",
     "output_type": "stream",
     "text": [
      "Saved to /content/drive/MyDrive/tomoro_ai/train_json/qwen-14B/30.txt. Total Time <3.505720853805542>\n",
      "\n"
     ]
    },
    {
     "name": "stderr",
     "output_type": "stream",
     "text": [
      "Setting `pad_token_id` to `eos_token_id`:151643 for open-end generation.\n"
     ]
    },
    {
     "name": "stdout",
     "output_type": "stream",
     "text": [
      "Saved to /content/drive/MyDrive/tomoro_ai/train_json/qwen-14B/31.txt. Total Time <6.234628200531006>\n",
      "\n"
     ]
    },
    {
     "name": "stderr",
     "output_type": "stream",
     "text": [
      "Setting `pad_token_id` to `eos_token_id`:151643 for open-end generation.\n"
     ]
    },
    {
     "name": "stdout",
     "output_type": "stream",
     "text": [
      "Saved to /content/drive/MyDrive/tomoro_ai/train_json/qwen-14B/32.txt. Total Time <5.259680986404419>\n",
      "\n"
     ]
    },
    {
     "name": "stderr",
     "output_type": "stream",
     "text": [
      "Setting `pad_token_id` to `eos_token_id`:151643 for open-end generation.\n"
     ]
    },
    {
     "name": "stdout",
     "output_type": "stream",
     "text": [
      "Saved to /content/drive/MyDrive/tomoro_ai/train_json/qwen-14B/33.txt. Total Time <3.5342657566070557>\n",
      "\n"
     ]
    },
    {
     "name": "stderr",
     "output_type": "stream",
     "text": [
      "Setting `pad_token_id` to `eos_token_id`:151643 for open-end generation.\n"
     ]
    },
    {
     "name": "stdout",
     "output_type": "stream",
     "text": [
      "Saved to /content/drive/MyDrive/tomoro_ai/train_json/qwen-14B/34.txt. Total Time <9.238641738891602>\n",
      "\n"
     ]
    },
    {
     "name": "stderr",
     "output_type": "stream",
     "text": [
      "Setting `pad_token_id` to `eos_token_id`:151643 for open-end generation.\n"
     ]
    },
    {
     "name": "stdout",
     "output_type": "stream",
     "text": [
      "Saved to /content/drive/MyDrive/tomoro_ai/train_json/qwen-14B/35.txt. Total Time <64.15658783912659>\n",
      "\n"
     ]
    },
    {
     "name": "stderr",
     "output_type": "stream",
     "text": [
      "Setting `pad_token_id` to `eos_token_id`:151643 for open-end generation.\n"
     ]
    },
    {
     "name": "stdout",
     "output_type": "stream",
     "text": [
      "Saved to /content/drive/MyDrive/tomoro_ai/train_json/qwen-14B/36.txt. Total Time <3.8740859031677246>\n",
      "\n"
     ]
    },
    {
     "name": "stderr",
     "output_type": "stream",
     "text": [
      "Setting `pad_token_id` to `eos_token_id`:151643 for open-end generation.\n"
     ]
    },
    {
     "name": "stdout",
     "output_type": "stream",
     "text": [
      "Saved to /content/drive/MyDrive/tomoro_ai/train_json/qwen-14B/37.txt. Total Time <3.735522508621216>\n",
      "\n"
     ]
    },
    {
     "name": "stderr",
     "output_type": "stream",
     "text": [
      "Setting `pad_token_id` to `eos_token_id`:151643 for open-end generation.\n"
     ]
    },
    {
     "name": "stdout",
     "output_type": "stream",
     "text": [
      "Saved to /content/drive/MyDrive/tomoro_ai/train_json/qwen-14B/38.txt. Total Time <3.397113561630249>\n",
      "\n"
     ]
    },
    {
     "name": "stderr",
     "output_type": "stream",
     "text": [
      "Setting `pad_token_id` to `eos_token_id`:151643 for open-end generation.\n"
     ]
    },
    {
     "name": "stdout",
     "output_type": "stream",
     "text": [
      "Saved to /content/drive/MyDrive/tomoro_ai/train_json/qwen-14B/39.txt. Total Time <63.91980338096619>\n",
      "\n"
     ]
    },
    {
     "name": "stderr",
     "output_type": "stream",
     "text": [
      "Setting `pad_token_id` to `eos_token_id`:151643 for open-end generation.\n"
     ]
    },
    {
     "name": "stdout",
     "output_type": "stream",
     "text": [
      "Saved to /content/drive/MyDrive/tomoro_ai/train_json/qwen-14B/40.txt. Total Time <5.144723415374756>\n",
      "\n"
     ]
    },
    {
     "name": "stderr",
     "output_type": "stream",
     "text": [
      "Setting `pad_token_id` to `eos_token_id`:151643 for open-end generation.\n"
     ]
    },
    {
     "name": "stdout",
     "output_type": "stream",
     "text": [
      "Saved to /content/drive/MyDrive/tomoro_ai/train_json/qwen-14B/41.txt. Total Time <3.5649807453155518>\n",
      "\n"
     ]
    },
    {
     "name": "stderr",
     "output_type": "stream",
     "text": [
      "Setting `pad_token_id` to `eos_token_id`:151643 for open-end generation.\n"
     ]
    },
    {
     "name": "stdout",
     "output_type": "stream",
     "text": [
      "Saved to /content/drive/MyDrive/tomoro_ai/train_json/qwen-14B/42.txt. Total Time <63.488747358322144>\n",
      "\n"
     ]
    },
    {
     "name": "stderr",
     "output_type": "stream",
     "text": [
      "Setting `pad_token_id` to `eos_token_id`:151643 for open-end generation.\n"
     ]
    },
    {
     "name": "stdout",
     "output_type": "stream",
     "text": [
      "Saved to /content/drive/MyDrive/tomoro_ai/train_json/qwen-14B/43.txt. Total Time <6.04520845413208>\n",
      "\n"
     ]
    },
    {
     "name": "stderr",
     "output_type": "stream",
     "text": [
      "Setting `pad_token_id` to `eos_token_id`:151643 for open-end generation.\n"
     ]
    },
    {
     "name": "stdout",
     "output_type": "stream",
     "text": [
      "Saved to /content/drive/MyDrive/tomoro_ai/train_json/qwen-14B/44.txt. Total Time <5.727129697799683>\n",
      "\n"
     ]
    },
    {
     "name": "stderr",
     "output_type": "stream",
     "text": [
      "Setting `pad_token_id` to `eos_token_id`:151643 for open-end generation.\n"
     ]
    },
    {
     "name": "stdout",
     "output_type": "stream",
     "text": [
      "Saved to /content/drive/MyDrive/tomoro_ai/train_json/qwen-14B/45.txt. Total Time <63.739636182785034>\n",
      "\n"
     ]
    },
    {
     "name": "stderr",
     "output_type": "stream",
     "text": [
      "Setting `pad_token_id` to `eos_token_id`:151643 for open-end generation.\n"
     ]
    },
    {
     "name": "stdout",
     "output_type": "stream",
     "text": [
      "Saved to /content/drive/MyDrive/tomoro_ai/train_json/qwen-14B/46.txt. Total Time <6.343661308288574>\n",
      "\n"
     ]
    },
    {
     "name": "stderr",
     "output_type": "stream",
     "text": [
      "Setting `pad_token_id` to `eos_token_id`:151643 for open-end generation.\n"
     ]
    },
    {
     "name": "stdout",
     "output_type": "stream",
     "text": [
      "Saved to /content/drive/MyDrive/tomoro_ai/train_json/qwen-14B/47.txt. Total Time <63.9474823474884>\n",
      "\n"
     ]
    },
    {
     "name": "stderr",
     "output_type": "stream",
     "text": [
      "Setting `pad_token_id` to `eos_token_id`:151643 for open-end generation.\n"
     ]
    },
    {
     "name": "stdout",
     "output_type": "stream",
     "text": [
      "Saved to /content/drive/MyDrive/tomoro_ai/train_json/qwen-14B/48.txt. Total Time <2.617553949356079>\n",
      "\n"
     ]
    },
    {
     "name": "stderr",
     "output_type": "stream",
     "text": [
      "Setting `pad_token_id` to `eos_token_id`:151643 for open-end generation.\n"
     ]
    },
    {
     "name": "stdout",
     "output_type": "stream",
     "text": [
      "Saved to /content/drive/MyDrive/tomoro_ai/train_json/qwen-14B/49.txt. Total Time <64.06568503379822>\n",
      "\n"
     ]
    },
    {
     "name": "stderr",
     "output_type": "stream",
     "text": [
      "Setting `pad_token_id` to `eos_token_id`:151643 for open-end generation.\n"
     ]
    },
    {
     "name": "stdout",
     "output_type": "stream",
     "text": [
      "Saved to /content/drive/MyDrive/tomoro_ai/train_json/qwen-14B/50.txt. Total Time <39.88019871711731>\n",
      "\n"
     ]
    },
    {
     "name": "stderr",
     "output_type": "stream",
     "text": [
      "Setting `pad_token_id` to `eos_token_id`:151643 for open-end generation.\n"
     ]
    },
    {
     "name": "stdout",
     "output_type": "stream",
     "text": [
      "Saved to /content/drive/MyDrive/tomoro_ai/train_json/qwen-14B/51.txt. Total Time <6.791382789611816>\n",
      "\n"
     ]
    },
    {
     "name": "stderr",
     "output_type": "stream",
     "text": [
      "Setting `pad_token_id` to `eos_token_id`:151643 for open-end generation.\n"
     ]
    },
    {
     "name": "stdout",
     "output_type": "stream",
     "text": [
      "Saved to /content/drive/MyDrive/tomoro_ai/train_json/qwen-14B/52.txt. Total Time <2.729259967803955>\n",
      "\n"
     ]
    },
    {
     "name": "stderr",
     "output_type": "stream",
     "text": [
      "Setting `pad_token_id` to `eos_token_id`:151643 for open-end generation.\n"
     ]
    },
    {
     "name": "stdout",
     "output_type": "stream",
     "text": [
      "Saved to /content/drive/MyDrive/tomoro_ai/train_json/qwen-14B/53.txt. Total Time <9.923104286193848>\n",
      "\n"
     ]
    },
    {
     "name": "stderr",
     "output_type": "stream",
     "text": [
      "Setting `pad_token_id` to `eos_token_id`:151643 for open-end generation.\n"
     ]
    },
    {
     "name": "stdout",
     "output_type": "stream",
     "text": [
      "Saved to /content/drive/MyDrive/tomoro_ai/train_json/qwen-14B/54.txt. Total Time <2.6646814346313477>\n",
      "\n"
     ]
    },
    {
     "name": "stderr",
     "output_type": "stream",
     "text": [
      "Setting `pad_token_id` to `eos_token_id`:151643 for open-end generation.\n"
     ]
    },
    {
     "name": "stdout",
     "output_type": "stream",
     "text": [
      "Saved to /content/drive/MyDrive/tomoro_ai/train_json/qwen-14B/55.txt. Total Time <4.962803840637207>\n",
      "\n"
     ]
    },
    {
     "name": "stderr",
     "output_type": "stream",
     "text": [
      "Setting `pad_token_id` to `eos_token_id`:151643 for open-end generation.\n"
     ]
    },
    {
     "name": "stdout",
     "output_type": "stream",
     "text": [
      "Saved to /content/drive/MyDrive/tomoro_ai/train_json/qwen-14B/56.txt. Total Time <6.89606785774231>\n",
      "\n"
     ]
    },
    {
     "name": "stderr",
     "output_type": "stream",
     "text": [
      "Setting `pad_token_id` to `eos_token_id`:151643 for open-end generation.\n"
     ]
    },
    {
     "name": "stdout",
     "output_type": "stream",
     "text": [
      "Saved to /content/drive/MyDrive/tomoro_ai/train_json/qwen-14B/57.txt. Total Time <44.929906129837036>\n",
      "\n"
     ]
    },
    {
     "name": "stderr",
     "output_type": "stream",
     "text": [
      "Setting `pad_token_id` to `eos_token_id`:151643 for open-end generation.\n"
     ]
    },
    {
     "name": "stdout",
     "output_type": "stream",
     "text": [
      "Saved to /content/drive/MyDrive/tomoro_ai/train_json/qwen-14B/58.txt. Total Time <7.396561145782471>\n",
      "\n"
     ]
    },
    {
     "name": "stderr",
     "output_type": "stream",
     "text": [
      "Setting `pad_token_id` to `eos_token_id`:151643 for open-end generation.\n"
     ]
    },
    {
     "name": "stdout",
     "output_type": "stream",
     "text": [
      "Saved to /content/drive/MyDrive/tomoro_ai/train_json/qwen-14B/59.txt. Total Time <6.085942983627319>\n",
      "\n"
     ]
    }
   ],
   "source": [
    "for key, data in entry.items():\n",
    "    qwen_response(key, data)"
   ]
  },
  {
   "cell_type": "code",
   "execution_count": null,
   "metadata": {
    "id": "kSwnW2Nju1TU"
   },
   "outputs": [],
   "source": []
  },
  {
   "cell_type": "code",
   "execution_count": null,
   "metadata": {
    "id": "bs72nnFru8kd"
   },
   "outputs": [],
   "source": []
  },
  {
   "cell_type": "code",
   "execution_count": null,
   "metadata": {
    "id": "O4ERrzvPu1Vq"
   },
   "outputs": [],
   "source": []
  },
  {
   "cell_type": "code",
   "execution_count": null,
   "metadata": {
    "id": "ezUyWPXpvHhN"
   },
   "outputs": [],
   "source": []
  },
  {
   "cell_type": "code",
   "execution_count": null,
   "metadata": {
    "id": "pk-m0G3PKDTS"
   },
   "outputs": [],
   "source": [
    "messages = [\n",
    "    {\n",
    "        \"role\": \"system\",\n",
    "        \"content\": SYSTEM_PROMPT\n",
    "    },\n",
    "    {\n",
    "        \"role\": \"user\",\n",
    "        \"content\": user_message_template(entry[\"3\"])\n",
    "    }\n",
    "]"
   ]
  },
  {
   "cell_type": "code",
   "execution_count": null,
   "metadata": {
    "id": "hPcrT4MsICH3"
   },
   "outputs": [],
   "source": [
    "completion = client.chat.completions.create(\n",
    "    model=\"o3-mini\",\n",
    "    messages = messages\n",
    ")"
   ]
  },
  {
   "cell_type": "code",
   "execution_count": null,
   "metadata": {
    "colab": {
     "base_uri": "https://localhost:8080/"
    },
    "id": "F33jNoJ6b08R",
    "outputId": "a32b86e2-76ba-4380-f8d2-048b23e1da67"
   },
   "outputs": [
    {
     "name": "stdout",
     "output_type": "stream",
     "text": [
      "<relevant_context>\n",
      "For united parcel service inc. on 12/31/09, the cumulative return is $75.95. For the s&p 500 index on 12/31/09, the cumulative return is $102.11.\n",
      "</relevant_context>\n",
      "\n",
      "<operation>\n",
      "subtract(102.11, 75.95)\n",
      "</operation>\n",
      "\n",
      "<format>%</format>\n"
     ]
    }
   ],
   "source": [
    "print(completion.choices[0].message.content)"
   ]
  },
  {
   "cell_type": "code",
   "execution_count": null,
   "metadata": {
    "colab": {
     "base_uri": "https://localhost:8080/",
     "height": 35
    },
    "id": "VOoiD973lKTf",
    "outputId": "3b20a86b-08ea-452a-8eee-a43e4f6ae17e"
   },
   "outputs": [
    {
     "data": {
      "application/vnd.google.colaboratory.intrinsic+json": {
       "type": "string"
      },
      "text/plain": [
       "'-26.16%'"
      ]
     },
     "execution_count": 218,
     "metadata": {},
     "output_type": "execute_result"
    }
   ],
   "source": [
    "entry[\"3\"].get(\"answer\")"
   ]
  },
  {
   "cell_type": "code",
   "execution_count": null,
   "metadata": {
    "colab": {
     "base_uri": "https://localhost:8080/",
     "height": 35
    },
    "id": "ncDG8l-Bb7bi",
    "outputId": "6b17f250-bce0-4c5d-d303-202917aebd28"
   },
   "outputs": [
    {
     "data": {
      "application/vnd.google.colaboratory.intrinsic+json": {
       "type": "string"
      },
      "text/plain": [
       "'subtract(75.95, const_100), divide(#0, const_100), subtract(102.11, const_100), divide(#2, const_100), subtract(#1, #3)'"
      ]
     },
     "execution_count": 219,
     "metadata": {},
     "output_type": "execute_result"
    }
   ],
   "source": [
    "entry[\"3\"].get(\"program\")"
   ]
  },
  {
   "cell_type": "code",
   "execution_count": null,
   "metadata": {
    "colab": {
     "base_uri": "https://localhost:8080/"
    },
    "id": "OLx18ZaniZLA",
    "outputId": "f7a3532a-b952-4367-b449-04df18f5400a"
   },
   "outputs": [
    {
     "data": {
      "text/plain": [
       "-0.2616"
      ]
     },
     "execution_count": 220,
     "metadata": {},
     "output_type": "execute_result"
    }
   ],
   "source": [
    "entry[\"3\"].get(\"exe_ans\")"
   ]
  },
  {
   "cell_type": "code",
   "execution_count": null,
   "metadata": {
    "id": "I7h-yl1en5Df"
   },
   "outputs": [],
   "source": [
    "past = time.time()"
   ]
  },
  {
   "cell_type": "code",
   "execution_count": null,
   "metadata": {
    "colab": {
     "base_uri": "https://localhost:8080/"
    },
    "id": "i2DuqnZ6n_hP",
    "outputId": "abae3fc4-ca61-4fd2-cf78-847c8d6f181f"
   },
   "outputs": [
    {
     "data": {
      "text/plain": [
       "11.048887968063354"
      ]
     },
     "execution_count": 234,
     "metadata": {},
     "output_type": "execute_result"
    }
   ],
   "source": [
    "time.time() - past"
   ]
  },
  {
   "cell_type": "code",
   "execution_count": null,
   "metadata": {
    "id": "RbE11pTRPcXg"
   },
   "outputs": [],
   "source": [
    "def make_prediction(model: str, entry: Dict, id: int) -> str:\n",
    "  result_dir = os.path.join(OUTPUT_PATH, f\"{model}/\")\n",
    "  os.makedirs(result_dir, exist_ok=True)\n",
    "  messages = [\n",
    "    {\n",
    "        \"role\": \"system\",\n",
    "        \"content\": SYSTEM_PROMPT\n",
    "    },\n",
    "    {\n",
    "        \"role\": \"user\",\n",
    "        \"content\": user_message_template(entry)\n",
    "    }\n",
    "  ]\n",
    "\n",
    "  if os.path.exists(os.path.join(result_dir, f\"{id}.txt\")):\n",
    "    print(f\"File {id}.txt Processed >> Skipping.\\n\")\n",
    "    return\n",
    "\n",
    "  with open(os.path.join(result_dir, f\"{id}.txt\"), \"a\") as f:\n",
    "    f.write(f\"<prompt>\\n{SYSTEM_PROMPT}\\n</prompt>\\n\")\n",
    "\n",
    "  start = time.time()\n",
    "  completion = client.chat.completions.create(\n",
    "      model = model,\n",
    "      messages = messages\n",
    "      )\n",
    "\n",
    "  response = completion.choices[0].message.content\n",
    "  end = time.time()\n",
    "  time_taken = end - start\n",
    "\n",
    "  with open(os.path.join(result_dir, f\"{id}.txt\"), \"a\") as f:\n",
    "    f.write(response)\n",
    "    f.write(f\"\\n<time>{time_taken}</time>\\n\")\n",
    "\n",
    "  print(f\"Saved to {result_dir}/{id}.txt. Total Time <{time_taken}>\\n\")"
   ]
  },
  {
   "cell_type": "code",
   "execution_count": null,
   "metadata": {
    "id": "T_zJbAGmUrUj"
   },
   "outputs": [],
   "source": [
    "models = [\n",
    "    \"gpt-4o\",\n",
    "    \"o3-mini\"\n",
    "]"
   ]
  },
  {
   "cell_type": "code",
   "execution_count": null,
   "metadata": {
    "colab": {
     "base_uri": "https://localhost:8080/",
     "height": 1000
    },
    "collapsed": true,
    "id": "936vHMaSVDNn",
    "jupyter": {
     "outputs_hidden": true
    },
    "outputId": "5e7fac62-4417-468e-8084-ce911263f0a5"
   },
   "outputs": [
    {
     "name": "stdout",
     "output_type": "stream",
     "text": [
      "File 0.txt Processed >> Skipping.\n",
      "\n",
      "File 0.txt Processed >> Skipping.\n",
      "\n",
      "File 1.txt Processed >> Skipping.\n",
      "\n",
      "File 1.txt Processed >> Skipping.\n",
      "\n",
      "File 2.txt Processed >> Skipping.\n",
      "\n",
      "File 2.txt Processed >> Skipping.\n",
      "\n",
      "File 3.txt Processed >> Skipping.\n",
      "\n",
      "File 3.txt Processed >> Skipping.\n",
      "\n",
      "File 4.txt Processed >> Skipping.\n",
      "\n",
      "File 4.txt Processed >> Skipping.\n",
      "\n",
      "File 5.txt Processed >> Skipping.\n",
      "\n",
      "File 5.txt Processed >> Skipping.\n",
      "\n",
      "File 6.txt Processed >> Skipping.\n",
      "\n",
      "File 6.txt Processed >> Skipping.\n",
      "\n",
      "File 7.txt Processed >> Skipping.\n",
      "\n",
      "File 7.txt Processed >> Skipping.\n",
      "\n",
      "File 8.txt Processed >> Skipping.\n",
      "\n",
      "File 8.txt Processed >> Skipping.\n",
      "\n",
      "File 9.txt Processed >> Skipping.\n",
      "\n",
      "File 9.txt Processed >> Skipping.\n",
      "\n",
      "File 10.txt Processed >> Skipping.\n",
      "\n",
      "File 10.txt Processed >> Skipping.\n",
      "\n",
      "File 11.txt Processed >> Skipping.\n",
      "\n",
      "File 11.txt Processed >> Skipping.\n",
      "\n",
      "File 12.txt Processed >> Skipping.\n",
      "\n",
      "File 12.txt Processed >> Skipping.\n",
      "\n",
      "File 13.txt Processed >> Skipping.\n",
      "\n",
      "File 13.txt Processed >> Skipping.\n",
      "\n",
      "File 14.txt Processed >> Skipping.\n",
      "\n",
      "File 14.txt Processed >> Skipping.\n",
      "\n",
      "File 15.txt Processed >> Skipping.\n",
      "\n",
      "File 15.txt Processed >> Skipping.\n",
      "\n",
      "File 16.txt Processed >> Skipping.\n",
      "\n",
      "File 16.txt Processed >> Skipping.\n",
      "\n",
      "File 17.txt Processed >> Skipping.\n",
      "\n",
      "File 17.txt Processed >> Skipping.\n",
      "\n",
      "File 18.txt Processed >> Skipping.\n",
      "\n",
      "File 18.txt Processed >> Skipping.\n",
      "\n",
      "File 19.txt Processed >> Skipping.\n",
      "\n",
      "File 19.txt Processed >> Skipping.\n",
      "\n",
      "File 20.txt Processed >> Skipping.\n",
      "\n",
      "File 20.txt Processed >> Skipping.\n",
      "\n",
      "File 21.txt Processed >> Skipping.\n",
      "\n",
      "File 21.txt Processed >> Skipping.\n",
      "\n",
      "File 22.txt Processed >> Skipping.\n",
      "\n",
      "File 22.txt Processed >> Skipping.\n",
      "\n",
      "File 23.txt Processed >> Skipping.\n",
      "\n",
      "File 23.txt Processed >> Skipping.\n",
      "\n",
      "File 24.txt Processed >> Skipping.\n",
      "\n",
      "File 24.txt Processed >> Skipping.\n",
      "\n",
      "File 25.txt Processed >> Skipping.\n",
      "\n",
      "File 25.txt Processed >> Skipping.\n",
      "\n",
      "File 26.txt Processed >> Skipping.\n",
      "\n",
      "File 26.txt Processed >> Skipping.\n",
      "\n",
      "File 27.txt Processed >> Skipping.\n",
      "\n",
      "File 27.txt Processed >> Skipping.\n",
      "\n",
      "File 28.txt Processed >> Skipping.\n",
      "\n",
      "File 28.txt Processed >> Skipping.\n",
      "\n",
      "File 29.txt Processed >> Skipping.\n",
      "\n",
      "File 29.txt Processed >> Skipping.\n",
      "\n",
      "File 30.txt Processed >> Skipping.\n",
      "\n",
      "File 30.txt Processed >> Skipping.\n",
      "\n",
      "File 31.txt Processed >> Skipping.\n",
      "\n",
      "File 31.txt Processed >> Skipping.\n",
      "\n",
      "File 32.txt Processed >> Skipping.\n",
      "\n",
      "File 32.txt Processed >> Skipping.\n",
      "\n",
      "File 33.txt Processed >> Skipping.\n",
      "\n",
      "File 33.txt Processed >> Skipping.\n",
      "\n",
      "File 34.txt Processed >> Skipping.\n",
      "\n",
      "File 34.txt Processed >> Skipping.\n",
      "\n",
      "File 35.txt Processed >> Skipping.\n",
      "\n",
      "File 35.txt Processed >> Skipping.\n",
      "\n",
      "File 36.txt Processed >> Skipping.\n",
      "\n",
      "File 36.txt Processed >> Skipping.\n",
      "\n",
      "File 37.txt Processed >> Skipping.\n",
      "\n",
      "File 37.txt Processed >> Skipping.\n",
      "\n",
      "File 38.txt Processed >> Skipping.\n",
      "\n",
      "File 38.txt Processed >> Skipping.\n",
      "\n",
      "File 39.txt Processed >> Skipping.\n",
      "\n",
      "File 39.txt Processed >> Skipping.\n",
      "\n",
      "File 40.txt Processed >> Skipping.\n",
      "\n",
      "File 40.txt Processed >> Skipping.\n",
      "\n",
      "File 41.txt Processed >> Skipping.\n",
      "\n",
      "File 41.txt Processed >> Skipping.\n",
      "\n",
      "File 42.txt Processed >> Skipping.\n",
      "\n",
      "File 42.txt Processed >> Skipping.\n",
      "\n",
      "File 43.txt Processed >> Skipping.\n",
      "\n",
      "File 43.txt Processed >> Skipping.\n",
      "\n",
      "File 44.txt Processed >> Skipping.\n",
      "\n",
      "File 44.txt Processed >> Skipping.\n",
      "\n",
      "File 45.txt Processed >> Skipping.\n",
      "\n",
      "File 45.txt Processed >> Skipping.\n",
      "\n",
      "File 46.txt Processed >> Skipping.\n",
      "\n",
      "File 46.txt Processed >> Skipping.\n",
      "\n",
      "File 47.txt Processed >> Skipping.\n",
      "\n",
      "File 47.txt Processed >> Skipping.\n",
      "\n",
      "File 48.txt Processed >> Skipping.\n",
      "\n",
      "File 48.txt Processed >> Skipping.\n",
      "\n",
      "File 49.txt Processed >> Skipping.\n",
      "\n",
      "File 49.txt Processed >> Skipping.\n",
      "\n",
      "File 50.txt Processed >> Skipping.\n",
      "\n",
      "File 50.txt Processed >> Skipping.\n",
      "\n",
      "File 51.txt Processed >> Skipping.\n",
      "\n",
      "File 51.txt Processed >> Skipping.\n",
      "\n",
      "File 52.txt Processed >> Skipping.\n",
      "\n",
      "File 52.txt Processed >> Skipping.\n",
      "\n",
      "File 53.txt Processed >> Skipping.\n",
      "\n",
      "File 53.txt Processed >> Skipping.\n",
      "\n",
      "File 54.txt Processed >> Skipping.\n",
      "\n",
      "File 54.txt Processed >> Skipping.\n",
      "\n",
      "File 55.txt Processed >> Skipping.\n",
      "\n",
      "File 55.txt Processed >> Skipping.\n",
      "\n",
      "File 56.txt Processed >> Skipping.\n",
      "\n",
      "File 56.txt Processed >> Skipping.\n",
      "\n",
      "File 57.txt Processed >> Skipping.\n",
      "\n",
      "File 57.txt Processed >> Skipping.\n",
      "\n",
      "File 58.txt Processed >> Skipping.\n",
      "\n",
      "File 58.txt Processed >> Skipping.\n",
      "\n",
      "File 59.txt Processed >> Skipping.\n",
      "\n",
      "File 59.txt Processed >> Skipping.\n",
      "\n",
      "Saved to /content/drive/MyDrive/tomoro_ai/train_json/gpt-4o//60.txt. Total Time <2.0948755741119385>\n",
      "\n",
      "Saved to /content/drive/MyDrive/tomoro_ai/train_json/o3-mini//60.txt. Total Time <6.984752178192139>\n",
      "\n",
      "Saved to /content/drive/MyDrive/tomoro_ai/train_json/gpt-4o//61.txt. Total Time <1.7745003700256348>\n",
      "\n",
      "Saved to /content/drive/MyDrive/tomoro_ai/train_json/o3-mini//61.txt. Total Time <15.392780303955078>\n",
      "\n",
      "Saved to /content/drive/MyDrive/tomoro_ai/train_json/gpt-4o//62.txt. Total Time <3.21787166595459>\n",
      "\n",
      "Saved to /content/drive/MyDrive/tomoro_ai/train_json/o3-mini//62.txt. Total Time <11.959749698638916>\n",
      "\n",
      "Saved to /content/drive/MyDrive/tomoro_ai/train_json/gpt-4o//63.txt. Total Time <2.408008098602295>\n",
      "\n",
      "Saved to /content/drive/MyDrive/tomoro_ai/train_json/o3-mini//63.txt. Total Time <20.55057644844055>\n",
      "\n",
      "Saved to /content/drive/MyDrive/tomoro_ai/train_json/gpt-4o//64.txt. Total Time <2.910505533218384>\n",
      "\n",
      "Saved to /content/drive/MyDrive/tomoro_ai/train_json/o3-mini//64.txt. Total Time <6.2764732837677>\n",
      "\n",
      "Saved to /content/drive/MyDrive/tomoro_ai/train_json/gpt-4o//65.txt. Total Time <1.8296937942504883>\n",
      "\n",
      "Saved to /content/drive/MyDrive/tomoro_ai/train_json/o3-mini//65.txt. Total Time <5.0472986698150635>\n",
      "\n",
      "Saved to /content/drive/MyDrive/tomoro_ai/train_json/gpt-4o//66.txt. Total Time <1.6186704635620117>\n",
      "\n",
      "Saved to /content/drive/MyDrive/tomoro_ai/train_json/o3-mini//66.txt. Total Time <5.383768796920776>\n",
      "\n",
      "Saved to /content/drive/MyDrive/tomoro_ai/train_json/gpt-4o//67.txt. Total Time <1.6917273998260498>\n",
      "\n",
      "Saved to /content/drive/MyDrive/tomoro_ai/train_json/o3-mini//67.txt. Total Time <8.242048740386963>\n",
      "\n",
      "Saved to /content/drive/MyDrive/tomoro_ai/train_json/gpt-4o//68.txt. Total Time <1.7425639629364014>\n",
      "\n",
      "Saved to /content/drive/MyDrive/tomoro_ai/train_json/o3-mini//68.txt. Total Time <6.30204439163208>\n",
      "\n",
      "Saved to /content/drive/MyDrive/tomoro_ai/train_json/gpt-4o//69.txt. Total Time <3.44877028465271>\n",
      "\n",
      "Saved to /content/drive/MyDrive/tomoro_ai/train_json/o3-mini//69.txt. Total Time <6.804995536804199>\n",
      "\n",
      "Saved to /content/drive/MyDrive/tomoro_ai/train_json/gpt-4o//70.txt. Total Time <3.527898073196411>\n",
      "\n",
      "Saved to /content/drive/MyDrive/tomoro_ai/train_json/o3-mini//70.txt. Total Time <6.932384490966797>\n",
      "\n",
      "Saved to /content/drive/MyDrive/tomoro_ai/train_json/gpt-4o//71.txt. Total Time <3.088468313217163>\n",
      "\n",
      "Saved to /content/drive/MyDrive/tomoro_ai/train_json/o3-mini//71.txt. Total Time <7.341929197311401>\n",
      "\n",
      "Saved to /content/drive/MyDrive/tomoro_ai/train_json/gpt-4o//72.txt. Total Time <2.1036250591278076>\n",
      "\n",
      "Saved to /content/drive/MyDrive/tomoro_ai/train_json/o3-mini//72.txt. Total Time <6.156853437423706>\n",
      "\n",
      "Saved to /content/drive/MyDrive/tomoro_ai/train_json/gpt-4o//73.txt. Total Time <1.9203159809112549>\n",
      "\n",
      "Saved to /content/drive/MyDrive/tomoro_ai/train_json/o3-mini//73.txt. Total Time <6.605254411697388>\n",
      "\n",
      "Saved to /content/drive/MyDrive/tomoro_ai/train_json/gpt-4o//74.txt. Total Time <1.4062261581420898>\n",
      "\n",
      "Saved to /content/drive/MyDrive/tomoro_ai/train_json/o3-mini//74.txt. Total Time <4.515738010406494>\n",
      "\n",
      "Saved to /content/drive/MyDrive/tomoro_ai/train_json/gpt-4o//75.txt. Total Time <1.2569530010223389>\n",
      "\n",
      "Saved to /content/drive/MyDrive/tomoro_ai/train_json/o3-mini//75.txt. Total Time <13.494498014450073>\n",
      "\n",
      "Saved to /content/drive/MyDrive/tomoro_ai/train_json/gpt-4o//76.txt. Total Time <1.334346055984497>\n",
      "\n",
      "Saved to /content/drive/MyDrive/tomoro_ai/train_json/o3-mini//76.txt. Total Time <7.045297622680664>\n",
      "\n",
      "Saved to /content/drive/MyDrive/tomoro_ai/train_json/gpt-4o//77.txt. Total Time <1.4622550010681152>\n",
      "\n",
      "Saved to /content/drive/MyDrive/tomoro_ai/train_json/o3-mini//77.txt. Total Time <7.136170148849487>\n",
      "\n",
      "Saved to /content/drive/MyDrive/tomoro_ai/train_json/gpt-4o//78.txt. Total Time <1.6990928649902344>\n",
      "\n",
      "Saved to /content/drive/MyDrive/tomoro_ai/train_json/o3-mini//78.txt. Total Time <8.172568559646606>\n",
      "\n",
      "Saved to /content/drive/MyDrive/tomoro_ai/train_json/gpt-4o//79.txt. Total Time <2.4046833515167236>\n",
      "\n",
      "Saved to /content/drive/MyDrive/tomoro_ai/train_json/o3-mini//79.txt. Total Time <6.927698850631714>\n",
      "\n",
      "Saved to /content/drive/MyDrive/tomoro_ai/train_json/gpt-4o//80.txt. Total Time <2.2226343154907227>\n",
      "\n",
      "Saved to /content/drive/MyDrive/tomoro_ai/train_json/o3-mini//80.txt. Total Time <7.251993656158447>\n",
      "\n",
      "Saved to /content/drive/MyDrive/tomoro_ai/train_json/gpt-4o//81.txt. Total Time <1.38246488571167>\n",
      "\n",
      "Saved to /content/drive/MyDrive/tomoro_ai/train_json/o3-mini//81.txt. Total Time <7.069059133529663>\n",
      "\n",
      "Saved to /content/drive/MyDrive/tomoro_ai/train_json/gpt-4o//82.txt. Total Time <4.318454265594482>\n",
      "\n",
      "Saved to /content/drive/MyDrive/tomoro_ai/train_json/o3-mini//82.txt. Total Time <7.8823699951171875>\n",
      "\n",
      "Saved to /content/drive/MyDrive/tomoro_ai/train_json/gpt-4o//83.txt. Total Time <1.316951036453247>\n",
      "\n",
      "Saved to /content/drive/MyDrive/tomoro_ai/train_json/o3-mini//83.txt. Total Time <8.770767450332642>\n",
      "\n",
      "Saved to /content/drive/MyDrive/tomoro_ai/train_json/gpt-4o//84.txt. Total Time <1.5293927192687988>\n",
      "\n",
      "Saved to /content/drive/MyDrive/tomoro_ai/train_json/o3-mini//84.txt. Total Time <12.954824686050415>\n",
      "\n",
      "Saved to /content/drive/MyDrive/tomoro_ai/train_json/gpt-4o//85.txt. Total Time <2.829725742340088>\n",
      "\n",
      "Saved to /content/drive/MyDrive/tomoro_ai/train_json/o3-mini//85.txt. Total Time <7.38385272026062>\n",
      "\n",
      "Saved to /content/drive/MyDrive/tomoro_ai/train_json/gpt-4o//86.txt. Total Time <2.267456531524658>\n",
      "\n",
      "Saved to /content/drive/MyDrive/tomoro_ai/train_json/o3-mini//86.txt. Total Time <4.293630361557007>\n",
      "\n",
      "Saved to /content/drive/MyDrive/tomoro_ai/train_json/gpt-4o//87.txt. Total Time <2.252502918243408>\n",
      "\n",
      "Saved to /content/drive/MyDrive/tomoro_ai/train_json/o3-mini//87.txt. Total Time <7.526911497116089>\n",
      "\n",
      "Saved to /content/drive/MyDrive/tomoro_ai/train_json/gpt-4o//88.txt. Total Time <3.3483200073242188>\n",
      "\n",
      "Saved to /content/drive/MyDrive/tomoro_ai/train_json/o3-mini//88.txt. Total Time <21.62017512321472>\n",
      "\n",
      "Saved to /content/drive/MyDrive/tomoro_ai/train_json/gpt-4o//89.txt. Total Time <2.0862197875976562>\n",
      "\n",
      "Saved to /content/drive/MyDrive/tomoro_ai/train_json/o3-mini//89.txt. Total Time <5.943539142608643>\n",
      "\n",
      "Saved to /content/drive/MyDrive/tomoro_ai/train_json/gpt-4o//90.txt. Total Time <3.4902608394622803>\n",
      "\n",
      "Saved to /content/drive/MyDrive/tomoro_ai/train_json/o3-mini//90.txt. Total Time <9.1642005443573>\n",
      "\n",
      "Saved to /content/drive/MyDrive/tomoro_ai/train_json/gpt-4o//91.txt. Total Time <2.5268919467926025>\n",
      "\n",
      "Saved to /content/drive/MyDrive/tomoro_ai/train_json/o3-mini//91.txt. Total Time <8.77414608001709>\n",
      "\n",
      "Saved to /content/drive/MyDrive/tomoro_ai/train_json/gpt-4o//92.txt. Total Time <2.1999611854553223>\n",
      "\n",
      "Saved to /content/drive/MyDrive/tomoro_ai/train_json/o3-mini//92.txt. Total Time <8.837001085281372>\n",
      "\n",
      "Saved to /content/drive/MyDrive/tomoro_ai/train_json/gpt-4o//93.txt. Total Time <4.675018548965454>\n",
      "\n",
      "Saved to /content/drive/MyDrive/tomoro_ai/train_json/o3-mini//93.txt. Total Time <6.321527004241943>\n",
      "\n",
      "Saved to /content/drive/MyDrive/tomoro_ai/train_json/gpt-4o//94.txt. Total Time <2.1672816276550293>\n",
      "\n",
      "Saved to /content/drive/MyDrive/tomoro_ai/train_json/o3-mini//94.txt. Total Time <5.849759101867676>\n",
      "\n",
      "Saved to /content/drive/MyDrive/tomoro_ai/train_json/gpt-4o//95.txt. Total Time <2.195552349090576>\n",
      "\n",
      "Saved to /content/drive/MyDrive/tomoro_ai/train_json/o3-mini//95.txt. Total Time <7.810943365097046>\n",
      "\n",
      "Saved to /content/drive/MyDrive/tomoro_ai/train_json/gpt-4o//96.txt. Total Time <2.1177144050598145>\n",
      "\n",
      "Saved to /content/drive/MyDrive/tomoro_ai/train_json/o3-mini//96.txt. Total Time <6.9843668937683105>\n",
      "\n",
      "Saved to /content/drive/MyDrive/tomoro_ai/train_json/gpt-4o//97.txt. Total Time <4.512250900268555>\n",
      "\n",
      "Saved to /content/drive/MyDrive/tomoro_ai/train_json/o3-mini//97.txt. Total Time <7.275994539260864>\n",
      "\n",
      "Saved to /content/drive/MyDrive/tomoro_ai/train_json/gpt-4o//98.txt. Total Time <1.3887863159179688>\n",
      "\n",
      "Saved to /content/drive/MyDrive/tomoro_ai/train_json/o3-mini//98.txt. Total Time <8.197844982147217>\n",
      "\n",
      "Saved to /content/drive/MyDrive/tomoro_ai/train_json/gpt-4o//99.txt. Total Time <3.307049036026001>\n",
      "\n",
      "Saved to /content/drive/MyDrive/tomoro_ai/train_json/o3-mini//99.txt. Total Time <10.414830446243286>\n",
      "\n",
      "Saved to /content/drive/MyDrive/tomoro_ai/train_json/gpt-4o//100.txt. Total Time <1.810168743133545>\n",
      "\n",
      "Saved to /content/drive/MyDrive/tomoro_ai/train_json/o3-mini//100.txt. Total Time <12.171191453933716>\n",
      "\n",
      "Saved to /content/drive/MyDrive/tomoro_ai/train_json/gpt-4o//101.txt. Total Time <2.9474265575408936>\n",
      "\n",
      "Saved to /content/drive/MyDrive/tomoro_ai/train_json/o3-mini//101.txt. Total Time <9.749021291732788>\n",
      "\n"
     ]
    },
    {
     "ename": "StopIteration",
     "evalue": "",
     "output_type": "error",
     "traceback": [
      "\u001b[0;31m---------------------------------------------------------------------------\u001b[0m",
      "\u001b[0;31mStopIteration\u001b[0m                             Traceback (most recent call last)",
      "\u001b[0;32m<ipython-input-46-cb16334d1298>\u001b[0m in \u001b[0;36m<cell line: 0>\u001b[0;34m()\u001b[0m\n\u001b[1;32m      3\u001b[0m     \u001b[0mmake_prediction\u001b[0m\u001b[0;34m(\u001b[0m\u001b[0mmodel\u001b[0m\u001b[0;34m,\u001b[0m \u001b[0mdata\u001b[0m\u001b[0;34m,\u001b[0m \u001b[0mkey\u001b[0m\u001b[0;34m)\u001b[0m\u001b[0;34m\u001b[0m\u001b[0;34m\u001b[0m\u001b[0m\n\u001b[1;32m      4\u001b[0m   \u001b[0;32mif\u001b[0m \u001b[0mkey\u001b[0m \u001b[0;34m==\u001b[0m \u001b[0;34m\"101\"\u001b[0m\u001b[0;34m:\u001b[0m\u001b[0;34m\u001b[0m\u001b[0;34m\u001b[0m\u001b[0m\n\u001b[0;32m----> 5\u001b[0;31m     \u001b[0;32mraise\u001b[0m \u001b[0mStopIteration\u001b[0m\u001b[0;34m\u001b[0m\u001b[0;34m\u001b[0m\u001b[0m\n\u001b[0m",
      "\u001b[0;31mStopIteration\u001b[0m: "
     ]
    }
   ],
   "source": [
    "for key, data in entry.items():\n",
    "  for model in models:\n",
    "    make_prediction(model, data, key)\n",
    "  if key == \"101\":\n",
    "    raise StopIteration"
   ]
  },
  {
   "cell_type": "markdown",
   "metadata": {
    "id": "e3ceuPc7DNcj"
   },
   "source": [
    "## PARSE RESULTS"
   ]
  },
  {
   "cell_type": "code",
   "execution_count": null,
   "metadata": {
    "id": "Nh4Ag0SvMeWo"
   },
   "outputs": [],
   "source": [
    "qwen_results = \"/content/drive/MyDrive/tomoro_ai/train_json/qwen-14B/\"\n",
    "gpt4_results = \"/content/drive/MyDrive/tomoro_ai/train_json/gpt-4o/\"\n",
    "o3_mini_results = \"/content/drive/MyDrive/tomoro_ai/train_json/o3-mini/\""
   ]
  },
  {
   "cell_type": "code",
   "execution_count": null,
   "metadata": {
    "id": "ymm6yXivD3hY"
   },
   "outputs": [],
   "source": [
    "def read_file(file_path: str) -> str:\n",
    "  with open(file_path, \"r\") as f:\n",
    "    return f.read()"
   ]
  },
  {
   "cell_type": "code",
   "execution_count": null,
   "metadata": {
    "id": "6ri-7_0iEMs0"
   },
   "outputs": [],
   "source": [
    "def parse_raw_output(output: str, mode = \"accuracy\"):\n",
    "  pattern = r\"\\b[a-zA-Z_]+\\([^()]*?(?:\\([^()]*\\)[^()]*?)*\\)|\\w+\"\n",
    "  matches = re.findall(pattern, output)\n",
    "  return matches"
   ]
  },
  {
   "cell_type": "code",
   "execution_count": null,
   "metadata": {
    "id": "XLACJlfTEtTc"
   },
   "outputs": [],
   "source": [
    "def extract_operations(text):\n",
    "    pattern = r\"<operation>(.*?)</operation>\"\n",
    "    matches = re.findall(pattern, text, flags=re.DOTALL)\n",
    "    return matches if matches else None"
   ]
  },
  {
   "cell_type": "code",
   "execution_count": null,
   "metadata": {
    "id": "zmNdmaV1cha2"
   },
   "outputs": [],
   "source": [
    "def extract_format(text):\n",
    "    pattern = r\"<format>(.*?)</format>\"\n",
    "    matches = re.findall(pattern, text, flags=re.DOTALL)\n",
    "    return matches if matches else None"
   ]
  },
  {
   "cell_type": "code",
   "execution_count": null,
   "metadata": {
    "id": "FUEfHIWFM1wN"
   },
   "outputs": [],
   "source": [
    "def extract_prompt(text):\n",
    "    pattern = r\"<prompt>(.*?)</prompt>\"\n",
    "    matches = re.findall(pattern, text, flags=re.DOTALL)\n",
    "    return matches if matches else None"
   ]
  },
  {
   "cell_type": "markdown",
   "metadata": {
    "id": "0HP_QDIxZJoV"
   },
   "source": [
    "### Qwen14B"
   ]
  },
  {
   "cell_type": "code",
   "execution_count": null,
   "metadata": {
    "collapsed": true,
    "id": "7jOu3kA6Elua",
    "jupyter": {
     "outputs_hidden": true
    }
   },
   "outputs": [],
   "source": [
    "multiple_extract = []\n",
    "empty_extract = []\n",
    "single_extract = []\n",
    "for file in glob.glob(os.path.join(qwen_results, \"*.txt\")):\n",
    "  txt = read_file(file)\n",
    "  txt = txt.split(\"<prompt>\")[-1].split(\"</prompt>\")[-1]\n",
    "  matches = extract_operations(txt)\n",
    "  if matches and len(matches) > 1:\n",
    "    multiple_extract.append(file)\n",
    "  elif not matches:\n",
    "    empty_extract.append(file)\n",
    "  elif len(matches) == 1:\n",
    "    single_extract.append(file)\n",
    "  else:\n",
    "    print(file)"
   ]
  },
  {
   "cell_type": "code",
   "execution_count": null,
   "metadata": {
    "colab": {
     "base_uri": "https://localhost:8080/"
    },
    "id": "YOfsqe-pIbng",
    "outputId": "fda6a54e-64dd-4e7c-96a8-7f901d96ccf8"
   },
   "outputs": [
    {
     "data": {
      "text/plain": [
       "(26, 5, 71)"
      ]
     },
     "execution_count": 63,
     "metadata": {},
     "output_type": "execute_result"
    }
   ],
   "source": [
    "len(multiple_extract), len(empty_extract), len(single_extract)"
   ]
  },
  {
   "cell_type": "code",
   "execution_count": null,
   "metadata": {
    "colab": {
     "base_uri": "https://localhost:8080/"
    },
    "collapsed": true,
    "id": "m4G2aA2IURQA",
    "jupyter": {
     "outputs_hidden": true
    },
    "outputId": "4da59c62-2aa9-492b-dd0a-c0efc135ef58"
   },
   "outputs": [
    {
     "data": {
      "text/plain": [
       "['/content/drive/MyDrive/tomoro_ai/train_json/qwen-14B/5.txt',\n",
       " '/content/drive/MyDrive/tomoro_ai/train_json/qwen-14B/9.txt',\n",
       " '/content/drive/MyDrive/tomoro_ai/train_json/qwen-14B/11.txt',\n",
       " '/content/drive/MyDrive/tomoro_ai/train_json/qwen-14B/12.txt',\n",
       " '/content/drive/MyDrive/tomoro_ai/train_json/qwen-14B/19.txt']"
      ]
     },
     "execution_count": 64,
     "metadata": {},
     "output_type": "execute_result"
    }
   ],
   "source": [
    "multiple_extract[:5]"
   ]
  },
  {
   "cell_type": "markdown",
   "metadata": {
    "id": "N1nSc_FfSqqu"
   },
   "source": [
    "> In some examples, Qwen14B Regurgidated the System prompt. There should be a a single `<operation>(\\.+)</operation>` after the System Prompt that was written to file. The last operation would be selected for these cases\n",
    "\n"
   ]
  },
  {
   "cell_type": "code",
   "execution_count": null,
   "metadata": {
    "colab": {
     "base_uri": "https://localhost:8080/"
    },
    "id": "IZVfd57-IXYV",
    "outputId": "30b3134b-a835-4985-cddb-e09eb6a33472"
   },
   "outputs": [
    {
     "data": {
      "text/plain": [
       "['/content/drive/MyDrive/tomoro_ai/train_json/qwen-14B/21.txt',\n",
       " '/content/drive/MyDrive/tomoro_ai/train_json/qwen-14B/23.txt',\n",
       " '/content/drive/MyDrive/tomoro_ai/train_json/qwen-14B/49.txt',\n",
       " '/content/drive/MyDrive/tomoro_ai/train_json/qwen-14B/77.txt',\n",
       " '/content/drive/MyDrive/tomoro_ai/train_json/qwen-14B/101.txt']"
      ]
     },
     "execution_count": 65,
     "metadata": {},
     "output_type": "execute_result"
    }
   ],
   "source": [
    "empty_extract[:]"
   ]
  },
  {
   "cell_type": "code",
   "execution_count": null,
   "metadata": {
    "id": "nr7PEQxSGyDr"
   },
   "outputs": [],
   "source": [
    "txt = read_file(os.path.join(qwen_results, \"49.txt\"))"
   ]
  },
  {
   "cell_type": "code",
   "execution_count": null,
   "metadata": {
    "colab": {
     "base_uri": "https://localhost:8080/"
    },
    "collapsed": true,
    "id": "0VERTxuvHN8f",
    "jupyter": {
     "outputs_hidden": true
    },
    "outputId": "8cf9855d-09eb-4c68-bfe4-d2440a0aad34"
   },
   "outputs": [
    {
     "name": "stdout",
     "output_type": "stream",
     "text": [
      "<prompt>\n",
      "\n",
      "\n",
      "<|begin_of_text|><|start_header_id|>system<|end_header_id|>\n",
      "\n",
      "You are a helpful Financial Analyst with strong quantitative analysis skill and keen eyes for details.\n",
      "You provide accurate answers to users questions based on a financial report.\n",
      "\n",
      "You would be provided with a financial report containing tables and textual information.\n",
      "The report would serve as the context required to give accurate answers to users' queries.\n",
      "\n",
      "The user would ask you a question based on the report.\n",
      "Your ultimate goal is to breakdown complex numerical reasoning into simple programmatic steps.\n",
      "You are to generate a list of action steps\n",
      "Your response could be a single value from the report i.e `482` or muliple sequential and dependent steps `subtract(400, 210), divide(#0, const_100)`\n",
      "\n",
      "An operation takes two values as arguments. These arguments are retrieved from the provided context (Financial Report Text and Table).\n",
      "\n",
      "\n",
      "Reference Operations\n",
      "- add: addition\n",
      "- subtract: subtraction\n",
      "- multiply: multiplication\n",
      "- divide: division\n",
      "- exp: power\n",
      "- greater: maximum\n",
      "\n",
      "You are Limited to these operations.\n",
      "\n",
      "Reference Tags\n",
      "#0 references the first operation\n",
      "#1 references the second operation\n",
      "#2 references the third operation\n",
      "...\n",
      "\n",
      "#n references the nth operation\n",
      "\n",
      "Constants\n",
      "- const_1,\n",
      "- const_2,\n",
      "- const_3,\n",
      "- const_4,\n",
      "- const_5,\n",
      "- const_6,\n",
      "- const_7,\n",
      "- const_8,\n",
      "- const_9,\n",
      "- const_10,\n",
      "- const_100,\n",
      "- const_1000,\n",
      "- const_10000,\n",
      "- const_100000,\n",
      "- const_1000000,\n",
      "...\n",
      "\n",
      "- const_1000000000\n",
      "- const_m1\n",
      "\n",
      "Constants are important when an operation needs to be formatted eg currency conversion, percentage, ratio, proportion etc.\n",
      "The choice of constant is decided by the user query. Constants are always between 1 - 10 or multiple of 10 except constant_m1.\n",
      "Note: const_m1 (-1) is for negative\n",
      "\n",
      "Enclose information relevant to the user's question from the context using this tag\n",
      "<relevant_context>\n",
      "....\n",
      "</relevant_context>\n",
      "\n",
      "Enclose the list of operations to calculate the answer using this tag\n",
      "<operation>\n",
      "subtract(200, 100), divide(#0, const_100), subtract(1250, const_10)\n",
      "</operation>\n",
      "\n",
      "An operation could also be a single value.\n",
      "\n",
      "<operation> 10 </operation>\n",
      "\n",
      "Specify the format of the final answer using e.g (%) <format>%</format>\n",
      "\n",
      "\n",
      "<|eot_id|>\n",
      "\n",
      "\n",
      "</prompt>\n",
      "<relevant_context>\n",
      "2009 2008 2007 .</p>\n",
      "              </div>\n",
      "              <div>\n",
      "                <table class='wikitable'><tr><td>1</td><td>in millions</td><td>2009</td><td>2008</td><td>2007</td></tr><tr><td>2</td><td>sales</td><td>$ 5680</td><td>$ 6810</td><td>$ 6530</td></tr><tr><td>3</td><td>operating profit</td><td>1091</td><td>474</td><td>839</td></tr></table>\n",
      "              </div>\n",
      "              <div>\n",
      "                <p>north american printing papers net sales in 2009 were $ 2.8 billion compared with $ 3.4 billion in 2008 and $ 3.5 billion in 2007 . operating earnings in 2009 were $ 746 million ( $ 307 million excluding alter- native fuel mixture credits and plant closure costs ) compared with $ 405 million ( $ 435 million excluding shutdown costs for a paper machine ) in 2008 and $ 415 million in 2007 . sales volumes decreased sig- nificantly in 2009 compared with 2008 reflecting weak customer demand and reduced production capacity resulting from the shutdown of a paper machine at the franklin mill in december 2008 and the conversion of the bastrop mill to pulp production in june 2008 . average sales price realizations were lower reflecting slight declines for uncoated freesheet paper in domestic markets and significant declines in export markets . margins were also unfavorably affected by a higher proportion of shipments to lower-margin export markets . input costs , however , were favorable due to lower wood and chemical costs and sig- nificantly lower energy costs . freight costs were also lower . planned maintenance downtime costs in 2009 were comparable with 2008 . operating costs were favorable , reflecting cost control efforts and strong machine performance . lack-of-order downtime increased to 525000 tons in 2009 , including 120000 tons related to the shutdown of a paper machine at our franklin mill in the 2008 fourth quarter , from 135000 tons in 2008 . operating earnings in 2009 included $ 671 million of alternative fuel mixture cred- its , $ 223 million of costs associated with the shutdown of our franklin mill and $ 9 million of other shutdown costs , while operating earnings in 2008 included $ 30 million of costs for the shutdown of a paper machine at our franklin mill . looking ahead to 2010 , first-quarter sales volumes are expected to increase slightly from fourth-quarter 2009 levels . average sales price realizations should be higher , reflecting the full-quarter impact of sales price increases announced in the fourth quarter for converting and envelope grades of uncoated free- sheet paper and an increase in prices to export markets . however , input costs for wood , energy and chemicals are expected to continue to increase . planned maintenance downtime costs should be lower and operating costs should be favorable . brazil ian papers net sales for 2009 of $ 960 mil- lion increased from $ 950 million in 2008 and $ 850 million in 2007 . operating profits for 2009 were $ 112 million compared with $ 186 million in 2008 and $ 174 million in 2007 . sales volumes increased in 2009 compared with 2008 for both paper and pulp reflect- ing higher export shipments . average sales price realizations were lower due to strong competitive pressures in the brazilian domestic market in the second half of the year , lower export prices and unfavorable foreign exchange rates . margins were unfavorably affected by a higher proportion of lower margin export sales . input costs for wood and chem- icals were favorable , but these benefits were partially offset by higher energy costs . planned maintenance downtime costs were lower , and operating costs were also favorable . earnings in 2009 were adversely impacted by unfavorable foreign exchange effects . entering 2010 , sales volumes are expected to be seasonally lower compared with the fourth quarter of 2009 . profit margins are expected to be slightly higher reflecting a more favorable geographic sales mix and improving sales price realizations in export markets , partially offset by higher planned main- tenance outage costs\n",
      "<time>64.06568503379822</time>\n",
      "\n"
     ]
    }
   ],
   "source": [
    "print(txt)"
   ]
  },
  {
   "cell_type": "markdown",
   "metadata": {
    "id": "wrRJJG84Ucn4"
   },
   "source": [
    "> In some examples, Qwen14B failed to produce a useful response.\n",
    "\n"
   ]
  },
  {
   "cell_type": "code",
   "execution_count": null,
   "metadata": {
    "collapsed": true,
    "id": "QTT-A8lcW0e3",
    "jupyter": {
     "outputs_hidden": true
    }
   },
   "outputs": [],
   "source": [
    "qwen_progs = {}\n",
    "for file in single_extract:\n",
    "  name = os.path.basename(file)\n",
    "  id = name[:-4]\n",
    "  txt = read_file(file)\n",
    "  txt = txt.split(\"<prompt>\")[-1].split(\"</prompt>\")[-1]\n",
    "  matches = extract_operations(txt)\n",
    "  qwen_progs[id] = matches[0].strip()"
   ]
  },
  {
   "cell_type": "code",
   "execution_count": null,
   "metadata": {
    "colab": {
     "base_uri": "https://localhost:8080/"
    },
    "id": "x-6vfYizY8Wo",
    "outputId": "4d874914-6d5c-4e32-9323-2a1a19ea85c7"
   },
   "outputs": [
    {
     "data": {
      "text/plain": [
       "71"
      ]
     },
     "execution_count": 69,
     "metadata": {},
     "output_type": "execute_result"
    }
   ],
   "source": [
    "len(qwen_progs)"
   ]
  },
  {
   "cell_type": "markdown",
   "metadata": {
    "id": "wabdmBpJkIwF"
   },
   "source": [
    "> Extract the last operation for completions with multiple operation tags"
   ]
  },
  {
   "cell_type": "code",
   "execution_count": null,
   "metadata": {
    "colab": {
     "base_uri": "https://localhost:8080/"
    },
    "id": "A-yD0RzLrTGl",
    "outputId": "5575bc00-3ea5-4229-a6cd-f91de50e3755"
   },
   "outputs": [
    {
     "data": {
      "text/plain": [
       "26"
      ]
     },
     "execution_count": 70,
     "metadata": {},
     "output_type": "execute_result"
    }
   ],
   "source": [
    "len(multiple_extract)"
   ]
  },
  {
   "cell_type": "code",
   "execution_count": null,
   "metadata": {
    "id": "YLxtGk81nhLn"
   },
   "outputs": [],
   "source": [
    "pattern = r\"^(?:\\s*\\w+\\(\\s*(-?\\d*(\\.\\d+)?|const_\\d+|#\\d+)\\s*,\\s*(-?\\d*(\\.\\d+)?|const_\\d+|#\\d+)\\s*\\)\\s*,?)+$\""
   ]
  },
  {
   "cell_type": "code",
   "execution_count": null,
   "metadata": {
    "colab": {
     "base_uri": "https://localhost:8080/"
    },
    "collapsed": true,
    "id": "QFo4EVjLkEd9",
    "jupyter": {
     "outputs_hidden": true
    },
    "outputId": "fcb00936-f5fe-4f0f-806e-d8ca9db335ca"
   },
   "outputs": [
    {
     "name": "stdout",
     "output_type": "stream",
     "text": [
      "failed to extract: 5.txt\n",
      "\n",
      "\n",
      "5.txt: \n",
      "subtract(200, 100), divide(#0, const_100), subtract(1250, const_10)\n",
      "\n",
      "\n",
      "\n",
      "failed to extract: 9.txt\n",
      "\n",
      "\n",
      "9.txt: \n",
      "subtract(200, 100), divide(#0, const_100), subtract(1250, const_10)\n",
      "\n",
      "\n",
      "\n",
      "failed to extract: 11.txt\n",
      "\n",
      "\n",
      "11.txt: \n",
      "subtract(200, 100), divide(#0, const_100), subtract(1250, const_10)\n",
      "\n",
      "\n",
      "\n",
      "failed to extract: 12.txt\n",
      "\n",
      "\n",
      "12.txt: \n",
      "subtract(200, 100), divide(#0, const_100), subtract(1250, const_10)\n",
      "\n",
      "\n",
      "\n",
      "19.txt: \n",
      "add(268496, 131262), add(#0, 195082)\n",
      "\n",
      "\n",
      "\n",
      "25.txt: \n",
      "subtract(18161, 9889), divide(#0, 9889), multiply(#0, const_100)\n",
      "\n",
      "\n",
      "\n",
      "failed to extract: 35.txt\n",
      "\n",
      "\n",
      "35.txt: \n",
      "subtract(200, 100), divide(#0, const_100), subtract(1250, const_10)\n",
      "\n",
      "\n",
      "\n",
      "failed to extract: 39.txt\n",
      "\n",
      "\n",
      "39.txt: \n",
      "subtract(200, 100), divide(#0, const_100), subtract(1250, const_10)\n",
      "\n",
      "\n",
      "\n",
      "failed to extract: 42.txt\n",
      "\n",
      "\n",
      "42.txt: \n",
      "subtract(200, 100), divide(#0, const_100), subtract(1250, const_10)\n",
      "\n",
      "\n",
      "\n",
      "failed to extract: 45.txt\n",
      "\n",
      "\n",
      "45.txt: \n",
      "subtract(200, 100), divide(#0, const_100), subtract(1250, const_10)\n",
      "\n",
      "\n",
      "\n",
      "50.txt: \n",
      "divide(98750, 432000), multiply(#0, const_100)\n",
      "\n",
      "\n",
      "\n",
      "failed to extract: 60.txt\n",
      "\n",
      "\n",
      "60.txt: \n",
      "subtract(200, 100), divide(#0, const_100), subtract(1250, const_10)\n",
      "\n",
      "\n",
      "\n",
      "63.txt: \n",
      "subtract(94417, 93192), divide(#0, 94417), multiply(#0, const_100)\n",
      "\n",
      "\n",
      "\n",
      "failed to extract: 68.txt\n",
      "\n",
      "\n",
      "68.txt: \n",
      "subtract(200, 100), divide(#0, const_100), subtract(1250, const_10)\n",
      "\n",
      "\n",
      "\n",
      "74.txt: \n",
      "subtract(1102, 965), divide(#0, 965), multiply(#0, const_100)\n",
      "\n",
      "\n",
      "\n",
      "failed to extract: 75.txt\n",
      "\n",
      "\n",
      "failed to extract: 75.txt\n",
      "\n",
      "\n",
      "75.txt: \n",
      "subtract(200, 100), divide(#0, const_100), subtract(1250, const_10)\n",
      "\n",
      "\n",
      "\n",
      "failed to extract: 76.txt\n",
      "\n",
      "\n",
      "76.txt: \n",
      "subtract(200, 100), divide(#0, const_100), subtract(1250, const_10)\n",
      "\n",
      "\n",
      "\n",
      "failed to extract: 82.txt\n",
      "\n",
      "\n",
      "82.txt: \n",
      "subtract(200, 100), divide(#0, const_100), subtract(1250, const_10)\n",
      "\n",
      "\n",
      "\n",
      "failed to extract: 91.txt\n",
      "\n",
      "\n",
      "91.txt: \n",
      "subtract(200, 100), divide(#0, const_100), subtract(1250, const_10)\n",
      "\n",
      "\n",
      "\n",
      "failed to extract: 92.txt\n",
      "\n",
      "\n",
      "92.txt: \n",
      "subtract(200, 100), divide(#0, const_100), subtract(1250, const_10)\n",
      "\n",
      "\n",
      "\n",
      "failed to extract: 93.txt\n",
      "\n",
      "\n",
      "93.txt: \n",
      "subtract(200, 100), divide(#0, const_100), subtract(1250, const_10)\n",
      "\n",
      "\n",
      "\n",
      "failed to extract: 95.txt\n",
      "\n",
      "\n",
      "95.txt: \n",
      "subtract(200, 100), divide(#0, const_100), subtract(1250, const_10)\n",
      "\n",
      "\n",
      "\n",
      "failed to extract: 96.txt\n",
      "\n",
      "\n",
      "96.txt: \n",
      "subtract(200, 100), divide(#0, const_100), subtract(1250, const_10)\n",
      "\n",
      "\n",
      "\n",
      "failed to extract: 98.txt\n",
      "\n",
      "\n",
      "98.txt: \n",
      "subtract(200, 100), divide(#0, const_100), subtract(1250, const_10)\n",
      "\n",
      "\n",
      "\n",
      "failed to extract: 99.txt\n",
      "\n",
      "\n",
      "99.txt: \n",
      "subtract(200, 100), divide(#0, const_100), subtract(1250, const_10)\n",
      "\n",
      "\n",
      "\n",
      "100.txt: \n",
      "subtract(638.56, 100.00), divide(#0, const_100), subtract(1250, const_10)\n",
      "\n",
      "\n",
      "\n"
     ]
    }
   ],
   "source": [
    "for file in multiple_extract:\n",
    "  name = os.path.basename(file)\n",
    "  id = name[:-4]\n",
    "  txt = read_file(file)\n",
    "  txt = txt.split(\"<prompt>\")[-1].split(\"</prompt>\")[-1]\n",
    "  matches = extract_operations(txt)\n",
    "  matches.reverse()\n",
    "  for match in matches:\n",
    "    if bool(re.match(pattern, match.strip())):\n",
    "      print(f\"{name}: {match}\\n\\n\")\n",
    "      qwen_progs[id] = match.strip()\n",
    "      break\n",
    "    else:\n",
    "      print(f\"failed to extract: {name}\\n\\n\")"
   ]
  },
  {
   "cell_type": "code",
   "execution_count": null,
   "metadata": {
    "colab": {
     "base_uri": "https://localhost:8080/"
    },
    "id": "_paNUWKuVD-I",
    "outputId": "10fb6abb-9af1-4668-c1b8-c5953026a8c5"
   },
   "outputs": [
    {
     "data": {
      "text/plain": [
       "97"
      ]
     },
     "execution_count": 73,
     "metadata": {},
     "output_type": "execute_result"
    }
   ],
   "source": [
    "len(qwen_progs)"
   ]
  },
  {
   "cell_type": "code",
   "execution_count": null,
   "metadata": {
    "colab": {
     "base_uri": "https://localhost:8080/"
    },
    "id": "-cYsYXXOOdBn",
    "outputId": "da5155e7-4a73-40b6-df0b-7993e97b0a0b"
   },
   "outputs": [
    {
     "data": {
      "text/plain": [
       "['/content/drive/MyDrive/tomoro_ai/train_json/qwen-14B/21.txt',\n",
       " '/content/drive/MyDrive/tomoro_ai/train_json/qwen-14B/23.txt',\n",
       " '/content/drive/MyDrive/tomoro_ai/train_json/qwen-14B/49.txt',\n",
       " '/content/drive/MyDrive/tomoro_ai/train_json/qwen-14B/77.txt',\n",
       " '/content/drive/MyDrive/tomoro_ai/train_json/qwen-14B/101.txt']"
      ]
     },
     "execution_count": 74,
     "metadata": {},
     "output_type": "execute_result"
    }
   ],
   "source": [
    "empty_extract"
   ]
  },
  {
   "cell_type": "code",
   "execution_count": null,
   "metadata": {
    "id": "WdnSvxGerhi9"
   },
   "outputs": [],
   "source": [
    "for file in empty_extract:\n",
    "  name = os.path.basename(file)\n",
    "  id = name[:-4]\n",
    "  qwen_progs[id] = \"\""
   ]
  },
  {
   "cell_type": "code",
   "execution_count": null,
   "metadata": {
    "id": "B87jC3eBsjRi"
   },
   "outputs": [],
   "source": [
    "formatted_response_count = 0\n",
    "qwen_formats = {}\n",
    "for file in single_extract + multiple_extract + empty_extract:\n",
    "  name = os.path.basename(file)\n",
    "  id = name[:-4]\n",
    "  txt = read_file(file)\n",
    "  txt = txt.split(\"<prompt>\")[-1].split(\"</prompt>\")[-1]\n",
    "  matches = extract_format(txt)\n",
    "  if matches and len(matches) == 1:\n",
    "    qwen_formats[id] = matches[0].strip()\n",
    "    formatted_response_count += 1\n",
    "  elif matches and len(matches) > 1:\n",
    "    for match in matches:\n",
    "      qwen_formats[id] = match.strip()\n",
    "    formatted_response_count += 1\n",
    "  else:\n",
    "    qwen_formats[id] = \"\""
   ]
  },
  {
   "cell_type": "code",
   "execution_count": null,
   "metadata": {
    "colab": {
     "base_uri": "https://localhost:8080/"
    },
    "id": "g8K6drfTs6yI",
    "outputId": "8b28e872-b5c9-4fef-f6c8-149cc5301043"
   },
   "outputs": [
    {
     "data": {
      "text/plain": [
       "94"
      ]
     },
     "execution_count": 77,
     "metadata": {},
     "output_type": "execute_result"
    }
   ],
   "source": [
    "formatted_response_count"
   ]
  },
  {
   "cell_type": "code",
   "execution_count": null,
   "metadata": {
    "colab": {
     "base_uri": "https://localhost:8080/"
    },
    "id": "lIo31fsPP-Dz",
    "outputId": "ccca84e1-0820-4f55-9d00-8eae07f46ad2"
   },
   "outputs": [
    {
     "data": {
      "text/plain": [
       "(102, 102)"
      ]
     },
     "execution_count": 78,
     "metadata": {},
     "output_type": "execute_result"
    }
   ],
   "source": [
    "len(qwen_formats), len(qwen_progs)"
   ]
  },
  {
   "cell_type": "markdown",
   "metadata": {
    "id": "E8tLAf60ZWK9"
   },
   "source": [
    "### GPT-4o"
   ]
  },
  {
   "cell_type": "code",
   "execution_count": null,
   "metadata": {
    "collapsed": true,
    "id": "1AnWOGt1ZZpH",
    "jupyter": {
     "outputs_hidden": true
    }
   },
   "outputs": [],
   "source": [
    "multiple_extract = []\n",
    "zero_extract = []\n",
    "single_extract = []\n",
    "for file in glob.glob(os.path.join(gpt4_results, \"*.txt\")):\n",
    "  txt = read_file(file)\n",
    "  txt = txt.split(\"<prompt>\")[-1].split(\"</prompt>\")[-1]\n",
    "  matches = extract_operations(txt)\n",
    "  if matches and len(matches) > 1:\n",
    "    multiple_extract.append(file)\n",
    "  elif not matches:\n",
    "    zero_extract.append(file)\n",
    "  elif len(matches) == 1:\n",
    "    single_extract.append(file)\n",
    "  else:\n",
    "    print(file)"
   ]
  },
  {
   "cell_type": "code",
   "execution_count": null,
   "metadata": {
    "colab": {
     "base_uri": "https://localhost:8080/"
    },
    "id": "q2hp5_LjZZwx",
    "outputId": "4a38e4e2-30e9-4a69-8d8a-484f169892b2"
   },
   "outputs": [
    {
     "data": {
      "text/plain": [
       "(2, 0, 100)"
      ]
     },
     "execution_count": 80,
     "metadata": {},
     "output_type": "execute_result"
    }
   ],
   "source": [
    "len(multiple_extract), len(zero_extract), len(single_extract)"
   ]
  },
  {
   "cell_type": "code",
   "execution_count": null,
   "metadata": {
    "colab": {
     "base_uri": "https://localhost:8080/"
    },
    "id": "n4-XCy1aZ8wx",
    "outputId": "d15f4f8a-a90d-4332-c465-578132578762"
   },
   "outputs": [
    {
     "data": {
      "text/plain": [
       "['/content/drive/MyDrive/tomoro_ai/train_json/gpt-4o/95.txt',\n",
       " '/content/drive/MyDrive/tomoro_ai/train_json/gpt-4o/96.txt']"
      ]
     },
     "execution_count": 81,
     "metadata": {},
     "output_type": "execute_result"
    }
   ],
   "source": [
    "multiple_extract"
   ]
  },
  {
   "cell_type": "code",
   "execution_count": null,
   "metadata": {
    "colab": {
     "base_uri": "https://localhost:8080/"
    },
    "collapsed": true,
    "id": "K3RqfBKuaBWb",
    "jupyter": {
     "outputs_hidden": true
    },
    "outputId": "b3fe129e-363c-4f58-da58-c92b507df6fc"
   },
   "outputs": [
    {
     "name": "stdout",
     "output_type": "stream",
     "text": [
      "<prompt>\n",
      "\n",
      "\n",
      "<|begin_of_text|><|start_header_id|>system<|end_header_id|>\n",
      "\n",
      "You are a helpful Financial Analyst with strong quantitative analysis skill and keen eyes for details.\n",
      "You provide accurate answers to users questions based on a financial report.\n",
      "\n",
      "You would be provided with a financial report containing tables and textual information.\n",
      "The report would serve as the context required to give accurate answers to users' queries.\n",
      "\n",
      "The user would ask you a question based on the report.\n",
      "Your ultimate goal is to breakdown complex numerical reasoning into simple programmatic steps.\n",
      "You are to generate a list of action steps\n",
      "Your response could be a single value from the report i.e `482` or muliple sequential and dependent steps `subtract(400, 210), divide(#0, const_100)`\n",
      "\n",
      "An operation takes two values as arguments. These arguments are retrieved from the provided context (Financial Report Text and Table).\n",
      "\n",
      "\n",
      "Reference Operations\n",
      "- add: addition\n",
      "- subtract: subtraction\n",
      "- multiply: multiplication\n",
      "- divide: division\n",
      "- exp: power\n",
      "- greater: maximum\n",
      "\n",
      "You are Limited to these operations.\n",
      "\n",
      "Reference Tags\n",
      "#0 references the first operation\n",
      "#1 references the second operation\n",
      "#2 references the third operation\n",
      "...\n",
      "\n",
      "#n references the nth operation\n",
      "\n",
      "Constants\n",
      "- const_1,\n",
      "- const_2,\n",
      "- const_3,\n",
      "- const_4,\n",
      "- const_5,\n",
      "- const_6,\n",
      "- const_7,\n",
      "- const_8,\n",
      "- const_9,\n",
      "- const_10,\n",
      "- const_100,\n",
      "- const_1000,\n",
      "- const_10000,\n",
      "- const_100000,\n",
      "- const_1000000,\n",
      "...\n",
      "\n",
      "- const_1000000000\n",
      "- const_m1\n",
      "\n",
      "Constants are important when an operation needs to be formatted eg currency conversion, percentage, ratio, proportion etc.\n",
      "The choice of constant is decided by the user query. Constants are always between 1 - 10 or multiple of 10 except constant_m1.\n",
      "Note: const_m1 (-1) is for negative\n",
      "\n",
      "Enclose information relevant to the user's question from the context using this tag\n",
      "<relevant_context>\n",
      "....\n",
      "</relevant_context>\n",
      "\n",
      "Enclose the list of operations to calculate the answer using this tag\n",
      "<operation>\n",
      "subtract(200, 100), divide(#0, const_100), subtract(1250, const_10)\n",
      "</operation>\n",
      "\n",
      "An operation could also be a single value.\n",
      "\n",
      "<operation> 10 </operation>\n",
      "\n",
      "Specify the format of the final answer using e.g (%) <format>%</format>\n",
      "\n",
      "\n",
      "<|eot_id|>\n",
      "\n",
      "\n",
      "</prompt>\n",
      "<relevant_context>\n",
      "2003 net revenue: $208.3 million  \n",
      "2004 net revenue: $239.0 million\n",
      "</relevant_context>\n",
      "\n",
      "First, calculate the change in net revenue by subtracting the net revenue for 2003 from the net revenue for 2004.\n",
      "\n",
      "<operation>\n",
      "subtract(239.0, 208.3)\n",
      "</operation>\n",
      "\n",
      "Second, divide the change in net revenue by the 2003 net revenue to find the proportional increase. Then, multiply by 100 to express this as a percentage.\n",
      "\n",
      "<operation>\n",
      "divide(#0, 208.3), multiply(#1, const_100)\n",
      "</operation>\n",
      "\n",
      "<format>%</format>\n",
      "<time>2.1177144050598145</time>\n",
      "\n"
     ]
    }
   ],
   "source": [
    "print(read_file(multiple_extract[1]))"
   ]
  },
  {
   "cell_type": "code",
   "execution_count": null,
   "metadata": {
    "id": "QSoCkteuaBbW"
   },
   "outputs": [],
   "source": [
    "gpt4_progs = {}\n",
    "for file in single_extract:\n",
    "  name = os.path.basename(file)\n",
    "  id = name[:-4]\n",
    "  txt = read_file(file)\n",
    "  txt = txt.split(\"<prompt>\")[-1].split(\"</prompt>\")[-1]\n",
    "  matches = extract_operations(txt)\n",
    "  gpt4_progs[id] = matches[0].strip()"
   ]
  },
  {
   "cell_type": "code",
   "execution_count": null,
   "metadata": {
    "colab": {
     "base_uri": "https://localhost:8080/",
     "height": 35
    },
    "id": "ojG-CJaDbYDt",
    "outputId": "16919bb6-b2dd-40aa-ac2d-b220267aecdb"
   },
   "outputs": [
    {
     "data": {
      "application/vnd.google.colaboratory.intrinsic+json": {
       "type": "string"
      },
      "text/plain": [
       "'subtract(498.8, 486.9), divide(#0, 486.9), multiply(#1, const_100)'"
      ]
     },
     "execution_count": 83,
     "metadata": {},
     "output_type": "execute_result"
    }
   ],
   "source": [
    "gpt4_progs[\"11\"]"
   ]
  },
  {
   "cell_type": "markdown",
   "metadata": {
    "id": "wfhoVhdWbmWI"
   },
   "source": [
    "> Patch Response 95 and 96"
   ]
  },
  {
   "cell_type": "code",
   "execution_count": null,
   "metadata": {
    "id": "Lzk8eTuGbeBF"
   },
   "outputs": [],
   "source": [
    "gpt4_progs[\"95\"] = \"subtract(11.3, 6.5)\"\n",
    "gpt4_progs[\"96\"] = \"subtract(239.0, 208.3), divide(#0, 208.3), multiply(#1, const_100)\""
   ]
  },
  {
   "cell_type": "code",
   "execution_count": null,
   "metadata": {
    "colab": {
     "base_uri": "https://localhost:8080/"
    },
    "id": "30LQCU6ibeFZ",
    "outputId": "419a0d5c-4703-43ab-b8e3-2e3551d11daa"
   },
   "outputs": [
    {
     "data": {
      "text/plain": [
       "102"
      ]
     },
     "execution_count": 85,
     "metadata": {},
     "output_type": "execute_result"
    }
   ],
   "source": [
    "len(gpt4_progs)"
   ]
  },
  {
   "cell_type": "code",
   "execution_count": null,
   "metadata": {
    "id": "-f2KrDAybeIo"
   },
   "outputs": [],
   "source": [
    "formatted_response_count = 0\n",
    "gpt4_formats = {}\n",
    "for file in single_extract + multiple_extract:\n",
    "  name = os.path.basename(file)\n",
    "  id = name[:-4]\n",
    "  txt = read_file(file)\n",
    "  txt = txt.split(\"<prompt>\")[-1].split(\"</prompt>\")[-1]\n",
    "  matches = extract_format(txt)\n",
    "  if matches and len(matches) == 1:\n",
    "    gpt4_formats[id] = matches[0].strip()\n",
    "    formatted_response_count += 1\n",
    "  elif matches and len(matches) > 1:\n",
    "    for match in matches:\n",
    "      gpt4_formats[id] = match.strip()\n",
    "    formatted_response_count += 1\n",
    "  else:\n",
    "    gpt4_formats[id] = \"\""
   ]
  },
  {
   "cell_type": "code",
   "execution_count": null,
   "metadata": {
    "colab": {
     "base_uri": "https://localhost:8080/"
    },
    "id": "8M1lE5B3beMl",
    "outputId": "d0c358c9-6a1c-40b1-d0b8-2d00493c6278"
   },
   "outputs": [
    {
     "data": {
      "text/plain": [
       "80"
      ]
     },
     "execution_count": 87,
     "metadata": {},
     "output_type": "execute_result"
    }
   ],
   "source": [
    "formatted_response_count"
   ]
  },
  {
   "cell_type": "code",
   "execution_count": null,
   "metadata": {
    "colab": {
     "base_uri": "https://localhost:8080/",
     "height": 35
    },
    "id": "M9nhsVQEipwC",
    "outputId": "e3272727-24ee-4028-9b79-d0faacb44cbf"
   },
   "outputs": [
    {
     "data": {
      "application/vnd.google.colaboratory.intrinsic+json": {
       "type": "string"
      },
      "text/plain": [
       "'%'"
      ]
     },
     "execution_count": 88,
     "metadata": {},
     "output_type": "execute_result"
    }
   ],
   "source": [
    "gpt4_formats[\"0\"]"
   ]
  },
  {
   "cell_type": "markdown",
   "metadata": {
    "id": "ximQssWTtV1q"
   },
   "source": [
    "### O3-Mini"
   ]
  },
  {
   "cell_type": "code",
   "execution_count": null,
   "metadata": {
    "id": "xoMMXk6BtaW8"
   },
   "outputs": [],
   "source": [
    "multiple_extract = []\n",
    "zero_extract = []\n",
    "single_extract = []\n",
    "for file in glob.glob(os.path.join(o3_mini_results, \"*.txt\")):\n",
    "  txt = read_file(file)\n",
    "  txt = txt.split(\"<prompt>\")[-1].split(\"</prompt>\")[-1]\n",
    "  matches = extract_operations(txt)\n",
    "  if matches and len(matches) > 1:\n",
    "    multiple_extract.append(file)\n",
    "  elif not matches:\n",
    "    zero_extract.append(file)\n",
    "  elif len(matches) == 1:\n",
    "    single_extract.append(file)\n",
    "  else:\n",
    "    print(file)"
   ]
  },
  {
   "cell_type": "code",
   "execution_count": null,
   "metadata": {
    "colab": {
     "base_uri": "https://localhost:8080/"
    },
    "id": "490_hOXdtaba",
    "outputId": "83e21937-a5eb-40ca-88a2-a8a095f0eebd"
   },
   "outputs": [
    {
     "data": {
      "text/plain": [
       "(0, 2, 100)"
      ]
     },
     "execution_count": 90,
     "metadata": {},
     "output_type": "execute_result"
    }
   ],
   "source": [
    "len(multiple_extract), len(zero_extract), len(single_extract)"
   ]
  },
  {
   "cell_type": "code",
   "execution_count": null,
   "metadata": {
    "colab": {
     "base_uri": "https://localhost:8080/"
    },
    "id": "ZyBwWtpGvBMy",
    "outputId": "9f59e185-3abf-4f92-90ba-e13a9af301bc"
   },
   "outputs": [
    {
     "data": {
      "text/plain": [
       "['/content/drive/MyDrive/tomoro_ai/train_json/o3-mini/0.txt',\n",
       " '/content/drive/MyDrive/tomoro_ai/train_json/o3-mini/2.txt',\n",
       " '/content/drive/MyDrive/tomoro_ai/train_json/o3-mini/3.txt',\n",
       " '/content/drive/MyDrive/tomoro_ai/train_json/o3-mini/5.txt']"
      ]
     },
     "execution_count": 91,
     "metadata": {},
     "output_type": "execute_result"
    }
   ],
   "source": [
    "single_extract[:4]"
   ]
  },
  {
   "cell_type": "code",
   "execution_count": null,
   "metadata": {
    "colab": {
     "base_uri": "https://localhost:8080/"
    },
    "id": "FPPByuNyuGqA",
    "outputId": "eddc9c3e-8857-4dfe-9f3f-cd5628843860"
   },
   "outputs": [
    {
     "data": {
      "text/plain": [
       "['/content/drive/MyDrive/tomoro_ai/train_json/o3-mini/1.txt',\n",
       " '/content/drive/MyDrive/tomoro_ai/train_json/o3-mini/59.txt']"
      ]
     },
     "execution_count": 92,
     "metadata": {},
     "output_type": "execute_result"
    }
   ],
   "source": [
    "zero_extract"
   ]
  },
  {
   "cell_type": "code",
   "execution_count": null,
   "metadata": {
    "id": "0_wTSbeBuklx"
   },
   "outputs": [],
   "source": [
    "o3_progs = {}\n",
    "for file in single_extract:\n",
    "  name = os.path.basename(file)\n",
    "  id = name[:-4]\n",
    "  txt = read_file(file)\n",
    "  txt = txt.split(\"<prompt>\")[-1].split(\"</prompt>\")[-1]\n",
    "  matches = extract_operations(txt)\n",
    "  o3_progs[id] = matches[0].strip()"
   ]
  },
  {
   "cell_type": "code",
   "execution_count": null,
   "metadata": {
    "id": "8oBAXpgBvIkM"
   },
   "outputs": [],
   "source": [
    "o3_progs[\"1\"] = None\n",
    "o3_progs[\"59\"] = None"
   ]
  },
  {
   "cell_type": "code",
   "execution_count": null,
   "metadata": {
    "colab": {
     "base_uri": "https://localhost:8080/"
    },
    "id": "xClX3Uz9vQ9G",
    "outputId": "228fcb7f-eca0-4b39-e769-51a3a665cbda"
   },
   "outputs": [
    {
     "data": {
      "text/plain": [
       "102"
      ]
     },
     "execution_count": 100,
     "metadata": {},
     "output_type": "execute_result"
    }
   ],
   "source": [
    "len(o3_progs)"
   ]
  },
  {
   "cell_type": "code",
   "execution_count": null,
   "metadata": {
    "colab": {
     "base_uri": "https://localhost:8080/"
    },
    "id": "w8FkoFmXUVlH",
    "outputId": "cd1c73c6-9d95-4c7c-e275-f7ec9e17e631"
   },
   "outputs": [
    {
     "data": {
      "text/plain": [
       "['/content/drive/MyDrive/tomoro_ai/train_json/o3-mini/1.txt',\n",
       " '/content/drive/MyDrive/tomoro_ai/train_json/o3-mini/59.txt']"
      ]
     },
     "execution_count": 101,
     "metadata": {},
     "output_type": "execute_result"
    }
   ],
   "source": [
    "zero_extract[:4]"
   ]
  },
  {
   "cell_type": "code",
   "execution_count": null,
   "metadata": {
    "collapsed": true,
    "id": "sTwBzUi1uI8p",
    "jupyter": {
     "outputs_hidden": true
    }
   },
   "outputs": [],
   "source": [
    "formatted_response_count = 0\n",
    "o3_formats = {}\n",
    "for file in single_extract:\n",
    "  name = os.path.basename(file)\n",
    "  id = name[:-4]\n",
    "  txt = read_file(file)\n",
    "  txt = txt.split(\"<prompt>\")[-1].split(\"</prompt>\")[-1]\n",
    "  matches = extract_format(txt)\n",
    "  if matches and len(matches) == 1:\n",
    "    o3_formats[id] = matches[0].strip()\n",
    "    formatted_response_count += 1\n",
    "  elif matches and len(matches) > 1:\n",
    "    for match in matches:\n",
    "      o3_formats[id] = match.strip()\n",
    "    formatted_response_count += 1\n",
    "  else:\n",
    "    o3_formats[id] = \"\""
   ]
  },
  {
   "cell_type": "markdown",
   "metadata": {
    "id": "HFMmJfY7-dWr"
   },
   "source": [
    "## PROGRAM EXTRACTION"
   ]
  },
  {
   "cell_type": "code",
   "execution_count": null,
   "metadata": {
    "id": "WHZg14jUw0Xl"
   },
   "outputs": [],
   "source": [
    "qwen_response = {}\n",
    "for key, value in qwen_progs.items():\n",
    "  qwen_response[key] = {\n",
    "      \"program\": value,\n",
    "      \"format\": w if (w:=qwen_formats.get(key)) else None\n",
    "  }"
   ]
  },
  {
   "cell_type": "code",
   "execution_count": null,
   "metadata": {
    "colab": {
     "base_uri": "https://localhost:8080/"
    },
    "id": "f36hcJWxw0ig",
    "outputId": "4f23f714-3ea8-439c-ea5a-c23da5802f5a"
   },
   "outputs": [
    {
     "data": {
      "text/plain": [
       "{'program': 'subtract(75.95, 102.11), divide(#0, const_100)', 'format': '%'}"
      ]
     },
     "execution_count": 108,
     "metadata": {},
     "output_type": "execute_result"
    }
   ],
   "source": [
    "qwen_response[\"4\"]"
   ]
  },
  {
   "cell_type": "code",
   "execution_count": null,
   "metadata": {
    "id": "xvefIrm4w0ni"
   },
   "outputs": [],
   "source": [
    "gpt4_response = {}\n",
    "for key, value in gpt4_progs.items():\n",
    "  gpt4_response[key] = {\n",
    "      \"program\": value,\n",
    "      \"format\": w if (w:=gpt4_formats.get(key)) else None\n",
    "  }"
   ]
  },
  {
   "cell_type": "code",
   "execution_count": null,
   "metadata": {
    "colab": {
     "base_uri": "https://localhost:8080/"
    },
    "id": "cyvyG1EEw0si",
    "outputId": "7ed4ff60-10e8-4cb5-e9ff-bb73e3154a60"
   },
   "outputs": [
    {
     "data": {
      "text/plain": [
       "{'program': 'subtract(75.95, 102.11), divide(#0, 102.11), multiply(#1, const_100)',\n",
       " 'format': '%'}"
      ]
     },
     "execution_count": 109,
     "metadata": {},
     "output_type": "execute_result"
    }
   ],
   "source": [
    "gpt4_response[\"3\"]"
   ]
  },
  {
   "cell_type": "code",
   "execution_count": null,
   "metadata": {
    "id": "U2MdutSpw02V"
   },
   "outputs": [],
   "source": [
    "o3_response = {}\n",
    "for key, value in o3_progs.items():\n",
    "  o3_response[key] = {\n",
    "      \"program\": value,\n",
    "      \"format\": w if (w:=o3_formats.get(key)) else None\n",
    "  }"
   ]
  },
  {
   "cell_type": "code",
   "execution_count": null,
   "metadata": {
    "colab": {
     "base_uri": "https://localhost:8080/"
    },
    "id": "tkzqc_FmyOZH",
    "outputId": "25bd6700-b16c-419f-e6b9-b982380da932"
   },
   "outputs": [
    {
     "data": {
      "text/plain": [
       "{'program': 'subtract(102.11, 75.95)', 'format': '%'}"
      ]
     },
     "execution_count": 111,
     "metadata": {},
     "output_type": "execute_result"
    }
   ],
   "source": [
    "o3_response[\"3\"]"
   ]
  },
  {
   "cell_type": "markdown",
   "metadata": {
    "id": "LREdNaipDeN4"
   },
   "source": [
    "## EVALUATION"
   ]
  },
  {
   "cell_type": "code",
   "execution_count": null,
   "metadata": {
    "id": "fGN3zRMWkgLo"
   },
   "outputs": [],
   "source": [
    "def get_decimal_places(number_str):\n",
    "  \"\"\"\n",
    "  Checks the number of decimal places a number string is rounded to.\n",
    "\n",
    "  Args:\n",
    "      number_str: The number string to check.\n",
    "\n",
    "  Returns:\n",
    "      The number of decimal places, or None if the input is not a valid number\n",
    "      or if the number does not have any decimal places.\n",
    "  \"\"\"\n",
    "  if not isinstance(number_str, str):\n",
    "    try:\n",
    "      number_str = str(number_str)\n",
    "    except:\n",
    "      return None\n",
    "  match = re.search(r\"\\.(\\d+)\", number_str)\n",
    "  if match:\n",
    "      return len(match.group(1))\n",
    "  else:\n",
    "    return None"
   ]
  },
  {
   "cell_type": "code",
   "execution_count": null,
   "metadata": {
    "id": "wxFDGHSwyOdO"
   },
   "outputs": [],
   "source": [
    "def parse_value(value: str) -> Union[int, float]:\n",
    "  \"\"\"\n",
    "  Parses a value, converting percentages, constants, and references appropriately.\n",
    "  \"\"\"\n",
    "  value = value.strip()\n",
    "  pat = re.compile(r\"^const_(\\d+)$\")\n",
    "\n",
    "  if \"const_m1\" == value:\n",
    "      return -1\n",
    "  elif bool(constant:=re.match(pat, value)):\n",
    "      return float(constant.groups()[0])\n",
    "  elif value.startswith(\"#\"):\n",
    "      return value  # Placeholder for reference resolution\n",
    "  elif \"%\" in value:\n",
    "      return float(value.replace(\"%\", \"\")) / 100  # Convert percentage to decimal\n",
    "  elif isinstance(value, str) and bool(re.match(r\"^-?\\d*\\.?\\d+$\", value)):\n",
    "      return float(value)\n",
    "  else:\n",
    "    return None\n",
    "\n",
    "\n",
    "def evaluate_program_safe(program: List[str], round_places: int = 5) -> Union[int, float]:\n",
    "\n",
    "  \"\"\"\n",
    "  Evaluates a list of operations with proper sanitization and reference resolution.\n",
    "  \"\"\"\n",
    "  # Define supported operations\n",
    "  OPERATIONS = {\n",
    "      \"add\": operator.add,\n",
    "      \"subtract\": operator.sub,\n",
    "      \"multiply\": operator.mul,\n",
    "      \"divide\": operator.truediv,\n",
    "      \"exp\": operator.pow,\n",
    "      \"greater\": max\n",
    "      }\n",
    "\n",
    "  results: Dict[int, Union[int, float]] = {}\n",
    "\n",
    "  if len(program) == 1 and bool(re.match(r\"^-?\\d+(\\.\\d+)?$\", program[0])):\n",
    "    value = parse_value(program[0])\n",
    "    return round(value, 5)\n",
    "\n",
    "\n",
    "  for i, operation in enumerate(program):\n",
    "    operation = operation.strip()\n",
    "    # Extract operation name and arguments\n",
    "    match = re.match(r\"^(\\w+)\\(\\s*([#\\w%.-]+)\\s*,\\s*([#\\w%.-]+)\\s*\\)$\", operation)\n",
    "    if not match:\n",
    "      print(f\"Invalid operation format: {operation}\")\n",
    "      return None\n",
    "    func_name, arg1, arg2 = match.groups()\n",
    "\n",
    "    # Resolve arguments\n",
    "    resolved_args = []\n",
    "    for arg in [arg1, arg2]:\n",
    "      parsed_value = parse_value(arg)\n",
    "      if isinstance(parsed_value, str) and parsed_value.startswith(\"#\"):\n",
    "        ref_idx = int(parsed_value[1:])\n",
    "        if ref_idx not in results:\n",
    "          return None\n",
    "        resolved_args.append(results[ref_idx])  # Resolve reference\n",
    "      elif parsed_value:\n",
    "        resolved_args.append(parsed_value)\n",
    "      else:\n",
    "        print(f\"Invalid argument: {arg}\")\n",
    "        return None\n",
    "\n",
    "    # Perform operation\n",
    "    if func_name not in OPERATIONS:\n",
    "      return None\n",
    "    results[i] = OPERATIONS[func_name](*resolved_args)\n",
    "  return round(results[len(program) - 1], round_places)"
   ]
  },
  {
   "cell_type": "code",
   "execution_count": null,
   "metadata": {
    "id": "ws2zMSLPDpaK"
   },
   "outputs": [],
   "source": [
    "def program_tokenization(original_program):\n",
    "  original_program = original_program.split(', ')\n",
    "  program = []\n",
    "  for tok in original_program:\n",
    "      cur_tok = ''\n",
    "      for c in tok:\n",
    "          if c == ')':\n",
    "              if cur_tok != '':\n",
    "                  program.append(cur_tok)\n",
    "                  cur_tok = ''\n",
    "          cur_tok += c\n",
    "          if c in ['(', ')']:\n",
    "              program.append(cur_tok)\n",
    "              cur_tok = ''\n",
    "      if cur_tok != '':\n",
    "          program.append(cur_tok)\n",
    "  program.append('EOF')\n",
    "  return program"
   ]
  },
  {
   "cell_type": "code",
   "execution_count": null,
   "metadata": {
    "id": "VoCIaAUjDpfF"
   },
   "outputs": [],
   "source": [
    "def str_prog_list(program: str,\n",
    "                  pat: re.Pattern = re.compile(r\"\\w+\\(.+$\")) -> List[str]:\n",
    "  prog_list = []\n",
    "  for p in program.split(\"), \"):\n",
    "    if bool(pat.match(p)):\n",
    "      p = p.strip() if p.strip().endswith(\")\") else p.strip() + \")\"\n",
    "      prog_list.append(p)\n",
    "    else:\n",
    "      prog_list.append(p)\n",
    "  return prog_list"
   ]
  },
  {
   "cell_type": "code",
   "execution_count": null,
   "metadata": {
    "id": "e0FLbOOoDpji"
   },
   "outputs": [],
   "source": [
    "def prog_str_sequence(program: List[str]) -> str:\n",
    "  return \", \".join([str(p) for p in program])"
   ]
  },
  {
   "cell_type": "code",
   "execution_count": null,
   "metadata": {
    "id": "OtZbTAR_yIG_"
   },
   "outputs": [],
   "source": [
    "def evaluate_responses(model_response, ground_truth):\n",
    "  score = 0\n",
    "\n",
    "  for key in range(100):\n",
    "      str_key = str(key)\n",
    "\n",
    "      if str_key not in model_response:\n",
    "          print(f\"Key not found: {key}\\n\")\n",
    "          continue\n",
    "\n",
    "      try:\n",
    "          prog = model_response[str_key].get(\"program\")\n",
    "          if not prog:\n",
    "              print(\"Program not found\")\n",
    "              continue\n",
    "\n",
    "          program = str_prog_list(prog)\n",
    "          ori_res = ground_truth.get(str_key, {}).get(\"exe_ans\")\n",
    "\n",
    "          if ori_res is None:\n",
    "              print(f\"Original answer not found for key: {key}\\n\")\n",
    "              continue\n",
    "\n",
    "          places = get_decimal_places(ori_res)\n",
    "          response = evaluate_program_safe(program, round_places=places)\n",
    "\n",
    "          format_type = model_response[str_key].get(\"format\")\n",
    "          if format_type == \"%\":\n",
    "              response = round(response * 0.01, places)\n",
    "\n",
    "          print(f\"Original Answer: {ori_res}\\no3_pred: {response}\\n\")\n",
    "\n",
    "          score += 1 if ori_res == response else 0\n",
    "\n",
    "      except Exception as e:\n",
    "          print(f\"Error processing key {key}: {e}\")\n",
    "\n",
    "  return score"
   ]
  },
  {
   "cell_type": "code",
   "execution_count": null,
   "metadata": {
    "id": "rkR4UEQC43dl"
   },
   "outputs": [],
   "source": [
    "def equal_program(program1, program2):\n",
    "  '''\n",
    "  symbolic program if equal\n",
    "  program1: gold\n",
    "  program2: pred\n",
    "  '''\n",
    "\n",
    "  sym_map = {}\n",
    "\n",
    "  program1 = program1[:-1]  # remove EOF\n",
    "\n",
    "  ### single number program\n",
    "  if len(program1) == 1:\n",
    "      if len(program2) == 2 and program1[0] == program2[0]:\n",
    "          return True\n",
    "      else:\n",
    "          return False\n",
    "\n",
    "  program1 = \"|\".join(program1)\n",
    "  steps = program1.split(\")\")[:-1]\n",
    "\n",
    "  invalid_flag = 0\n",
    "  sym_ind = 0\n",
    "  step_dict_1 = {}\n",
    "\n",
    "  # symbolic map\n",
    "  for ind, step in enumerate(steps):\n",
    "\n",
    "      step = step.strip()\n",
    "\n",
    "      assert len(step.split(\"(\")) <= 2\n",
    "\n",
    "      op = step.split(\"(\")[0].strip(\"|\").strip()\n",
    "      args = step.split(\"(\")[1].strip(\"|\").strip()\n",
    "\n",
    "      arg1 = args.split(\"|\")[0].strip()\n",
    "      arg2 = args.split(\"|\")[1].strip()\n",
    "\n",
    "      step_dict_1[ind] = step\n",
    "\n",
    "      if \"table\" in op:\n",
    "          if step not in sym_map:\n",
    "              sym_map[step] = \"a\" + str(sym_ind)\n",
    "              sym_ind += 1\n",
    "\n",
    "      else:\n",
    "          if \"#\" not in arg1:\n",
    "              if arg1 not in sym_map:\n",
    "                  sym_map[arg1] = \"a\" + str(sym_ind)\n",
    "                  sym_ind += 1\n",
    "\n",
    "          if \"#\" not in arg2:\n",
    "              if arg2 not in sym_map:\n",
    "                  sym_map[arg2] = \"a\" + str(sym_ind)\n",
    "                  sym_ind += 1\n",
    "\n",
    "  # check program 2\n",
    "  step_dict_2 = {}\n",
    "  try:\n",
    "      program2 = program2[:-1]  # remove EOF\n",
    "      # check structure\n",
    "      for ind, token in enumerate(program2):\n",
    "          if ind % 4 == 0:\n",
    "              if token.strip(\"(\") not in all_ops:\n",
    "                  # print(\"structure error\")\n",
    "                  return False\n",
    "          if (ind + 1) % 4 == 0:\n",
    "              if token != \")\":\n",
    "                  # print(\"structure error\")\n",
    "                  return False\n",
    "\n",
    "      program2 = \"|\".join(program2)\n",
    "      steps = program2.split(\")\")[:-1]\n",
    "\n",
    "      for ind, step in enumerate(steps):\n",
    "          step = step.strip()\n",
    "\n",
    "          if len(step.split(\"(\")) > 2:\n",
    "              return False\n",
    "          op = step.split(\"(\")[0].strip(\"|\").strip()\n",
    "          args = step.split(\"(\")[1].strip(\"|\").strip()\n",
    "\n",
    "          arg1 = args.split(\"|\")[0].strip()\n",
    "          arg2 = args.split(\"|\")[1].strip()\n",
    "\n",
    "          step_dict_2[ind] = step\n",
    "\n",
    "          if \"table\" in op:\n",
    "              if step not in sym_map:\n",
    "                  return False\n",
    "\n",
    "          else:\n",
    "              if \"#\" not in arg1:\n",
    "                  if arg1 not in sym_map:\n",
    "                      return False\n",
    "              else:\n",
    "                  if int(arg1.strip(\"#\")) >= ind:\n",
    "                      return False\n",
    "\n",
    "              if \"#\" not in arg2:\n",
    "                  if arg2 not in sym_map:\n",
    "                      return False\n",
    "              else:\n",
    "                  if int(arg2.strip(\"#\")) >= ind:\n",
    "                      return False\n",
    "  except:\n",
    "      return False\n",
    "\n",
    "  def symbol_recur(step, step_dict):\n",
    "\n",
    "      step = step.strip()\n",
    "      op = step.split(\"(\")[0].strip(\"|\").strip()\n",
    "      args = step.split(\"(\")[1].strip(\"|\").strip()\n",
    "\n",
    "      arg1 = args.split(\"|\")[0].strip()\n",
    "      arg2 = args.split(\"|\")[1].strip()\n",
    "\n",
    "      if \"table\" in op:\n",
    "          # as var\n",
    "          return sym_map[step]\n",
    "\n",
    "      if \"#\" in arg1:\n",
    "          arg1_ind = int(arg1.replace(\"#\", \"\"))\n",
    "          arg1_part = symbol_recur(step_dict[arg1_ind], step_dict)\n",
    "      else:\n",
    "          arg1_part = sym_map[arg1]\n",
    "\n",
    "      if \"#\" in arg2:\n",
    "          arg2_ind = int(arg2.replace(\"#\", \"\"))\n",
    "          arg2_part = symbol_recur(step_dict[arg2_ind], step_dict)\n",
    "      else:\n",
    "          arg2_part = sym_map[arg2]\n",
    "\n",
    "      if op == \"add\":\n",
    "          return \"( \" + arg1_part + \" + \" + arg2_part + \" )\"\n",
    "      elif op == \"subtract\":\n",
    "          return \"( \" + arg1_part + \" - \" + arg2_part + \" )\"\n",
    "      elif op == \"multiply\":\n",
    "          return \"( \" + arg1_part + \" * \" + arg2_part + \" )\"\n",
    "      elif op == \"divide\":\n",
    "          return \"( \" + arg1_part + \" / \" + arg2_part + \" )\"\n",
    "      elif op == \"exp\":\n",
    "          return \"( \" + arg1_part + \" ** \" + arg2_part + \" )\"\n",
    "      elif op == \"greater\":\n",
    "          return \"( \" + arg1_part + \" > \" + arg2_part + \" )\"\n",
    "\n",
    "  # # derive symbolic program 1\n",
    "  steps = program1.split(\")\")[:-1]\n",
    "  sym_prog1 = symbol_recur(steps[-1], step_dict_1)\n",
    "  sym_prog1 = simplify(sym_prog1, evaluate=False)\n",
    "\n",
    "  try:\n",
    "      # derive symbolic program 2\n",
    "      steps = program2.split(\")\")[:-1]\n",
    "      sym_prog2 = symbol_recur(steps[-1], step_dict_2)\n",
    "      sym_prog2 = simplify(sym_prog2, evaluate=False)\n",
    "  except:\n",
    "      return False\n",
    "\n",
    "  # print(sym_prog1)\n",
    "  # print(sym_prog2)\n",
    "  return sym_prog1 == sym_prog2"
   ]
  },
  {
   "cell_type": "code",
   "execution_count": null,
   "metadata": {
    "colab": {
     "base_uri": "https://localhost:8080/"
    },
    "collapsed": true,
    "id": "ZX0aaP5Tysk4",
    "jupyter": {
     "outputs_hidden": true
    },
    "outputId": "c1b04f68-5001-4518-def5-d3673d9201f0"
   },
   "outputs": [
    {
     "name": "stdout",
     "output_type": "stream",
     "text": [
      "Original Answer: 0.14136\n",
      "o3_pred: 0.14136\n",
      "\n",
      "Program not found\n",
      "Original Answer: -0.3282\n",
      "o3_pred: -0.3282\n",
      "\n",
      "Original Answer: -0.2616\n",
      "o3_pred: 0.2616\n",
      "\n",
      "Original Answer: -0.2616\n",
      "o3_pred: 0.2616\n",
      "\n",
      "Original Answer: 0.70067\n",
      "o3_pred: 0.29933\n",
      "\n",
      "Original Answer: 0.15625\n",
      "o3_pred: 0.15625\n",
      "\n",
      "Original Answer: 0.15686\n",
      "o3_pred: 0.15686\n",
      "\n",
      "Original Answer: 0.22986\n",
      "o3_pred: 0.22986\n",
      "\n",
      "Original Answer: 12.0\n",
      "o3_pred: 12.0\n",
      "\n",
      "Original Answer: -19.0\n",
      "o3_pred: -19.0\n",
      "\n",
      "Original Answer: 0.02444\n",
      "o3_pred: 0.02444\n",
      "\n",
      "Original Answer: 0.5656\n",
      "o3_pred: 0.5656\n",
      "\n",
      "Original Answer: 0.10548\n",
      "o3_pred: 0.10548\n",
      "\n",
      "Original Answer: 1.5882\n",
      "o3_pred: 1.5882\n",
      "\n",
      "Invalid argument: C\n",
      "Original Answer: 16.66667\n",
      "o3_pred: None\n",
      "\n",
      "Original Answer: 0.42457\n",
      "o3_pred: 0.42457\n",
      "\n",
      "Original Answer: 0.11247\n",
      "o3_pred: 0.11247\n",
      "\n",
      "Original Answer: 40.33333\n",
      "o3_pred: 40.33333\n",
      "\n",
      "Original Answer: 594840.0\n",
      "o3_pred: 594840.0\n",
      "\n",
      "Original Answer: 7.0\n",
      "o3_pred: 7.0\n",
      "\n",
      "Original Answer: 0.0228\n",
      "o3_pred: 0.1515\n",
      "\n",
      "Original Answer: -0.01204\n",
      "o3_pred: -0.01204\n",
      "\n",
      "Original Answer: 60.3\n",
      "o3_pred: 60.3\n",
      "\n",
      "Original Answer: 0.6688\n",
      "o3_pred: 0.6688\n",
      "\n",
      "Original Answer: 0.83648\n",
      "o3_pred: 0.83649\n",
      "\n",
      "Original Answer: -0.13249\n",
      "o3_pred: 0.13249\n",
      "\n",
      "Original Answer: -0.56939\n",
      "o3_pred: -56.93872\n",
      "\n",
      "Original Answer: 7020.0\n",
      "o3_pred: 7020.0\n",
      "\n",
      "Original Answer: -0.01506\n",
      "o3_pred: -0.01506\n",
      "\n",
      "Original Answer: 377000.0\n",
      "o3_pred: 377000.0\n",
      "\n",
      "Original Answer: 0.31148\n",
      "o3_pred: 0.31148\n",
      "\n",
      "Original Answer: -0.13397\n",
      "o3_pred: 0.13397\n",
      "\n",
      "Original Answer: -0.31738\n",
      "o3_pred: -0.31738\n",
      "\n",
      "Original Answer: 0.17647\n",
      "o3_pred: -0.15\n",
      "\n",
      "Original Answer: 0.9818\n",
      "o3_pred: 0.9818\n",
      "\n",
      "Original Answer: 110774.5\n",
      "o3_pred: 110774.5\n",
      "\n",
      "Original Answer: 0.01543\n",
      "o3_pred: 0.01543\n",
      "\n",
      "Original Answer: -489.2\n",
      "o3_pred: -489.2\n",
      "\n",
      "Original Answer: 0.06092\n",
      "o3_pred: 0.06092\n",
      "\n",
      "Original Answer: 0.31683\n",
      "o3_pred: 0.31683\n",
      "\n",
      "Original Answer: 0.11546\n",
      "o3_pred: 0.11546\n",
      "\n",
      "Original Answer: 0.32\n",
      "o3_pred: 0.32\n",
      "\n",
      "Original Answer: 0.24446\n",
      "o3_pred: 0.24446\n",
      "\n",
      "Original Answer: -0.76786\n",
      "o3_pred: 0.76786\n",
      "\n",
      "Original Answer: 0.07605\n",
      "o3_pred: 0.07605\n",
      "\n",
      "Original Answer: 0.16827\n",
      "o3_pred: 0.16827\n",
      "\n",
      "Original Answer: -0.16641\n",
      "o3_pred: -0.16641\n",
      "\n",
      "Original Answer: -0.14903\n",
      "o3_pred: 169.0\n",
      "\n",
      "Original Answer: 0.49296\n",
      "o3_pred: 0.55336\n",
      "\n",
      "Original Answer: 22.8588\n",
      "o3_pred: 0.2286\n",
      "\n",
      "Original Answer: 0.47419\n",
      "o3_pred: 294.0\n",
      "\n",
      "Original Answer: -1281.0\n",
      "o3_pred: 0.5\n",
      "\n",
      "Original Answer: 0.685\n",
      "o3_pred: 0.937\n",
      "\n",
      "Original Answer: 1905.4\n",
      "o3_pred: 1905.4\n",
      "\n",
      "Original Answer: 0.67385\n",
      "o3_pred: 0.86957\n",
      "\n",
      "Original Answer: 0.45308\n",
      "o3_pred: 0.45308\n",
      "\n",
      "Original Answer: 0.05642\n",
      "o3_pred: 0.05642\n",
      "\n",
      "Original Answer: 0.21457\n",
      "o3_pred: 0.21457\n",
      "\n",
      "Program not found\n",
      "Original Answer: 3.5967\n",
      "o3_pred: 3.5967\n",
      "\n",
      "Original Answer: -0.0637\n",
      "o3_pred: 0.0637\n",
      "\n",
      "Original Answer: 644.5009\n",
      "o3_pred: 644.5009\n",
      "\n",
      "Original Answer: 8.08481\n",
      "o3_pred: 8.08481\n",
      "\n",
      "Original Answer: 0.45308\n",
      "o3_pred: 0.45308\n",
      "\n",
      "Original Answer: 0.25432\n",
      "o3_pred: 2973.0\n",
      "\n",
      "Original Answer: 0.0992\n",
      "o3_pred: 0.0992\n",
      "\n",
      "Original Answer: 0.39931\n",
      "o3_pred: 0.39931\n",
      "\n",
      "Original Answer: -0.34454\n",
      "o3_pred: -0.34454\n",
      "\n",
      "Original Answer: -0.11349\n",
      "o3_pred: -0.11349\n",
      "\n",
      "Original Answer: -0.78785\n",
      "o3_pred: -0.78785\n",
      "\n",
      "Original Answer: 0.02344\n",
      "o3_pred: 0.02344\n",
      "\n",
      "Original Answer: 0.06667\n",
      "o3_pred: 0.06667\n",
      "\n",
      "Original Answer: 0.03148\n",
      "o3_pred: 0.03148\n",
      "\n",
      "Original Answer: 0.14197\n",
      "o3_pred: 0.14197\n",
      "\n",
      "Original Answer: 2484034.0\n",
      "o3_pred: 1200000000.0\n",
      "\n",
      "Original Answer: 0.97833\n",
      "o3_pred: 0.97833\n",
      "\n",
      "Original Answer: 0.65672\n",
      "o3_pred: 0.65672\n",
      "\n",
      "Original Answer: 0.48\n",
      "o3_pred: 0.62\n",
      "\n",
      "Original Answer: 0.16735\n",
      "o3_pred: 0.16735\n",
      "\n",
      "Original Answer: 0.01803\n",
      "o3_pred: 0.02002\n",
      "\n",
      "Original Answer: 4.1\n",
      "o3_pred: 4.1\n",
      "\n",
      "Original Answer: -0.00561\n",
      "o3_pred: -0.00561\n",
      "\n",
      "Original Answer: 3.34978\n",
      "o3_pred: 3.129\n",
      "\n",
      "Original Answer: -0.19355\n",
      "o3_pred: -0.19355\n",
      "\n",
      "Original Answer: 0.10931\n",
      "o3_pred: 0.10931\n",
      "\n",
      "Original Answer: 0.0641\n",
      "o3_pred: 0.0641\n",
      "\n",
      "Original Answer: -0.29195\n",
      "o3_pred: -0.29195\n",
      "\n",
      "Original Answer: 0.57656\n",
      "o3_pred: 0.06726\n",
      "\n",
      "Original Answer: 0.17786\n",
      "o3_pred: 0.17786\n",
      "\n",
      "Original Answer: no\n",
      "o3_pred: 241\n",
      "\n",
      "Original Answer: -0.05443\n",
      "o3_pred: -0.05443\n",
      "\n",
      "Original Answer: 3919.33333\n",
      "o3_pred: 39.19333\n",
      "\n",
      "Original Answer: 0.11765\n",
      "o3_pred: -0.39189\n",
      "\n",
      "Original Answer: 0.00116\n",
      "o3_pred: 0.00116\n",
      "\n",
      "Original Answer: 4.8\n",
      "o3_pred: 4.8\n",
      "\n",
      "Original Answer: 0.14738\n",
      "o3_pred: 0.14738\n",
      "\n",
      "Original Answer: 0.91083\n",
      "o3_pred: 0.47667\n",
      "\n",
      "Original Answer: 10.5\n",
      "o3_pred: 10.5\n",
      "\n",
      "Original Answer: -0.0142\n",
      "o3_pred: 0.0142\n",
      "\n"
     ]
    }
   ],
   "source": [
    "o3_score = evaluate_responses(o3_response, entry)"
   ]
  },
  {
   "cell_type": "code",
   "execution_count": null,
   "metadata": {
    "colab": {
     "base_uri": "https://localhost:8080/"
    },
    "id": "ZCDNevF5iXZG",
    "outputId": "ec3677d3-2979-419d-d61f-02f9eca7c3da"
   },
   "outputs": [
    {
     "name": "stdout",
     "output_type": "stream",
     "text": [
      "O3-mini Execution Accuracy: 68%\n"
     ]
    }
   ],
   "source": [
    "print(f\"O3-mini Execution Accuracy: {o3_score}%\")"
   ]
  },
  {
   "cell_type": "code",
   "execution_count": null,
   "metadata": {
    "colab": {
     "base_uri": "https://localhost:8080/"
    },
    "collapsed": true,
    "id": "uwE4nTqDGMkK",
    "jupyter": {
     "outputs_hidden": true
    },
    "outputId": "950ce95a-9ec6-4b41-dd2c-74d3c2227709"
   },
   "outputs": [
    {
     "name": "stdout",
     "output_type": "stream",
     "text": [
      "Original Answer: 0.14136\n",
      "o3_pred: 0.14136\n",
      "\n",
      "Original Answer: 0.01269\n",
      "o3_pred: 0.01269\n",
      "\n",
      "Original Answer: -0.3282\n",
      "o3_pred: -0.3282\n",
      "\n",
      "Original Answer: -0.2616\n",
      "o3_pred: -0.0026\n",
      "\n",
      "Original Answer: -0.2616\n",
      "o3_pred: -0.0026\n",
      "\n",
      "Original Answer: 0.70067\n",
      "o3_pred: 12.4\n",
      "\n",
      "Original Answer: 0.15625\n",
      "o3_pred: 12.4\n",
      "\n",
      "Original Answer: 0.15686\n",
      "o3_pred: 0.15686\n",
      "\n",
      "Original Answer: 0.22986\n",
      "o3_pred: 0.00142\n",
      "\n",
      "Original Answer: 12.0\n",
      "o3_pred: 12.4\n",
      "\n",
      "Original Answer: -19.0\n",
      "o3_pred: 12.4\n",
      "\n",
      "Original Answer: 0.02444\n",
      "o3_pred: 12.4\n",
      "\n",
      "Original Answer: 0.5656\n",
      "o3_pred: 12.4\n",
      "\n",
      "Original Answer: 0.10548\n",
      "o3_pred: 1.4391\n",
      "\n",
      "Original Answer: 1.5882\n",
      "o3_pred: 0.0159\n",
      "\n",
      "Original Answer: 16.66667\n",
      "o3_pred: 1240.0\n",
      "\n",
      "Original Answer: 0.42457\n",
      "o3_pred: 0.00425\n",
      "\n",
      "Original Answer: 0.11247\n",
      "o3_pred: -1.987\n",
      "\n",
      "Original Answer: 40.33333\n",
      "o3_pred: 43.0\n",
      "\n",
      "Original Answer: 594840.0\n",
      "o3_pred: 594840.0\n",
      "\n",
      "Original Answer: 7.0\n",
      "o3_pred: 7.0\n",
      "\n",
      "Program not found\n",
      "Original Answer: -0.01204\n",
      "o3_pred: 32782.0\n",
      "\n",
      "Program not found\n",
      "Original Answer: 0.6688\n",
      "o3_pred: 0.0067\n",
      "\n",
      "Original Answer: 0.83648\n",
      "o3_pred: 8272.0\n",
      "\n",
      "Original Answer: -0.13249\n",
      "o3_pred: 12.4\n",
      "\n",
      "Original Answer: -0.56939\n",
      "o3_pred: 0.56939\n",
      "\n",
      "Original Answer: 7020.0\n",
      "o3_pred: 7020.0\n",
      "\n",
      "Original Answer: -0.01506\n",
      "o3_pred: -0.54623\n",
      "\n",
      "Original Answer: 377000.0\n",
      "o3_pred: 12.4\n",
      "\n",
      "Original Answer: 0.31148\n",
      "o3_pred: 12.4\n",
      "\n",
      "Original Answer: -0.13397\n",
      "o3_pred: 0.13397\n",
      "\n",
      "Original Answer: -0.31738\n",
      "o3_pred: 0.46495\n",
      "\n",
      "Original Answer: 0.17647\n",
      "o3_pred: 0.17647\n",
      "\n",
      "Original Answer: 0.9818\n",
      "o3_pred: 12.4\n",
      "\n",
      "Original Answer: 110774.5\n",
      "o3_pred: 110774.5\n",
      "\n",
      "Original Answer: 0.01543\n",
      "o3_pred: 0.01543\n",
      "\n",
      "Original Answer: -489.2\n",
      "o3_pred: -4049.6\n",
      "\n",
      "Original Answer: 0.06092\n",
      "o3_pred: 12.4\n",
      "\n",
      "Original Answer: 0.31683\n",
      "o3_pred: 12.4\n",
      "\n",
      "Original Answer: 0.11546\n",
      "o3_pred: 12.4\n",
      "\n",
      "Original Answer: 0.32\n",
      "o3_pred: 12.4\n",
      "\n",
      "Original Answer: 0.24446\n",
      "o3_pred: 0.61801\n",
      "\n",
      "Original Answer: -0.76786\n",
      "o3_pred: -0.76786\n",
      "\n",
      "Original Answer: 0.07605\n",
      "o3_pred: 12.4\n",
      "\n",
      "Original Answer: 0.16827\n",
      "o3_pred: 12.4\n",
      "\n",
      "Original Answer: -0.16641\n",
      "o3_pred: -0.16641\n",
      "\n",
      "Original Answer: -0.14903\n",
      "o3_pred: 169.0\n",
      "\n",
      "Program not found\n",
      "Original Answer: 22.8588\n",
      "o3_pred: 0.2286\n",
      "\n",
      "Original Answer: 0.47419\n",
      "o3_pred: 2.94\n",
      "\n",
      "Original Answer: -1281.0\n",
      "o3_pred: 13.8\n",
      "\n",
      "Original Answer: 0.685\n",
      "o3_pred: 0.685\n",
      "\n",
      "Original Answer: 1905.4\n",
      "o3_pred: 1240.0\n",
      "\n",
      "Original Answer: 0.67385\n",
      "o3_pred: 7.6\n",
      "\n",
      "Original Answer: 0.45308\n",
      "o3_pred: 0.45308\n",
      "\n",
      "Original Answer: 0.05642\n",
      "o3_pred: 0.05642\n",
      "\n",
      "Original Answer: 0.21457\n",
      "o3_pred: 0.21457\n",
      "\n",
      "Original Answer: 0.08118\n",
      "o3_pred: 0.08118\n",
      "\n",
      "Original Answer: 3.5967\n",
      "o3_pred: 12.4\n",
      "\n",
      "Original Answer: -0.0637\n",
      "o3_pred: 0.0637\n",
      "\n",
      "Original Answer: 644.5009\n",
      "o3_pred: 12.4\n",
      "\n",
      "Original Answer: 8.08481\n",
      "o3_pred: 1225.0\n",
      "\n",
      "Original Answer: 0.45308\n",
      "o3_pred: 0.45308\n",
      "\n",
      "Original Answer: 0.25432\n",
      "o3_pred: 2973.0\n",
      "\n",
      "Original Answer: 0.0992\n",
      "o3_pred: 0.0992\n",
      "\n",
      "Original Answer: 0.39931\n",
      "o3_pred: 0.00665\n",
      "\n",
      "Original Answer: -0.34454\n",
      "o3_pred: 12.4\n",
      "\n",
      "Original Answer: -0.11349\n",
      "o3_pred: 0.11349\n",
      "\n",
      "Original Answer: -0.78785\n",
      "o3_pred: 0.78785\n",
      "\n",
      "Original Answer: 0.02344\n",
      "o3_pred: 3e-05\n",
      "\n",
      "Original Answer: 0.06667\n",
      "o3_pred: 0.0\n",
      "\n",
      "Original Answer: 0.03148\n",
      "o3_pred: 0.03148\n",
      "\n",
      "Original Answer: 0.14197\n",
      "o3_pred: 137.0\n",
      "\n",
      "Original Answer: 2484034.0\n",
      "o3_pred: 1240.0\n",
      "\n",
      "Original Answer: 0.97833\n",
      "o3_pred: 12.4\n",
      "\n",
      "Program not found\n",
      "Original Answer: 0.48\n",
      "o3_pred: 1.68\n",
      "\n",
      "Original Answer: 0.16735\n",
      "o3_pred: 0.16735\n",
      "\n",
      "Original Answer: 0.01803\n",
      "o3_pred: 12.4\n",
      "\n",
      "Original Answer: 4.1\n",
      "o3_pred: 4.3\n",
      "\n",
      "Original Answer: -0.00561\n",
      "o3_pred: 12.4\n",
      "\n",
      "Original Answer: 3.34978\n",
      "o3_pred: 3.7\n",
      "\n",
      "Original Answer: -0.19355\n",
      "o3_pred: 0.0004\n",
      "\n",
      "Original Answer: 0.10931\n",
      "o3_pred: 0.10931\n",
      "\n",
      "Original Answer: 0.0641\n",
      "o3_pred: 0.0005\n",
      "\n",
      "Original Answer: -0.29195\n",
      "o3_pred: 0.41232\n",
      "\n",
      "Original Answer: 0.57656\n",
      "o3_pred: 12.4\n",
      "\n",
      "Original Answer: 0.17786\n",
      "o3_pred: 0.20402\n",
      "\n",
      "Original Answer: no\n",
      "o3_pred: 0\n",
      "\n",
      "Original Answer: -0.05443\n",
      "o3_pred: 12.4\n",
      "\n",
      "Original Answer: 3919.33333\n",
      "o3_pred: 12.4\n",
      "\n",
      "Original Answer: 0.11765\n",
      "o3_pred: 12.4\n",
      "\n",
      "Original Answer: 0.00116\n",
      "o3_pred: 0.00116\n",
      "\n",
      "Original Answer: 4.8\n",
      "o3_pred: 12.4\n",
      "\n",
      "Original Answer: 0.14738\n",
      "o3_pred: 12.4\n",
      "\n",
      "Original Answer: 0.91083\n",
      "o3_pred: 0.47667\n",
      "\n",
      "Original Answer: 10.5\n",
      "o3_pred: 12.4\n",
      "\n",
      "Original Answer: -0.0142\n",
      "o3_pred: 12.4\n",
      "\n"
     ]
    }
   ],
   "source": [
    "qwen_score = evaluate_responses(qwen_response, entry)"
   ]
  },
  {
   "cell_type": "code",
   "execution_count": null,
   "metadata": {
    "colab": {
     "base_uri": "https://localhost:8080/"
    },
    "id": "55jICEEnDofG",
    "outputId": "3d304578-d9cc-4444-d6a4-b584bc1401ce"
   },
   "outputs": [
    {
     "name": "stdout",
     "output_type": "stream",
     "text": [
      "Qwen14B Execution Accuracy: 23%\n"
     ]
    }
   ],
   "source": [
    "print(f\"Qwen14B Execution Accuracy: {qwen_score}%\")"
   ]
  },
  {
   "cell_type": "code",
   "execution_count": null,
   "metadata": {
    "colab": {
     "base_uri": "https://localhost:8080/"
    },
    "collapsed": true,
    "id": "flflj_EUDokp",
    "jupyter": {
     "outputs_hidden": true
    },
    "outputId": "4b8ad543-a5d2-48e9-d8da-66bc8ce2a72c"
   },
   "outputs": [
    {
     "name": "stdout",
     "output_type": "stream",
     "text": [
      "Original Answer: 0.14136\n",
      "o3_pred: 0.14136\n",
      "\n",
      "Original Answer: 0.01269\n",
      "o3_pred: 0.01269\n",
      "\n",
      "Invalid operation format: divide(#0, 7983\n",
      "Error processing key 2: unsupported operand type(s) for *: 'NoneType' and 'float'\n",
      "Original Answer: -0.2616\n",
      "o3_pred: -0.2562\n",
      "\n",
      "Original Answer: -0.2616\n",
      "o3_pred: 0.0026\n",
      "\n",
      "Original Answer: 0.70067\n",
      "o3_pred: 0.29933\n",
      "\n",
      "Invalid operation format: subtract(3700, 3200),\n",
      "divide(#0, 3200),\n",
      "multiply(#1, const_100)\n",
      "Error processing key 6: unsupported operand type(s) for *: 'NoneType' and 'float'\n",
      "Original Answer: 0.15686\n",
      "o3_pred: 0.15686\n",
      "\n",
      "Original Answer: 0.22986\n",
      "o3_pred: 0.0023\n",
      "\n",
      "Original Answer: 12.0\n",
      "o3_pred: 12.0\n",
      "\n",
      "Original Answer: -19.0\n",
      "o3_pred: -19.0\n",
      "\n",
      "Original Answer: 0.02444\n",
      "o3_pred: 0.02444\n",
      "\n",
      "Original Answer: 0.5656\n",
      "o3_pred: 0.5656\n",
      "\n",
      "Original Answer: 0.10548\n",
      "o3_pred: 0.10548\n",
      "\n",
      "Original Answer: 1.5882\n",
      "o3_pred: 1.5882\n",
      "\n",
      "Original Answer: 16.66667\n",
      "o3_pred: 0.16667\n",
      "\n",
      "Original Answer: 0.42457\n",
      "o3_pred: 0.42457\n",
      "\n",
      "Original Answer: 0.11247\n",
      "o3_pred: 0.11247\n",
      "\n",
      "Original Answer: 40.33333\n",
      "o3_pred: 40.33333\n",
      "\n",
      "Original Answer: 594840.0\n",
      "o3_pred: 594840.0\n",
      "\n",
      "Original Answer: 7.0\n",
      "o3_pred: 7.0\n",
      "\n",
      "Original Answer: 0.0228\n",
      "o3_pred: 0.0128\n",
      "\n",
      "Original Answer: -0.01204\n",
      "o3_pred: -0.01204\n",
      "\n",
      "Original Answer: 60.3\n",
      "o3_pred: 60300000.0\n",
      "\n",
      "Original Answer: 0.6688\n",
      "o3_pred: 66.88\n",
      "\n",
      "Original Answer: 0.83648\n",
      "o3_pred: 0.83649\n",
      "\n",
      "Original Answer: -0.13249\n",
      "o3_pred: 0.13249\n",
      "\n",
      "Original Answer: -0.56939\n",
      "o3_pred: -0.56939\n",
      "\n",
      "Original Answer: 7020.0\n",
      "o3_pred: 7020.0\n",
      "\n",
      "Original Answer: -0.01506\n",
      "o3_pred: -0.01506\n",
      "\n",
      "Invalid operation format: add(#0, 70000\n",
      "Original Answer: 377000.0\n",
      "o3_pred: None\n",
      "\n",
      "Original Answer: 0.31148\n",
      "o3_pred: 0.31148\n",
      "\n",
      "Original Answer: -0.13397\n",
      "o3_pred: 0.13397\n",
      "\n",
      "Original Answer: -0.31738\n",
      "o3_pred: -0.31738\n",
      "\n",
      "Original Answer: 0.17647\n",
      "o3_pred: -0.15\n",
      "\n",
      "Original Answer: 0.9818\n",
      "o3_pred: 0.9818\n",
      "\n",
      "Original Answer: 110774.5\n",
      "o3_pred: 110774.5\n",
      "\n",
      "Original Answer: 0.01543\n",
      "o3_pred: 0.01543\n",
      "\n",
      "Invalid operation format: subtract(2310.2, 4579.6),\n",
      "  add(#0, 1780.2)\n",
      "Original Answer: -489.2\n",
      "o3_pred: None\n",
      "\n",
      "Original Answer: 0.06092\n",
      "o3_pred: 0.06092\n",
      "\n",
      "Original Answer: 0.31683\n",
      "o3_pred: 0.31683\n",
      "\n",
      "Original Answer: 0.11546\n",
      "o3_pred: 0.11546\n",
      "\n",
      "Original Answer: 0.32\n",
      "o3_pred: 0.32\n",
      "\n",
      "Invalid operation format: divide(#0, 364221\n",
      "Error processing key 43: unsupported operand type(s) for *: 'NoneType' and 'float'\n",
      "Original Answer: -0.76786\n",
      "o3_pred: 0.76786\n",
      "\n",
      "Original Answer: 0.07605\n",
      "o3_pred: 0.07605\n",
      "\n",
      "Original Answer: 0.16827\n",
      "o3_pred: 0.16827\n",
      "\n",
      "Original Answer: -0.16641\n",
      "o3_pred: -0.16641\n",
      "\n",
      "Original Answer: -0.14903\n",
      "o3_pred: 169.0\n",
      "\n",
      "Original Answer: 0.49296\n",
      "o3_pred: 0.49296\n",
      "\n",
      "Original Answer: 22.8588\n",
      "o3_pred: 0.2286\n",
      "\n",
      "Original Answer: 0.47419\n",
      "o3_pred: 294.0\n",
      "\n",
      "Original Answer: -1281.0\n",
      "o3_pred: 1281.0\n",
      "\n",
      "Original Answer: 0.685\n",
      "o3_pred: 0.937\n",
      "\n",
      "Original Answer: 1905.4\n",
      "o3_pred: 1905.4\n",
      "\n",
      "Original Answer: 0.67385\n",
      "o3_pred: 0.72653\n",
      "\n",
      "Original Answer: 0.45308\n",
      "o3_pred: 0.45308\n",
      "\n",
      "Invalid operation format: divide(873, 15473),\n",
      "multiply(#0, const_100)\n",
      "Error processing key 57: unsupported operand type(s) for *: 'NoneType' and 'float'\n",
      "Original Answer: 0.21457\n",
      "o3_pred: 0.21457\n",
      "\n",
      "Original Answer: 0.08118\n",
      "o3_pred: 0.08118\n",
      "\n",
      "Original Answer: 3.5967\n",
      "o3_pred: 0.036\n",
      "\n",
      "Original Answer: -0.0637\n",
      "o3_pred: 0.0637\n",
      "\n",
      "Original Answer: 644.5009\n",
      "o3_pred: 644.5009\n",
      "\n",
      "Original Answer: 8.08481\n",
      "o3_pred: 8.08481\n",
      "\n",
      "Original Answer: 0.45308\n",
      "o3_pred: 0.45308\n",
      "\n",
      "Original Answer: 0.25432\n",
      "o3_pred: 2973.0\n",
      "\n",
      "Original Answer: 0.0992\n",
      "o3_pred: 0.0992\n",
      "\n",
      "Invalid operation format: divide(5171000, add(5171000, 7779000)\n",
      "Error processing key 67: unsupported operand type(s) for *: 'NoneType' and 'float'\n",
      "Original Answer: -0.34454\n",
      "o3_pred: -0.34454\n",
      "\n",
      "Original Answer: -0.11349\n",
      "o3_pred: 0.11349\n",
      "\n",
      "Original Answer: -0.78785\n",
      "o3_pred: -0.78785\n",
      "\n",
      "Original Answer: 0.02344\n",
      "o3_pred: 0.02344\n",
      "\n",
      "Original Answer: 0.06667\n",
      "o3_pred: 0.06667\n",
      "\n",
      "Original Answer: 0.03148\n",
      "o3_pred: 0.03148\n",
      "\n",
      "Original Answer: 0.14197\n",
      "o3_pred: 0.14197\n",
      "\n",
      "Original Answer: 2484034.0\n",
      "o3_pred: 1200000000.0\n",
      "\n",
      "Original Answer: 0.97833\n",
      "o3_pred: 0.97833\n",
      "\n",
      "Original Answer: 0.65672\n",
      "o3_pred: 0.65672\n",
      "\n",
      "Original Answer: 0.48\n",
      "o3_pred: 62.0\n",
      "\n",
      "Original Answer: 0.16735\n",
      "o3_pred: 0.16735\n",
      "\n",
      "Original Answer: 0.01803\n",
      "o3_pred: 0.02002\n",
      "\n",
      "Original Answer: 4.1\n",
      "o3_pred: 4.1\n",
      "\n",
      "Original Answer: -0.00561\n",
      "o3_pred: -0.00561\n",
      "\n",
      "Invalid operation format: subtract(3.35, divide(221, const_1000))\n",
      "Original Answer: 3.34978\n",
      "o3_pred: None\n",
      "\n",
      "Original Answer: -0.19355\n",
      "o3_pred: -0.19355\n",
      "\n",
      "Original Answer: 0.10931\n",
      "o3_pred: 0.10931\n",
      "\n",
      "Original Answer: 0.0641\n",
      "o3_pred: 0.0641\n",
      "\n",
      "Original Answer: -0.29195\n",
      "o3_pred: -0.29195\n",
      "\n",
      "Original Answer: 0.57656\n",
      "o3_pred: 0.25987\n",
      "\n",
      "Original Answer: 0.17786\n",
      "o3_pred: 0.17786\n",
      "\n",
      "Original Answer: no\n",
      "o3_pred: 241\n",
      "\n",
      "Original Answer: -0.05443\n",
      "o3_pred: -0.05443\n",
      "\n",
      "Invalid argument: 0\n",
      "Original Answer: 3919.33333\n",
      "o3_pred: None\n",
      "\n",
      "Original Answer: 0.11765\n",
      "o3_pred: -0.39189\n",
      "\n",
      "Invalid operation format: subtract(4214.5, 4209.6),\n",
      "divide(#0, 4209.6),\n",
      "multiply(#1, const_100)\n",
      "Error processing key 94: unsupported operand type(s) for *: 'NoneType' and 'float'\n",
      "Original Answer: 4.8\n",
      "o3_pred: 4.8\n",
      "\n",
      "Original Answer: 0.14738\n",
      "o3_pred: 0.14738\n",
      "\n",
      "Original Answer: 0.91083\n",
      "o3_pred: 0.91083\n",
      "\n",
      "Original Answer: 10.5\n",
      "o3_pred: 10.5\n",
      "\n",
      "Invalid operation format: multiply(#1, const_100),\n",
      "subtract(111.99, 100\n",
      "Error processing key 99: unsupported operand type(s) for *: 'NoneType' and 'float'\n"
     ]
    }
   ],
   "source": [
    "gpt4_score = evaluate_responses(gpt4_response, entry)"
   ]
  },
  {
   "cell_type": "code",
   "execution_count": null,
   "metadata": {
    "colab": {
     "base_uri": "https://localhost:8080/"
    },
    "id": "AR1Kpt5GDond",
    "outputId": "fff6a983-ec89-4ad0-dbb8-a38b1ab48415"
   },
   "outputs": [
    {
     "name": "stdout",
     "output_type": "stream",
     "text": [
      "GPT4 Execution Accuracy: 60%\n"
     ]
    }
   ],
   "source": [
    "print(f\"GPT4 Execution Accuracy: {gpt4_score}%\")"
   ]
  },
  {
   "cell_type": "code",
   "execution_count": null,
   "metadata": {
    "colab": {
     "base_uri": "https://localhost:8080/",
     "height": 35
    },
    "id": "P7OnFZVhXISJ",
    "outputId": "6edaaefe-f017-46f8-9d24-3adfa858205a"
   },
   "outputs": [
    {
     "data": {
      "application/vnd.google.colaboratory.intrinsic+json": {
       "type": "string"
      },
      "text/plain": [
       "'subtract(206588, 181001), divide(#0, 181001), multiply(#1, const_100)'"
      ]
     },
     "execution_count": 127,
     "metadata": {},
     "output_type": "execute_result"
    }
   ],
   "source": [
    "o3_response.get(\"0\").get(\"program\")"
   ]
  },
  {
   "cell_type": "code",
   "execution_count": null,
   "metadata": {
    "colab": {
     "base_uri": "https://localhost:8080/",
     "height": 35
    },
    "id": "Mg35hEReXUUT",
    "outputId": "c124c441-c620-440a-e468-9a44af323fba"
   },
   "outputs": [
    {
     "data": {
      "application/vnd.google.colaboratory.intrinsic+json": {
       "type": "string"
      },
      "text/plain": [
       "'subtract(206588, 181001), divide(#0, 181001)'"
      ]
     },
     "execution_count": 128,
     "metadata": {},
     "output_type": "execute_result"
    }
   ],
   "source": [
    "entry.get(\"0\").get(\"program\")"
   ]
  },
  {
   "cell_type": "code",
   "execution_count": null,
   "metadata": {
    "colab": {
     "base_uri": "https://localhost:8080/"
    },
    "id": "tUQkmoDt231f",
    "outputId": "016fa27d-d006-44c0-bd02-a098fcbc4f02"
   },
   "outputs": [
    {
     "data": {
      "text/plain": [
       "False"
      ]
     },
     "execution_count": 125,
     "metadata": {},
     "output_type": "execute_result"
    }
   ],
   "source": [
    "equal_program(\n",
    "    program_tokenization(o3_response.get(\"0\").get(\"program\")),\n",
    "    program_tokenization(entry.get(\"0\").get(\"program\"))\n",
    ")"
   ]
  },
  {
   "cell_type": "code",
   "execution_count": null,
   "metadata": {
    "id": "OYqmtjE4235Q"
   },
   "outputs": [],
   "source": [
    "prog_A = \"multiply(const_100, 45.68), divide(#0, 259)\"\n",
    "prog_B = \"divide(45.68, 259), multiply(#0, const_100)\""
   ]
  },
  {
   "cell_type": "code",
   "execution_count": null,
   "metadata": {
    "colab": {
     "base_uri": "https://localhost:8080/"
    },
    "id": "TLkUZELQDowt",
    "outputId": "2797140e-1cbc-4e64-c715-020ea35988aa"
   },
   "outputs": [
    {
     "data": {
      "text/plain": [
       "False"
      ]
     },
     "execution_count": 132,
     "metadata": {},
     "output_type": "execute_result"
    }
   ],
   "source": [
    "equal_program(\n",
    "    program_tokenization(prog_A),\n",
    "    program_tokenization(prog_B)\n",
    ")"
   ]
  },
  {
   "cell_type": "code",
   "execution_count": null,
   "metadata": {
    "id": "yDgookRUNok-"
   },
   "outputs": [],
   "source": [
    "result_dir = \"/content/drive/MyDrive/ConvFinQA/output/generator-roberta-large-2e-5-new-test_20250324083557/results/loads/20/valid\""
   ]
  },
  {
   "cell_type": "code",
   "execution_count": null,
   "metadata": {
    "id": "JsiYIJR8YchY"
   },
   "outputs": [],
   "source": [
    "with open(os.path.join(result_dir, \"nbest_predictions.json\"), \"r\") as f:\n",
    "  nbest_predictions = json.load(f)"
   ]
  },
  {
   "cell_type": "code",
   "execution_count": null,
   "metadata": {
    "colab": {
     "base_uri": "https://localhost:8080/"
    },
    "id": "jvwYKj93ZkSa",
    "outputId": "43ca6830-2b85-4b99-8e53-c89cf56e0558"
   },
   "outputs": [
    {
     "data": {
      "text/plain": [
       "['subtract(', '60.94', '25.14', ')', 'divide(', '#0', '25.14', ')', 'EOF']"
      ]
     },
     "execution_count": 147,
     "metadata": {},
     "output_type": "execute_result"
    }
   ],
   "source": [
    "nbest_predictions[\"4\"][0][\"pred_prog\"]"
   ]
  },
  {
   "cell_type": "code",
   "execution_count": null,
   "metadata": {
    "colab": {
     "base_uri": "https://localhost:8080/"
    },
    "id": "ovafHtxGaHs9",
    "outputId": "18b3c1f0-01a5-4785-eaf1-24933e02fdfa"
   },
   "outputs": [
    {
     "data": {
      "text/plain": [
       "25.14"
      ]
     },
     "execution_count": 146,
     "metadata": {},
     "output_type": "execute_result"
    }
   ],
   "source": [
    "nbest_predictions[\"1\"][0][\"ref_answer\"]"
   ]
  },
  {
   "cell_type": "code",
   "execution_count": null,
   "metadata": {
    "id": "u_OGxV_Cb_OG"
   },
   "outputs": [],
   "source": [
    "def _detokenize(tokens):\n",
    "  stringify = \" \".join(tokens[:-1])\n",
    "  split_string = stringify.split(\") \")\n",
    "  return split_string"
   ]
  },
  {
   "cell_type": "code",
   "execution_count": null,
   "metadata": {
    "colab": {
     "base_uri": "https://localhost:8080/"
    },
    "id": "-BAnU8_2cRqV",
    "outputId": "2c0ad1cb-8089-4b1a-ad69-1462d442a07f"
   },
   "outputs": [
    {
     "data": {
      "text/plain": [
       "['subtract( 60.94 25.14 ', 'divide( #0 25.14 )']"
      ]
     },
     "execution_count": 164,
     "metadata": {},
     "output_type": "execute_result"
    }
   ],
   "source": [
    "_detokenize(nbest_predictions[\"4\"][0][\"pred_prog\"])"
   ]
  },
  {
   "cell_type": "code",
   "execution_count": null,
   "metadata": {
    "colab": {
     "base_uri": "https://localhost:8080/"
    },
    "id": "s4MKv-fNaH5h",
    "outputId": "823d51a5-ba69-4e53-82b0-f74031b8b64d"
   },
   "outputs": [
    {
     "data": {
      "text/plain": [
       "['subtract(', '60.94', '25.14', ')', 'divide(', '#0', '25.14', ')', 'EOF']"
      ]
     },
     "execution_count": 160,
     "metadata": {},
     "output_type": "execute_result"
    }
   ],
   "source": [
    "nbest_predictions[\"4\"][0][\"pred_prog\"]"
   ]
  },
  {
   "cell_type": "code",
   "execution_count": null,
   "metadata": {
    "id": "5xUMHzOoaIJu"
   },
   "outputs": [],
   "source": []
  },
  {
   "cell_type": "code",
   "execution_count": null,
   "metadata": {
    "id": "P_in5LFD7zFP"
   },
   "outputs": [],
   "source": [
    "prog = \"subtract(60.65, const_100), multiply(-.005, -.456), add(34, 45), multiply(#0, 100)\""
   ]
  },
  {
   "cell_type": "code",
   "execution_count": null,
   "metadata": {
    "colab": {
     "base_uri": "https://localhost:8080/",
     "height": 35
    },
    "id": "D-DcZOzh8P7C",
    "outputId": "94117936-9d13-4da0-8eaa-c0dd30af30db"
   },
   "outputs": [
    {
     "data": {
      "application/vnd.google.colaboratory.intrinsic+json": {
       "type": "string"
      },
      "text/plain": [
       "'subtract(60.65, const_100), multiply(-.005, -.456), add(34, 45), multiply(#0, 100)'"
      ]
     },
     "execution_count": 246,
     "metadata": {},
     "output_type": "execute_result"
    }
   ],
   "source": [
    "detokenize(program_tokenization(prog))"
   ]
  },
  {
   "cell_type": "code",
   "execution_count": null,
   "metadata": {
    "id": "HS6ja4a99_0d"
   },
   "outputs": [],
   "source": [
    "prog_1 = \"subtract(60.65, const_349), 900, add(34, 45), multiply(#0, 100)\"\n",
    "prog_2 = \"subtract(60.65, const_349), add(34, 45), multiply(#0, 100)\""
   ]
  },
  {
   "cell_type": "code",
   "execution_count": null,
   "metadata": {
    "colab": {
     "base_uri": "https://localhost:8080/"
    },
    "id": "f0F5al277fEK",
    "outputId": "ae9463e5-b948-4411-808e-446d909ded68"
   },
   "outputs": [
    {
     "name": "stdout",
     "output_type": "stream",
     "text": [
      "subtract(60.94, 25.14), divide(#0, 25.14)\n"
     ]
    }
   ],
   "source": [
    "# Example usage:\n",
    "tokens = ['subtract(', '60.94', '25.14', ')', 'divide(', '#0', '25.14', ')', 'EOF']\n",
    "output = detokenize(tokens)\n",
    "print(output)  # Expected: \"subtract(60.94, 25.14), divide(subtract(60.94, 25.14), 25.14)\""
   ]
  },
  {
   "cell_type": "code",
   "execution_count": null,
   "metadata": {
    "id": "CIIqI8Pspurv"
   },
   "outputs": [],
   "source": []
  },
  {
   "cell_type": "code",
   "execution_count": null,
   "metadata": {
    "colab": {
     "base_uri": "https://localhost:8080/",
     "height": 768
    },
    "id": "HOTX7kEGFhyy",
    "outputId": "2450a8bf-d85e-4cf2-e550-04fa56a85a21"
   },
   "outputs": [
    {
     "data": {
      "text/html": [
       "\n",
       "\n",
       "            <!DOCTYPE html>\n",
       "          <html lang=\"en\">\n",
       "          <head>\n",
       "              <meta charset=\"UTF-8\">\n",
       "              <meta name=\"viewport\" content=\"width=device-width, initial-scale=1.0\">\n",
       "              <title>Financial Report</title>\n",
       "          </head>\n",
       "          <body>\n",
       "              <h1>Report & Question</h1>\n",
       "\n",
       "              <div id=\"report\">\n",
       "                  <h2>Report Section</h2>\n",
       "                  <div>\n",
       "                      \n",
       "              <div>\n",
       "                <p>tax returns for 2001 and beyond are open for examination under statute . currently , unrecognized tax benefits are not expected to change significantly over the next 12 months . 19 . stock-based and other management compensation plans in april 2009 , the company approved a global incentive plan which replaces the company 2019s 2004 stock incentive plan . the 2009 global incentive plan ( 201cgip 201d ) enables the compensation committee of the board of directors to award incentive and nonqualified stock options , stock appreciation rights , shares of series a common stock , restricted stock , restricted stock units ( 201crsus 201d ) and incentive bonuses ( which may be paid in cash or stock or a combination thereof ) , any of which may be performance-based , with vesting and other award provisions that provide effective incentive to company employees ( including officers ) , non-management directors and other service providers . under the 2009 gip , the company no longer can grant rsus with the right to participate in dividends or dividend equivalents . the maximum number of shares that may be issued under the 2009 gip is equal to 5350000 shares plus ( a ) any shares of series a common stock that remain available for issuance under the 2004 stock incentive plan ( 201csip 201d ) ( not including any shares of series a common stock that are subject to outstanding awards under the 2004 sip or any shares of series a common stock that were issued pursuant to awards under the 2004 sip ) and ( b ) any awards under the 2004 stock incentive plan that remain outstanding that cease for any reason to be subject to such awards ( other than by reason of exercise or settlement of the award to the extent that such award is exercised for or settled in vested and non-forfeitable shares ) . as of december 31 , 2010 , total shares available for awards and total shares subject to outstanding awards are as follows : shares available for awards shares subject to outstanding awards .</p>\n",
       "              </div>\n",
       "              <div>\n",
       "                <table class='wikitable'><tr><td>1</td><td></td><td>shares available for awards</td><td>shares subject to outstanding awards</td></tr><tr><td>2</td><td>2009 global incentive plan</td><td>2322450</td><td>2530454</td></tr><tr><td>3</td><td>2004 stock incentive plan</td><td>-</td><td>5923147</td></tr></table>\n",
       "              </div>\n",
       "              <div>\n",
       "                <p>upon the termination of a participant 2019s employment with the company by reason of death or disability or by the company without cause ( as defined in the respective award agreements ) , an award in amount equal to ( i ) the value of the award granted multiplied by ( ii ) a fraction , ( x ) the numerator of which is the number of full months between grant date and the date of such termination , and ( y ) the denominator of which is the term of the award , such product to be rounded down to the nearest whole number , and reduced by ( iii ) the value of any award that previously vested , shall immediately vest and become payable to the participant . upon the termination of a participant 2019s employment with the company for any other reason , any unvested portion of the award shall be forfeited and cancelled without consideration . there was $ 19 million and $ 0 million of tax benefit realized from stock option exercises and vesting of rsus during the years ended december 31 , 2010 and 2009 , respectively . during the year ended december 31 , 2008 the company reversed $ 8 million of the $ 19 million tax benefit that was realized during the year ended december 31 , 2007 . deferred compensation in april 2007 , certain participants in the company 2019s 2004 deferred compensation plan elected to participate in a revised program , which includes both cash awards and restricted stock units ( see restricted stock units below ) . based on participation in the revised program , the company expensed $ 9 million , $ 10 million and $ 8 million during the years ended december 31 , 2010 , 2009 and 2008 , respectively , related to the revised program and made payments of $ 4 million during the year ended december 31 , 2010 to participants who left the company and $ 28 million to active employees during december 2010 . as of december 31 , 2010 , $ 1 million remains to be paid during 2011 under the revised program . as of december 31 , 2009 , there was no deferred compensation payable remaining associated with the 2004 deferred compensation plan . the company recorded expense related to participants continuing in the 2004 deferred %%transmsg*** transmitting job : d77691 pcn : 132000000 ***%%pcmsg|132 |00011|yes|no|02/09/2011 18:22|0|0|page is valid , no graphics -- color : n| .</p>\n",
       "              </div>\n",
       "  \n",
       "                  </div>\n",
       "              </div>\n",
       "\n",
       "              <div id=\"chat\">\n",
       "                  <h2>Conversation</h2>\n",
       "                  <hr>\n",
       "                  <h3>Query</h3>\n",
       "                  <p>what portion of the total shares subject to outstanding awards is under the 2009 global incentive plan?</p>\n",
       "              </div>\n",
       "          </body>\n",
       "          </html>\n",
       "\n",
       "  "
      ],
      "text/plain": [
       "<IPython.core.display.HTML object>"
      ]
     },
     "execution_count": 104,
     "metadata": {},
     "output_type": "execute_result"
    }
   ],
   "source": [
    "HTML(user_message_template(entry[\"5\"]))"
   ]
  },
  {
   "cell_type": "code",
   "execution_count": null,
   "metadata": {
    "id": "L1z5awKnEQJY"
   },
   "outputs": [],
   "source": [
    "data = {}\n",
    "for file in glob.glob(os.path.join(GPT_4, \"*.txt\")):\n",
    "  if file not in [\n",
    "      \"/content/drive/MyDrive/tomoro_ai/gpt-4o/1194.txt\",\n",
    "      \"/content/drive/MyDrive/tomoro_ai/gpt-4o/768.txt\"\n",
    "  ]:\n",
    "    name = os.path.basename(file)\n",
    "    id = name[:-4]\n",
    "    txt = read_file(file)\n",
    "    txt = txt.split(\"<prompt>\")[-1].split(\"</prompt>\")[-1]\n",
    "    txt = txt.split(\"<operation>\")[-1].split(\"</operation>\")[0]\n",
    "    try:\n",
    "      js = json.loads(txt)\n",
    "      data[id] = js\n",
    "    except:\n",
    "      if w:=parse_raw_output(txt):\n",
    "        w = [i for i in w if bool(re.match(pt, i))]\n",
    "        data[id] = w\n",
    "      else:\n",
    "        print(file)"
   ]
  },
  {
   "cell_type": "markdown",
   "metadata": {
    "id": "OWbUEikltP6X"
   },
   "source": []
  }
 ],
 "metadata": {
  "accelerator": "GPU",
  "colab": {
   "collapsed_sections": [
    "0HP_QDIxZJoV",
    "E8tLAf60ZWK9",
    "ximQssWTtV1q",
    "HFMmJfY7-dWr"
   ],
   "gpuType": "T4",
   "machine_shape": "hm",
   "provenance": []
  },
  "kernelspec": {
   "display_name": "Python310 (numericalReasoning)",
   "language": "python",
   "name": "numericalreasoning"
  },
  "language_info": {
   "codemirror_mode": {
    "name": "ipython",
    "version": 3
   },
   "file_extension": ".py",
   "mimetype": "text/x-python",
   "name": "python",
   "nbconvert_exporter": "python",
   "pygments_lexer": "ipython3",
   "version": "3.10.16"
  },
  "widgets": {
   "application/vnd.jupyter.widget-state+json": {
    "017a09258ee445d391c7bb81900c7a72": {
     "model_module": "@jupyter-widgets/controls",
     "model_module_version": "1.5.0",
     "model_name": "DescriptionStyleModel",
     "state": {
      "_model_module": "@jupyter-widgets/controls",
      "_model_module_version": "1.5.0",
      "_model_name": "DescriptionStyleModel",
      "_view_count": null,
      "_view_module": "@jupyter-widgets/base",
      "_view_module_version": "1.2.0",
      "_view_name": "StyleView",
      "description_width": ""
     }
    },
    "03643c13165f428a91f3857081970bbd": {
     "model_module": "@jupyter-widgets/controls",
     "model_module_version": "1.5.0",
     "model_name": "DescriptionStyleModel",
     "state": {
      "_model_module": "@jupyter-widgets/controls",
      "_model_module_version": "1.5.0",
      "_model_name": "DescriptionStyleModel",
      "_view_count": null,
      "_view_module": "@jupyter-widgets/base",
      "_view_module_version": "1.2.0",
      "_view_name": "StyleView",
      "description_width": ""
     }
    },
    "0430ec50ab2d47538ab268b40ab9a235": {
     "model_module": "@jupyter-widgets/controls",
     "model_module_version": "1.5.0",
     "model_name": "HBoxModel",
     "state": {
      "_dom_classes": [],
      "_model_module": "@jupyter-widgets/controls",
      "_model_module_version": "1.5.0",
      "_model_name": "HBoxModel",
      "_view_count": null,
      "_view_module": "@jupyter-widgets/controls",
      "_view_module_version": "1.5.0",
      "_view_name": "HBoxView",
      "box_style": "",
      "children": [
       "IPY_MODEL_84dec5fdcc0240238d04ba38df363f6b",
       "IPY_MODEL_bd974de33c4b452eabd95b4b9fdd6375",
       "IPY_MODEL_d546d2857cfa40d5a8ec9a1c4dc7cb5b"
      ],
      "layout": "IPY_MODEL_d5354f82a9d94f919ef54d6489d25d13"
     }
    },
    "0502ff289d23485ea8ac919c21d55486": {
     "model_module": "@jupyter-widgets/controls",
     "model_module_version": "1.5.0",
     "model_name": "HBoxModel",
     "state": {
      "_dom_classes": [],
      "_model_module": "@jupyter-widgets/controls",
      "_model_module_version": "1.5.0",
      "_model_name": "HBoxModel",
      "_view_count": null,
      "_view_module": "@jupyter-widgets/controls",
      "_view_module_version": "1.5.0",
      "_view_name": "HBoxView",
      "box_style": "",
      "children": [
       "IPY_MODEL_61a59615350c4092b9348958f4b6fbb3",
       "IPY_MODEL_75b5c6afd73e400483b3218bc9067ccc",
       "IPY_MODEL_ab359d23830b4f9b95a1adccfb0b0f3e"
      ],
      "layout": "IPY_MODEL_7a376384650141939e2232a7809780c4"
     }
    },
    "059037b10aaf4a759943af8c2d2c45ea": {
     "model_module": "@jupyter-widgets/controls",
     "model_module_version": "1.5.0",
     "model_name": "ProgressStyleModel",
     "state": {
      "_model_module": "@jupyter-widgets/controls",
      "_model_module_version": "1.5.0",
      "_model_name": "ProgressStyleModel",
      "_view_count": null,
      "_view_module": "@jupyter-widgets/base",
      "_view_module_version": "1.2.0",
      "_view_name": "StyleView",
      "bar_color": null,
      "description_width": ""
     }
    },
    "05bcf8fd18144ba9b66958f7d069096b": {
     "model_module": "@jupyter-widgets/controls",
     "model_module_version": "1.5.0",
     "model_name": "ProgressStyleModel",
     "state": {
      "_model_module": "@jupyter-widgets/controls",
      "_model_module_version": "1.5.0",
      "_model_name": "ProgressStyleModel",
      "_view_count": null,
      "_view_module": "@jupyter-widgets/base",
      "_view_module_version": "1.2.0",
      "_view_name": "StyleView",
      "bar_color": null,
      "description_width": ""
     }
    },
    "0740cfe6cbb04ee9a1f02c180cc71f97": {
     "model_module": "@jupyter-widgets/controls",
     "model_module_version": "1.5.0",
     "model_name": "HTMLModel",
     "state": {
      "_dom_classes": [],
      "_model_module": "@jupyter-widgets/controls",
      "_model_module_version": "1.5.0",
      "_model_name": "HTMLModel",
      "_view_count": null,
      "_view_module": "@jupyter-widgets/controls",
      "_view_module_version": "1.5.0",
      "_view_name": "HTMLView",
      "description": "",
      "description_tooltip": null,
      "layout": "IPY_MODEL_74d16ececedf4670a176d16fd5c84aa1",
      "placeholder": "​",
      "style": "IPY_MODEL_a13193d20f3541a59cd9599cd2e4791b",
      "value": "config.json: 100%"
     }
    },
    "0de6eab98557479390745683900b4789": {
     "model_module": "@jupyter-widgets/controls",
     "model_module_version": "1.5.0",
     "model_name": "HTMLModel",
     "state": {
      "_dom_classes": [],
      "_model_module": "@jupyter-widgets/controls",
      "_model_module_version": "1.5.0",
      "_model_name": "HTMLModel",
      "_view_count": null,
      "_view_module": "@jupyter-widgets/controls",
      "_view_module_version": "1.5.0",
      "_view_name": "HTMLView",
      "description": "",
      "description_tooltip": null,
      "layout": "IPY_MODEL_7f9c45a814274de5b38a46e6039d1d46",
      "placeholder": "​",
      "style": "IPY_MODEL_bce5c71dd0984ee1be13061eb6d353fb",
      "value": " 8/8 [01:20&lt;00:00,  6.83s/it]"
     }
    },
    "0e012ec0df174fb89d3da95efdbae99a": {
     "model_module": "@jupyter-widgets/controls",
     "model_module_version": "1.5.0",
     "model_name": "DescriptionStyleModel",
     "state": {
      "_model_module": "@jupyter-widgets/controls",
      "_model_module_version": "1.5.0",
      "_model_name": "DescriptionStyleModel",
      "_view_count": null,
      "_view_module": "@jupyter-widgets/base",
      "_view_module_version": "1.2.0",
      "_view_name": "StyleView",
      "description_width": ""
     }
    },
    "105d6f1ad546430fa2d49e270debe6c8": {
     "model_module": "@jupyter-widgets/controls",
     "model_module_version": "1.5.0",
     "model_name": "HTMLModel",
     "state": {
      "_dom_classes": [],
      "_model_module": "@jupyter-widgets/controls",
      "_model_module_version": "1.5.0",
      "_model_name": "HTMLModel",
      "_view_count": null,
      "_view_module": "@jupyter-widgets/controls",
      "_view_module_version": "1.5.0",
      "_view_name": "HTMLView",
      "description": "",
      "description_tooltip": null,
      "layout": "IPY_MODEL_c45e1de2fc2c44ea8b37d997002ef34f",
      "placeholder": "​",
      "style": "IPY_MODEL_b01ccd666fd345378f7d9c3ea7edc6fa",
      "value": "model-00007-of-00008.safetensors: 100%"
     }
    },
    "130ab7e6b0de4125bca5db5d93e27f91": {
     "model_module": "@jupyter-widgets/base",
     "model_module_version": "1.2.0",
     "model_name": "LayoutModel",
     "state": {
      "_model_module": "@jupyter-widgets/base",
      "_model_module_version": "1.2.0",
      "_model_name": "LayoutModel",
      "_view_count": null,
      "_view_module": "@jupyter-widgets/base",
      "_view_module_version": "1.2.0",
      "_view_name": "LayoutView",
      "align_content": null,
      "align_items": null,
      "align_self": null,
      "border": null,
      "bottom": null,
      "display": null,
      "flex": null,
      "flex_flow": null,
      "grid_area": null,
      "grid_auto_columns": null,
      "grid_auto_flow": null,
      "grid_auto_rows": null,
      "grid_column": null,
      "grid_gap": null,
      "grid_row": null,
      "grid_template_areas": null,
      "grid_template_columns": null,
      "grid_template_rows": null,
      "height": null,
      "justify_content": null,
      "justify_items": null,
      "left": null,
      "margin": null,
      "max_height": null,
      "max_width": null,
      "min_height": null,
      "min_width": null,
      "object_fit": null,
      "object_position": null,
      "order": null,
      "overflow": null,
      "overflow_x": null,
      "overflow_y": null,
      "padding": null,
      "right": null,
      "top": null,
      "visibility": null,
      "width": null
     }
    },
    "177c698730d84d8282baecef5a8a942d": {
     "model_module": "@jupyter-widgets/controls",
     "model_module_version": "1.5.0",
     "model_name": "ProgressStyleModel",
     "state": {
      "_model_module": "@jupyter-widgets/controls",
      "_model_module_version": "1.5.0",
      "_model_name": "ProgressStyleModel",
      "_view_count": null,
      "_view_module": "@jupyter-widgets/base",
      "_view_module_version": "1.2.0",
      "_view_name": "StyleView",
      "bar_color": null,
      "description_width": ""
     }
    },
    "1a1ab1402f144cc8898d1f15f34e73e8": {
     "model_module": "@jupyter-widgets/base",
     "model_module_version": "1.2.0",
     "model_name": "LayoutModel",
     "state": {
      "_model_module": "@jupyter-widgets/base",
      "_model_module_version": "1.2.0",
      "_model_name": "LayoutModel",
      "_view_count": null,
      "_view_module": "@jupyter-widgets/base",
      "_view_module_version": "1.2.0",
      "_view_name": "LayoutView",
      "align_content": null,
      "align_items": null,
      "align_self": null,
      "border": null,
      "bottom": null,
      "display": null,
      "flex": null,
      "flex_flow": null,
      "grid_area": null,
      "grid_auto_columns": null,
      "grid_auto_flow": null,
      "grid_auto_rows": null,
      "grid_column": null,
      "grid_gap": null,
      "grid_row": null,
      "grid_template_areas": null,
      "grid_template_columns": null,
      "grid_template_rows": null,
      "height": null,
      "justify_content": null,
      "justify_items": null,
      "left": null,
      "margin": null,
      "max_height": null,
      "max_width": null,
      "min_height": null,
      "min_width": null,
      "object_fit": null,
      "object_position": null,
      "order": null,
      "overflow": null,
      "overflow_x": null,
      "overflow_y": null,
      "padding": null,
      "right": null,
      "top": null,
      "visibility": null,
      "width": null
     }
    },
    "1b5a3d8e03204870a5bbf706d6b94a30": {
     "model_module": "@jupyter-widgets/base",
     "model_module_version": "1.2.0",
     "model_name": "LayoutModel",
     "state": {
      "_model_module": "@jupyter-widgets/base",
      "_model_module_version": "1.2.0",
      "_model_name": "LayoutModel",
      "_view_count": null,
      "_view_module": "@jupyter-widgets/base",
      "_view_module_version": "1.2.0",
      "_view_name": "LayoutView",
      "align_content": null,
      "align_items": null,
      "align_self": null,
      "border": null,
      "bottom": null,
      "display": null,
      "flex": null,
      "flex_flow": null,
      "grid_area": null,
      "grid_auto_columns": null,
      "grid_auto_flow": null,
      "grid_auto_rows": null,
      "grid_column": null,
      "grid_gap": null,
      "grid_row": null,
      "grid_template_areas": null,
      "grid_template_columns": null,
      "grid_template_rows": null,
      "height": null,
      "justify_content": null,
      "justify_items": null,
      "left": null,
      "margin": null,
      "max_height": null,
      "max_width": null,
      "min_height": null,
      "min_width": null,
      "object_fit": null,
      "object_position": null,
      "order": null,
      "overflow": null,
      "overflow_x": null,
      "overflow_y": null,
      "padding": null,
      "right": null,
      "top": null,
      "visibility": null,
      "width": null
     }
    },
    "1b5ffecb148646bf8e827a282bcf4d60": {
     "model_module": "@jupyter-widgets/controls",
     "model_module_version": "1.5.0",
     "model_name": "DescriptionStyleModel",
     "state": {
      "_model_module": "@jupyter-widgets/controls",
      "_model_module_version": "1.5.0",
      "_model_name": "DescriptionStyleModel",
      "_view_count": null,
      "_view_module": "@jupyter-widgets/base",
      "_view_module_version": "1.2.0",
      "_view_name": "StyleView",
      "description_width": ""
     }
    },
    "1c108dde3e1f4f09ba62897025eee061": {
     "model_module": "@jupyter-widgets/base",
     "model_module_version": "1.2.0",
     "model_name": "LayoutModel",
     "state": {
      "_model_module": "@jupyter-widgets/base",
      "_model_module_version": "1.2.0",
      "_model_name": "LayoutModel",
      "_view_count": null,
      "_view_module": "@jupyter-widgets/base",
      "_view_module_version": "1.2.0",
      "_view_name": "LayoutView",
      "align_content": null,
      "align_items": null,
      "align_self": null,
      "border": null,
      "bottom": null,
      "display": null,
      "flex": null,
      "flex_flow": null,
      "grid_area": null,
      "grid_auto_columns": null,
      "grid_auto_flow": null,
      "grid_auto_rows": null,
      "grid_column": null,
      "grid_gap": null,
      "grid_row": null,
      "grid_template_areas": null,
      "grid_template_columns": null,
      "grid_template_rows": null,
      "height": null,
      "justify_content": null,
      "justify_items": null,
      "left": null,
      "margin": null,
      "max_height": null,
      "max_width": null,
      "min_height": null,
      "min_width": null,
      "object_fit": null,
      "object_position": null,
      "order": null,
      "overflow": null,
      "overflow_x": null,
      "overflow_y": null,
      "padding": null,
      "right": null,
      "top": null,
      "visibility": null,
      "width": null
     }
    },
    "1f3f1c724feb43f4bce6e93d449634a7": {
     "model_module": "@jupyter-widgets/controls",
     "model_module_version": "1.5.0",
     "model_name": "ProgressStyleModel",
     "state": {
      "_model_module": "@jupyter-widgets/controls",
      "_model_module_version": "1.5.0",
      "_model_name": "ProgressStyleModel",
      "_view_count": null,
      "_view_module": "@jupyter-widgets/base",
      "_view_module_version": "1.2.0",
      "_view_name": "StyleView",
      "bar_color": null,
      "description_width": ""
     }
    },
    "20d405c7cf744932b2c317268e55f45a": {
     "model_module": "@jupyter-widgets/controls",
     "model_module_version": "1.5.0",
     "model_name": "DescriptionStyleModel",
     "state": {
      "_model_module": "@jupyter-widgets/controls",
      "_model_module_version": "1.5.0",
      "_model_name": "DescriptionStyleModel",
      "_view_count": null,
      "_view_module": "@jupyter-widgets/base",
      "_view_module_version": "1.2.0",
      "_view_name": "StyleView",
      "description_width": ""
     }
    },
    "21787b7ce0524ca0b6ee2aa11830b8c8": {
     "model_module": "@jupyter-widgets/controls",
     "model_module_version": "1.5.0",
     "model_name": "DescriptionStyleModel",
     "state": {
      "_model_module": "@jupyter-widgets/controls",
      "_model_module_version": "1.5.0",
      "_model_name": "DescriptionStyleModel",
      "_view_count": null,
      "_view_module": "@jupyter-widgets/base",
      "_view_module_version": "1.2.0",
      "_view_name": "StyleView",
      "description_width": ""
     }
    },
    "21fee7fff96b4b5ca1b557bff66b7906": {
     "model_module": "@jupyter-widgets/base",
     "model_module_version": "1.2.0",
     "model_name": "LayoutModel",
     "state": {
      "_model_module": "@jupyter-widgets/base",
      "_model_module_version": "1.2.0",
      "_model_name": "LayoutModel",
      "_view_count": null,
      "_view_module": "@jupyter-widgets/base",
      "_view_module_version": "1.2.0",
      "_view_name": "LayoutView",
      "align_content": null,
      "align_items": null,
      "align_self": null,
      "border": null,
      "bottom": null,
      "display": null,
      "flex": null,
      "flex_flow": null,
      "grid_area": null,
      "grid_auto_columns": null,
      "grid_auto_flow": null,
      "grid_auto_rows": null,
      "grid_column": null,
      "grid_gap": null,
      "grid_row": null,
      "grid_template_areas": null,
      "grid_template_columns": null,
      "grid_template_rows": null,
      "height": null,
      "justify_content": null,
      "justify_items": null,
      "left": null,
      "margin": null,
      "max_height": null,
      "max_width": null,
      "min_height": null,
      "min_width": null,
      "object_fit": null,
      "object_position": null,
      "order": null,
      "overflow": null,
      "overflow_x": null,
      "overflow_y": null,
      "padding": null,
      "right": null,
      "top": null,
      "visibility": null,
      "width": null
     }
    },
    "235ae76f92304bd7baf4d1c80fad5b5d": {
     "model_module": "@jupyter-widgets/base",
     "model_module_version": "1.2.0",
     "model_name": "LayoutModel",
     "state": {
      "_model_module": "@jupyter-widgets/base",
      "_model_module_version": "1.2.0",
      "_model_name": "LayoutModel",
      "_view_count": null,
      "_view_module": "@jupyter-widgets/base",
      "_view_module_version": "1.2.0",
      "_view_name": "LayoutView",
      "align_content": null,
      "align_items": null,
      "align_self": null,
      "border": null,
      "bottom": null,
      "display": null,
      "flex": null,
      "flex_flow": null,
      "grid_area": null,
      "grid_auto_columns": null,
      "grid_auto_flow": null,
      "grid_auto_rows": null,
      "grid_column": null,
      "grid_gap": null,
      "grid_row": null,
      "grid_template_areas": null,
      "grid_template_columns": null,
      "grid_template_rows": null,
      "height": null,
      "justify_content": null,
      "justify_items": null,
      "left": null,
      "margin": null,
      "max_height": null,
      "max_width": null,
      "min_height": null,
      "min_width": null,
      "object_fit": null,
      "object_position": null,
      "order": null,
      "overflow": null,
      "overflow_x": null,
      "overflow_y": null,
      "padding": null,
      "right": null,
      "top": null,
      "visibility": null,
      "width": null
     }
    },
    "23d0abb796ca406cb6c6b32b91810c1b": {
     "model_module": "@jupyter-widgets/base",
     "model_module_version": "1.2.0",
     "model_name": "LayoutModel",
     "state": {
      "_model_module": "@jupyter-widgets/base",
      "_model_module_version": "1.2.0",
      "_model_name": "LayoutModel",
      "_view_count": null,
      "_view_module": "@jupyter-widgets/base",
      "_view_module_version": "1.2.0",
      "_view_name": "LayoutView",
      "align_content": null,
      "align_items": null,
      "align_self": null,
      "border": null,
      "bottom": null,
      "display": null,
      "flex": null,
      "flex_flow": null,
      "grid_area": null,
      "grid_auto_columns": null,
      "grid_auto_flow": null,
      "grid_auto_rows": null,
      "grid_column": null,
      "grid_gap": null,
      "grid_row": null,
      "grid_template_areas": null,
      "grid_template_columns": null,
      "grid_template_rows": null,
      "height": null,
      "justify_content": null,
      "justify_items": null,
      "left": null,
      "margin": null,
      "max_height": null,
      "max_width": null,
      "min_height": null,
      "min_width": null,
      "object_fit": null,
      "object_position": null,
      "order": null,
      "overflow": null,
      "overflow_x": null,
      "overflow_y": null,
      "padding": null,
      "right": null,
      "top": null,
      "visibility": null,
      "width": null
     }
    },
    "245dc97ae356461f800eb8cc7c68d09d": {
     "model_module": "@jupyter-widgets/controls",
     "model_module_version": "1.5.0",
     "model_name": "HBoxModel",
     "state": {
      "_dom_classes": [],
      "_model_module": "@jupyter-widgets/controls",
      "_model_module_version": "1.5.0",
      "_model_name": "HBoxModel",
      "_view_count": null,
      "_view_module": "@jupyter-widgets/controls",
      "_view_module_version": "1.5.0",
      "_view_name": "HBoxView",
      "box_style": "",
      "children": [
       "IPY_MODEL_b3b531920b6845da9342c39f0fb3b7cb",
       "IPY_MODEL_96b5ecc9e40a4819a20ced84ae25b9d6",
       "IPY_MODEL_0de6eab98557479390745683900b4789"
      ],
      "layout": "IPY_MODEL_235ae76f92304bd7baf4d1c80fad5b5d"
     }
    },
    "27ef4eeb6ad444e2b43c57c2ce0bdfe6": {
     "model_module": "@jupyter-widgets/controls",
     "model_module_version": "1.5.0",
     "model_name": "HBoxModel",
     "state": {
      "_dom_classes": [],
      "_model_module": "@jupyter-widgets/controls",
      "_model_module_version": "1.5.0",
      "_model_name": "HBoxModel",
      "_view_count": null,
      "_view_module": "@jupyter-widgets/controls",
      "_view_module_version": "1.5.0",
      "_view_name": "HBoxView",
      "box_style": "",
      "children": [
       "IPY_MODEL_730f6bbf929a443286cc8fb2017fb4c5",
       "IPY_MODEL_9071faa7eebd41398fa61b6a15809f6d",
       "IPY_MODEL_9c3f80f6515d40f0ac43efaa768a36d8"
      ],
      "layout": "IPY_MODEL_4fda505741e64e25b6d9eb4c91b2490c"
     }
    },
    "280fbf7e005f44f080b3adba36db5b82": {
     "model_module": "@jupyter-widgets/base",
     "model_module_version": "1.2.0",
     "model_name": "LayoutModel",
     "state": {
      "_model_module": "@jupyter-widgets/base",
      "_model_module_version": "1.2.0",
      "_model_name": "LayoutModel",
      "_view_count": null,
      "_view_module": "@jupyter-widgets/base",
      "_view_module_version": "1.2.0",
      "_view_name": "LayoutView",
      "align_content": null,
      "align_items": null,
      "align_self": null,
      "border": null,
      "bottom": null,
      "display": null,
      "flex": null,
      "flex_flow": null,
      "grid_area": null,
      "grid_auto_columns": null,
      "grid_auto_flow": null,
      "grid_auto_rows": null,
      "grid_column": null,
      "grid_gap": null,
      "grid_row": null,
      "grid_template_areas": null,
      "grid_template_columns": null,
      "grid_template_rows": null,
      "height": null,
      "justify_content": null,
      "justify_items": null,
      "left": null,
      "margin": null,
      "max_height": null,
      "max_width": null,
      "min_height": null,
      "min_width": null,
      "object_fit": null,
      "object_position": null,
      "order": null,
      "overflow": null,
      "overflow_x": null,
      "overflow_y": null,
      "padding": null,
      "right": null,
      "top": null,
      "visibility": null,
      "width": null
     }
    },
    "295daaaa156e44208099e83bb1fd05c3": {
     "model_module": "@jupyter-widgets/base",
     "model_module_version": "1.2.0",
     "model_name": "LayoutModel",
     "state": {
      "_model_module": "@jupyter-widgets/base",
      "_model_module_version": "1.2.0",
      "_model_name": "LayoutModel",
      "_view_count": null,
      "_view_module": "@jupyter-widgets/base",
      "_view_module_version": "1.2.0",
      "_view_name": "LayoutView",
      "align_content": null,
      "align_items": null,
      "align_self": null,
      "border": null,
      "bottom": null,
      "display": null,
      "flex": null,
      "flex_flow": null,
      "grid_area": null,
      "grid_auto_columns": null,
      "grid_auto_flow": null,
      "grid_auto_rows": null,
      "grid_column": null,
      "grid_gap": null,
      "grid_row": null,
      "grid_template_areas": null,
      "grid_template_columns": null,
      "grid_template_rows": null,
      "height": null,
      "justify_content": null,
      "justify_items": null,
      "left": null,
      "margin": null,
      "max_height": null,
      "max_width": null,
      "min_height": null,
      "min_width": null,
      "object_fit": null,
      "object_position": null,
      "order": null,
      "overflow": null,
      "overflow_x": null,
      "overflow_y": null,
      "padding": null,
      "right": null,
      "top": null,
      "visibility": null,
      "width": null
     }
    },
    "297bf2d7205f451d8519aecd7497cd90": {
     "model_module": "@jupyter-widgets/controls",
     "model_module_version": "1.5.0",
     "model_name": "DescriptionStyleModel",
     "state": {
      "_model_module": "@jupyter-widgets/controls",
      "_model_module_version": "1.5.0",
      "_model_name": "DescriptionStyleModel",
      "_view_count": null,
      "_view_module": "@jupyter-widgets/base",
      "_view_module_version": "1.2.0",
      "_view_name": "StyleView",
      "description_width": ""
     }
    },
    "29d102f9b3c441949a9e8ca6be6d7971": {
     "model_module": "@jupyter-widgets/base",
     "model_module_version": "1.2.0",
     "model_name": "LayoutModel",
     "state": {
      "_model_module": "@jupyter-widgets/base",
      "_model_module_version": "1.2.0",
      "_model_name": "LayoutModel",
      "_view_count": null,
      "_view_module": "@jupyter-widgets/base",
      "_view_module_version": "1.2.0",
      "_view_name": "LayoutView",
      "align_content": null,
      "align_items": null,
      "align_self": null,
      "border": null,
      "bottom": null,
      "display": null,
      "flex": null,
      "flex_flow": null,
      "grid_area": null,
      "grid_auto_columns": null,
      "grid_auto_flow": null,
      "grid_auto_rows": null,
      "grid_column": null,
      "grid_gap": null,
      "grid_row": null,
      "grid_template_areas": null,
      "grid_template_columns": null,
      "grid_template_rows": null,
      "height": null,
      "justify_content": null,
      "justify_items": null,
      "left": null,
      "margin": null,
      "max_height": null,
      "max_width": null,
      "min_height": null,
      "min_width": null,
      "object_fit": null,
      "object_position": null,
      "order": null,
      "overflow": null,
      "overflow_x": null,
      "overflow_y": null,
      "padding": null,
      "right": null,
      "top": null,
      "visibility": null,
      "width": null
     }
    },
    "2a0e64f16de84a7eb042c1c2570192b4": {
     "model_module": "@jupyter-widgets/controls",
     "model_module_version": "1.5.0",
     "model_name": "DescriptionStyleModel",
     "state": {
      "_model_module": "@jupyter-widgets/controls",
      "_model_module_version": "1.5.0",
      "_model_name": "DescriptionStyleModel",
      "_view_count": null,
      "_view_module": "@jupyter-widgets/base",
      "_view_module_version": "1.2.0",
      "_view_name": "StyleView",
      "description_width": ""
     }
    },
    "2ec5d57f444b439c816fcb356fec4a2f": {
     "model_module": "@jupyter-widgets/base",
     "model_module_version": "1.2.0",
     "model_name": "LayoutModel",
     "state": {
      "_model_module": "@jupyter-widgets/base",
      "_model_module_version": "1.2.0",
      "_model_name": "LayoutModel",
      "_view_count": null,
      "_view_module": "@jupyter-widgets/base",
      "_view_module_version": "1.2.0",
      "_view_name": "LayoutView",
      "align_content": null,
      "align_items": null,
      "align_self": null,
      "border": null,
      "bottom": null,
      "display": null,
      "flex": null,
      "flex_flow": null,
      "grid_area": null,
      "grid_auto_columns": null,
      "grid_auto_flow": null,
      "grid_auto_rows": null,
      "grid_column": null,
      "grid_gap": null,
      "grid_row": null,
      "grid_template_areas": null,
      "grid_template_columns": null,
      "grid_template_rows": null,
      "height": null,
      "justify_content": null,
      "justify_items": null,
      "left": null,
      "margin": null,
      "max_height": null,
      "max_width": null,
      "min_height": null,
      "min_width": null,
      "object_fit": null,
      "object_position": null,
      "order": null,
      "overflow": null,
      "overflow_x": null,
      "overflow_y": null,
      "padding": null,
      "right": null,
      "top": null,
      "visibility": null,
      "width": null
     }
    },
    "325fb4246a844c6aa33bb0e4e73e67d7": {
     "model_module": "@jupyter-widgets/base",
     "model_module_version": "1.2.0",
     "model_name": "LayoutModel",
     "state": {
      "_model_module": "@jupyter-widgets/base",
      "_model_module_version": "1.2.0",
      "_model_name": "LayoutModel",
      "_view_count": null,
      "_view_module": "@jupyter-widgets/base",
      "_view_module_version": "1.2.0",
      "_view_name": "LayoutView",
      "align_content": null,
      "align_items": null,
      "align_self": null,
      "border": null,
      "bottom": null,
      "display": null,
      "flex": null,
      "flex_flow": null,
      "grid_area": null,
      "grid_auto_columns": null,
      "grid_auto_flow": null,
      "grid_auto_rows": null,
      "grid_column": null,
      "grid_gap": null,
      "grid_row": null,
      "grid_template_areas": null,
      "grid_template_columns": null,
      "grid_template_rows": null,
      "height": null,
      "justify_content": null,
      "justify_items": null,
      "left": null,
      "margin": null,
      "max_height": null,
      "max_width": null,
      "min_height": null,
      "min_width": null,
      "object_fit": null,
      "object_position": null,
      "order": null,
      "overflow": null,
      "overflow_x": null,
      "overflow_y": null,
      "padding": null,
      "right": null,
      "top": null,
      "visibility": null,
      "width": null
     }
    },
    "336a7d62eeec4ba689d4541f63e5f987": {
     "model_module": "@jupyter-widgets/controls",
     "model_module_version": "1.5.0",
     "model_name": "FloatProgressModel",
     "state": {
      "_dom_classes": [],
      "_model_module": "@jupyter-widgets/controls",
      "_model_module_version": "1.5.0",
      "_model_name": "FloatProgressModel",
      "_view_count": null,
      "_view_module": "@jupyter-widgets/controls",
      "_view_module_version": "1.5.0",
      "_view_name": "ProgressView",
      "bar_style": "success",
      "description": "",
      "description_tooltip": null,
      "layout": "IPY_MODEL_21fee7fff96b4b5ca1b557bff66b7906",
      "max": 664,
      "min": 0,
      "orientation": "horizontal",
      "style": "IPY_MODEL_c0a5fe6ddf764fc1b16e75457ca89635",
      "value": 664
     }
    },
    "34cfba0755d443739f94d37f46b2aab4": {
     "model_module": "@jupyter-widgets/controls",
     "model_module_version": "1.5.0",
     "model_name": "FloatProgressModel",
     "state": {
      "_dom_classes": [],
      "_model_module": "@jupyter-widgets/controls",
      "_model_module_version": "1.5.0",
      "_model_name": "FloatProgressModel",
      "_view_count": null,
      "_view_module": "@jupyter-widgets/controls",
      "_view_module_version": "1.5.0",
      "_view_name": "ProgressView",
      "bar_style": "success",
      "description": "",
      "description_tooltip": null,
      "layout": "IPY_MODEL_a6e313ec65a240918401379ad7407058",
      "max": 2776833,
      "min": 0,
      "orientation": "horizontal",
      "style": "IPY_MODEL_05bcf8fd18144ba9b66958f7d069096b",
      "value": 2776833
     }
    },
    "35e8faf44fac4b96b7a3743ef35dc25b": {
     "model_module": "@jupyter-widgets/controls",
     "model_module_version": "1.5.0",
     "model_name": "DescriptionStyleModel",
     "state": {
      "_model_module": "@jupyter-widgets/controls",
      "_model_module_version": "1.5.0",
      "_model_name": "DescriptionStyleModel",
      "_view_count": null,
      "_view_module": "@jupyter-widgets/base",
      "_view_module_version": "1.2.0",
      "_view_name": "StyleView",
      "description_width": ""
     }
    },
    "361a32e840aa4ac29b65aa6d50004320": {
     "model_module": "@jupyter-widgets/base",
     "model_module_version": "1.2.0",
     "model_name": "LayoutModel",
     "state": {
      "_model_module": "@jupyter-widgets/base",
      "_model_module_version": "1.2.0",
      "_model_name": "LayoutModel",
      "_view_count": null,
      "_view_module": "@jupyter-widgets/base",
      "_view_module_version": "1.2.0",
      "_view_name": "LayoutView",
      "align_content": null,
      "align_items": null,
      "align_self": null,
      "border": null,
      "bottom": null,
      "display": null,
      "flex": null,
      "flex_flow": null,
      "grid_area": null,
      "grid_auto_columns": null,
      "grid_auto_flow": null,
      "grid_auto_rows": null,
      "grid_column": null,
      "grid_gap": null,
      "grid_row": null,
      "grid_template_areas": null,
      "grid_template_columns": null,
      "grid_template_rows": null,
      "height": null,
      "justify_content": null,
      "justify_items": null,
      "left": null,
      "margin": null,
      "max_height": null,
      "max_width": null,
      "min_height": null,
      "min_width": null,
      "object_fit": null,
      "object_position": null,
      "order": null,
      "overflow": null,
      "overflow_x": null,
      "overflow_y": null,
      "padding": null,
      "right": null,
      "top": null,
      "visibility": null,
      "width": null
     }
    },
    "36676b0ca86d45d7b1d6c87e206b4382": {
     "model_module": "@jupyter-widgets/base",
     "model_module_version": "1.2.0",
     "model_name": "LayoutModel",
     "state": {
      "_model_module": "@jupyter-widgets/base",
      "_model_module_version": "1.2.0",
      "_model_name": "LayoutModel",
      "_view_count": null,
      "_view_module": "@jupyter-widgets/base",
      "_view_module_version": "1.2.0",
      "_view_name": "LayoutView",
      "align_content": null,
      "align_items": null,
      "align_self": null,
      "border": null,
      "bottom": null,
      "display": null,
      "flex": null,
      "flex_flow": null,
      "grid_area": null,
      "grid_auto_columns": null,
      "grid_auto_flow": null,
      "grid_auto_rows": null,
      "grid_column": null,
      "grid_gap": null,
      "grid_row": null,
      "grid_template_areas": null,
      "grid_template_columns": null,
      "grid_template_rows": null,
      "height": null,
      "justify_content": null,
      "justify_items": null,
      "left": null,
      "margin": null,
      "max_height": null,
      "max_width": null,
      "min_height": null,
      "min_width": null,
      "object_fit": null,
      "object_position": null,
      "order": null,
      "overflow": null,
      "overflow_x": null,
      "overflow_y": null,
      "padding": null,
      "right": null,
      "top": null,
      "visibility": null,
      "width": null
     }
    },
    "392199c6fe9745729939df04e1b43513": {
     "model_module": "@jupyter-widgets/controls",
     "model_module_version": "1.5.0",
     "model_name": "FloatProgressModel",
     "state": {
      "_dom_classes": [],
      "_model_module": "@jupyter-widgets/controls",
      "_model_module_version": "1.5.0",
      "_model_name": "FloatProgressModel",
      "_view_count": null,
      "_view_module": "@jupyter-widgets/controls",
      "_view_module_version": "1.5.0",
      "_view_name": "ProgressView",
      "bar_style": "success",
      "description": "",
      "description_tooltip": null,
      "layout": "IPY_MODEL_7be25ed5a46e4a6089dc1f666d45b72a",
      "max": 1671839,
      "min": 0,
      "orientation": "horizontal",
      "style": "IPY_MODEL_ff6a7e5a170e4fdcb034ed9dfdf1017e",
      "value": 1671839
     }
    },
    "3a8441971be74b15995b13c4c7a9614f": {
     "model_module": "@jupyter-widgets/base",
     "model_module_version": "1.2.0",
     "model_name": "LayoutModel",
     "state": {
      "_model_module": "@jupyter-widgets/base",
      "_model_module_version": "1.2.0",
      "_model_name": "LayoutModel",
      "_view_count": null,
      "_view_module": "@jupyter-widgets/base",
      "_view_module_version": "1.2.0",
      "_view_name": "LayoutView",
      "align_content": null,
      "align_items": null,
      "align_self": null,
      "border": null,
      "bottom": null,
      "display": null,
      "flex": null,
      "flex_flow": null,
      "grid_area": null,
      "grid_auto_columns": null,
      "grid_auto_flow": null,
      "grid_auto_rows": null,
      "grid_column": null,
      "grid_gap": null,
      "grid_row": null,
      "grid_template_areas": null,
      "grid_template_columns": null,
      "grid_template_rows": null,
      "height": null,
      "justify_content": null,
      "justify_items": null,
      "left": null,
      "margin": null,
      "max_height": null,
      "max_width": null,
      "min_height": null,
      "min_width": null,
      "object_fit": null,
      "object_position": null,
      "order": null,
      "overflow": null,
      "overflow_x": null,
      "overflow_y": null,
      "padding": null,
      "right": null,
      "top": null,
      "visibility": null,
      "width": null
     }
    },
    "3af5b4b63c254d2db6897d6ad1e613c6": {
     "model_module": "@jupyter-widgets/controls",
     "model_module_version": "1.5.0",
     "model_name": "DescriptionStyleModel",
     "state": {
      "_model_module": "@jupyter-widgets/controls",
      "_model_module_version": "1.5.0",
      "_model_name": "DescriptionStyleModel",
      "_view_count": null,
      "_view_module": "@jupyter-widgets/base",
      "_view_module_version": "1.2.0",
      "_view_name": "StyleView",
      "description_width": ""
     }
    },
    "3c620f356104419da67aa69b57396226": {
     "model_module": "@jupyter-widgets/controls",
     "model_module_version": "1.5.0",
     "model_name": "DescriptionStyleModel",
     "state": {
      "_model_module": "@jupyter-widgets/controls",
      "_model_module_version": "1.5.0",
      "_model_name": "DescriptionStyleModel",
      "_view_count": null,
      "_view_module": "@jupyter-widgets/base",
      "_view_module_version": "1.2.0",
      "_view_name": "StyleView",
      "description_width": ""
     }
    },
    "3d434a540f624a2b95cd93335aa4252b": {
     "model_module": "@jupyter-widgets/controls",
     "model_module_version": "1.5.0",
     "model_name": "ProgressStyleModel",
     "state": {
      "_model_module": "@jupyter-widgets/controls",
      "_model_module_version": "1.5.0",
      "_model_name": "ProgressStyleModel",
      "_view_count": null,
      "_view_module": "@jupyter-widgets/base",
      "_view_module_version": "1.2.0",
      "_view_name": "StyleView",
      "bar_color": null,
      "description_width": ""
     }
    },
    "3dc4078c5536401e8837985bdf280183": {
     "model_module": "@jupyter-widgets/base",
     "model_module_version": "1.2.0",
     "model_name": "LayoutModel",
     "state": {
      "_model_module": "@jupyter-widgets/base",
      "_model_module_version": "1.2.0",
      "_model_name": "LayoutModel",
      "_view_count": null,
      "_view_module": "@jupyter-widgets/base",
      "_view_module_version": "1.2.0",
      "_view_name": "LayoutView",
      "align_content": null,
      "align_items": null,
      "align_self": null,
      "border": null,
      "bottom": null,
      "display": null,
      "flex": null,
      "flex_flow": null,
      "grid_area": null,
      "grid_auto_columns": null,
      "grid_auto_flow": null,
      "grid_auto_rows": null,
      "grid_column": null,
      "grid_gap": null,
      "grid_row": null,
      "grid_template_areas": null,
      "grid_template_columns": null,
      "grid_template_rows": null,
      "height": null,
      "justify_content": null,
      "justify_items": null,
      "left": null,
      "margin": null,
      "max_height": null,
      "max_width": null,
      "min_height": null,
      "min_width": null,
      "object_fit": null,
      "object_position": null,
      "order": null,
      "overflow": null,
      "overflow_x": null,
      "overflow_y": null,
      "padding": null,
      "right": null,
      "top": null,
      "visibility": null,
      "width": null
     }
    },
    "40085cbb963c42dbb817293049fcbe67": {
     "model_module": "@jupyter-widgets/base",
     "model_module_version": "1.2.0",
     "model_name": "LayoutModel",
     "state": {
      "_model_module": "@jupyter-widgets/base",
      "_model_module_version": "1.2.0",
      "_model_name": "LayoutModel",
      "_view_count": null,
      "_view_module": "@jupyter-widgets/base",
      "_view_module_version": "1.2.0",
      "_view_name": "LayoutView",
      "align_content": null,
      "align_items": null,
      "align_self": null,
      "border": null,
      "bottom": null,
      "display": null,
      "flex": null,
      "flex_flow": null,
      "grid_area": null,
      "grid_auto_columns": null,
      "grid_auto_flow": null,
      "grid_auto_rows": null,
      "grid_column": null,
      "grid_gap": null,
      "grid_row": null,
      "grid_template_areas": null,
      "grid_template_columns": null,
      "grid_template_rows": null,
      "height": null,
      "justify_content": null,
      "justify_items": null,
      "left": null,
      "margin": null,
      "max_height": null,
      "max_width": null,
      "min_height": null,
      "min_width": null,
      "object_fit": null,
      "object_position": null,
      "order": null,
      "overflow": null,
      "overflow_x": null,
      "overflow_y": null,
      "padding": null,
      "right": null,
      "top": null,
      "visibility": null,
      "width": null
     }
    },
    "4150f641c4f64b3fab867e8b8641b117": {
     "model_module": "@jupyter-widgets/controls",
     "model_module_version": "1.5.0",
     "model_name": "DescriptionStyleModel",
     "state": {
      "_model_module": "@jupyter-widgets/controls",
      "_model_module_version": "1.5.0",
      "_model_name": "DescriptionStyleModel",
      "_view_count": null,
      "_view_module": "@jupyter-widgets/base",
      "_view_module_version": "1.2.0",
      "_view_name": "StyleView",
      "description_width": ""
     }
    },
    "4282e4fb7ad34bd7aee2f6a397a8fb2e": {
     "model_module": "@jupyter-widgets/base",
     "model_module_version": "1.2.0",
     "model_name": "LayoutModel",
     "state": {
      "_model_module": "@jupyter-widgets/base",
      "_model_module_version": "1.2.0",
      "_model_name": "LayoutModel",
      "_view_count": null,
      "_view_module": "@jupyter-widgets/base",
      "_view_module_version": "1.2.0",
      "_view_name": "LayoutView",
      "align_content": null,
      "align_items": null,
      "align_self": null,
      "border": null,
      "bottom": null,
      "display": null,
      "flex": null,
      "flex_flow": null,
      "grid_area": null,
      "grid_auto_columns": null,
      "grid_auto_flow": null,
      "grid_auto_rows": null,
      "grid_column": null,
      "grid_gap": null,
      "grid_row": null,
      "grid_template_areas": null,
      "grid_template_columns": null,
      "grid_template_rows": null,
      "height": null,
      "justify_content": null,
      "justify_items": null,
      "left": null,
      "margin": null,
      "max_height": null,
      "max_width": null,
      "min_height": null,
      "min_width": null,
      "object_fit": null,
      "object_position": null,
      "order": null,
      "overflow": null,
      "overflow_x": null,
      "overflow_y": null,
      "padding": null,
      "right": null,
      "top": null,
      "visibility": null,
      "width": null
     }
    },
    "42e4383d3c7548cbbabfc15c5a8971c2": {
     "model_module": "@jupyter-widgets/controls",
     "model_module_version": "1.5.0",
     "model_name": "HBoxModel",
     "state": {
      "_dom_classes": [],
      "_model_module": "@jupyter-widgets/controls",
      "_model_module_version": "1.5.0",
      "_model_name": "HBoxModel",
      "_view_count": null,
      "_view_module": "@jupyter-widgets/controls",
      "_view_module_version": "1.5.0",
      "_view_name": "HBoxView",
      "box_style": "",
      "children": [
       "IPY_MODEL_a4c8fbb3bf21474ea00dc5aba779ef9c",
       "IPY_MODEL_b971e77f53e646c483b37a8514eff324",
       "IPY_MODEL_ff2615ad8e3943c593fc12fdc7075d14"
      ],
      "layout": "IPY_MODEL_9b44794778b04b9da05cbb23aa5f849f"
     }
    },
    "451ab8b922724a7496c7e8b33fbdbbc5": {
     "model_module": "@jupyter-widgets/controls",
     "model_module_version": "1.5.0",
     "model_name": "HBoxModel",
     "state": {
      "_dom_classes": [],
      "_model_module": "@jupyter-widgets/controls",
      "_model_module_version": "1.5.0",
      "_model_name": "HBoxModel",
      "_view_count": null,
      "_view_module": "@jupyter-widgets/controls",
      "_view_module_version": "1.5.0",
      "_view_name": "HBoxView",
      "box_style": "",
      "children": [
       "IPY_MODEL_75e41a0e9fcf4f388152295171269e06",
       "IPY_MODEL_34cfba0755d443739f94d37f46b2aab4",
       "IPY_MODEL_4af11318c68142eaa89524eb2e41f3dc"
      ],
      "layout": "IPY_MODEL_e90f4dbba1704d1d8e6c1e49304a7f5a"
     }
    },
    "46e384d85c604ec0bfff017c965a7a6e": {
     "model_module": "@jupyter-widgets/controls",
     "model_module_version": "1.5.0",
     "model_name": "FloatProgressModel",
     "state": {
      "_dom_classes": [],
      "_model_module": "@jupyter-widgets/controls",
      "_model_module_version": "1.5.0",
      "_model_name": "FloatProgressModel",
      "_view_count": null,
      "_view_module": "@jupyter-widgets/controls",
      "_view_module_version": "1.5.0",
      "_view_name": "ProgressView",
      "bar_style": "success",
      "description": "",
      "description_tooltip": null,
      "layout": "IPY_MODEL_23d0abb796ca406cb6c6b32b91810c1b",
      "max": 138,
      "min": 0,
      "orientation": "horizontal",
      "style": "IPY_MODEL_e19813827f5f473897a65a85260b835a",
      "value": 138
     }
    },
    "4717b5234c08479b9c261dc953f8e213": {
     "model_module": "@jupyter-widgets/base",
     "model_module_version": "1.2.0",
     "model_name": "LayoutModel",
     "state": {
      "_model_module": "@jupyter-widgets/base",
      "_model_module_version": "1.2.0",
      "_model_name": "LayoutModel",
      "_view_count": null,
      "_view_module": "@jupyter-widgets/base",
      "_view_module_version": "1.2.0",
      "_view_name": "LayoutView",
      "align_content": null,
      "align_items": null,
      "align_self": null,
      "border": null,
      "bottom": null,
      "display": null,
      "flex": null,
      "flex_flow": null,
      "grid_area": null,
      "grid_auto_columns": null,
      "grid_auto_flow": null,
      "grid_auto_rows": null,
      "grid_column": null,
      "grid_gap": null,
      "grid_row": null,
      "grid_template_areas": null,
      "grid_template_columns": null,
      "grid_template_rows": null,
      "height": null,
      "justify_content": null,
      "justify_items": null,
      "left": null,
      "margin": null,
      "max_height": null,
      "max_width": null,
      "min_height": null,
      "min_width": null,
      "object_fit": null,
      "object_position": null,
      "order": null,
      "overflow": null,
      "overflow_x": null,
      "overflow_y": null,
      "padding": null,
      "right": null,
      "top": null,
      "visibility": null,
      "width": null
     }
    },
    "4af11318c68142eaa89524eb2e41f3dc": {
     "model_module": "@jupyter-widgets/controls",
     "model_module_version": "1.5.0",
     "model_name": "HTMLModel",
     "state": {
      "_dom_classes": [],
      "_model_module": "@jupyter-widgets/controls",
      "_model_module_version": "1.5.0",
      "_model_name": "HTMLModel",
      "_view_count": null,
      "_view_module": "@jupyter-widgets/controls",
      "_view_module_version": "1.5.0",
      "_view_name": "HTMLView",
      "description": "",
      "description_tooltip": null,
      "layout": "IPY_MODEL_4c22a331456f43d49fff1194c855a52a",
      "placeholder": "​",
      "style": "IPY_MODEL_b7d0a53405e04adbbe11a44e221ed764",
      "value": " 2.78M/2.78M [00:00&lt;00:00, 30.8MB/s]"
     }
    },
    "4bebd94f459645508724a7970bd0846b": {
     "model_module": "@jupyter-widgets/controls",
     "model_module_version": "1.5.0",
     "model_name": "FloatProgressModel",
     "state": {
      "_dom_classes": [],
      "_model_module": "@jupyter-widgets/controls",
      "_model_module_version": "1.5.0",
      "_model_name": "FloatProgressModel",
      "_view_count": null,
      "_view_module": "@jupyter-widgets/controls",
      "_view_module_version": "1.5.0",
      "_view_name": "ProgressView",
      "bar_style": "success",
      "description": "",
      "description_tooltip": null,
      "layout": "IPY_MODEL_4282e4fb7ad34bd7aee2f6a397a8fb2e",
      "max": 1698724408,
      "min": 0,
      "orientation": "horizontal",
      "style": "IPY_MODEL_d4b7b0e64d4542f88d08eefc0369dad5",
      "value": 1698724408
     }
    },
    "4c22a331456f43d49fff1194c855a52a": {
     "model_module": "@jupyter-widgets/base",
     "model_module_version": "1.2.0",
     "model_name": "LayoutModel",
     "state": {
      "_model_module": "@jupyter-widgets/base",
      "_model_module_version": "1.2.0",
      "_model_name": "LayoutModel",
      "_view_count": null,
      "_view_module": "@jupyter-widgets/base",
      "_view_module_version": "1.2.0",
      "_view_name": "LayoutView",
      "align_content": null,
      "align_items": null,
      "align_self": null,
      "border": null,
      "bottom": null,
      "display": null,
      "flex": null,
      "flex_flow": null,
      "grid_area": null,
      "grid_auto_columns": null,
      "grid_auto_flow": null,
      "grid_auto_rows": null,
      "grid_column": null,
      "grid_gap": null,
      "grid_row": null,
      "grid_template_areas": null,
      "grid_template_columns": null,
      "grid_template_rows": null,
      "height": null,
      "justify_content": null,
      "justify_items": null,
      "left": null,
      "margin": null,
      "max_height": null,
      "max_width": null,
      "min_height": null,
      "min_width": null,
      "object_fit": null,
      "object_position": null,
      "order": null,
      "overflow": null,
      "overflow_x": null,
      "overflow_y": null,
      "padding": null,
      "right": null,
      "top": null,
      "visibility": null,
      "width": null
     }
    },
    "4e4de8bb647a4b089474a654fce5e18a": {
     "model_module": "@jupyter-widgets/base",
     "model_module_version": "1.2.0",
     "model_name": "LayoutModel",
     "state": {
      "_model_module": "@jupyter-widgets/base",
      "_model_module_version": "1.2.0",
      "_model_name": "LayoutModel",
      "_view_count": null,
      "_view_module": "@jupyter-widgets/base",
      "_view_module_version": "1.2.0",
      "_view_name": "LayoutView",
      "align_content": null,
      "align_items": null,
      "align_self": null,
      "border": null,
      "bottom": null,
      "display": null,
      "flex": null,
      "flex_flow": null,
      "grid_area": null,
      "grid_auto_columns": null,
      "grid_auto_flow": null,
      "grid_auto_rows": null,
      "grid_column": null,
      "grid_gap": null,
      "grid_row": null,
      "grid_template_areas": null,
      "grid_template_columns": null,
      "grid_template_rows": null,
      "height": null,
      "justify_content": null,
      "justify_items": null,
      "left": null,
      "margin": null,
      "max_height": null,
      "max_width": null,
      "min_height": null,
      "min_width": null,
      "object_fit": null,
      "object_position": null,
      "order": null,
      "overflow": null,
      "overflow_x": null,
      "overflow_y": null,
      "padding": null,
      "right": null,
      "top": null,
      "visibility": null,
      "width": null
     }
    },
    "4f658ef14ed54af2834f7db7a894a3c7": {
     "model_module": "@jupyter-widgets/controls",
     "model_module_version": "1.5.0",
     "model_name": "HTMLModel",
     "state": {
      "_dom_classes": [],
      "_model_module": "@jupyter-widgets/controls",
      "_model_module_version": "1.5.0",
      "_model_name": "HTMLModel",
      "_view_count": null,
      "_view_module": "@jupyter-widgets/controls",
      "_view_module_version": "1.5.0",
      "_view_name": "HTMLView",
      "description": "",
      "description_tooltip": null,
      "layout": "IPY_MODEL_1b5a3d8e03204870a5bbf706d6b94a30",
      "placeholder": "​",
      "style": "IPY_MODEL_6d363daa2ca5433b826b4b1f3f11ee26",
      "value": " 4.00G/4.00G [01:18&lt;00:00, 112MB/s]"
     }
    },
    "4fda505741e64e25b6d9eb4c91b2490c": {
     "model_module": "@jupyter-widgets/base",
     "model_module_version": "1.2.0",
     "model_name": "LayoutModel",
     "state": {
      "_model_module": "@jupyter-widgets/base",
      "_model_module_version": "1.2.0",
      "_model_name": "LayoutModel",
      "_view_count": null,
      "_view_module": "@jupyter-widgets/base",
      "_view_module_version": "1.2.0",
      "_view_name": "LayoutView",
      "align_content": null,
      "align_items": null,
      "align_self": null,
      "border": null,
      "bottom": null,
      "display": null,
      "flex": null,
      "flex_flow": null,
      "grid_area": null,
      "grid_auto_columns": null,
      "grid_auto_flow": null,
      "grid_auto_rows": null,
      "grid_column": null,
      "grid_gap": null,
      "grid_row": null,
      "grid_template_areas": null,
      "grid_template_columns": null,
      "grid_template_rows": null,
      "height": null,
      "justify_content": null,
      "justify_items": null,
      "left": null,
      "margin": null,
      "max_height": null,
      "max_width": null,
      "min_height": null,
      "min_width": null,
      "object_fit": null,
      "object_position": null,
      "order": null,
      "overflow": null,
      "overflow_x": null,
      "overflow_y": null,
      "padding": null,
      "right": null,
      "top": null,
      "visibility": null,
      "width": null
     }
    },
    "5038ff03b72d4e4cbbc9ddac21aaaca0": {
     "model_module": "@jupyter-widgets/controls",
     "model_module_version": "1.5.0",
     "model_name": "DescriptionStyleModel",
     "state": {
      "_model_module": "@jupyter-widgets/controls",
      "_model_module_version": "1.5.0",
      "_model_name": "DescriptionStyleModel",
      "_view_count": null,
      "_view_module": "@jupyter-widgets/base",
      "_view_module_version": "1.2.0",
      "_view_name": "StyleView",
      "description_width": ""
     }
    },
    "5171230ea7e4480a9b864f1345dfb9cf": {
     "model_module": "@jupyter-widgets/base",
     "model_module_version": "1.2.0",
     "model_name": "LayoutModel",
     "state": {
      "_model_module": "@jupyter-widgets/base",
      "_model_module_version": "1.2.0",
      "_model_name": "LayoutModel",
      "_view_count": null,
      "_view_module": "@jupyter-widgets/base",
      "_view_module_version": "1.2.0",
      "_view_name": "LayoutView",
      "align_content": null,
      "align_items": null,
      "align_self": null,
      "border": null,
      "bottom": null,
      "display": null,
      "flex": null,
      "flex_flow": null,
      "grid_area": null,
      "grid_auto_columns": null,
      "grid_auto_flow": null,
      "grid_auto_rows": null,
      "grid_column": null,
      "grid_gap": null,
      "grid_row": null,
      "grid_template_areas": null,
      "grid_template_columns": null,
      "grid_template_rows": null,
      "height": null,
      "justify_content": null,
      "justify_items": null,
      "left": null,
      "margin": null,
      "max_height": null,
      "max_width": null,
      "min_height": null,
      "min_width": null,
      "object_fit": null,
      "object_position": null,
      "order": null,
      "overflow": null,
      "overflow_x": null,
      "overflow_y": null,
      "padding": null,
      "right": null,
      "top": null,
      "visibility": null,
      "width": null
     }
    },
    "55d82aabd5204a56b3a23c983b8ffaed": {
     "model_module": "@jupyter-widgets/base",
     "model_module_version": "1.2.0",
     "model_name": "LayoutModel",
     "state": {
      "_model_module": "@jupyter-widgets/base",
      "_model_module_version": "1.2.0",
      "_model_name": "LayoutModel",
      "_view_count": null,
      "_view_module": "@jupyter-widgets/base",
      "_view_module_version": "1.2.0",
      "_view_name": "LayoutView",
      "align_content": null,
      "align_items": null,
      "align_self": null,
      "border": null,
      "bottom": null,
      "display": null,
      "flex": null,
      "flex_flow": null,
      "grid_area": null,
      "grid_auto_columns": null,
      "grid_auto_flow": null,
      "grid_auto_rows": null,
      "grid_column": null,
      "grid_gap": null,
      "grid_row": null,
      "grid_template_areas": null,
      "grid_template_columns": null,
      "grid_template_rows": null,
      "height": null,
      "justify_content": null,
      "justify_items": null,
      "left": null,
      "margin": null,
      "max_height": null,
      "max_width": null,
      "min_height": null,
      "min_width": null,
      "object_fit": null,
      "object_position": null,
      "order": null,
      "overflow": null,
      "overflow_x": null,
      "overflow_y": null,
      "padding": null,
      "right": null,
      "top": null,
      "visibility": null,
      "width": null
     }
    },
    "5660c3f598e04ef1b280f22b57fe5079": {
     "model_module": "@jupyter-widgets/controls",
     "model_module_version": "1.5.0",
     "model_name": "FloatProgressModel",
     "state": {
      "_dom_classes": [],
      "_model_module": "@jupyter-widgets/controls",
      "_model_module_version": "1.5.0",
      "_model_name": "FloatProgressModel",
      "_view_count": null,
      "_view_module": "@jupyter-widgets/controls",
      "_view_module_version": "1.5.0",
      "_view_name": "ProgressView",
      "bar_style": "success",
      "description": "",
      "description_tooltip": null,
      "layout": "IPY_MODEL_36676b0ca86d45d7b1d6c87e206b4382",
      "max": 3995328064,
      "min": 0,
      "orientation": "horizontal",
      "style": "IPY_MODEL_1f3f1c724feb43f4bce6e93d449634a7",
      "value": 3995328064
     }
    },
    "58170de52d8341b89e92abdb42a992fc": {
     "model_module": "@jupyter-widgets/controls",
     "model_module_version": "1.5.0",
     "model_name": "HBoxModel",
     "state": {
      "_dom_classes": [],
      "_model_module": "@jupyter-widgets/controls",
      "_model_module_version": "1.5.0",
      "_model_name": "HBoxModel",
      "_view_count": null,
      "_view_module": "@jupyter-widgets/controls",
      "_view_module_version": "1.5.0",
      "_view_name": "HBoxView",
      "box_style": "",
      "children": [
       "IPY_MODEL_85e188701cbb4942aa1a28227b5d1be6",
       "IPY_MODEL_6dacb979979f4432a66b294387dcb201",
       "IPY_MODEL_797382a7416843af96ea378a59fa9b18"
      ],
      "layout": "IPY_MODEL_728765a037fa40aba1e176023f3dbadc"
     }
    },
    "58503cad1d684a6b8a94c0a0581dde8c": {
     "model_module": "@jupyter-widgets/controls",
     "model_module_version": "1.5.0",
     "model_name": "HBoxModel",
     "state": {
      "_dom_classes": [],
      "_model_module": "@jupyter-widgets/controls",
      "_model_module_version": "1.5.0",
      "_model_name": "HBoxModel",
      "_view_count": null,
      "_view_module": "@jupyter-widgets/controls",
      "_view_module_version": "1.5.0",
      "_view_name": "HBoxView",
      "box_style": "",
      "children": [
       "IPY_MODEL_6b82219fa5f2441f90820d46bdfc58e1",
       "IPY_MODEL_4bebd94f459645508724a7970bd0846b",
       "IPY_MODEL_92e0172010e7488ab7b368ddb8b45c60"
      ],
      "layout": "IPY_MODEL_ffd662bbb0e2408bafdd3e95877229b8"
     }
    },
    "588f48dc401c412cb29404a7e0dd0920": {
     "model_module": "@jupyter-widgets/controls",
     "model_module_version": "1.5.0",
     "model_name": "HTMLModel",
     "state": {
      "_dom_classes": [],
      "_model_module": "@jupyter-widgets/controls",
      "_model_module_version": "1.5.0",
      "_model_name": "HTMLModel",
      "_view_count": null,
      "_view_module": "@jupyter-widgets/controls",
      "_view_module_version": "1.5.0",
      "_view_name": "HTMLView",
      "description": "",
      "description_tooltip": null,
      "layout": "IPY_MODEL_d5b25e675ec0457db4ff8fc8e7cbd34f",
      "placeholder": "​",
      "style": "IPY_MODEL_20d405c7cf744932b2c317268e55f45a",
      "value": " 4.00G/4.00G [01:16&lt;00:00, 97.1MB/s]"
     }
    },
    "5939184bce0a4c728ded6f43a0df4754": {
     "model_module": "@jupyter-widgets/controls",
     "model_module_version": "1.5.0",
     "model_name": "DescriptionStyleModel",
     "state": {
      "_model_module": "@jupyter-widgets/controls",
      "_model_module_version": "1.5.0",
      "_model_name": "DescriptionStyleModel",
      "_view_count": null,
      "_view_module": "@jupyter-widgets/base",
      "_view_module_version": "1.2.0",
      "_view_name": "StyleView",
      "description_width": ""
     }
    },
    "5a2f187cc57542aea5dc9803bec01880": {
     "model_module": "@jupyter-widgets/base",
     "model_module_version": "1.2.0",
     "model_name": "LayoutModel",
     "state": {
      "_model_module": "@jupyter-widgets/base",
      "_model_module_version": "1.2.0",
      "_model_name": "LayoutModel",
      "_view_count": null,
      "_view_module": "@jupyter-widgets/base",
      "_view_module_version": "1.2.0",
      "_view_name": "LayoutView",
      "align_content": null,
      "align_items": null,
      "align_self": null,
      "border": null,
      "bottom": null,
      "display": null,
      "flex": null,
      "flex_flow": null,
      "grid_area": null,
      "grid_auto_columns": null,
      "grid_auto_flow": null,
      "grid_auto_rows": null,
      "grid_column": null,
      "grid_gap": null,
      "grid_row": null,
      "grid_template_areas": null,
      "grid_template_columns": null,
      "grid_template_rows": null,
      "height": null,
      "justify_content": null,
      "justify_items": null,
      "left": null,
      "margin": null,
      "max_height": null,
      "max_width": null,
      "min_height": null,
      "min_width": null,
      "object_fit": null,
      "object_position": null,
      "order": null,
      "overflow": null,
      "overflow_x": null,
      "overflow_y": null,
      "padding": null,
      "right": null,
      "top": null,
      "visibility": null,
      "width": null
     }
    },
    "5ccf364292394f0da0d522ee42c63e16": {
     "model_module": "@jupyter-widgets/controls",
     "model_module_version": "1.5.0",
     "model_name": "DescriptionStyleModel",
     "state": {
      "_model_module": "@jupyter-widgets/controls",
      "_model_module_version": "1.5.0",
      "_model_name": "DescriptionStyleModel",
      "_view_count": null,
      "_view_module": "@jupyter-widgets/base",
      "_view_module_version": "1.2.0",
      "_view_name": "StyleView",
      "description_width": ""
     }
    },
    "5f0ddbf0d8654ee4aeed646fb7e542dc": {
     "model_module": "@jupyter-widgets/base",
     "model_module_version": "1.2.0",
     "model_name": "LayoutModel",
     "state": {
      "_model_module": "@jupyter-widgets/base",
      "_model_module_version": "1.2.0",
      "_model_name": "LayoutModel",
      "_view_count": null,
      "_view_module": "@jupyter-widgets/base",
      "_view_module_version": "1.2.0",
      "_view_name": "LayoutView",
      "align_content": null,
      "align_items": null,
      "align_self": null,
      "border": null,
      "bottom": null,
      "display": null,
      "flex": null,
      "flex_flow": null,
      "grid_area": null,
      "grid_auto_columns": null,
      "grid_auto_flow": null,
      "grid_auto_rows": null,
      "grid_column": null,
      "grid_gap": null,
      "grid_row": null,
      "grid_template_areas": null,
      "grid_template_columns": null,
      "grid_template_rows": null,
      "height": null,
      "justify_content": null,
      "justify_items": null,
      "left": null,
      "margin": null,
      "max_height": null,
      "max_width": null,
      "min_height": null,
      "min_width": null,
      "object_fit": null,
      "object_position": null,
      "order": null,
      "overflow": null,
      "overflow_x": null,
      "overflow_y": null,
      "padding": null,
      "right": null,
      "top": null,
      "visibility": null,
      "width": null
     }
    },
    "61a59615350c4092b9348958f4b6fbb3": {
     "model_module": "@jupyter-widgets/controls",
     "model_module_version": "1.5.0",
     "model_name": "HTMLModel",
     "state": {
      "_dom_classes": [],
      "_model_module": "@jupyter-widgets/controls",
      "_model_module_version": "1.5.0",
      "_model_name": "HTMLModel",
      "_view_count": null,
      "_view_module": "@jupyter-widgets/controls",
      "_view_module_version": "1.5.0",
      "_view_name": "HTMLView",
      "description": "",
      "description_tooltip": null,
      "layout": "IPY_MODEL_295daaaa156e44208099e83bb1fd05c3",
      "placeholder": "​",
      "style": "IPY_MODEL_5939184bce0a4c728ded6f43a0df4754",
      "value": "model-00006-of-00008.safetensors: 100%"
     }
    },
    "625dd7f18d144c9d9505351b6c422068": {
     "model_module": "@jupyter-widgets/controls",
     "model_module_version": "1.5.0",
     "model_name": "HTMLModel",
     "state": {
      "_dom_classes": [],
      "_model_module": "@jupyter-widgets/controls",
      "_model_module_version": "1.5.0",
      "_model_name": "HTMLModel",
      "_view_count": null,
      "_view_module": "@jupyter-widgets/controls",
      "_view_module_version": "1.5.0",
      "_view_name": "HTMLView",
      "description": "",
      "description_tooltip": null,
      "layout": "IPY_MODEL_b4d2e728550f492ba8a244d67789192a",
      "placeholder": "​",
      "style": "IPY_MODEL_ae0414cac5494d70951f1b862b6df073",
      "value": "model-00004-of-00008.safetensors: 100%"
     }
    },
    "643d643503f8467d9b67865f9667dc44": {
     "model_module": "@jupyter-widgets/controls",
     "model_module_version": "1.5.0",
     "model_name": "HBoxModel",
     "state": {
      "_dom_classes": [],
      "_model_module": "@jupyter-widgets/controls",
      "_model_module_version": "1.5.0",
      "_model_name": "HBoxModel",
      "_view_count": null,
      "_view_module": "@jupyter-widgets/controls",
      "_view_module_version": "1.5.0",
      "_view_name": "HBoxView",
      "box_style": "",
      "children": [
       "IPY_MODEL_105d6f1ad546430fa2d49e270debe6c8",
       "IPY_MODEL_5660c3f598e04ef1b280f22b57fe5079",
       "IPY_MODEL_f80b472e177843bdb8be64476c8c132b"
      ],
      "layout": "IPY_MODEL_1c108dde3e1f4f09ba62897025eee061"
     }
    },
    "6857cc494b034e5389e8c57457e6d5d6": {
     "model_module": "@jupyter-widgets/base",
     "model_module_version": "1.2.0",
     "model_name": "LayoutModel",
     "state": {
      "_model_module": "@jupyter-widgets/base",
      "_model_module_version": "1.2.0",
      "_model_name": "LayoutModel",
      "_view_count": null,
      "_view_module": "@jupyter-widgets/base",
      "_view_module_version": "1.2.0",
      "_view_name": "LayoutView",
      "align_content": null,
      "align_items": null,
      "align_self": null,
      "border": null,
      "bottom": null,
      "display": null,
      "flex": null,
      "flex_flow": null,
      "grid_area": null,
      "grid_auto_columns": null,
      "grid_auto_flow": null,
      "grid_auto_rows": null,
      "grid_column": null,
      "grid_gap": null,
      "grid_row": null,
      "grid_template_areas": null,
      "grid_template_columns": null,
      "grid_template_rows": null,
      "height": null,
      "justify_content": null,
      "justify_items": null,
      "left": null,
      "margin": null,
      "max_height": null,
      "max_width": null,
      "min_height": null,
      "min_width": null,
      "object_fit": null,
      "object_position": null,
      "order": null,
      "overflow": null,
      "overflow_x": null,
      "overflow_y": null,
      "padding": null,
      "right": null,
      "top": null,
      "visibility": null,
      "width": null
     }
    },
    "697341a38e9d410dba51f0f2f5e9fb4c": {
     "model_module": "@jupyter-widgets/controls",
     "model_module_version": "1.5.0",
     "model_name": "HBoxModel",
     "state": {
      "_dom_classes": [],
      "_model_module": "@jupyter-widgets/controls",
      "_model_module_version": "1.5.0",
      "_model_name": "HBoxModel",
      "_view_count": null,
      "_view_module": "@jupyter-widgets/controls",
      "_view_module_version": "1.5.0",
      "_view_name": "HBoxView",
      "box_style": "",
      "children": [
       "IPY_MODEL_a9392fe4c9184398ab16f4731c4d86ab",
       "IPY_MODEL_46e384d85c604ec0bfff017c965a7a6e",
       "IPY_MODEL_c40ba0fe2a47411e99f48ab397af0113"
      ],
      "layout": "IPY_MODEL_6ce2a1d8b9de4e909d0527f600f230da"
     }
    },
    "6b82219fa5f2441f90820d46bdfc58e1": {
     "model_module": "@jupyter-widgets/controls",
     "model_module_version": "1.5.0",
     "model_name": "HTMLModel",
     "state": {
      "_dom_classes": [],
      "_model_module": "@jupyter-widgets/controls",
      "_model_module_version": "1.5.0",
      "_model_name": "HTMLModel",
      "_view_count": null,
      "_view_module": "@jupyter-widgets/controls",
      "_view_module_version": "1.5.0",
      "_view_name": "HTMLView",
      "description": "",
      "description_tooltip": null,
      "layout": "IPY_MODEL_8f5be995392042e1b01715bcbaa71e13",
      "placeholder": "​",
      "style": "IPY_MODEL_86ae5cf69cfb4d34ba3ca315852cff61",
      "value": "model-00008-of-00008.safetensors: 100%"
     }
    },
    "6b84e81b7ed240baab1b28d54ffe3c32": {
     "model_module": "@jupyter-widgets/controls",
     "model_module_version": "1.5.0",
     "model_name": "DescriptionStyleModel",
     "state": {
      "_model_module": "@jupyter-widgets/controls",
      "_model_module_version": "1.5.0",
      "_model_name": "DescriptionStyleModel",
      "_view_count": null,
      "_view_module": "@jupyter-widgets/base",
      "_view_module_version": "1.2.0",
      "_view_name": "StyleView",
      "description_width": ""
     }
    },
    "6ce2a1d8b9de4e909d0527f600f230da": {
     "model_module": "@jupyter-widgets/base",
     "model_module_version": "1.2.0",
     "model_name": "LayoutModel",
     "state": {
      "_model_module": "@jupyter-widgets/base",
      "_model_module_version": "1.2.0",
      "_model_name": "LayoutModel",
      "_view_count": null,
      "_view_module": "@jupyter-widgets/base",
      "_view_module_version": "1.2.0",
      "_view_name": "LayoutView",
      "align_content": null,
      "align_items": null,
      "align_self": null,
      "border": null,
      "bottom": null,
      "display": null,
      "flex": null,
      "flex_flow": null,
      "grid_area": null,
      "grid_auto_columns": null,
      "grid_auto_flow": null,
      "grid_auto_rows": null,
      "grid_column": null,
      "grid_gap": null,
      "grid_row": null,
      "grid_template_areas": null,
      "grid_template_columns": null,
      "grid_template_rows": null,
      "height": null,
      "justify_content": null,
      "justify_items": null,
      "left": null,
      "margin": null,
      "max_height": null,
      "max_width": null,
      "min_height": null,
      "min_width": null,
      "object_fit": null,
      "object_position": null,
      "order": null,
      "overflow": null,
      "overflow_x": null,
      "overflow_y": null,
      "padding": null,
      "right": null,
      "top": null,
      "visibility": null,
      "width": null
     }
    },
    "6d363daa2ca5433b826b4b1f3f11ee26": {
     "model_module": "@jupyter-widgets/controls",
     "model_module_version": "1.5.0",
     "model_name": "DescriptionStyleModel",
     "state": {
      "_model_module": "@jupyter-widgets/controls",
      "_model_module_version": "1.5.0",
      "_model_name": "DescriptionStyleModel",
      "_view_count": null,
      "_view_module": "@jupyter-widgets/base",
      "_view_module_version": "1.2.0",
      "_view_name": "StyleView",
      "description_width": ""
     }
    },
    "6dacb979979f4432a66b294387dcb201": {
     "model_module": "@jupyter-widgets/controls",
     "model_module_version": "1.5.0",
     "model_name": "FloatProgressModel",
     "state": {
      "_dom_classes": [],
      "_model_module": "@jupyter-widgets/controls",
      "_model_module_version": "1.5.0",
      "_model_name": "FloatProgressModel",
      "_view_count": null,
      "_view_module": "@jupyter-widgets/controls",
      "_view_module_version": "1.5.0",
      "_view_name": "ProgressView",
      "bar_style": "success",
      "description": "",
      "description_tooltip": null,
      "layout": "IPY_MODEL_3dc4078c5536401e8837985bdf280183",
      "max": 7031645,
      "min": 0,
      "orientation": "horizontal",
      "style": "IPY_MODEL_7c6a88ce2e4f4f25b097e3f325de1f84",
      "value": 7031645
     }
    },
    "702af9f4880e4407aaa1710f02483452": {
     "model_module": "@jupyter-widgets/controls",
     "model_module_version": "1.5.0",
     "model_name": "HBoxModel",
     "state": {
      "_dom_classes": [],
      "_model_module": "@jupyter-widgets/controls",
      "_model_module_version": "1.5.0",
      "_model_name": "HBoxModel",
      "_view_count": null,
      "_view_module": "@jupyter-widgets/controls",
      "_view_module_version": "1.5.0",
      "_view_name": "HBoxView",
      "box_style": "",
      "children": [
       "IPY_MODEL_ea2274df662e40c6a96c06126b1da4ef",
       "IPY_MODEL_d5d957b72e5f4e068b8ceba832879137",
       "IPY_MODEL_c803be8f75a7427ea2885082ffbe77c5"
      ],
      "layout": "IPY_MODEL_3a8441971be74b15995b13c4c7a9614f"
     }
    },
    "728765a037fa40aba1e176023f3dbadc": {
     "model_module": "@jupyter-widgets/base",
     "model_module_version": "1.2.0",
     "model_name": "LayoutModel",
     "state": {
      "_model_module": "@jupyter-widgets/base",
      "_model_module_version": "1.2.0",
      "_model_name": "LayoutModel",
      "_view_count": null,
      "_view_module": "@jupyter-widgets/base",
      "_view_module_version": "1.2.0",
      "_view_name": "LayoutView",
      "align_content": null,
      "align_items": null,
      "align_self": null,
      "border": null,
      "bottom": null,
      "display": null,
      "flex": null,
      "flex_flow": null,
      "grid_area": null,
      "grid_auto_columns": null,
      "grid_auto_flow": null,
      "grid_auto_rows": null,
      "grid_column": null,
      "grid_gap": null,
      "grid_row": null,
      "grid_template_areas": null,
      "grid_template_columns": null,
      "grid_template_rows": null,
      "height": null,
      "justify_content": null,
      "justify_items": null,
      "left": null,
      "margin": null,
      "max_height": null,
      "max_width": null,
      "min_height": null,
      "min_width": null,
      "object_fit": null,
      "object_position": null,
      "order": null,
      "overflow": null,
      "overflow_x": null,
      "overflow_y": null,
      "padding": null,
      "right": null,
      "top": null,
      "visibility": null,
      "width": null
     }
    },
    "730f6bbf929a443286cc8fb2017fb4c5": {
     "model_module": "@jupyter-widgets/controls",
     "model_module_version": "1.5.0",
     "model_name": "HTMLModel",
     "state": {
      "_dom_classes": [],
      "_model_module": "@jupyter-widgets/controls",
      "_model_module_version": "1.5.0",
      "_model_name": "HTMLModel",
      "_view_count": null,
      "_view_module": "@jupyter-widgets/controls",
      "_view_module_version": "1.5.0",
      "_view_name": "HTMLView",
      "description": "",
      "description_tooltip": null,
      "layout": "IPY_MODEL_ce872a5e73ff42af853d4604550473dc",
      "placeholder": "​",
      "style": "IPY_MODEL_763795b723c84a3aa7be42c93ea02ce1",
      "value": "model-00005-of-00008.safetensors: 100%"
     }
    },
    "73cb24bcba074e9bbf4f9d0442579ebc": {
     "model_module": "@jupyter-widgets/base",
     "model_module_version": "1.2.0",
     "model_name": "LayoutModel",
     "state": {
      "_model_module": "@jupyter-widgets/base",
      "_model_module_version": "1.2.0",
      "_model_name": "LayoutModel",
      "_view_count": null,
      "_view_module": "@jupyter-widgets/base",
      "_view_module_version": "1.2.0",
      "_view_name": "LayoutView",
      "align_content": null,
      "align_items": null,
      "align_self": null,
      "border": null,
      "bottom": null,
      "display": null,
      "flex": null,
      "flex_flow": null,
      "grid_area": null,
      "grid_auto_columns": null,
      "grid_auto_flow": null,
      "grid_auto_rows": null,
      "grid_column": null,
      "grid_gap": null,
      "grid_row": null,
      "grid_template_areas": null,
      "grid_template_columns": null,
      "grid_template_rows": null,
      "height": null,
      "justify_content": null,
      "justify_items": null,
      "left": null,
      "margin": null,
      "max_height": null,
      "max_width": null,
      "min_height": null,
      "min_width": null,
      "object_fit": null,
      "object_position": null,
      "order": null,
      "overflow": null,
      "overflow_x": null,
      "overflow_y": null,
      "padding": null,
      "right": null,
      "top": null,
      "visibility": null,
      "width": null
     }
    },
    "743b9d977a5e4926bb1e1354cbe5225f": {
     "model_module": "@jupyter-widgets/controls",
     "model_module_version": "1.5.0",
     "model_name": "DescriptionStyleModel",
     "state": {
      "_model_module": "@jupyter-widgets/controls",
      "_model_module_version": "1.5.0",
      "_model_name": "DescriptionStyleModel",
      "_view_count": null,
      "_view_module": "@jupyter-widgets/base",
      "_view_module_version": "1.2.0",
      "_view_name": "StyleView",
      "description_width": ""
     }
    },
    "74774645b02145b480109211455506d9": {
     "model_module": "@jupyter-widgets/controls",
     "model_module_version": "1.5.0",
     "model_name": "ProgressStyleModel",
     "state": {
      "_model_module": "@jupyter-widgets/controls",
      "_model_module_version": "1.5.0",
      "_model_name": "ProgressStyleModel",
      "_view_count": null,
      "_view_module": "@jupyter-widgets/base",
      "_view_module_version": "1.2.0",
      "_view_name": "StyleView",
      "bar_color": null,
      "description_width": ""
     }
    },
    "74d16ececedf4670a176d16fd5c84aa1": {
     "model_module": "@jupyter-widgets/base",
     "model_module_version": "1.2.0",
     "model_name": "LayoutModel",
     "state": {
      "_model_module": "@jupyter-widgets/base",
      "_model_module_version": "1.2.0",
      "_model_name": "LayoutModel",
      "_view_count": null,
      "_view_module": "@jupyter-widgets/base",
      "_view_module_version": "1.2.0",
      "_view_name": "LayoutView",
      "align_content": null,
      "align_items": null,
      "align_self": null,
      "border": null,
      "bottom": null,
      "display": null,
      "flex": null,
      "flex_flow": null,
      "grid_area": null,
      "grid_auto_columns": null,
      "grid_auto_flow": null,
      "grid_auto_rows": null,
      "grid_column": null,
      "grid_gap": null,
      "grid_row": null,
      "grid_template_areas": null,
      "grid_template_columns": null,
      "grid_template_rows": null,
      "height": null,
      "justify_content": null,
      "justify_items": null,
      "left": null,
      "margin": null,
      "max_height": null,
      "max_width": null,
      "min_height": null,
      "min_width": null,
      "object_fit": null,
      "object_position": null,
      "order": null,
      "overflow": null,
      "overflow_x": null,
      "overflow_y": null,
      "padding": null,
      "right": null,
      "top": null,
      "visibility": null,
      "width": null
     }
    },
    "75b5c6afd73e400483b3218bc9067ccc": {
     "model_module": "@jupyter-widgets/controls",
     "model_module_version": "1.5.0",
     "model_name": "FloatProgressModel",
     "state": {
      "_dom_classes": [],
      "_model_module": "@jupyter-widgets/controls",
      "_model_module_version": "1.5.0",
      "_model_name": "FloatProgressModel",
      "_view_count": null,
      "_view_module": "@jupyter-widgets/controls",
      "_view_module_version": "1.5.0",
      "_view_name": "ProgressView",
      "bar_style": "success",
      "description": "",
      "description_tooltip": null,
      "layout": "IPY_MODEL_29d102f9b3c441949a9e8ca6be6d7971",
      "max": 3995328064,
      "min": 0,
      "orientation": "horizontal",
      "style": "IPY_MODEL_9535412f0f6448b98c31020b7d417cf2",
      "value": 3995328064
     }
    },
    "75e41a0e9fcf4f388152295171269e06": {
     "model_module": "@jupyter-widgets/controls",
     "model_module_version": "1.5.0",
     "model_name": "HTMLModel",
     "state": {
      "_dom_classes": [],
      "_model_module": "@jupyter-widgets/controls",
      "_model_module_version": "1.5.0",
      "_model_name": "HTMLModel",
      "_view_count": null,
      "_view_module": "@jupyter-widgets/controls",
      "_view_module_version": "1.5.0",
      "_view_name": "HTMLView",
      "description": "",
      "description_tooltip": null,
      "layout": "IPY_MODEL_4717b5234c08479b9c261dc953f8e213",
      "placeholder": "​",
      "style": "IPY_MODEL_3af5b4b63c254d2db6897d6ad1e613c6",
      "value": "vocab.json: 100%"
     }
    },
    "763795b723c84a3aa7be42c93ea02ce1": {
     "model_module": "@jupyter-widgets/controls",
     "model_module_version": "1.5.0",
     "model_name": "DescriptionStyleModel",
     "state": {
      "_model_module": "@jupyter-widgets/controls",
      "_model_module_version": "1.5.0",
      "_model_name": "DescriptionStyleModel",
      "_view_count": null,
      "_view_module": "@jupyter-widgets/base",
      "_view_module_version": "1.2.0",
      "_view_name": "StyleView",
      "description_width": ""
     }
    },
    "797382a7416843af96ea378a59fa9b18": {
     "model_module": "@jupyter-widgets/controls",
     "model_module_version": "1.5.0",
     "model_name": "HTMLModel",
     "state": {
      "_dom_classes": [],
      "_model_module": "@jupyter-widgets/controls",
      "_model_module_version": "1.5.0",
      "_model_name": "HTMLModel",
      "_view_count": null,
      "_view_module": "@jupyter-widgets/controls",
      "_view_module_version": "1.5.0",
      "_view_name": "HTMLView",
      "description": "",
      "description_tooltip": null,
      "layout": "IPY_MODEL_a4e8212dce614fbfa537cf10bc403220",
      "placeholder": "​",
      "style": "IPY_MODEL_c247102cb82540e4ac8cf95d68a510d4",
      "value": " 7.03M/7.03M [00:00&lt;00:00, 35.3MB/s]"
     }
    },
    "798ddd4241534111b279d9eee7bed2fc": {
     "model_module": "@jupyter-widgets/controls",
     "model_module_version": "1.5.0",
     "model_name": "DescriptionStyleModel",
     "state": {
      "_model_module": "@jupyter-widgets/controls",
      "_model_module_version": "1.5.0",
      "_model_name": "DescriptionStyleModel",
      "_view_count": null,
      "_view_module": "@jupyter-widgets/base",
      "_view_module_version": "1.2.0",
      "_view_name": "StyleView",
      "description_width": ""
     }
    },
    "799a6fd22466476f92fdebf244f5e73b": {
     "model_module": "@jupyter-widgets/controls",
     "model_module_version": "1.5.0",
     "model_name": "DescriptionStyleModel",
     "state": {
      "_model_module": "@jupyter-widgets/controls",
      "_model_module_version": "1.5.0",
      "_model_name": "DescriptionStyleModel",
      "_view_count": null,
      "_view_module": "@jupyter-widgets/base",
      "_view_module_version": "1.2.0",
      "_view_name": "StyleView",
      "description_width": ""
     }
    },
    "7a1e70755bff473eb96e70a98d0b0568": {
     "model_module": "@jupyter-widgets/controls",
     "model_module_version": "1.5.0",
     "model_name": "HBoxModel",
     "state": {
      "_dom_classes": [],
      "_model_module": "@jupyter-widgets/controls",
      "_model_module_version": "1.5.0",
      "_model_name": "HBoxModel",
      "_view_count": null,
      "_view_module": "@jupyter-widgets/controls",
      "_view_module_version": "1.5.0",
      "_view_name": "HBoxView",
      "box_style": "",
      "children": [
       "IPY_MODEL_0740cfe6cbb04ee9a1f02c180cc71f97",
       "IPY_MODEL_336a7d62eeec4ba689d4541f63e5f987",
       "IPY_MODEL_d02f53b629834badbb70496293f39b0f"
      ],
      "layout": "IPY_MODEL_d7241851a9374ff18e2f43e1b54e594e"
     }
    },
    "7a376384650141939e2232a7809780c4": {
     "model_module": "@jupyter-widgets/base",
     "model_module_version": "1.2.0",
     "model_name": "LayoutModel",
     "state": {
      "_model_module": "@jupyter-widgets/base",
      "_model_module_version": "1.2.0",
      "_model_name": "LayoutModel",
      "_view_count": null,
      "_view_module": "@jupyter-widgets/base",
      "_view_module_version": "1.2.0",
      "_view_name": "LayoutView",
      "align_content": null,
      "align_items": null,
      "align_self": null,
      "border": null,
      "bottom": null,
      "display": null,
      "flex": null,
      "flex_flow": null,
      "grid_area": null,
      "grid_auto_columns": null,
      "grid_auto_flow": null,
      "grid_auto_rows": null,
      "grid_column": null,
      "grid_gap": null,
      "grid_row": null,
      "grid_template_areas": null,
      "grid_template_columns": null,
      "grid_template_rows": null,
      "height": null,
      "justify_content": null,
      "justify_items": null,
      "left": null,
      "margin": null,
      "max_height": null,
      "max_width": null,
      "min_height": null,
      "min_width": null,
      "object_fit": null,
      "object_position": null,
      "order": null,
      "overflow": null,
      "overflow_x": null,
      "overflow_y": null,
      "padding": null,
      "right": null,
      "top": null,
      "visibility": null,
      "width": null
     }
    },
    "7be25ed5a46e4a6089dc1f666d45b72a": {
     "model_module": "@jupyter-widgets/base",
     "model_module_version": "1.2.0",
     "model_name": "LayoutModel",
     "state": {
      "_model_module": "@jupyter-widgets/base",
      "_model_module_version": "1.2.0",
      "_model_name": "LayoutModel",
      "_view_count": null,
      "_view_module": "@jupyter-widgets/base",
      "_view_module_version": "1.2.0",
      "_view_name": "LayoutView",
      "align_content": null,
      "align_items": null,
      "align_self": null,
      "border": null,
      "bottom": null,
      "display": null,
      "flex": null,
      "flex_flow": null,
      "grid_area": null,
      "grid_auto_columns": null,
      "grid_auto_flow": null,
      "grid_auto_rows": null,
      "grid_column": null,
      "grid_gap": null,
      "grid_row": null,
      "grid_template_areas": null,
      "grid_template_columns": null,
      "grid_template_rows": null,
      "height": null,
      "justify_content": null,
      "justify_items": null,
      "left": null,
      "margin": null,
      "max_height": null,
      "max_width": null,
      "min_height": null,
      "min_width": null,
      "object_fit": null,
      "object_position": null,
      "order": null,
      "overflow": null,
      "overflow_x": null,
      "overflow_y": null,
      "padding": null,
      "right": null,
      "top": null,
      "visibility": null,
      "width": null
     }
    },
    "7c6a88ce2e4f4f25b097e3f325de1f84": {
     "model_module": "@jupyter-widgets/controls",
     "model_module_version": "1.5.0",
     "model_name": "ProgressStyleModel",
     "state": {
      "_model_module": "@jupyter-widgets/controls",
      "_model_module_version": "1.5.0",
      "_model_name": "ProgressStyleModel",
      "_view_count": null,
      "_view_module": "@jupyter-widgets/base",
      "_view_module_version": "1.2.0",
      "_view_name": "StyleView",
      "bar_color": null,
      "description_width": ""
     }
    },
    "7e1cd06fd95f4af5ab191e5c69965455": {
     "model_module": "@jupyter-widgets/controls",
     "model_module_version": "1.5.0",
     "model_name": "HTMLModel",
     "state": {
      "_dom_classes": [],
      "_model_module": "@jupyter-widgets/controls",
      "_model_module_version": "1.5.0",
      "_model_name": "HTMLModel",
      "_view_count": null,
      "_view_module": "@jupyter-widgets/controls",
      "_view_module_version": "1.5.0",
      "_view_name": "HTMLView",
      "description": "",
      "description_tooltip": null,
      "layout": "IPY_MODEL_5f0ddbf0d8654ee4aeed646fb7e542dc",
      "placeholder": "​",
      "style": "IPY_MODEL_799a6fd22466476f92fdebf244f5e73b",
      "value": "model-00003-of-00008.safetensors: 100%"
     }
    },
    "7f9c45a814274de5b38a46e6039d1d46": {
     "model_module": "@jupyter-widgets/base",
     "model_module_version": "1.2.0",
     "model_name": "LayoutModel",
     "state": {
      "_model_module": "@jupyter-widgets/base",
      "_model_module_version": "1.2.0",
      "_model_name": "LayoutModel",
      "_view_count": null,
      "_view_module": "@jupyter-widgets/base",
      "_view_module_version": "1.2.0",
      "_view_name": "LayoutView",
      "align_content": null,
      "align_items": null,
      "align_self": null,
      "border": null,
      "bottom": null,
      "display": null,
      "flex": null,
      "flex_flow": null,
      "grid_area": null,
      "grid_auto_columns": null,
      "grid_auto_flow": null,
      "grid_auto_rows": null,
      "grid_column": null,
      "grid_gap": null,
      "grid_row": null,
      "grid_template_areas": null,
      "grid_template_columns": null,
      "grid_template_rows": null,
      "height": null,
      "justify_content": null,
      "justify_items": null,
      "left": null,
      "margin": null,
      "max_height": null,
      "max_width": null,
      "min_height": null,
      "min_width": null,
      "object_fit": null,
      "object_position": null,
      "order": null,
      "overflow": null,
      "overflow_x": null,
      "overflow_y": null,
      "padding": null,
      "right": null,
      "top": null,
      "visibility": null,
      "width": null
     }
    },
    "7fe73fbbf8a14c75bde0eaba8131b5f8": {
     "model_module": "@jupyter-widgets/base",
     "model_module_version": "1.2.0",
     "model_name": "LayoutModel",
     "state": {
      "_model_module": "@jupyter-widgets/base",
      "_model_module_version": "1.2.0",
      "_model_name": "LayoutModel",
      "_view_count": null,
      "_view_module": "@jupyter-widgets/base",
      "_view_module_version": "1.2.0",
      "_view_name": "LayoutView",
      "align_content": null,
      "align_items": null,
      "align_self": null,
      "border": null,
      "bottom": null,
      "display": null,
      "flex": null,
      "flex_flow": null,
      "grid_area": null,
      "grid_auto_columns": null,
      "grid_auto_flow": null,
      "grid_auto_rows": null,
      "grid_column": null,
      "grid_gap": null,
      "grid_row": null,
      "grid_template_areas": null,
      "grid_template_columns": null,
      "grid_template_rows": null,
      "height": null,
      "justify_content": null,
      "justify_items": null,
      "left": null,
      "margin": null,
      "max_height": null,
      "max_width": null,
      "min_height": null,
      "min_width": null,
      "object_fit": null,
      "object_position": null,
      "order": null,
      "overflow": null,
      "overflow_x": null,
      "overflow_y": null,
      "padding": null,
      "right": null,
      "top": null,
      "visibility": null,
      "width": null
     }
    },
    "83da6127266f44a3985c3c7e9a7f4719": {
     "model_module": "@jupyter-widgets/base",
     "model_module_version": "1.2.0",
     "model_name": "LayoutModel",
     "state": {
      "_model_module": "@jupyter-widgets/base",
      "_model_module_version": "1.2.0",
      "_model_name": "LayoutModel",
      "_view_count": null,
      "_view_module": "@jupyter-widgets/base",
      "_view_module_version": "1.2.0",
      "_view_name": "LayoutView",
      "align_content": null,
      "align_items": null,
      "align_self": null,
      "border": null,
      "bottom": null,
      "display": null,
      "flex": null,
      "flex_flow": null,
      "grid_area": null,
      "grid_auto_columns": null,
      "grid_auto_flow": null,
      "grid_auto_rows": null,
      "grid_column": null,
      "grid_gap": null,
      "grid_row": null,
      "grid_template_areas": null,
      "grid_template_columns": null,
      "grid_template_rows": null,
      "height": null,
      "justify_content": null,
      "justify_items": null,
      "left": null,
      "margin": null,
      "max_height": null,
      "max_width": null,
      "min_height": null,
      "min_width": null,
      "object_fit": null,
      "object_position": null,
      "order": null,
      "overflow": null,
      "overflow_x": null,
      "overflow_y": null,
      "padding": null,
      "right": null,
      "top": null,
      "visibility": null,
      "width": null
     }
    },
    "84dec5fdcc0240238d04ba38df363f6b": {
     "model_module": "@jupyter-widgets/controls",
     "model_module_version": "1.5.0",
     "model_name": "HTMLModel",
     "state": {
      "_dom_classes": [],
      "_model_module": "@jupyter-widgets/controls",
      "_model_module_version": "1.5.0",
      "_model_name": "HTMLModel",
      "_view_count": null,
      "_view_module": "@jupyter-widgets/controls",
      "_view_module_version": "1.5.0",
      "_view_name": "HTMLView",
      "description": "",
      "description_tooltip": null,
      "layout": "IPY_MODEL_d6ce2502249c4f6bb189f3396e0e11d8",
      "placeholder": "​",
      "style": "IPY_MODEL_4150f641c4f64b3fab867e8b8641b117",
      "value": "model-00001-of-00008.safetensors: 100%"
     }
    },
    "85e188701cbb4942aa1a28227b5d1be6": {
     "model_module": "@jupyter-widgets/controls",
     "model_module_version": "1.5.0",
     "model_name": "HTMLModel",
     "state": {
      "_dom_classes": [],
      "_model_module": "@jupyter-widgets/controls",
      "_model_module_version": "1.5.0",
      "_model_name": "HTMLModel",
      "_view_count": null,
      "_view_module": "@jupyter-widgets/controls",
      "_view_module_version": "1.5.0",
      "_view_name": "HTMLView",
      "description": "",
      "description_tooltip": null,
      "layout": "IPY_MODEL_130ab7e6b0de4125bca5db5d93e27f91",
      "placeholder": "​",
      "style": "IPY_MODEL_9a0504d788d5432abe24fe8735888b00",
      "value": "tokenizer.json: 100%"
     }
    },
    "86ae5cf69cfb4d34ba3ca315852cff61": {
     "model_module": "@jupyter-widgets/controls",
     "model_module_version": "1.5.0",
     "model_name": "DescriptionStyleModel",
     "state": {
      "_model_module": "@jupyter-widgets/controls",
      "_model_module_version": "1.5.0",
      "_model_name": "DescriptionStyleModel",
      "_view_count": null,
      "_view_module": "@jupyter-widgets/base",
      "_view_module_version": "1.2.0",
      "_view_name": "StyleView",
      "description_width": ""
     }
    },
    "89d8df9a3e9d4a6c8358cc1dc736ac46": {
     "model_module": "@jupyter-widgets/base",
     "model_module_version": "1.2.0",
     "model_name": "LayoutModel",
     "state": {
      "_model_module": "@jupyter-widgets/base",
      "_model_module_version": "1.2.0",
      "_model_name": "LayoutModel",
      "_view_count": null,
      "_view_module": "@jupyter-widgets/base",
      "_view_module_version": "1.2.0",
      "_view_name": "LayoutView",
      "align_content": null,
      "align_items": null,
      "align_self": null,
      "border": null,
      "bottom": null,
      "display": null,
      "flex": null,
      "flex_flow": null,
      "grid_area": null,
      "grid_auto_columns": null,
      "grid_auto_flow": null,
      "grid_auto_rows": null,
      "grid_column": null,
      "grid_gap": null,
      "grid_row": null,
      "grid_template_areas": null,
      "grid_template_columns": null,
      "grid_template_rows": null,
      "height": null,
      "justify_content": null,
      "justify_items": null,
      "left": null,
      "margin": null,
      "max_height": null,
      "max_width": null,
      "min_height": null,
      "min_width": null,
      "object_fit": null,
      "object_position": null,
      "order": null,
      "overflow": null,
      "overflow_x": null,
      "overflow_y": null,
      "padding": null,
      "right": null,
      "top": null,
      "visibility": null,
      "width": null
     }
    },
    "8f5be995392042e1b01715bcbaa71e13": {
     "model_module": "@jupyter-widgets/base",
     "model_module_version": "1.2.0",
     "model_name": "LayoutModel",
     "state": {
      "_model_module": "@jupyter-widgets/base",
      "_model_module_version": "1.2.0",
      "_model_name": "LayoutModel",
      "_view_count": null,
      "_view_module": "@jupyter-widgets/base",
      "_view_module_version": "1.2.0",
      "_view_name": "LayoutView",
      "align_content": null,
      "align_items": null,
      "align_self": null,
      "border": null,
      "bottom": null,
      "display": null,
      "flex": null,
      "flex_flow": null,
      "grid_area": null,
      "grid_auto_columns": null,
      "grid_auto_flow": null,
      "grid_auto_rows": null,
      "grid_column": null,
      "grid_gap": null,
      "grid_row": null,
      "grid_template_areas": null,
      "grid_template_columns": null,
      "grid_template_rows": null,
      "height": null,
      "justify_content": null,
      "justify_items": null,
      "left": null,
      "margin": null,
      "max_height": null,
      "max_width": null,
      "min_height": null,
      "min_width": null,
      "object_fit": null,
      "object_position": null,
      "order": null,
      "overflow": null,
      "overflow_x": null,
      "overflow_y": null,
      "padding": null,
      "right": null,
      "top": null,
      "visibility": null,
      "width": null
     }
    },
    "9071faa7eebd41398fa61b6a15809f6d": {
     "model_module": "@jupyter-widgets/controls",
     "model_module_version": "1.5.0",
     "model_name": "FloatProgressModel",
     "state": {
      "_dom_classes": [],
      "_model_module": "@jupyter-widgets/controls",
      "_model_module_version": "1.5.0",
      "_model_name": "FloatProgressModel",
      "_view_count": null,
      "_view_module": "@jupyter-widgets/controls",
      "_view_module_version": "1.5.0",
      "_view_name": "ProgressView",
      "bar_style": "success",
      "description": "",
      "description_tooltip": null,
      "layout": "IPY_MODEL_5a2f187cc57542aea5dc9803bec01880",
      "max": 3979614448,
      "min": 0,
      "orientation": "horizontal",
      "style": "IPY_MODEL_74774645b02145b480109211455506d9",
      "value": 3979614448
     }
    },
    "92e0172010e7488ab7b368ddb8b45c60": {
     "model_module": "@jupyter-widgets/controls",
     "model_module_version": "1.5.0",
     "model_name": "HTMLModel",
     "state": {
      "_dom_classes": [],
      "_model_module": "@jupyter-widgets/controls",
      "_model_module_version": "1.5.0",
      "_model_name": "HTMLModel",
      "_view_count": null,
      "_view_module": "@jupyter-widgets/controls",
      "_view_module_version": "1.5.0",
      "_view_name": "HTMLView",
      "description": "",
      "description_tooltip": null,
      "layout": "IPY_MODEL_e2d41502bdeb44e48ec13c3345aece53",
      "placeholder": "​",
      "style": "IPY_MODEL_b44f29e84540482782eb8238cff95746",
      "value": " 1.70G/1.70G [00:35&lt;00:00, 49.0MB/s]"
     }
    },
    "9535412f0f6448b98c31020b7d417cf2": {
     "model_module": "@jupyter-widgets/controls",
     "model_module_version": "1.5.0",
     "model_name": "ProgressStyleModel",
     "state": {
      "_model_module": "@jupyter-widgets/controls",
      "_model_module_version": "1.5.0",
      "_model_name": "ProgressStyleModel",
      "_view_count": null,
      "_view_module": "@jupyter-widgets/base",
      "_view_module_version": "1.2.0",
      "_view_name": "StyleView",
      "bar_color": null,
      "description_width": ""
     }
    },
    "96b5ecc9e40a4819a20ced84ae25b9d6": {
     "model_module": "@jupyter-widgets/controls",
     "model_module_version": "1.5.0",
     "model_name": "FloatProgressModel",
     "state": {
      "_dom_classes": [],
      "_model_module": "@jupyter-widgets/controls",
      "_model_module_version": "1.5.0",
      "_model_name": "FloatProgressModel",
      "_view_count": null,
      "_view_module": "@jupyter-widgets/controls",
      "_view_module_version": "1.5.0",
      "_view_name": "ProgressView",
      "bar_style": "success",
      "description": "",
      "description_tooltip": null,
      "layout": "IPY_MODEL_4e4de8bb647a4b089474a654fce5e18a",
      "max": 8,
      "min": 0,
      "orientation": "horizontal",
      "style": "IPY_MODEL_f8daf31e469a49d98f664c2a382bde90",
      "value": 8
     }
    },
    "99ac86ff7e1c464bb8bc5df2f9b4b0c0": {
     "model_module": "@jupyter-widgets/controls",
     "model_module_version": "1.5.0",
     "model_name": "HBoxModel",
     "state": {
      "_dom_classes": [],
      "_model_module": "@jupyter-widgets/controls",
      "_model_module_version": "1.5.0",
      "_model_name": "HBoxModel",
      "_view_count": null,
      "_view_module": "@jupyter-widgets/controls",
      "_view_module_version": "1.5.0",
      "_view_name": "HBoxView",
      "box_style": "",
      "children": [
       "IPY_MODEL_f127a158caff44f19e6dbc92edc552d7",
       "IPY_MODEL_b4f633a6879b424c815471c9fb5d325a",
       "IPY_MODEL_cad8d485aea049c8b64b2c5d5dfe9b57"
      ],
      "layout": "IPY_MODEL_1a1ab1402f144cc8898d1f15f34e73e8"
     }
    },
    "9a0504d788d5432abe24fe8735888b00": {
     "model_module": "@jupyter-widgets/controls",
     "model_module_version": "1.5.0",
     "model_name": "DescriptionStyleModel",
     "state": {
      "_model_module": "@jupyter-widgets/controls",
      "_model_module_version": "1.5.0",
      "_model_name": "DescriptionStyleModel",
      "_view_count": null,
      "_view_module": "@jupyter-widgets/base",
      "_view_module_version": "1.2.0",
      "_view_name": "StyleView",
      "description_width": ""
     }
    },
    "9b44794778b04b9da05cbb23aa5f849f": {
     "model_module": "@jupyter-widgets/base",
     "model_module_version": "1.2.0",
     "model_name": "LayoutModel",
     "state": {
      "_model_module": "@jupyter-widgets/base",
      "_model_module_version": "1.2.0",
      "_model_name": "LayoutModel",
      "_view_count": null,
      "_view_module": "@jupyter-widgets/base",
      "_view_module_version": "1.2.0",
      "_view_name": "LayoutView",
      "align_content": null,
      "align_items": null,
      "align_self": null,
      "border": null,
      "bottom": null,
      "display": null,
      "flex": null,
      "flex_flow": null,
      "grid_area": null,
      "grid_auto_columns": null,
      "grid_auto_flow": null,
      "grid_auto_rows": null,
      "grid_column": null,
      "grid_gap": null,
      "grid_row": null,
      "grid_template_areas": null,
      "grid_template_columns": null,
      "grid_template_rows": null,
      "height": null,
      "justify_content": null,
      "justify_items": null,
      "left": null,
      "margin": null,
      "max_height": null,
      "max_width": null,
      "min_height": null,
      "min_width": null,
      "object_fit": null,
      "object_position": null,
      "order": null,
      "overflow": null,
      "overflow_x": null,
      "overflow_y": null,
      "padding": null,
      "right": null,
      "top": null,
      "visibility": null,
      "width": null
     }
    },
    "9c3f80f6515d40f0ac43efaa768a36d8": {
     "model_module": "@jupyter-widgets/controls",
     "model_module_version": "1.5.0",
     "model_name": "HTMLModel",
     "state": {
      "_dom_classes": [],
      "_model_module": "@jupyter-widgets/controls",
      "_model_module_version": "1.5.0",
      "_model_name": "HTMLModel",
      "_view_count": null,
      "_view_module": "@jupyter-widgets/controls",
      "_view_module_version": "1.5.0",
      "_view_name": "HTMLView",
      "description": "",
      "description_tooltip": null,
      "layout": "IPY_MODEL_ddb597e9222941cd841b663598bc8f60",
      "placeholder": "​",
      "style": "IPY_MODEL_017a09258ee445d391c7bb81900c7a72",
      "value": " 3.98G/3.98G [01:18&lt;00:00, 99.9MB/s]"
     }
    },
    "9cca50cc20bf439299000d8b8d230d28": {
     "model_module": "@jupyter-widgets/controls",
     "model_module_version": "1.5.0",
     "model_name": "HTMLModel",
     "state": {
      "_dom_classes": [],
      "_model_module": "@jupyter-widgets/controls",
      "_model_module_version": "1.5.0",
      "_model_name": "HTMLModel",
      "_view_count": null,
      "_view_module": "@jupyter-widgets/controls",
      "_view_module_version": "1.5.0",
      "_view_name": "HTMLView",
      "description": "",
      "description_tooltip": null,
      "layout": "IPY_MODEL_f57ce62dd80848578b0619489395af44",
      "placeholder": "​",
      "style": "IPY_MODEL_03643c13165f428a91f3857081970bbd",
      "value": "model-00002-of-00008.safetensors: 100%"
     }
    },
    "a13193d20f3541a59cd9599cd2e4791b": {
     "model_module": "@jupyter-widgets/controls",
     "model_module_version": "1.5.0",
     "model_name": "DescriptionStyleModel",
     "state": {
      "_model_module": "@jupyter-widgets/controls",
      "_model_module_version": "1.5.0",
      "_model_name": "DescriptionStyleModel",
      "_view_count": null,
      "_view_module": "@jupyter-widgets/base",
      "_view_module_version": "1.2.0",
      "_view_name": "StyleView",
      "description_width": ""
     }
    },
    "a20f6c184a9840929503f59b157c70fa": {
     "model_module": "@jupyter-widgets/base",
     "model_module_version": "1.2.0",
     "model_name": "LayoutModel",
     "state": {
      "_model_module": "@jupyter-widgets/base",
      "_model_module_version": "1.2.0",
      "_model_name": "LayoutModel",
      "_view_count": null,
      "_view_module": "@jupyter-widgets/base",
      "_view_module_version": "1.2.0",
      "_view_name": "LayoutView",
      "align_content": null,
      "align_items": null,
      "align_self": null,
      "border": null,
      "bottom": null,
      "display": null,
      "flex": null,
      "flex_flow": null,
      "grid_area": null,
      "grid_auto_columns": null,
      "grid_auto_flow": null,
      "grid_auto_rows": null,
      "grid_column": null,
      "grid_gap": null,
      "grid_row": null,
      "grid_template_areas": null,
      "grid_template_columns": null,
      "grid_template_rows": null,
      "height": null,
      "justify_content": null,
      "justify_items": null,
      "left": null,
      "margin": null,
      "max_height": null,
      "max_width": null,
      "min_height": null,
      "min_width": null,
      "object_fit": null,
      "object_position": null,
      "order": null,
      "overflow": null,
      "overflow_x": null,
      "overflow_y": null,
      "padding": null,
      "right": null,
      "top": null,
      "visibility": null,
      "width": null
     }
    },
    "a4c8fbb3bf21474ea00dc5aba779ef9c": {
     "model_module": "@jupyter-widgets/controls",
     "model_module_version": "1.5.0",
     "model_name": "HTMLModel",
     "state": {
      "_dom_classes": [],
      "_model_module": "@jupyter-widgets/controls",
      "_model_module_version": "1.5.0",
      "_model_name": "HTMLModel",
      "_view_count": null,
      "_view_module": "@jupyter-widgets/controls",
      "_view_module_version": "1.5.0",
      "_view_name": "HTMLView",
      "description": "",
      "description_tooltip": null,
      "layout": "IPY_MODEL_d865e0936f4d4b868309da05b451bdbd",
      "placeholder": "​",
      "style": "IPY_MODEL_21787b7ce0524ca0b6ee2aa11830b8c8",
      "value": "tokenizer_config.json: 100%"
     }
    },
    "a4e611a3ecc74bdc98bfa37b3c4bbf34": {
     "model_module": "@jupyter-widgets/base",
     "model_module_version": "1.2.0",
     "model_name": "LayoutModel",
     "state": {
      "_model_module": "@jupyter-widgets/base",
      "_model_module_version": "1.2.0",
      "_model_name": "LayoutModel",
      "_view_count": null,
      "_view_module": "@jupyter-widgets/base",
      "_view_module_version": "1.2.0",
      "_view_name": "LayoutView",
      "align_content": null,
      "align_items": null,
      "align_self": null,
      "border": null,
      "bottom": null,
      "display": null,
      "flex": null,
      "flex_flow": null,
      "grid_area": null,
      "grid_auto_columns": null,
      "grid_auto_flow": null,
      "grid_auto_rows": null,
      "grid_column": null,
      "grid_gap": null,
      "grid_row": null,
      "grid_template_areas": null,
      "grid_template_columns": null,
      "grid_template_rows": null,
      "height": null,
      "justify_content": null,
      "justify_items": null,
      "left": null,
      "margin": null,
      "max_height": null,
      "max_width": null,
      "min_height": null,
      "min_width": null,
      "object_fit": null,
      "object_position": null,
      "order": null,
      "overflow": null,
      "overflow_x": null,
      "overflow_y": null,
      "padding": null,
      "right": null,
      "top": null,
      "visibility": null,
      "width": null
     }
    },
    "a4e8212dce614fbfa537cf10bc403220": {
     "model_module": "@jupyter-widgets/base",
     "model_module_version": "1.2.0",
     "model_name": "LayoutModel",
     "state": {
      "_model_module": "@jupyter-widgets/base",
      "_model_module_version": "1.2.0",
      "_model_name": "LayoutModel",
      "_view_count": null,
      "_view_module": "@jupyter-widgets/base",
      "_view_module_version": "1.2.0",
      "_view_name": "LayoutView",
      "align_content": null,
      "align_items": null,
      "align_self": null,
      "border": null,
      "bottom": null,
      "display": null,
      "flex": null,
      "flex_flow": null,
      "grid_area": null,
      "grid_auto_columns": null,
      "grid_auto_flow": null,
      "grid_auto_rows": null,
      "grid_column": null,
      "grid_gap": null,
      "grid_row": null,
      "grid_template_areas": null,
      "grid_template_columns": null,
      "grid_template_rows": null,
      "height": null,
      "justify_content": null,
      "justify_items": null,
      "left": null,
      "margin": null,
      "max_height": null,
      "max_width": null,
      "min_height": null,
      "min_width": null,
      "object_fit": null,
      "object_position": null,
      "order": null,
      "overflow": null,
      "overflow_x": null,
      "overflow_y": null,
      "padding": null,
      "right": null,
      "top": null,
      "visibility": null,
      "width": null
     }
    },
    "a6e313ec65a240918401379ad7407058": {
     "model_module": "@jupyter-widgets/base",
     "model_module_version": "1.2.0",
     "model_name": "LayoutModel",
     "state": {
      "_model_module": "@jupyter-widgets/base",
      "_model_module_version": "1.2.0",
      "_model_name": "LayoutModel",
      "_view_count": null,
      "_view_module": "@jupyter-widgets/base",
      "_view_module_version": "1.2.0",
      "_view_name": "LayoutView",
      "align_content": null,
      "align_items": null,
      "align_self": null,
      "border": null,
      "bottom": null,
      "display": null,
      "flex": null,
      "flex_flow": null,
      "grid_area": null,
      "grid_auto_columns": null,
      "grid_auto_flow": null,
      "grid_auto_rows": null,
      "grid_column": null,
      "grid_gap": null,
      "grid_row": null,
      "grid_template_areas": null,
      "grid_template_columns": null,
      "grid_template_rows": null,
      "height": null,
      "justify_content": null,
      "justify_items": null,
      "left": null,
      "margin": null,
      "max_height": null,
      "max_width": null,
      "min_height": null,
      "min_width": null,
      "object_fit": null,
      "object_position": null,
      "order": null,
      "overflow": null,
      "overflow_x": null,
      "overflow_y": null,
      "padding": null,
      "right": null,
      "top": null,
      "visibility": null,
      "width": null
     }
    },
    "a9392fe4c9184398ab16f4731c4d86ab": {
     "model_module": "@jupyter-widgets/controls",
     "model_module_version": "1.5.0",
     "model_name": "HTMLModel",
     "state": {
      "_dom_classes": [],
      "_model_module": "@jupyter-widgets/controls",
      "_model_module_version": "1.5.0",
      "_model_name": "HTMLModel",
      "_view_count": null,
      "_view_module": "@jupyter-widgets/controls",
      "_view_module_version": "1.5.0",
      "_view_name": "HTMLView",
      "description": "",
      "description_tooltip": null,
      "layout": "IPY_MODEL_361a32e840aa4ac29b65aa6d50004320",
      "placeholder": "​",
      "style": "IPY_MODEL_eb589d23d2a740b59ecaee7ca53ac505",
      "value": "generation_config.json: 100%"
     }
    },
    "ab359d23830b4f9b95a1adccfb0b0f3e": {
     "model_module": "@jupyter-widgets/controls",
     "model_module_version": "1.5.0",
     "model_name": "HTMLModel",
     "state": {
      "_dom_classes": [],
      "_model_module": "@jupyter-widgets/controls",
      "_model_module_version": "1.5.0",
      "_model_name": "HTMLModel",
      "_view_count": null,
      "_view_module": "@jupyter-widgets/controls",
      "_view_module_version": "1.5.0",
      "_view_name": "HTMLView",
      "description": "",
      "description_tooltip": null,
      "layout": "IPY_MODEL_5171230ea7e4480a9b864f1345dfb9cf",
      "placeholder": "​",
      "style": "IPY_MODEL_2a0e64f16de84a7eb042c1c2570192b4",
      "value": " 4.00G/4.00G [01:17&lt;00:00, 91.0MB/s]"
     }
    },
    "ae0414cac5494d70951f1b862b6df073": {
     "model_module": "@jupyter-widgets/controls",
     "model_module_version": "1.5.0",
     "model_name": "DescriptionStyleModel",
     "state": {
      "_model_module": "@jupyter-widgets/controls",
      "_model_module_version": "1.5.0",
      "_model_name": "DescriptionStyleModel",
      "_view_count": null,
      "_view_module": "@jupyter-widgets/base",
      "_view_module_version": "1.2.0",
      "_view_name": "StyleView",
      "description_width": ""
     }
    },
    "b01ccd666fd345378f7d9c3ea7edc6fa": {
     "model_module": "@jupyter-widgets/controls",
     "model_module_version": "1.5.0",
     "model_name": "DescriptionStyleModel",
     "state": {
      "_model_module": "@jupyter-widgets/controls",
      "_model_module_version": "1.5.0",
      "_model_name": "DescriptionStyleModel",
      "_view_count": null,
      "_view_module": "@jupyter-widgets/base",
      "_view_module_version": "1.2.0",
      "_view_name": "StyleView",
      "description_width": ""
     }
    },
    "b0a83e23df5441fc8e0c56a73030b492": {
     "model_module": "@jupyter-widgets/controls",
     "model_module_version": "1.5.0",
     "model_name": "ProgressStyleModel",
     "state": {
      "_model_module": "@jupyter-widgets/controls",
      "_model_module_version": "1.5.0",
      "_model_name": "ProgressStyleModel",
      "_view_count": null,
      "_view_module": "@jupyter-widgets/base",
      "_view_module_version": "1.2.0",
      "_view_name": "StyleView",
      "bar_color": null,
      "description_width": ""
     }
    },
    "b223f000290d46999594ad89d202bf31": {
     "model_module": "@jupyter-widgets/controls",
     "model_module_version": "1.5.0",
     "model_name": "DescriptionStyleModel",
     "state": {
      "_model_module": "@jupyter-widgets/controls",
      "_model_module_version": "1.5.0",
      "_model_name": "DescriptionStyleModel",
      "_view_count": null,
      "_view_module": "@jupyter-widgets/base",
      "_view_module_version": "1.2.0",
      "_view_name": "StyleView",
      "description_width": ""
     }
    },
    "b298a16683664277b8ff30fef0513f01": {
     "model_module": "@jupyter-widgets/controls",
     "model_module_version": "1.5.0",
     "model_name": "ProgressStyleModel",
     "state": {
      "_model_module": "@jupyter-widgets/controls",
      "_model_module_version": "1.5.0",
      "_model_name": "ProgressStyleModel",
      "_view_count": null,
      "_view_module": "@jupyter-widgets/base",
      "_view_module_version": "1.2.0",
      "_view_name": "StyleView",
      "bar_color": null,
      "description_width": ""
     }
    },
    "b3b531920b6845da9342c39f0fb3b7cb": {
     "model_module": "@jupyter-widgets/controls",
     "model_module_version": "1.5.0",
     "model_name": "HTMLModel",
     "state": {
      "_dom_classes": [],
      "_model_module": "@jupyter-widgets/controls",
      "_model_module_version": "1.5.0",
      "_model_name": "HTMLModel",
      "_view_count": null,
      "_view_module": "@jupyter-widgets/controls",
      "_view_module_version": "1.5.0",
      "_view_name": "HTMLView",
      "description": "",
      "description_tooltip": null,
      "layout": "IPY_MODEL_55d82aabd5204a56b3a23c983b8ffaed",
      "placeholder": "​",
      "style": "IPY_MODEL_0e012ec0df174fb89d3da95efdbae99a",
      "value": "Fetching 8 files: 100%"
     }
    },
    "b44f29e84540482782eb8238cff95746": {
     "model_module": "@jupyter-widgets/controls",
     "model_module_version": "1.5.0",
     "model_name": "DescriptionStyleModel",
     "state": {
      "_model_module": "@jupyter-widgets/controls",
      "_model_module_version": "1.5.0",
      "_model_name": "DescriptionStyleModel",
      "_view_count": null,
      "_view_module": "@jupyter-widgets/base",
      "_view_module_version": "1.2.0",
      "_view_name": "StyleView",
      "description_width": ""
     }
    },
    "b4d2e728550f492ba8a244d67789192a": {
     "model_module": "@jupyter-widgets/base",
     "model_module_version": "1.2.0",
     "model_name": "LayoutModel",
     "state": {
      "_model_module": "@jupyter-widgets/base",
      "_model_module_version": "1.2.0",
      "_model_name": "LayoutModel",
      "_view_count": null,
      "_view_module": "@jupyter-widgets/base",
      "_view_module_version": "1.2.0",
      "_view_name": "LayoutView",
      "align_content": null,
      "align_items": null,
      "align_self": null,
      "border": null,
      "bottom": null,
      "display": null,
      "flex": null,
      "flex_flow": null,
      "grid_area": null,
      "grid_auto_columns": null,
      "grid_auto_flow": null,
      "grid_auto_rows": null,
      "grid_column": null,
      "grid_gap": null,
      "grid_row": null,
      "grid_template_areas": null,
      "grid_template_columns": null,
      "grid_template_rows": null,
      "height": null,
      "justify_content": null,
      "justify_items": null,
      "left": null,
      "margin": null,
      "max_height": null,
      "max_width": null,
      "min_height": null,
      "min_width": null,
      "object_fit": null,
      "object_position": null,
      "order": null,
      "overflow": null,
      "overflow_x": null,
      "overflow_y": null,
      "padding": null,
      "right": null,
      "top": null,
      "visibility": null,
      "width": null
     }
    },
    "b4f633a6879b424c815471c9fb5d325a": {
     "model_module": "@jupyter-widgets/controls",
     "model_module_version": "1.5.0",
     "model_name": "FloatProgressModel",
     "state": {
      "_dom_classes": [],
      "_model_module": "@jupyter-widgets/controls",
      "_model_module_version": "1.5.0",
      "_model_name": "FloatProgressModel",
      "_view_count": null,
      "_view_module": "@jupyter-widgets/controls",
      "_view_module_version": "1.5.0",
      "_view_name": "ProgressView",
      "bar_style": "success",
      "description": "",
      "description_tooltip": null,
      "layout": "IPY_MODEL_89d8df9a3e9d4a6c8358cc1dc736ac46",
      "max": 47472,
      "min": 0,
      "orientation": "horizontal",
      "style": "IPY_MODEL_177c698730d84d8282baecef5a8a942d",
      "value": 47472
     }
    },
    "b7d0a53405e04adbbe11a44e221ed764": {
     "model_module": "@jupyter-widgets/controls",
     "model_module_version": "1.5.0",
     "model_name": "DescriptionStyleModel",
     "state": {
      "_model_module": "@jupyter-widgets/controls",
      "_model_module_version": "1.5.0",
      "_model_name": "DescriptionStyleModel",
      "_view_count": null,
      "_view_module": "@jupyter-widgets/base",
      "_view_module_version": "1.2.0",
      "_view_name": "StyleView",
      "description_width": ""
     }
    },
    "b96dd6db15854005a1227b40f0b322b0": {
     "model_module": "@jupyter-widgets/controls",
     "model_module_version": "1.5.0",
     "model_name": "HTMLModel",
     "state": {
      "_dom_classes": [],
      "_model_module": "@jupyter-widgets/controls",
      "_model_module_version": "1.5.0",
      "_model_name": "HTMLModel",
      "_view_count": null,
      "_view_module": "@jupyter-widgets/controls",
      "_view_module_version": "1.5.0",
      "_view_name": "HTMLView",
      "description": "",
      "description_tooltip": null,
      "layout": "IPY_MODEL_ffdf4078c892475dbd525c80f6379acc",
      "placeholder": "​",
      "style": "IPY_MODEL_1b5ffecb148646bf8e827a282bcf4d60",
      "value": " 1.67M/1.67M [00:00&lt;00:00, 9.01MB/s]"
     }
    },
    "b971e77f53e646c483b37a8514eff324": {
     "model_module": "@jupyter-widgets/controls",
     "model_module_version": "1.5.0",
     "model_name": "FloatProgressModel",
     "state": {
      "_dom_classes": [],
      "_model_module": "@jupyter-widgets/controls",
      "_model_module_version": "1.5.0",
      "_model_name": "FloatProgressModel",
      "_view_count": null,
      "_view_module": "@jupyter-widgets/controls",
      "_view_module_version": "1.5.0",
      "_view_name": "ProgressView",
      "bar_style": "success",
      "description": "",
      "description_tooltip": null,
      "layout": "IPY_MODEL_7fe73fbbf8a14c75bde0eaba8131b5f8",
      "max": 7228,
      "min": 0,
      "orientation": "horizontal",
      "style": "IPY_MODEL_c7fb015165d8458f881d297d45cdfcff",
      "value": 7228
     }
    },
    "bb53e7a97c6349ee909cdb35121586c0": {
     "model_module": "@jupyter-widgets/controls",
     "model_module_version": "1.5.0",
     "model_name": "HTMLModel",
     "state": {
      "_dom_classes": [],
      "_model_module": "@jupyter-widgets/controls",
      "_model_module_version": "1.5.0",
      "_model_name": "HTMLModel",
      "_view_count": null,
      "_view_module": "@jupyter-widgets/controls",
      "_view_module_version": "1.5.0",
      "_view_name": "HTMLView",
      "description": "",
      "description_tooltip": null,
      "layout": "IPY_MODEL_6857cc494b034e5389e8c57457e6d5d6",
      "placeholder": "​",
      "style": "IPY_MODEL_297bf2d7205f451d8519aecd7497cd90",
      "value": "merges.txt: 100%"
     }
    },
    "bb788fe99d514e8a996659768f4e47d5": {
     "model_module": "@jupyter-widgets/controls",
     "model_module_version": "1.5.0",
     "model_name": "FloatProgressModel",
     "state": {
      "_dom_classes": [],
      "_model_module": "@jupyter-widgets/controls",
      "_model_module_version": "1.5.0",
      "_model_name": "FloatProgressModel",
      "_view_count": null,
      "_view_module": "@jupyter-widgets/controls",
      "_view_module_version": "1.5.0",
      "_view_name": "ProgressView",
      "bar_style": "success",
      "description": "",
      "description_tooltip": null,
      "layout": "IPY_MODEL_a4e611a3ecc74bdc98bfa37b3c4bbf34",
      "max": 3995327992,
      "min": 0,
      "orientation": "horizontal",
      "style": "IPY_MODEL_b0a83e23df5441fc8e0c56a73030b492",
      "value": 3995327992
     }
    },
    "bc7e255ea79f4aa0baecf0e11f85fbfe": {
     "model_module": "@jupyter-widgets/base",
     "model_module_version": "1.2.0",
     "model_name": "LayoutModel",
     "state": {
      "_model_module": "@jupyter-widgets/base",
      "_model_module_version": "1.2.0",
      "_model_name": "LayoutModel",
      "_view_count": null,
      "_view_module": "@jupyter-widgets/base",
      "_view_module_version": "1.2.0",
      "_view_name": "LayoutView",
      "align_content": null,
      "align_items": null,
      "align_self": null,
      "border": null,
      "bottom": null,
      "display": null,
      "flex": null,
      "flex_flow": null,
      "grid_area": null,
      "grid_auto_columns": null,
      "grid_auto_flow": null,
      "grid_auto_rows": null,
      "grid_column": null,
      "grid_gap": null,
      "grid_row": null,
      "grid_template_areas": null,
      "grid_template_columns": null,
      "grid_template_rows": null,
      "height": null,
      "justify_content": null,
      "justify_items": null,
      "left": null,
      "margin": null,
      "max_height": null,
      "max_width": null,
      "min_height": null,
      "min_width": null,
      "object_fit": null,
      "object_position": null,
      "order": null,
      "overflow": null,
      "overflow_x": null,
      "overflow_y": null,
      "padding": null,
      "right": null,
      "top": null,
      "visibility": null,
      "width": null
     }
    },
    "bce5c71dd0984ee1be13061eb6d353fb": {
     "model_module": "@jupyter-widgets/controls",
     "model_module_version": "1.5.0",
     "model_name": "DescriptionStyleModel",
     "state": {
      "_model_module": "@jupyter-widgets/controls",
      "_model_module_version": "1.5.0",
      "_model_name": "DescriptionStyleModel",
      "_view_count": null,
      "_view_module": "@jupyter-widgets/base",
      "_view_module_version": "1.2.0",
      "_view_name": "StyleView",
      "description_width": ""
     }
    },
    "bd974de33c4b452eabd95b4b9fdd6375": {
     "model_module": "@jupyter-widgets/controls",
     "model_module_version": "1.5.0",
     "model_name": "FloatProgressModel",
     "state": {
      "_dom_classes": [],
      "_model_module": "@jupyter-widgets/controls",
      "_model_module_version": "1.5.0",
      "_model_name": "FloatProgressModel",
      "_view_count": null,
      "_view_module": "@jupyter-widgets/controls",
      "_view_module_version": "1.5.0",
      "_view_name": "ProgressView",
      "bar_style": "success",
      "description": "",
      "description_tooltip": null,
      "layout": "IPY_MODEL_325fb4246a844c6aa33bb0e4e73e67d7",
      "max": 3885134104,
      "min": 0,
      "orientation": "horizontal",
      "style": "IPY_MODEL_3d434a540f624a2b95cd93335aa4252b",
      "value": 3885134104
     }
    },
    "be39742d9c544196a18c84c6cf5a03f9": {
     "model_module": "@jupyter-widgets/base",
     "model_module_version": "1.2.0",
     "model_name": "LayoutModel",
     "state": {
      "_model_module": "@jupyter-widgets/base",
      "_model_module_version": "1.2.0",
      "_model_name": "LayoutModel",
      "_view_count": null,
      "_view_module": "@jupyter-widgets/base",
      "_view_module_version": "1.2.0",
      "_view_name": "LayoutView",
      "align_content": null,
      "align_items": null,
      "align_self": null,
      "border": null,
      "bottom": null,
      "display": null,
      "flex": null,
      "flex_flow": null,
      "grid_area": null,
      "grid_auto_columns": null,
      "grid_auto_flow": null,
      "grid_auto_rows": null,
      "grid_column": null,
      "grid_gap": null,
      "grid_row": null,
      "grid_template_areas": null,
      "grid_template_columns": null,
      "grid_template_rows": null,
      "height": null,
      "justify_content": null,
      "justify_items": null,
      "left": null,
      "margin": null,
      "max_height": null,
      "max_width": null,
      "min_height": null,
      "min_width": null,
      "object_fit": null,
      "object_position": null,
      "order": null,
      "overflow": null,
      "overflow_x": null,
      "overflow_y": null,
      "padding": null,
      "right": null,
      "top": null,
      "visibility": null,
      "width": null
     }
    },
    "bf5a878592dd421d84a0622123e85f25": {
     "model_module": "@jupyter-widgets/base",
     "model_module_version": "1.2.0",
     "model_name": "LayoutModel",
     "state": {
      "_model_module": "@jupyter-widgets/base",
      "_model_module_version": "1.2.0",
      "_model_name": "LayoutModel",
      "_view_count": null,
      "_view_module": "@jupyter-widgets/base",
      "_view_module_version": "1.2.0",
      "_view_name": "LayoutView",
      "align_content": null,
      "align_items": null,
      "align_self": null,
      "border": null,
      "bottom": null,
      "display": null,
      "flex": null,
      "flex_flow": null,
      "grid_area": null,
      "grid_auto_columns": null,
      "grid_auto_flow": null,
      "grid_auto_rows": null,
      "grid_column": null,
      "grid_gap": null,
      "grid_row": null,
      "grid_template_areas": null,
      "grid_template_columns": null,
      "grid_template_rows": null,
      "height": null,
      "justify_content": null,
      "justify_items": null,
      "left": null,
      "margin": null,
      "max_height": null,
      "max_width": null,
      "min_height": null,
      "min_width": null,
      "object_fit": null,
      "object_position": null,
      "order": null,
      "overflow": null,
      "overflow_x": null,
      "overflow_y": null,
      "padding": null,
      "right": null,
      "top": null,
      "visibility": null,
      "width": null
     }
    },
    "c0a5fe6ddf764fc1b16e75457ca89635": {
     "model_module": "@jupyter-widgets/controls",
     "model_module_version": "1.5.0",
     "model_name": "ProgressStyleModel",
     "state": {
      "_model_module": "@jupyter-widgets/controls",
      "_model_module_version": "1.5.0",
      "_model_name": "ProgressStyleModel",
      "_view_count": null,
      "_view_module": "@jupyter-widgets/base",
      "_view_module_version": "1.2.0",
      "_view_name": "StyleView",
      "bar_color": null,
      "description_width": ""
     }
    },
    "c0c00a80781b4a98b42035a74f7a2d0f": {
     "model_module": "@jupyter-widgets/base",
     "model_module_version": "1.2.0",
     "model_name": "LayoutModel",
     "state": {
      "_model_module": "@jupyter-widgets/base",
      "_model_module_version": "1.2.0",
      "_model_name": "LayoutModel",
      "_view_count": null,
      "_view_module": "@jupyter-widgets/base",
      "_view_module_version": "1.2.0",
      "_view_name": "LayoutView",
      "align_content": null,
      "align_items": null,
      "align_self": null,
      "border": null,
      "bottom": null,
      "display": null,
      "flex": null,
      "flex_flow": null,
      "grid_area": null,
      "grid_auto_columns": null,
      "grid_auto_flow": null,
      "grid_auto_rows": null,
      "grid_column": null,
      "grid_gap": null,
      "grid_row": null,
      "grid_template_areas": null,
      "grid_template_columns": null,
      "grid_template_rows": null,
      "height": null,
      "justify_content": null,
      "justify_items": null,
      "left": null,
      "margin": null,
      "max_height": null,
      "max_width": null,
      "min_height": null,
      "min_width": null,
      "object_fit": null,
      "object_position": null,
      "order": null,
      "overflow": null,
      "overflow_x": null,
      "overflow_y": null,
      "padding": null,
      "right": null,
      "top": null,
      "visibility": null,
      "width": null
     }
    },
    "c247102cb82540e4ac8cf95d68a510d4": {
     "model_module": "@jupyter-widgets/controls",
     "model_module_version": "1.5.0",
     "model_name": "DescriptionStyleModel",
     "state": {
      "_model_module": "@jupyter-widgets/controls",
      "_model_module_version": "1.5.0",
      "_model_name": "DescriptionStyleModel",
      "_view_count": null,
      "_view_module": "@jupyter-widgets/base",
      "_view_module_version": "1.2.0",
      "_view_name": "StyleView",
      "description_width": ""
     }
    },
    "c3e35c996bcf4ac9b01070df1979535e": {
     "model_module": "@jupyter-widgets/controls",
     "model_module_version": "1.5.0",
     "model_name": "FloatProgressModel",
     "state": {
      "_dom_classes": [],
      "_model_module": "@jupyter-widgets/controls",
      "_model_module_version": "1.5.0",
      "_model_name": "FloatProgressModel",
      "_view_count": null,
      "_view_module": "@jupyter-widgets/controls",
      "_view_module_version": "1.5.0",
      "_view_name": "ProgressView",
      "bar_style": "success",
      "description": "",
      "description_tooltip": null,
      "layout": "IPY_MODEL_280fbf7e005f44f080b3adba36db5b82",
      "max": 3995328064,
      "min": 0,
      "orientation": "horizontal",
      "style": "IPY_MODEL_b298a16683664277b8ff30fef0513f01",
      "value": 3995328064
     }
    },
    "c40ba0fe2a47411e99f48ab397af0113": {
     "model_module": "@jupyter-widgets/controls",
     "model_module_version": "1.5.0",
     "model_name": "HTMLModel",
     "state": {
      "_dom_classes": [],
      "_model_module": "@jupyter-widgets/controls",
      "_model_module_version": "1.5.0",
      "_model_name": "HTMLModel",
      "_view_count": null,
      "_view_module": "@jupyter-widgets/controls",
      "_view_module_version": "1.5.0",
      "_view_name": "HTMLView",
      "description": "",
      "description_tooltip": null,
      "layout": "IPY_MODEL_de13f8808f2a4b49a291314cca980739",
      "placeholder": "​",
      "style": "IPY_MODEL_c5b5086196074cf296bfefca18f432cc",
      "value": " 138/138 [00:00&lt;00:00, 15.4kB/s]"
     }
    },
    "c45e1de2fc2c44ea8b37d997002ef34f": {
     "model_module": "@jupyter-widgets/base",
     "model_module_version": "1.2.0",
     "model_name": "LayoutModel",
     "state": {
      "_model_module": "@jupyter-widgets/base",
      "_model_module_version": "1.2.0",
      "_model_name": "LayoutModel",
      "_view_count": null,
      "_view_module": "@jupyter-widgets/base",
      "_view_module_version": "1.2.0",
      "_view_name": "LayoutView",
      "align_content": null,
      "align_items": null,
      "align_self": null,
      "border": null,
      "bottom": null,
      "display": null,
      "flex": null,
      "flex_flow": null,
      "grid_area": null,
      "grid_auto_columns": null,
      "grid_auto_flow": null,
      "grid_auto_rows": null,
      "grid_column": null,
      "grid_gap": null,
      "grid_row": null,
      "grid_template_areas": null,
      "grid_template_columns": null,
      "grid_template_rows": null,
      "height": null,
      "justify_content": null,
      "justify_items": null,
      "left": null,
      "margin": null,
      "max_height": null,
      "max_width": null,
      "min_height": null,
      "min_width": null,
      "object_fit": null,
      "object_position": null,
      "order": null,
      "overflow": null,
      "overflow_x": null,
      "overflow_y": null,
      "padding": null,
      "right": null,
      "top": null,
      "visibility": null,
      "width": null
     }
    },
    "c5b5086196074cf296bfefca18f432cc": {
     "model_module": "@jupyter-widgets/controls",
     "model_module_version": "1.5.0",
     "model_name": "DescriptionStyleModel",
     "state": {
      "_model_module": "@jupyter-widgets/controls",
      "_model_module_version": "1.5.0",
      "_model_name": "DescriptionStyleModel",
      "_view_count": null,
      "_view_module": "@jupyter-widgets/base",
      "_view_module_version": "1.2.0",
      "_view_name": "StyleView",
      "description_width": ""
     }
    },
    "c6fdf68013554e899b217b6d887107a2": {
     "model_module": "@jupyter-widgets/controls",
     "model_module_version": "1.5.0",
     "model_name": "FloatProgressModel",
     "state": {
      "_dom_classes": [],
      "_model_module": "@jupyter-widgets/controls",
      "_model_module_version": "1.5.0",
      "_model_name": "FloatProgressModel",
      "_view_count": null,
      "_view_module": "@jupyter-widgets/controls",
      "_view_module_version": "1.5.0",
      "_view_name": "ProgressView",
      "bar_style": "success",
      "description": "",
      "description_tooltip": null,
      "layout": "IPY_MODEL_c0c00a80781b4a98b42035a74f7a2d0f",
      "max": 3995348776,
      "min": 0,
      "orientation": "horizontal",
      "style": "IPY_MODEL_f6bb69ef662040589dba6c9345958af1",
      "value": 3995348776
     }
    },
    "c7fb015165d8458f881d297d45cdfcff": {
     "model_module": "@jupyter-widgets/controls",
     "model_module_version": "1.5.0",
     "model_name": "ProgressStyleModel",
     "state": {
      "_model_module": "@jupyter-widgets/controls",
      "_model_module_version": "1.5.0",
      "_model_name": "ProgressStyleModel",
      "_view_count": null,
      "_view_module": "@jupyter-widgets/base",
      "_view_module_version": "1.2.0",
      "_view_name": "StyleView",
      "bar_color": null,
      "description_width": ""
     }
    },
    "c803be8f75a7427ea2885082ffbe77c5": {
     "model_module": "@jupyter-widgets/controls",
     "model_module_version": "1.5.0",
     "model_name": "HTMLModel",
     "state": {
      "_dom_classes": [],
      "_model_module": "@jupyter-widgets/controls",
      "_model_module_version": "1.5.0",
      "_model_name": "HTMLModel",
      "_view_count": null,
      "_view_module": "@jupyter-widgets/controls",
      "_view_module_version": "1.5.0",
      "_view_name": "HTMLView",
      "description": "",
      "description_tooltip": null,
      "layout": "IPY_MODEL_ee16d857d234495c83577a26a14d3124",
      "placeholder": "​",
      "style": "IPY_MODEL_5038ff03b72d4e4cbbc9ddac21aaaca0",
      "value": " 8/8 [00:09&lt;00:00,  1.00it/s]"
     }
    },
    "cad8d485aea049c8b64b2c5d5dfe9b57": {
     "model_module": "@jupyter-widgets/controls",
     "model_module_version": "1.5.0",
     "model_name": "HTMLModel",
     "state": {
      "_dom_classes": [],
      "_model_module": "@jupyter-widgets/controls",
      "_model_module_version": "1.5.0",
      "_model_name": "HTMLModel",
      "_view_count": null,
      "_view_module": "@jupyter-widgets/controls",
      "_view_module_version": "1.5.0",
      "_view_name": "HTMLView",
      "description": "",
      "description_tooltip": null,
      "layout": "IPY_MODEL_bf5a878592dd421d84a0622123e85f25",
      "placeholder": "​",
      "style": "IPY_MODEL_f433d0ee1d234114ad5c129831485086",
      "value": " 47.5k/47.5k [00:00&lt;00:00, 245kB/s]"
     }
    },
    "ce872a5e73ff42af853d4604550473dc": {
     "model_module": "@jupyter-widgets/base",
     "model_module_version": "1.2.0",
     "model_name": "LayoutModel",
     "state": {
      "_model_module": "@jupyter-widgets/base",
      "_model_module_version": "1.2.0",
      "_model_name": "LayoutModel",
      "_view_count": null,
      "_view_module": "@jupyter-widgets/base",
      "_view_module_version": "1.2.0",
      "_view_name": "LayoutView",
      "align_content": null,
      "align_items": null,
      "align_self": null,
      "border": null,
      "bottom": null,
      "display": null,
      "flex": null,
      "flex_flow": null,
      "grid_area": null,
      "grid_auto_columns": null,
      "grid_auto_flow": null,
      "grid_auto_rows": null,
      "grid_column": null,
      "grid_gap": null,
      "grid_row": null,
      "grid_template_areas": null,
      "grid_template_columns": null,
      "grid_template_rows": null,
      "height": null,
      "justify_content": null,
      "justify_items": null,
      "left": null,
      "margin": null,
      "max_height": null,
      "max_width": null,
      "min_height": null,
      "min_width": null,
      "object_fit": null,
      "object_position": null,
      "order": null,
      "overflow": null,
      "overflow_x": null,
      "overflow_y": null,
      "padding": null,
      "right": null,
      "top": null,
      "visibility": null,
      "width": null
     }
    },
    "d02f53b629834badbb70496293f39b0f": {
     "model_module": "@jupyter-widgets/controls",
     "model_module_version": "1.5.0",
     "model_name": "HTMLModel",
     "state": {
      "_dom_classes": [],
      "_model_module": "@jupyter-widgets/controls",
      "_model_module_version": "1.5.0",
      "_model_name": "HTMLModel",
      "_view_count": null,
      "_view_module": "@jupyter-widgets/controls",
      "_view_module_version": "1.5.0",
      "_view_name": "HTMLView",
      "description": "",
      "description_tooltip": null,
      "layout": "IPY_MODEL_eb9df24d3d3d48ddb464a566b34ce38b",
      "placeholder": "​",
      "style": "IPY_MODEL_798ddd4241534111b279d9eee7bed2fc",
      "value": " 664/664 [00:00&lt;00:00, 72.3kB/s]"
     }
    },
    "d4b7b0e64d4542f88d08eefc0369dad5": {
     "model_module": "@jupyter-widgets/controls",
     "model_module_version": "1.5.0",
     "model_name": "ProgressStyleModel",
     "state": {
      "_model_module": "@jupyter-widgets/controls",
      "_model_module_version": "1.5.0",
      "_model_name": "ProgressStyleModel",
      "_view_count": null,
      "_view_module": "@jupyter-widgets/base",
      "_view_module_version": "1.2.0",
      "_view_name": "StyleView",
      "bar_color": null,
      "description_width": ""
     }
    },
    "d5354f82a9d94f919ef54d6489d25d13": {
     "model_module": "@jupyter-widgets/base",
     "model_module_version": "1.2.0",
     "model_name": "LayoutModel",
     "state": {
      "_model_module": "@jupyter-widgets/base",
      "_model_module_version": "1.2.0",
      "_model_name": "LayoutModel",
      "_view_count": null,
      "_view_module": "@jupyter-widgets/base",
      "_view_module_version": "1.2.0",
      "_view_name": "LayoutView",
      "align_content": null,
      "align_items": null,
      "align_self": null,
      "border": null,
      "bottom": null,
      "display": null,
      "flex": null,
      "flex_flow": null,
      "grid_area": null,
      "grid_auto_columns": null,
      "grid_auto_flow": null,
      "grid_auto_rows": null,
      "grid_column": null,
      "grid_gap": null,
      "grid_row": null,
      "grid_template_areas": null,
      "grid_template_columns": null,
      "grid_template_rows": null,
      "height": null,
      "justify_content": null,
      "justify_items": null,
      "left": null,
      "margin": null,
      "max_height": null,
      "max_width": null,
      "min_height": null,
      "min_width": null,
      "object_fit": null,
      "object_position": null,
      "order": null,
      "overflow": null,
      "overflow_x": null,
      "overflow_y": null,
      "padding": null,
      "right": null,
      "top": null,
      "visibility": null,
      "width": null
     }
    },
    "d546d2857cfa40d5a8ec9a1c4dc7cb5b": {
     "model_module": "@jupyter-widgets/controls",
     "model_module_version": "1.5.0",
     "model_name": "HTMLModel",
     "state": {
      "_dom_classes": [],
      "_model_module": "@jupyter-widgets/controls",
      "_model_module_version": "1.5.0",
      "_model_name": "HTMLModel",
      "_view_count": null,
      "_view_module": "@jupyter-widgets/controls",
      "_view_module_version": "1.5.0",
      "_view_name": "HTMLView",
      "description": "",
      "description_tooltip": null,
      "layout": "IPY_MODEL_2ec5d57f444b439c816fcb356fec4a2f",
      "placeholder": "​",
      "style": "IPY_MODEL_b223f000290d46999594ad89d202bf31",
      "value": " 3.89G/3.89G [01:16&lt;00:00, 99.4MB/s]"
     }
    },
    "d5b25e675ec0457db4ff8fc8e7cbd34f": {
     "model_module": "@jupyter-widgets/base",
     "model_module_version": "1.2.0",
     "model_name": "LayoutModel",
     "state": {
      "_model_module": "@jupyter-widgets/base",
      "_model_module_version": "1.2.0",
      "_model_name": "LayoutModel",
      "_view_count": null,
      "_view_module": "@jupyter-widgets/base",
      "_view_module_version": "1.2.0",
      "_view_name": "LayoutView",
      "align_content": null,
      "align_items": null,
      "align_self": null,
      "border": null,
      "bottom": null,
      "display": null,
      "flex": null,
      "flex_flow": null,
      "grid_area": null,
      "grid_auto_columns": null,
      "grid_auto_flow": null,
      "grid_auto_rows": null,
      "grid_column": null,
      "grid_gap": null,
      "grid_row": null,
      "grid_template_areas": null,
      "grid_template_columns": null,
      "grid_template_rows": null,
      "height": null,
      "justify_content": null,
      "justify_items": null,
      "left": null,
      "margin": null,
      "max_height": null,
      "max_width": null,
      "min_height": null,
      "min_width": null,
      "object_fit": null,
      "object_position": null,
      "order": null,
      "overflow": null,
      "overflow_x": null,
      "overflow_y": null,
      "padding": null,
      "right": null,
      "top": null,
      "visibility": null,
      "width": null
     }
    },
    "d5d957b72e5f4e068b8ceba832879137": {
     "model_module": "@jupyter-widgets/controls",
     "model_module_version": "1.5.0",
     "model_name": "FloatProgressModel",
     "state": {
      "_dom_classes": [],
      "_model_module": "@jupyter-widgets/controls",
      "_model_module_version": "1.5.0",
      "_model_name": "FloatProgressModel",
      "_view_count": null,
      "_view_module": "@jupyter-widgets/controls",
      "_view_module_version": "1.5.0",
      "_view_name": "ProgressView",
      "bar_style": "success",
      "description": "",
      "description_tooltip": null,
      "layout": "IPY_MODEL_be39742d9c544196a18c84c6cf5a03f9",
      "max": 8,
      "min": 0,
      "orientation": "horizontal",
      "style": "IPY_MODEL_059037b10aaf4a759943af8c2d2c45ea",
      "value": 8
     }
    },
    "d6ce2502249c4f6bb189f3396e0e11d8": {
     "model_module": "@jupyter-widgets/base",
     "model_module_version": "1.2.0",
     "model_name": "LayoutModel",
     "state": {
      "_model_module": "@jupyter-widgets/base",
      "_model_module_version": "1.2.0",
      "_model_name": "LayoutModel",
      "_view_count": null,
      "_view_module": "@jupyter-widgets/base",
      "_view_module_version": "1.2.0",
      "_view_name": "LayoutView",
      "align_content": null,
      "align_items": null,
      "align_self": null,
      "border": null,
      "bottom": null,
      "display": null,
      "flex": null,
      "flex_flow": null,
      "grid_area": null,
      "grid_auto_columns": null,
      "grid_auto_flow": null,
      "grid_auto_rows": null,
      "grid_column": null,
      "grid_gap": null,
      "grid_row": null,
      "grid_template_areas": null,
      "grid_template_columns": null,
      "grid_template_rows": null,
      "height": null,
      "justify_content": null,
      "justify_items": null,
      "left": null,
      "margin": null,
      "max_height": null,
      "max_width": null,
      "min_height": null,
      "min_width": null,
      "object_fit": null,
      "object_position": null,
      "order": null,
      "overflow": null,
      "overflow_x": null,
      "overflow_y": null,
      "padding": null,
      "right": null,
      "top": null,
      "visibility": null,
      "width": null
     }
    },
    "d7241851a9374ff18e2f43e1b54e594e": {
     "model_module": "@jupyter-widgets/base",
     "model_module_version": "1.2.0",
     "model_name": "LayoutModel",
     "state": {
      "_model_module": "@jupyter-widgets/base",
      "_model_module_version": "1.2.0",
      "_model_name": "LayoutModel",
      "_view_count": null,
      "_view_module": "@jupyter-widgets/base",
      "_view_module_version": "1.2.0",
      "_view_name": "LayoutView",
      "align_content": null,
      "align_items": null,
      "align_self": null,
      "border": null,
      "bottom": null,
      "display": null,
      "flex": null,
      "flex_flow": null,
      "grid_area": null,
      "grid_auto_columns": null,
      "grid_auto_flow": null,
      "grid_auto_rows": null,
      "grid_column": null,
      "grid_gap": null,
      "grid_row": null,
      "grid_template_areas": null,
      "grid_template_columns": null,
      "grid_template_rows": null,
      "height": null,
      "justify_content": null,
      "justify_items": null,
      "left": null,
      "margin": null,
      "max_height": null,
      "max_width": null,
      "min_height": null,
      "min_width": null,
      "object_fit": null,
      "object_position": null,
      "order": null,
      "overflow": null,
      "overflow_x": null,
      "overflow_y": null,
      "padding": null,
      "right": null,
      "top": null,
      "visibility": null,
      "width": null
     }
    },
    "d865e0936f4d4b868309da05b451bdbd": {
     "model_module": "@jupyter-widgets/base",
     "model_module_version": "1.2.0",
     "model_name": "LayoutModel",
     "state": {
      "_model_module": "@jupyter-widgets/base",
      "_model_module_version": "1.2.0",
      "_model_name": "LayoutModel",
      "_view_count": null,
      "_view_module": "@jupyter-widgets/base",
      "_view_module_version": "1.2.0",
      "_view_name": "LayoutView",
      "align_content": null,
      "align_items": null,
      "align_self": null,
      "border": null,
      "bottom": null,
      "display": null,
      "flex": null,
      "flex_flow": null,
      "grid_area": null,
      "grid_auto_columns": null,
      "grid_auto_flow": null,
      "grid_auto_rows": null,
      "grid_column": null,
      "grid_gap": null,
      "grid_row": null,
      "grid_template_areas": null,
      "grid_template_columns": null,
      "grid_template_rows": null,
      "height": null,
      "justify_content": null,
      "justify_items": null,
      "left": null,
      "margin": null,
      "max_height": null,
      "max_width": null,
      "min_height": null,
      "min_width": null,
      "object_fit": null,
      "object_position": null,
      "order": null,
      "overflow": null,
      "overflow_x": null,
      "overflow_y": null,
      "padding": null,
      "right": null,
      "top": null,
      "visibility": null,
      "width": null
     }
    },
    "db89a1a3949e4af1adc1ac46b345b9bd": {
     "model_module": "@jupyter-widgets/controls",
     "model_module_version": "1.5.0",
     "model_name": "HBoxModel",
     "state": {
      "_dom_classes": [],
      "_model_module": "@jupyter-widgets/controls",
      "_model_module_version": "1.5.0",
      "_model_name": "HBoxModel",
      "_view_count": null,
      "_view_module": "@jupyter-widgets/controls",
      "_view_module_version": "1.5.0",
      "_view_name": "HBoxView",
      "box_style": "",
      "children": [
       "IPY_MODEL_7e1cd06fd95f4af5ab191e5c69965455",
       "IPY_MODEL_c3e35c996bcf4ac9b01070df1979535e",
       "IPY_MODEL_df22931c95af41e7809a595cee4c2000"
      ],
      "layout": "IPY_MODEL_40085cbb963c42dbb817293049fcbe67"
     }
    },
    "ddb597e9222941cd841b663598bc8f60": {
     "model_module": "@jupyter-widgets/base",
     "model_module_version": "1.2.0",
     "model_name": "LayoutModel",
     "state": {
      "_model_module": "@jupyter-widgets/base",
      "_model_module_version": "1.2.0",
      "_model_name": "LayoutModel",
      "_view_count": null,
      "_view_module": "@jupyter-widgets/base",
      "_view_module_version": "1.2.0",
      "_view_name": "LayoutView",
      "align_content": null,
      "align_items": null,
      "align_self": null,
      "border": null,
      "bottom": null,
      "display": null,
      "flex": null,
      "flex_flow": null,
      "grid_area": null,
      "grid_auto_columns": null,
      "grid_auto_flow": null,
      "grid_auto_rows": null,
      "grid_column": null,
      "grid_gap": null,
      "grid_row": null,
      "grid_template_areas": null,
      "grid_template_columns": null,
      "grid_template_rows": null,
      "height": null,
      "justify_content": null,
      "justify_items": null,
      "left": null,
      "margin": null,
      "max_height": null,
      "max_width": null,
      "min_height": null,
      "min_width": null,
      "object_fit": null,
      "object_position": null,
      "order": null,
      "overflow": null,
      "overflow_x": null,
      "overflow_y": null,
      "padding": null,
      "right": null,
      "top": null,
      "visibility": null,
      "width": null
     }
    },
    "de13f8808f2a4b49a291314cca980739": {
     "model_module": "@jupyter-widgets/base",
     "model_module_version": "1.2.0",
     "model_name": "LayoutModel",
     "state": {
      "_model_module": "@jupyter-widgets/base",
      "_model_module_version": "1.2.0",
      "_model_name": "LayoutModel",
      "_view_count": null,
      "_view_module": "@jupyter-widgets/base",
      "_view_module_version": "1.2.0",
      "_view_name": "LayoutView",
      "align_content": null,
      "align_items": null,
      "align_self": null,
      "border": null,
      "bottom": null,
      "display": null,
      "flex": null,
      "flex_flow": null,
      "grid_area": null,
      "grid_auto_columns": null,
      "grid_auto_flow": null,
      "grid_auto_rows": null,
      "grid_column": null,
      "grid_gap": null,
      "grid_row": null,
      "grid_template_areas": null,
      "grid_template_columns": null,
      "grid_template_rows": null,
      "height": null,
      "justify_content": null,
      "justify_items": null,
      "left": null,
      "margin": null,
      "max_height": null,
      "max_width": null,
      "min_height": null,
      "min_width": null,
      "object_fit": null,
      "object_position": null,
      "order": null,
      "overflow": null,
      "overflow_x": null,
      "overflow_y": null,
      "padding": null,
      "right": null,
      "top": null,
      "visibility": null,
      "width": null
     }
    },
    "defa8cfcd7384753b38e6d19e7693c70": {
     "model_module": "@jupyter-widgets/base",
     "model_module_version": "1.2.0",
     "model_name": "LayoutModel",
     "state": {
      "_model_module": "@jupyter-widgets/base",
      "_model_module_version": "1.2.0",
      "_model_name": "LayoutModel",
      "_view_count": null,
      "_view_module": "@jupyter-widgets/base",
      "_view_module_version": "1.2.0",
      "_view_name": "LayoutView",
      "align_content": null,
      "align_items": null,
      "align_self": null,
      "border": null,
      "bottom": null,
      "display": null,
      "flex": null,
      "flex_flow": null,
      "grid_area": null,
      "grid_auto_columns": null,
      "grid_auto_flow": null,
      "grid_auto_rows": null,
      "grid_column": null,
      "grid_gap": null,
      "grid_row": null,
      "grid_template_areas": null,
      "grid_template_columns": null,
      "grid_template_rows": null,
      "height": null,
      "justify_content": null,
      "justify_items": null,
      "left": null,
      "margin": null,
      "max_height": null,
      "max_width": null,
      "min_height": null,
      "min_width": null,
      "object_fit": null,
      "object_position": null,
      "order": null,
      "overflow": null,
      "overflow_x": null,
      "overflow_y": null,
      "padding": null,
      "right": null,
      "top": null,
      "visibility": null,
      "width": null
     }
    },
    "df22931c95af41e7809a595cee4c2000": {
     "model_module": "@jupyter-widgets/controls",
     "model_module_version": "1.5.0",
     "model_name": "HTMLModel",
     "state": {
      "_dom_classes": [],
      "_model_module": "@jupyter-widgets/controls",
      "_model_module_version": "1.5.0",
      "_model_name": "HTMLModel",
      "_view_count": null,
      "_view_module": "@jupyter-widgets/controls",
      "_view_module_version": "1.5.0",
      "_view_name": "HTMLView",
      "description": "",
      "description_tooltip": null,
      "layout": "IPY_MODEL_ee8bb2bea0df4cc392cde90efaed479d",
      "placeholder": "​",
      "style": "IPY_MODEL_5ccf364292394f0da0d522ee42c63e16",
      "value": " 4.00G/4.00G [01:18&lt;00:00, 82.2MB/s]"
     }
    },
    "e19813827f5f473897a65a85260b835a": {
     "model_module": "@jupyter-widgets/controls",
     "model_module_version": "1.5.0",
     "model_name": "ProgressStyleModel",
     "state": {
      "_model_module": "@jupyter-widgets/controls",
      "_model_module_version": "1.5.0",
      "_model_name": "ProgressStyleModel",
      "_view_count": null,
      "_view_module": "@jupyter-widgets/base",
      "_view_module_version": "1.2.0",
      "_view_name": "StyleView",
      "bar_color": null,
      "description_width": ""
     }
    },
    "e2d41502bdeb44e48ec13c3345aece53": {
     "model_module": "@jupyter-widgets/base",
     "model_module_version": "1.2.0",
     "model_name": "LayoutModel",
     "state": {
      "_model_module": "@jupyter-widgets/base",
      "_model_module_version": "1.2.0",
      "_model_name": "LayoutModel",
      "_view_count": null,
      "_view_module": "@jupyter-widgets/base",
      "_view_module_version": "1.2.0",
      "_view_name": "LayoutView",
      "align_content": null,
      "align_items": null,
      "align_self": null,
      "border": null,
      "bottom": null,
      "display": null,
      "flex": null,
      "flex_flow": null,
      "grid_area": null,
      "grid_auto_columns": null,
      "grid_auto_flow": null,
      "grid_auto_rows": null,
      "grid_column": null,
      "grid_gap": null,
      "grid_row": null,
      "grid_template_areas": null,
      "grid_template_columns": null,
      "grid_template_rows": null,
      "height": null,
      "justify_content": null,
      "justify_items": null,
      "left": null,
      "margin": null,
      "max_height": null,
      "max_width": null,
      "min_height": null,
      "min_width": null,
      "object_fit": null,
      "object_position": null,
      "order": null,
      "overflow": null,
      "overflow_x": null,
      "overflow_y": null,
      "padding": null,
      "right": null,
      "top": null,
      "visibility": null,
      "width": null
     }
    },
    "e90f4dbba1704d1d8e6c1e49304a7f5a": {
     "model_module": "@jupyter-widgets/base",
     "model_module_version": "1.2.0",
     "model_name": "LayoutModel",
     "state": {
      "_model_module": "@jupyter-widgets/base",
      "_model_module_version": "1.2.0",
      "_model_name": "LayoutModel",
      "_view_count": null,
      "_view_module": "@jupyter-widgets/base",
      "_view_module_version": "1.2.0",
      "_view_name": "LayoutView",
      "align_content": null,
      "align_items": null,
      "align_self": null,
      "border": null,
      "bottom": null,
      "display": null,
      "flex": null,
      "flex_flow": null,
      "grid_area": null,
      "grid_auto_columns": null,
      "grid_auto_flow": null,
      "grid_auto_rows": null,
      "grid_column": null,
      "grid_gap": null,
      "grid_row": null,
      "grid_template_areas": null,
      "grid_template_columns": null,
      "grid_template_rows": null,
      "height": null,
      "justify_content": null,
      "justify_items": null,
      "left": null,
      "margin": null,
      "max_height": null,
      "max_width": null,
      "min_height": null,
      "min_width": null,
      "object_fit": null,
      "object_position": null,
      "order": null,
      "overflow": null,
      "overflow_x": null,
      "overflow_y": null,
      "padding": null,
      "right": null,
      "top": null,
      "visibility": null,
      "width": null
     }
    },
    "e9e9d1d505c844da8d8008ff1a6f7903": {
     "model_module": "@jupyter-widgets/base",
     "model_module_version": "1.2.0",
     "model_name": "LayoutModel",
     "state": {
      "_model_module": "@jupyter-widgets/base",
      "_model_module_version": "1.2.0",
      "_model_name": "LayoutModel",
      "_view_count": null,
      "_view_module": "@jupyter-widgets/base",
      "_view_module_version": "1.2.0",
      "_view_name": "LayoutView",
      "align_content": null,
      "align_items": null,
      "align_self": null,
      "border": null,
      "bottom": null,
      "display": null,
      "flex": null,
      "flex_flow": null,
      "grid_area": null,
      "grid_auto_columns": null,
      "grid_auto_flow": null,
      "grid_auto_rows": null,
      "grid_column": null,
      "grid_gap": null,
      "grid_row": null,
      "grid_template_areas": null,
      "grid_template_columns": null,
      "grid_template_rows": null,
      "height": null,
      "justify_content": null,
      "justify_items": null,
      "left": null,
      "margin": null,
      "max_height": null,
      "max_width": null,
      "min_height": null,
      "min_width": null,
      "object_fit": null,
      "object_position": null,
      "order": null,
      "overflow": null,
      "overflow_x": null,
      "overflow_y": null,
      "padding": null,
      "right": null,
      "top": null,
      "visibility": null,
      "width": null
     }
    },
    "ea2274df662e40c6a96c06126b1da4ef": {
     "model_module": "@jupyter-widgets/controls",
     "model_module_version": "1.5.0",
     "model_name": "HTMLModel",
     "state": {
      "_dom_classes": [],
      "_model_module": "@jupyter-widgets/controls",
      "_model_module_version": "1.5.0",
      "_model_name": "HTMLModel",
      "_view_count": null,
      "_view_module": "@jupyter-widgets/controls",
      "_view_module_version": "1.5.0",
      "_view_name": "HTMLView",
      "description": "",
      "description_tooltip": null,
      "layout": "IPY_MODEL_73cb24bcba074e9bbf4f9d0442579ebc",
      "placeholder": "​",
      "style": "IPY_MODEL_35e8faf44fac4b96b7a3743ef35dc25b",
      "value": "Loading checkpoint shards: 100%"
     }
    },
    "eb589d23d2a740b59ecaee7ca53ac505": {
     "model_module": "@jupyter-widgets/controls",
     "model_module_version": "1.5.0",
     "model_name": "DescriptionStyleModel",
     "state": {
      "_model_module": "@jupyter-widgets/controls",
      "_model_module_version": "1.5.0",
      "_model_name": "DescriptionStyleModel",
      "_view_count": null,
      "_view_module": "@jupyter-widgets/base",
      "_view_module_version": "1.2.0",
      "_view_name": "StyleView",
      "description_width": ""
     }
    },
    "eb9df24d3d3d48ddb464a566b34ce38b": {
     "model_module": "@jupyter-widgets/base",
     "model_module_version": "1.2.0",
     "model_name": "LayoutModel",
     "state": {
      "_model_module": "@jupyter-widgets/base",
      "_model_module_version": "1.2.0",
      "_model_name": "LayoutModel",
      "_view_count": null,
      "_view_module": "@jupyter-widgets/base",
      "_view_module_version": "1.2.0",
      "_view_name": "LayoutView",
      "align_content": null,
      "align_items": null,
      "align_self": null,
      "border": null,
      "bottom": null,
      "display": null,
      "flex": null,
      "flex_flow": null,
      "grid_area": null,
      "grid_auto_columns": null,
      "grid_auto_flow": null,
      "grid_auto_rows": null,
      "grid_column": null,
      "grid_gap": null,
      "grid_row": null,
      "grid_template_areas": null,
      "grid_template_columns": null,
      "grid_template_rows": null,
      "height": null,
      "justify_content": null,
      "justify_items": null,
      "left": null,
      "margin": null,
      "max_height": null,
      "max_width": null,
      "min_height": null,
      "min_width": null,
      "object_fit": null,
      "object_position": null,
      "order": null,
      "overflow": null,
      "overflow_x": null,
      "overflow_y": null,
      "padding": null,
      "right": null,
      "top": null,
      "visibility": null,
      "width": null
     }
    },
    "edbbf4be2186496ab5578e972f9ebe6d": {
     "model_module": "@jupyter-widgets/controls",
     "model_module_version": "1.5.0",
     "model_name": "HBoxModel",
     "state": {
      "_dom_classes": [],
      "_model_module": "@jupyter-widgets/controls",
      "_model_module_version": "1.5.0",
      "_model_name": "HBoxModel",
      "_view_count": null,
      "_view_module": "@jupyter-widgets/controls",
      "_view_module_version": "1.5.0",
      "_view_name": "HBoxView",
      "box_style": "",
      "children": [
       "IPY_MODEL_9cca50cc20bf439299000d8b8d230d28",
       "IPY_MODEL_bb788fe99d514e8a996659768f4e47d5",
       "IPY_MODEL_588f48dc401c412cb29404a7e0dd0920"
      ],
      "layout": "IPY_MODEL_83da6127266f44a3985c3c7e9a7f4719"
     }
    },
    "ee16d857d234495c83577a26a14d3124": {
     "model_module": "@jupyter-widgets/base",
     "model_module_version": "1.2.0",
     "model_name": "LayoutModel",
     "state": {
      "_model_module": "@jupyter-widgets/base",
      "_model_module_version": "1.2.0",
      "_model_name": "LayoutModel",
      "_view_count": null,
      "_view_module": "@jupyter-widgets/base",
      "_view_module_version": "1.2.0",
      "_view_name": "LayoutView",
      "align_content": null,
      "align_items": null,
      "align_self": null,
      "border": null,
      "bottom": null,
      "display": null,
      "flex": null,
      "flex_flow": null,
      "grid_area": null,
      "grid_auto_columns": null,
      "grid_auto_flow": null,
      "grid_auto_rows": null,
      "grid_column": null,
      "grid_gap": null,
      "grid_row": null,
      "grid_template_areas": null,
      "grid_template_columns": null,
      "grid_template_rows": null,
      "height": null,
      "justify_content": null,
      "justify_items": null,
      "left": null,
      "margin": null,
      "max_height": null,
      "max_width": null,
      "min_height": null,
      "min_width": null,
      "object_fit": null,
      "object_position": null,
      "order": null,
      "overflow": null,
      "overflow_x": null,
      "overflow_y": null,
      "padding": null,
      "right": null,
      "top": null,
      "visibility": null,
      "width": null
     }
    },
    "ee8bb2bea0df4cc392cde90efaed479d": {
     "model_module": "@jupyter-widgets/base",
     "model_module_version": "1.2.0",
     "model_name": "LayoutModel",
     "state": {
      "_model_module": "@jupyter-widgets/base",
      "_model_module_version": "1.2.0",
      "_model_name": "LayoutModel",
      "_view_count": null,
      "_view_module": "@jupyter-widgets/base",
      "_view_module_version": "1.2.0",
      "_view_name": "LayoutView",
      "align_content": null,
      "align_items": null,
      "align_self": null,
      "border": null,
      "bottom": null,
      "display": null,
      "flex": null,
      "flex_flow": null,
      "grid_area": null,
      "grid_auto_columns": null,
      "grid_auto_flow": null,
      "grid_auto_rows": null,
      "grid_column": null,
      "grid_gap": null,
      "grid_row": null,
      "grid_template_areas": null,
      "grid_template_columns": null,
      "grid_template_rows": null,
      "height": null,
      "justify_content": null,
      "justify_items": null,
      "left": null,
      "margin": null,
      "max_height": null,
      "max_width": null,
      "min_height": null,
      "min_width": null,
      "object_fit": null,
      "object_position": null,
      "order": null,
      "overflow": null,
      "overflow_x": null,
      "overflow_y": null,
      "padding": null,
      "right": null,
      "top": null,
      "visibility": null,
      "width": null
     }
    },
    "f127a158caff44f19e6dbc92edc552d7": {
     "model_module": "@jupyter-widgets/controls",
     "model_module_version": "1.5.0",
     "model_name": "HTMLModel",
     "state": {
      "_dom_classes": [],
      "_model_module": "@jupyter-widgets/controls",
      "_model_module_version": "1.5.0",
      "_model_name": "HTMLModel",
      "_view_count": null,
      "_view_module": "@jupyter-widgets/controls",
      "_view_module_version": "1.5.0",
      "_view_name": "HTMLView",
      "description": "",
      "description_tooltip": null,
      "layout": "IPY_MODEL_a20f6c184a9840929503f59b157c70fa",
      "placeholder": "​",
      "style": "IPY_MODEL_743b9d977a5e4926bb1e1354cbe5225f",
      "value": "model.safetensors.index.json: 100%"
     }
    },
    "f2239908f948418ba5cfa7887762ec77": {
     "model_module": "@jupyter-widgets/base",
     "model_module_version": "1.2.0",
     "model_name": "LayoutModel",
     "state": {
      "_model_module": "@jupyter-widgets/base",
      "_model_module_version": "1.2.0",
      "_model_name": "LayoutModel",
      "_view_count": null,
      "_view_module": "@jupyter-widgets/base",
      "_view_module_version": "1.2.0",
      "_view_name": "LayoutView",
      "align_content": null,
      "align_items": null,
      "align_self": null,
      "border": null,
      "bottom": null,
      "display": null,
      "flex": null,
      "flex_flow": null,
      "grid_area": null,
      "grid_auto_columns": null,
      "grid_auto_flow": null,
      "grid_auto_rows": null,
      "grid_column": null,
      "grid_gap": null,
      "grid_row": null,
      "grid_template_areas": null,
      "grid_template_columns": null,
      "grid_template_rows": null,
      "height": null,
      "justify_content": null,
      "justify_items": null,
      "left": null,
      "margin": null,
      "max_height": null,
      "max_width": null,
      "min_height": null,
      "min_width": null,
      "object_fit": null,
      "object_position": null,
      "order": null,
      "overflow": null,
      "overflow_x": null,
      "overflow_y": null,
      "padding": null,
      "right": null,
      "top": null,
      "visibility": null,
      "width": null
     }
    },
    "f2d94312d677490a88036a293be8704a": {
     "model_module": "@jupyter-widgets/controls",
     "model_module_version": "1.5.0",
     "model_name": "HBoxModel",
     "state": {
      "_dom_classes": [],
      "_model_module": "@jupyter-widgets/controls",
      "_model_module_version": "1.5.0",
      "_model_name": "HBoxModel",
      "_view_count": null,
      "_view_module": "@jupyter-widgets/controls",
      "_view_module_version": "1.5.0",
      "_view_name": "HBoxView",
      "box_style": "",
      "children": [
       "IPY_MODEL_625dd7f18d144c9d9505351b6c422068",
       "IPY_MODEL_c6fdf68013554e899b217b6d887107a2",
       "IPY_MODEL_4f658ef14ed54af2834f7db7a894a3c7"
      ],
      "layout": "IPY_MODEL_defa8cfcd7384753b38e6d19e7693c70"
     }
    },
    "f433d0ee1d234114ad5c129831485086": {
     "model_module": "@jupyter-widgets/controls",
     "model_module_version": "1.5.0",
     "model_name": "DescriptionStyleModel",
     "state": {
      "_model_module": "@jupyter-widgets/controls",
      "_model_module_version": "1.5.0",
      "_model_name": "DescriptionStyleModel",
      "_view_count": null,
      "_view_module": "@jupyter-widgets/base",
      "_view_module_version": "1.2.0",
      "_view_name": "StyleView",
      "description_width": ""
     }
    },
    "f57ce62dd80848578b0619489395af44": {
     "model_module": "@jupyter-widgets/base",
     "model_module_version": "1.2.0",
     "model_name": "LayoutModel",
     "state": {
      "_model_module": "@jupyter-widgets/base",
      "_model_module_version": "1.2.0",
      "_model_name": "LayoutModel",
      "_view_count": null,
      "_view_module": "@jupyter-widgets/base",
      "_view_module_version": "1.2.0",
      "_view_name": "LayoutView",
      "align_content": null,
      "align_items": null,
      "align_self": null,
      "border": null,
      "bottom": null,
      "display": null,
      "flex": null,
      "flex_flow": null,
      "grid_area": null,
      "grid_auto_columns": null,
      "grid_auto_flow": null,
      "grid_auto_rows": null,
      "grid_column": null,
      "grid_gap": null,
      "grid_row": null,
      "grid_template_areas": null,
      "grid_template_columns": null,
      "grid_template_rows": null,
      "height": null,
      "justify_content": null,
      "justify_items": null,
      "left": null,
      "margin": null,
      "max_height": null,
      "max_width": null,
      "min_height": null,
      "min_width": null,
      "object_fit": null,
      "object_position": null,
      "order": null,
      "overflow": null,
      "overflow_x": null,
      "overflow_y": null,
      "padding": null,
      "right": null,
      "top": null,
      "visibility": null,
      "width": null
     }
    },
    "f6bb69ef662040589dba6c9345958af1": {
     "model_module": "@jupyter-widgets/controls",
     "model_module_version": "1.5.0",
     "model_name": "ProgressStyleModel",
     "state": {
      "_model_module": "@jupyter-widgets/controls",
      "_model_module_version": "1.5.0",
      "_model_name": "ProgressStyleModel",
      "_view_count": null,
      "_view_module": "@jupyter-widgets/base",
      "_view_module_version": "1.2.0",
      "_view_name": "StyleView",
      "bar_color": null,
      "description_width": ""
     }
    },
    "f80b472e177843bdb8be64476c8c132b": {
     "model_module": "@jupyter-widgets/controls",
     "model_module_version": "1.5.0",
     "model_name": "HTMLModel",
     "state": {
      "_dom_classes": [],
      "_model_module": "@jupyter-widgets/controls",
      "_model_module_version": "1.5.0",
      "_model_name": "HTMLModel",
      "_view_count": null,
      "_view_module": "@jupyter-widgets/controls",
      "_view_module_version": "1.5.0",
      "_view_name": "HTMLView",
      "description": "",
      "description_tooltip": null,
      "layout": "IPY_MODEL_e9e9d1d505c844da8d8008ff1a6f7903",
      "placeholder": "​",
      "style": "IPY_MODEL_6b84e81b7ed240baab1b28d54ffe3c32",
      "value": " 4.00G/4.00G [01:19&lt;00:00, 77.9MB/s]"
     }
    },
    "f8daf31e469a49d98f664c2a382bde90": {
     "model_module": "@jupyter-widgets/controls",
     "model_module_version": "1.5.0",
     "model_name": "ProgressStyleModel",
     "state": {
      "_model_module": "@jupyter-widgets/controls",
      "_model_module_version": "1.5.0",
      "_model_name": "ProgressStyleModel",
      "_view_count": null,
      "_view_module": "@jupyter-widgets/base",
      "_view_module_version": "1.2.0",
      "_view_name": "StyleView",
      "bar_color": null,
      "description_width": ""
     }
    },
    "fc48fc89857747368a5cd166dcab7eee": {
     "model_module": "@jupyter-widgets/controls",
     "model_module_version": "1.5.0",
     "model_name": "HBoxModel",
     "state": {
      "_dom_classes": [],
      "_model_module": "@jupyter-widgets/controls",
      "_model_module_version": "1.5.0",
      "_model_name": "HBoxModel",
      "_view_count": null,
      "_view_module": "@jupyter-widgets/controls",
      "_view_module_version": "1.5.0",
      "_view_name": "HBoxView",
      "box_style": "",
      "children": [
       "IPY_MODEL_bb53e7a97c6349ee909cdb35121586c0",
       "IPY_MODEL_392199c6fe9745729939df04e1b43513",
       "IPY_MODEL_b96dd6db15854005a1227b40f0b322b0"
      ],
      "layout": "IPY_MODEL_bc7e255ea79f4aa0baecf0e11f85fbfe"
     }
    },
    "ff2615ad8e3943c593fc12fdc7075d14": {
     "model_module": "@jupyter-widgets/controls",
     "model_module_version": "1.5.0",
     "model_name": "HTMLModel",
     "state": {
      "_dom_classes": [],
      "_model_module": "@jupyter-widgets/controls",
      "_model_module_version": "1.5.0",
      "_model_name": "HTMLModel",
      "_view_count": null,
      "_view_module": "@jupyter-widgets/controls",
      "_view_module_version": "1.5.0",
      "_view_name": "HTMLView",
      "description": "",
      "description_tooltip": null,
      "layout": "IPY_MODEL_f2239908f948418ba5cfa7887762ec77",
      "placeholder": "​",
      "style": "IPY_MODEL_3c620f356104419da67aa69b57396226",
      "value": " 7.23k/7.23k [00:00&lt;00:00, 879kB/s]"
     }
    },
    "ff6a7e5a170e4fdcb034ed9dfdf1017e": {
     "model_module": "@jupyter-widgets/controls",
     "model_module_version": "1.5.0",
     "model_name": "ProgressStyleModel",
     "state": {
      "_model_module": "@jupyter-widgets/controls",
      "_model_module_version": "1.5.0",
      "_model_name": "ProgressStyleModel",
      "_view_count": null,
      "_view_module": "@jupyter-widgets/base",
      "_view_module_version": "1.2.0",
      "_view_name": "StyleView",
      "bar_color": null,
      "description_width": ""
     }
    },
    "ffd662bbb0e2408bafdd3e95877229b8": {
     "model_module": "@jupyter-widgets/base",
     "model_module_version": "1.2.0",
     "model_name": "LayoutModel",
     "state": {
      "_model_module": "@jupyter-widgets/base",
      "_model_module_version": "1.2.0",
      "_model_name": "LayoutModel",
      "_view_count": null,
      "_view_module": "@jupyter-widgets/base",
      "_view_module_version": "1.2.0",
      "_view_name": "LayoutView",
      "align_content": null,
      "align_items": null,
      "align_self": null,
      "border": null,
      "bottom": null,
      "display": null,
      "flex": null,
      "flex_flow": null,
      "grid_area": null,
      "grid_auto_columns": null,
      "grid_auto_flow": null,
      "grid_auto_rows": null,
      "grid_column": null,
      "grid_gap": null,
      "grid_row": null,
      "grid_template_areas": null,
      "grid_template_columns": null,
      "grid_template_rows": null,
      "height": null,
      "justify_content": null,
      "justify_items": null,
      "left": null,
      "margin": null,
      "max_height": null,
      "max_width": null,
      "min_height": null,
      "min_width": null,
      "object_fit": null,
      "object_position": null,
      "order": null,
      "overflow": null,
      "overflow_x": null,
      "overflow_y": null,
      "padding": null,
      "right": null,
      "top": null,
      "visibility": null,
      "width": null
     }
    },
    "ffdf4078c892475dbd525c80f6379acc": {
     "model_module": "@jupyter-widgets/base",
     "model_module_version": "1.2.0",
     "model_name": "LayoutModel",
     "state": {
      "_model_module": "@jupyter-widgets/base",
      "_model_module_version": "1.2.0",
      "_model_name": "LayoutModel",
      "_view_count": null,
      "_view_module": "@jupyter-widgets/base",
      "_view_module_version": "1.2.0",
      "_view_name": "LayoutView",
      "align_content": null,
      "align_items": null,
      "align_self": null,
      "border": null,
      "bottom": null,
      "display": null,
      "flex": null,
      "flex_flow": null,
      "grid_area": null,
      "grid_auto_columns": null,
      "grid_auto_flow": null,
      "grid_auto_rows": null,
      "grid_column": null,
      "grid_gap": null,
      "grid_row": null,
      "grid_template_areas": null,
      "grid_template_columns": null,
      "grid_template_rows": null,
      "height": null,
      "justify_content": null,
      "justify_items": null,
      "left": null,
      "margin": null,
      "max_height": null,
      "max_width": null,
      "min_height": null,
      "min_width": null,
      "object_fit": null,
      "object_position": null,
      "order": null,
      "overflow": null,
      "overflow_x": null,
      "overflow_y": null,
      "padding": null,
      "right": null,
      "top": null,
      "visibility": null,
      "width": null
     }
    }
   }
  }
 },
 "nbformat": 4,
 "nbformat_minor": 4
}
