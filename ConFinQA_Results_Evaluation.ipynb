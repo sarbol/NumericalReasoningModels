{
  "nbformat": 4,
  "nbformat_minor": 0,
  "metadata": {
    "colab": {
      "provenance": [],
      "authorship_tag": "ABX9TyONVk40at4fYUV6DQS1637i",
      "include_colab_link": true
    },
    "kernelspec": {
      "name": "python3",
      "display_name": "Python 3"
    },
    "language_info": {
      "name": "python"
    }
  },
  "cells": [
    {
      "cell_type": "markdown",
      "metadata": {
        "id": "view-in-github",
        "colab_type": "text"
      },
      "source": [
        "<a href=\"https://colab.research.google.com/github/sarbol/NumericalReasoningModels/blob/main/ConFinQA_Results_Evaluation.ipynb\" target=\"_parent\"><img src=\"https://colab.research.google.com/assets/colab-badge.svg\" alt=\"Open In Colab\"/></a>"
      ]
    },
    {
      "cell_type": "code",
      "execution_count": 1,
      "metadata": {
        "id": "sIMdYD5xZrzX"
      },
      "outputs": [],
      "source": [
        "%%capture\n",
        "%pip install --upgrade tiktoken -q\n",
        "%pip install --upgrade openai -q"
      ]
    },
    {
      "cell_type": "code",
      "source": [
        "from transformers import (pipeline,\n",
        "                          RobertaTokenizer,\n",
        "                          RobertaConfig,\n",
        "                          AutoModelForCausalLM,\n",
        "                          AutoTokenizer)\n",
        "from google.colab import drive\n",
        "from google.colab import userdata\n",
        "from openai import OpenAI\n",
        "import os\n",
        "import tiktoken\n",
        "import tqdm\n",
        "import torch\n",
        "import numpy as np\n",
        "from sympy import simplify\n",
        "import operator\n",
        "import collections\n",
        "from jinja2 import Template\n",
        "import json\n",
        "import os\n",
        "import re\n",
        "import glob\n",
        "import pandas as pd\n",
        "import matplotlib.pyplot as plt\n",
        "from typing import Dict, List, Tuple, Union\n",
        "from IPython.display import HTML\n",
        "from datetime import datetime\n",
        "import time\n",
        "import seaborn as sns\n",
        "sns.set()\n",
        "%matplotlib inline"
      ],
      "metadata": {
        "id": "72OK-QTKZ7pF"
      },
      "execution_count": 2,
      "outputs": []
    },
    {
      "cell_type": "code",
      "source": [
        "drive.mount('/content/drive')"
      ],
      "metadata": {
        "colab": {
          "base_uri": "https://localhost:8080/"
        },
        "id": "sYnQaYgUa46z",
        "outputId": "d2d1b15c-8f88-4213-a95a-7791edc63705"
      },
      "execution_count": 3,
      "outputs": [
        {
          "output_type": "stream",
          "name": "stdout",
          "text": [
            "Mounted at /content/drive\n"
          ]
        }
      ]
    },
    {
      "cell_type": "code",
      "source": [
        "DATA_PATH = \"/content/drive/MyDrive/ConvFinQA/data/\"\n",
        "\n",
        "RESULT_DIR = \"/content/drive/MyDrive/ConvFinQA/output/generator-roberta-large-2e-5-new-test_20250324083557/results/loads/20/valid\""
      ],
      "metadata": {
        "id": "eRzJ8uqTa_5U"
      },
      "execution_count": 4,
      "outputs": []
    },
    {
      "cell_type": "code",
      "source": [
        "with open(os.path.join(DATA_PATH, \"dev_turn.json\")) as f:\n",
        "  validation_data = json.load(f)\n",
        "\n",
        "with open(os.path.join(RESULT_DIR, \"nbest_predictions.json\"), \"r\") as f:\n",
        "  nbest_predictions = json.load(f)"
      ],
      "metadata": {
        "id": "dy0bvLuPbJXr"
      },
      "execution_count": 5,
      "outputs": []
    },
    {
      "cell_type": "code",
      "source": [
        "def detokenize(tokens):\n",
        "  operations = []\n",
        "  stack = []\n",
        "  valid_const_pattern = re.compile(r'^(const_[1-9]|const_10+|const_m1|\\^?\\d+)$')\n",
        "  valid_number_pattern = re.compile(r'^-?\\d*(\\.\\d+)?[%]*?$')  # Allows .456, -.456, 123, -123.45, etc.\n",
        "\n",
        "  i = 0\n",
        "  while i < len(tokens):\n",
        "      token = tokens[i]\n",
        "\n",
        "      if re.match(r'^[a-zA-Z_]+\\($', token):  # Match operation name (e.g., 'subtract(')\n",
        "          stack.append(token)\n",
        "      elif valid_number_pattern.match(token) or token.startswith('#') or valid_const_pattern.match(token):  # Match valid arguments\n",
        "          stack.append(token)\n",
        "      elif token == ')':  # Closing bracket\n",
        "          if len(stack) < 3:\n",
        "              raise ValueError(\"Malformed expression: An operation must have two arguments.\")\n",
        "\n",
        "          arg2 = stack.pop()\n",
        "          arg1 = stack.pop()\n",
        "          operation = stack.pop()\n",
        "\n",
        "          if not operation.endswith('('):\n",
        "              raise ValueError(f\"Invalid operation format: {operation} should end with '('\")\n",
        "\n",
        "          op_name = operation[:-1]  # Remove '('\n",
        "          formatted_op = f\"{op_name}({arg1}, {arg2})\"\n",
        "          operations.append(formatted_op)\n",
        "          stack.append(f\"#{len(operations) - 1}\")  # Store reference\n",
        "      elif token == 'EOF':\n",
        "          break\n",
        "      else:\n",
        "          raise ValueError(f\"Invalid token detected: {token}\")\n",
        "\n",
        "      i += 1\n",
        "\n",
        "  # Ensure no standalone numbers or invalid constants exist in final output\n",
        "  for item in stack:\n",
        "      if not item.startswith('#') and not re.match(r'^[a-zA-Z_]+\\(.*\\)$', item):\n",
        "          raise ValueError(f\"Invalid standalone value detected: {item}\")\n",
        "\n",
        "  return \", \".join(operations)"
      ],
      "metadata": {
        "id": "0u7kDmr3bJbI"
      },
      "execution_count": 6,
      "outputs": []
    },
    {
      "cell_type": "code",
      "source": [
        "def equal_program(program1, program2):\n",
        "    '''\n",
        "    Symbolic program equality check (non-recursive version)\n",
        "    program1: gold program\n",
        "    program2: predicted program\n",
        "    '''\n",
        "    all_ops = [\"add\", \"subtract\", \"multiply\", \"divide\", \"exp\", \"greater\"]\n",
        "\n",
        "    # Remove EOF marker\n",
        "    program1 = program1[:-1]\n",
        "    program2 = program2[:-1]\n",
        "\n",
        "    # Single number program special case\n",
        "    if len(program1) == 1:\n",
        "        return len(program2) == 2 and program1[0] == program2[0]\n",
        "\n",
        "    # Symbolic mapping preparation\n",
        "    sym_map = {}\n",
        "    sym_ind = 0\n",
        "\n",
        "    # First pass: create symbolic mapping\n",
        "    def create_symbolic_mapping(program):\n",
        "        nonlocal sym_map, sym_ind\n",
        "        program_str = \"|\".join(program)\n",
        "        steps = program_str.split(\")\")[:-1]\n",
        "        step_dict = {}\n",
        "\n",
        "        # Validate program structure\n",
        "        for ind, token in enumerate(program):\n",
        "            if ind % 4 == 0:\n",
        "                if token.strip(\"(\") not in all_ops:\n",
        "                    return None\n",
        "            if (ind + 1) % 4 == 0:\n",
        "                if token != \")\":\n",
        "                    return None\n",
        "\n",
        "        # Process steps and create symbolic mapping\n",
        "        for ind, step in enumerate(steps):\n",
        "            step = step.strip()\n",
        "\n",
        "            if len(step.split(\"(\")) > 2:\n",
        "                return None\n",
        "\n",
        "            op = step.split(\"(\")[0].strip(\"|\").strip()\n",
        "            args = step.split(\"(\")[1].strip(\"|\").strip()\n",
        "\n",
        "            if args.count(\"|\") != 1:\n",
        "                return None\n",
        "\n",
        "            arg1 = args.split(\"|\")[0].strip()\n",
        "            arg2 = args.split(\"|\")[1].strip()\n",
        "\n",
        "            step_dict[ind] = step\n",
        "\n",
        "            # Symbolic mapping for steps\n",
        "            if \"table\" in op:\n",
        "                if step not in sym_map:\n",
        "                    sym_map[step] = f\"a{sym_ind}\"\n",
        "                    sym_ind += 1\n",
        "            else:\n",
        "                # Map arguments to symbols\n",
        "                for arg in [arg1, arg2]:\n",
        "                    if \"#\" not in arg:\n",
        "                        if arg not in sym_map:\n",
        "                            sym_map[arg] = f\"a{sym_ind}\"\n",
        "                            sym_ind += 1\n",
        "\n",
        "        return step_dict\n",
        "\n",
        "    # Validate and create symbolic mapping for first program\n",
        "    step_dict_1 = create_symbolic_mapping(program1)\n",
        "    if step_dict_1 is None:\n",
        "        return False\n",
        "\n",
        "    # Reset for second program\n",
        "    sym_map = {}\n",
        "    sym_ind = 0\n",
        "\n",
        "    # Validate and create symbolic mapping for second program\n",
        "    step_dict_2 = create_symbolic_mapping(program2)\n",
        "    if step_dict_2 is None:\n",
        "        return False\n",
        "\n",
        "    # Symbolic evaluation function\n",
        "    def symbolic_evaluate(step, step_dict):\n",
        "        step = step.strip()\n",
        "        op = step.split(\"(\")[0].strip(\"|\").strip()\n",
        "        args = step.split(\"(\")[1].strip(\"|\").strip()\n",
        "\n",
        "        arg1 = args.split(\"|\")[0].strip()\n",
        "        arg2 = args.split(\"|\")[1].strip()\n",
        "\n",
        "        # Handle table operation\n",
        "        if \"table\" in op:\n",
        "            return sym_map[step]\n",
        "\n",
        "        # Resolve arguments\n",
        "        def resolve_arg(arg):\n",
        "            if \"#\" in arg:\n",
        "                arg_ind = int(arg.replace(\"#\", \"\"))\n",
        "                # Recursively resolve referenced steps\n",
        "                step_to_resolve = step_dict[arg_ind]\n",
        "                return symbolic_evaluate(step_to_resolve, step_dict)\n",
        "            return sym_map[arg]\n",
        "\n",
        "        # Resolve both arguments\n",
        "        arg1_part = resolve_arg(arg1)\n",
        "        arg2_part = resolve_arg(arg2)\n",
        "\n",
        "        # Symbolic operation representation\n",
        "        if op == \"add\":\n",
        "            return f\"( {arg1_part} + {arg2_part} )\"\n",
        "        elif op == \"subtract\":\n",
        "            return f\"( {arg1_part} - {arg2_part} )\"\n",
        "        elif op == \"multiply\":\n",
        "            return f\"( {arg1_part} * {arg2_part} )\"\n",
        "        elif op == \"divide\":\n",
        "            return f\"( {arg1_part} / {arg2_part} )\"\n",
        "        elif op == \"exp\":\n",
        "            return f\"( {arg1_part} ** {arg2_part} )\"\n",
        "        elif op == \"greater\":\n",
        "            return f\"( {arg1_part} > {arg2_part} )\"\n",
        "\n",
        "    # Derive symbolic programs\n",
        "    try:\n",
        "        program1_steps = \"|\".join(program1).split(\")\")[:-1]\n",
        "        sym_prog1 = symbolic_evaluate(program1_steps[-1], step_dict_1)\n",
        "        sym_prog1 = simplify(sym_prog1, evaluate=False)\n",
        "\n",
        "        program2_steps = \"|\".join(program2).split(\")\")[:-1]\n",
        "        sym_prog2 = symbolic_evaluate(program2_steps[-1], step_dict_2)\n",
        "        sym_prog2 = simplify(sym_prog2, evaluate=False)\n",
        "    except:\n",
        "        return False\n",
        "\n",
        "    return sym_prog1 == sym_prog2"
      ],
      "metadata": {
        "id": "RpDFNtI1d0dH"
      },
      "execution_count": 7,
      "outputs": []
    },
    {
      "cell_type": "code",
      "source": [
        "def parse_value(value: str) -> Union[int, float]:\n",
        "  \"\"\"\n",
        "  Parses a value, converting percentages, constants, and references appropriately.\n",
        "  \"\"\"\n",
        "  value = value.strip()\n",
        "  pat = re.compile(r\"^const_(\\d+)$\")\n",
        "\n",
        "  if \"const_m1\" == value:\n",
        "      return -1\n",
        "  elif bool(constant:=re.match(pat, value)):\n",
        "      return float(constant.groups()[0])\n",
        "  elif value.startswith(\"#\"):\n",
        "      return value  # Placeholder for reference resolution\n",
        "  elif \"%\" in value:\n",
        "      return float(value.replace(\"%\", \"\")) / 100  # Convert percentage to decimal\n",
        "  elif isinstance(value, str) and bool(re.match(r\"^-?\\d*\\.?\\d+$\", value)):\n",
        "      return float(value)\n",
        "  else:\n",
        "    return None\n",
        "\n",
        "\n",
        "def evaluate_program_safe(program: List[str], round_places: int = 5) -> Union[int, float]:\n",
        "\n",
        "  \"\"\"\n",
        "  Evaluates a list of operations with proper sanitization and reference resolution.\n",
        "  \"\"\"\n",
        "  # Define supported operations\n",
        "  OPERATIONS = {\n",
        "      \"add\": operator.add,\n",
        "      \"subtract\": operator.sub,\n",
        "      \"multiply\": operator.mul,\n",
        "      \"divide\": operator.truediv,\n",
        "      \"exp\": operator.pow,\n",
        "      \"greater\": max\n",
        "      }\n",
        "\n",
        "  results: Dict[int, Union[int, float]] = {}\n",
        "\n",
        "  if len(program) == 1 and bool(re.match(r\"^-?\\d+(\\.\\d+)?$\", program[0])):\n",
        "    value = parse_value(program[0])\n",
        "    return round(value, 5)\n",
        "\n",
        "\n",
        "  for i, operation in enumerate(program):\n",
        "    operation = operation.strip()\n",
        "    # Extract operation name and arguments\n",
        "    match = re.match(r\"^(\\w+)\\(\\s*([#\\w%.-]+)\\s*,\\s*([#\\w%.-]+)\\s*\\)$\", operation)\n",
        "    if not match:\n",
        "      print(f\"Invalid operation format: {operation}\")\n",
        "      return None\n",
        "    func_name, arg1, arg2 = match.groups()\n",
        "\n",
        "    # Resolve arguments\n",
        "    resolved_args = []\n",
        "    for arg in [arg1, arg2]:\n",
        "      parsed_value = parse_value(arg)\n",
        "      if isinstance(parsed_value, str) and parsed_value.startswith(\"#\"):\n",
        "        ref_idx = int(parsed_value[1:])\n",
        "        if ref_idx not in results:\n",
        "          return None\n",
        "        resolved_args.append(results[ref_idx])  # Resolve reference\n",
        "      elif parsed_value:\n",
        "        resolved_args.append(parsed_value)\n",
        "      else:\n",
        "        print(f\"Invalid argument: {arg}\")\n",
        "        return None\n",
        "\n",
        "    # Perform operation\n",
        "    if func_name not in OPERATIONS:\n",
        "      return None\n",
        "    results[i] = OPERATIONS[func_name](*resolved_args)\n",
        "  return round(results[len(program) - 1], round_places)"
      ],
      "metadata": {
        "id": "cDSeSCn5d6-b"
      },
      "execution_count": 8,
      "outputs": []
    },
    {
      "cell_type": "code",
      "source": [
        "def str_prog_list(program: str,\n",
        "                  pat: re.Pattern = re.compile(r\"\\w+\\(.+$\")) -> List[str]:\n",
        "  prog_list = []\n",
        "  for p in program.split(\"), \"):\n",
        "    if bool(pat.match(p)):\n",
        "      p = p.strip() if p.strip().endswith(\")\") else p.strip() + \")\"\n",
        "      prog_list.append(p.strip())\n",
        "    else:\n",
        "      prog_list.append(p.strip())\n",
        "  return prog_list"
      ],
      "metadata": {
        "id": "Q39ASZnN4CCn"
      },
      "execution_count": 9,
      "outputs": []
    },
    {
      "cell_type": "code",
      "source": [
        "def prog_str_sequence(program: List[str]) -> str:\n",
        "  return \", \".join([str(p) for p in program])"
      ],
      "metadata": {
        "id": "zudiHlmJJxtE"
      },
      "execution_count": 10,
      "outputs": []
    },
    {
      "cell_type": "code",
      "source": [
        "qwen_results = \"/content/drive/MyDrive/tomoro_ai/train_json/qwen-14B/\"\n",
        "gpt4_results = \"/content/drive/MyDrive/tomoro_ai/train_json/gpt-4o/\"\n",
        "o3_mini_results = \"/content/drive/MyDrive/tomoro_ai/train_json/o3-mini/\""
      ],
      "metadata": {
        "id": "2U_fcfSNMU39"
      },
      "execution_count": 11,
      "outputs": []
    },
    {
      "cell_type": "code",
      "source": [
        "def read_file(file_path: str) -> str:\n",
        "  with open(file_path, \"r\") as f:\n",
        "    return f.read()"
      ],
      "metadata": {
        "id": "kR0GFEtlMU7b"
      },
      "execution_count": 12,
      "outputs": []
    },
    {
      "cell_type": "code",
      "source": [
        "def parse_raw_output(output: str, mode = \"accuracy\"):\n",
        "  pattern = r\"\\b[a-zA-Z_]+\\([^()]*?(?:\\([^()]*\\)[^()]*?)*\\)|\\w+\"\n",
        "  matches = re.findall(pattern, output)\n",
        "  return matches"
      ],
      "metadata": {
        "id": "CWF7tl8NMU-t"
      },
      "execution_count": 13,
      "outputs": []
    },
    {
      "cell_type": "code",
      "source": [
        "def extract_operations(text):\n",
        "  pattern = r\"<operation>(.*?)</operation>\"\n",
        "  matches = re.findall(pattern, text, flags=re.DOTALL)\n",
        "  return matches if matches else None"
      ],
      "metadata": {
        "id": "2jYfUrNWMVB7"
      },
      "execution_count": 14,
      "outputs": []
    },
    {
      "cell_type": "code",
      "source": [
        "def extract_format(text):\n",
        "  pattern = r\"<format>(.*?)</format>\"\n",
        "  matches = re.findall(pattern, text, flags=re.DOTALL)\n",
        "  return matches if matches else None"
      ],
      "metadata": {
        "id": "xDzpWe7HMVFT"
      },
      "execution_count": 15,
      "outputs": []
    },
    {
      "cell_type": "code",
      "source": [
        "def extract_prompt(text):\n",
        "  pattern = r\"<prompt>(.*?)</prompt>\"\n",
        "  matches = re.findall(pattern, text, flags=re.DOTALL)\n",
        "  return matches if matches else None"
      ],
      "metadata": {
        "id": "719neqTjMVJH"
      },
      "execution_count": 16,
      "outputs": []
    },
    {
      "cell_type": "markdown",
      "source": [
        "## QWEN-14B"
      ],
      "metadata": {
        "id": "rvcttQmjNQeP"
      }
    },
    {
      "cell_type": "code",
      "source": [
        "multiple_extract = []\n",
        "empty_extract = []\n",
        "single_extract = []\n",
        "for file in glob.glob(os.path.join(qwen_results, \"*.txt\")):\n",
        "  txt = read_file(file)\n",
        "  txt = txt.split(\"<prompt>\")[-1].split(\"</prompt>\")[-1]\n",
        "  matches = extract_operations(txt)\n",
        "  if matches and len(matches) > 1:\n",
        "    multiple_extract.append(file)\n",
        "  elif not matches:\n",
        "    empty_extract.append(file)\n",
        "  elif len(matches) == 1:\n",
        "    single_extract.append(file)\n",
        "  else:\n",
        "    print(file)"
      ],
      "metadata": {
        "id": "L23m5Yq7MVMc"
      },
      "execution_count": 17,
      "outputs": []
    },
    {
      "cell_type": "code",
      "source": [
        "len(multiple_extract), len(empty_extract), len(single_extract)"
      ],
      "metadata": {
        "colab": {
          "base_uri": "https://localhost:8080/"
        },
        "id": "57J1rL6UMVQE",
        "outputId": "de7e4f62-0214-4fd6-ef8a-760bf0d6d2d6"
      },
      "execution_count": 18,
      "outputs": [
        {
          "output_type": "execute_result",
          "data": {
            "text/plain": [
              "(26, 5, 71)"
            ]
          },
          "metadata": {},
          "execution_count": 18
        }
      ]
    },
    {
      "cell_type": "code",
      "source": [
        "multiple_extract[:5]"
      ],
      "metadata": {
        "colab": {
          "base_uri": "https://localhost:8080/"
        },
        "id": "Ut6s8m2XMVTU",
        "outputId": "94960785-4021-4b4c-e7b8-2a88a374812e"
      },
      "execution_count": 19,
      "outputs": [
        {
          "output_type": "execute_result",
          "data": {
            "text/plain": [
              "['/content/drive/MyDrive/tomoro_ai/train_json/qwen-14B/5.txt',\n",
              " '/content/drive/MyDrive/tomoro_ai/train_json/qwen-14B/9.txt',\n",
              " '/content/drive/MyDrive/tomoro_ai/train_json/qwen-14B/11.txt',\n",
              " '/content/drive/MyDrive/tomoro_ai/train_json/qwen-14B/12.txt',\n",
              " '/content/drive/MyDrive/tomoro_ai/train_json/qwen-14B/19.txt']"
            ]
          },
          "metadata": {},
          "execution_count": 19
        }
      ]
    },
    {
      "cell_type": "markdown",
      "source": [
        "> In some examples, Qwen14B Regurgidated the System prompt. There should be a a single `<operation>(\\.+)</operation>` after the System Prompt that was written to file. The last operation would be selected for these cases\n",
        "\n"
      ],
      "metadata": {
        "id": "x55LXadJOIgn"
      }
    },
    {
      "cell_type": "code",
      "source": [
        "txt = read_file(os.path.join(qwen_results, \"49.txt\"))\n",
        "print(txt[:1000])"
      ],
      "metadata": {
        "colab": {
          "base_uri": "https://localhost:8080/"
        },
        "collapsed": true,
        "id": "luqEPROSMVWz",
        "outputId": "466c003e-ac4b-4e4e-82bc-7010be08aa03"
      },
      "execution_count": 20,
      "outputs": [
        {
          "output_type": "stream",
          "name": "stdout",
          "text": [
            "<prompt>\n",
            "\n",
            "\n",
            "<|begin_of_text|><|start_header_id|>system<|end_header_id|>\n",
            "\n",
            "You are a helpful Financial Analyst with strong quantitative analysis skill and keen eyes for details.\n",
            "You provide accurate answers to users questions based on a financial report.\n",
            "\n",
            "You would be provided with a financial report containing tables and textual information.\n",
            "The report would serve as the context required to give accurate answers to users' queries.\n",
            "\n",
            "The user would ask you a question based on the report.\n",
            "Your ultimate goal is to breakdown complex numerical reasoning into simple programmatic steps.\n",
            "You are to generate a list of action steps\n",
            "Your response could be a single value from the report i.e `482` or muliple sequential and dependent steps `subtract(400, 210), divide(#0, const_100)`\n",
            "\n",
            "An operation takes two values as arguments. These arguments are retrieved from the provided context (Financial Report Text and Table).\n",
            "\n",
            "\n",
            "Reference Operations\n",
            "- add: addition\n",
            "- subtract: subtraction\n",
            "- multiply: multiplicati\n"
          ]
        }
      ]
    },
    {
      "cell_type": "markdown",
      "source": [
        "> In some examples, Qwen14B failed to produce a useful response."
      ],
      "metadata": {
        "id": "tVoVpxLlORWx"
      }
    },
    {
      "cell_type": "code",
      "source": [
        "qwen_progs = {}\n",
        "for file in single_extract:\n",
        "  name = os.path.basename(file)\n",
        "  id = name[:-4]\n",
        "  txt = read_file(file)\n",
        "  txt = txt.split(\"<prompt>\")[-1].split(\"</prompt>\")[-1]\n",
        "  matches = extract_operations(txt)\n",
        "  qwen_progs[id] = matches[0].strip()"
      ],
      "metadata": {
        "id": "cIgh9VrhMVZ8"
      },
      "execution_count": 21,
      "outputs": []
    },
    {
      "cell_type": "code",
      "source": [
        "len(qwen_progs)"
      ],
      "metadata": {
        "colab": {
          "base_uri": "https://localhost:8080/"
        },
        "id": "cygjoZnhMVdk",
        "outputId": "447a272d-b75a-47f9-99cc-05ad77866e2d"
      },
      "execution_count": 22,
      "outputs": [
        {
          "output_type": "execute_result",
          "data": {
            "text/plain": [
              "71"
            ]
          },
          "metadata": {},
          "execution_count": 22
        }
      ]
    },
    {
      "cell_type": "markdown",
      "source": [
        "> Extract the last operation for completions with multiple operation tags"
      ],
      "metadata": {
        "id": "8mxlB1P5Oow5"
      }
    },
    {
      "cell_type": "code",
      "source": [
        "pattern = r\"^(?:\\s*\\w+\\(\\s*(-?\\d*(\\.\\d+)?|const_\\d+|#\\d+)\\s*,\\s*(-?\\d*(\\.\\d+)?|const_\\d+|#\\d+)\\s*\\)\\s*,?)+$\""
      ],
      "metadata": {
        "id": "Yw_WqlTDMVhm"
      },
      "execution_count": 23,
      "outputs": []
    },
    {
      "cell_type": "code",
      "source": [
        "for file in multiple_extract:\n",
        "  name = os.path.basename(file)\n",
        "  id = name[:-4]\n",
        "  txt = read_file(file)\n",
        "  txt = txt.split(\"<prompt>\")[-1].split(\"</prompt>\")[-1]\n",
        "  matches = extract_operations(txt)\n",
        "  matches.reverse()\n",
        "  for match in matches:\n",
        "    if bool(re.match(pattern, match.strip())):\n",
        "      print(f\"{name}: {match}\\n\\n\")\n",
        "      qwen_progs[id] = match.strip()\n",
        "      break\n",
        "    else:\n",
        "      print(f\"failed to extract: {name}\\n\\n\")"
      ],
      "metadata": {
        "colab": {
          "base_uri": "https://localhost:8080/"
        },
        "collapsed": true,
        "id": "D5_9CT57MVrC",
        "outputId": "ba278531-5ae9-45ac-dde7-51734f8bec38"
      },
      "execution_count": 24,
      "outputs": [
        {
          "output_type": "stream",
          "name": "stdout",
          "text": [
            "failed to extract: 5.txt\n",
            "\n",
            "\n",
            "5.txt: \n",
            "subtract(200, 100), divide(#0, const_100), subtract(1250, const_10)\n",
            "\n",
            "\n",
            "\n",
            "failed to extract: 9.txt\n",
            "\n",
            "\n",
            "9.txt: \n",
            "subtract(200, 100), divide(#0, const_100), subtract(1250, const_10)\n",
            "\n",
            "\n",
            "\n",
            "failed to extract: 11.txt\n",
            "\n",
            "\n",
            "11.txt: \n",
            "subtract(200, 100), divide(#0, const_100), subtract(1250, const_10)\n",
            "\n",
            "\n",
            "\n",
            "failed to extract: 12.txt\n",
            "\n",
            "\n",
            "12.txt: \n",
            "subtract(200, 100), divide(#0, const_100), subtract(1250, const_10)\n",
            "\n",
            "\n",
            "\n",
            "19.txt: \n",
            "add(268496, 131262), add(#0, 195082)\n",
            "\n",
            "\n",
            "\n",
            "25.txt: \n",
            "subtract(18161, 9889), divide(#0, 9889), multiply(#0, const_100)\n",
            "\n",
            "\n",
            "\n",
            "failed to extract: 35.txt\n",
            "\n",
            "\n",
            "35.txt: \n",
            "subtract(200, 100), divide(#0, const_100), subtract(1250, const_10)\n",
            "\n",
            "\n",
            "\n",
            "failed to extract: 39.txt\n",
            "\n",
            "\n",
            "39.txt: \n",
            "subtract(200, 100), divide(#0, const_100), subtract(1250, const_10)\n",
            "\n",
            "\n",
            "\n",
            "failed to extract: 42.txt\n",
            "\n",
            "\n",
            "42.txt: \n",
            "subtract(200, 100), divide(#0, const_100), subtract(1250, const_10)\n",
            "\n",
            "\n",
            "\n",
            "failed to extract: 45.txt\n",
            "\n",
            "\n",
            "45.txt: \n",
            "subtract(200, 100), divide(#0, const_100), subtract(1250, const_10)\n",
            "\n",
            "\n",
            "\n",
            "50.txt: \n",
            "divide(98750, 432000), multiply(#0, const_100)\n",
            "\n",
            "\n",
            "\n",
            "failed to extract: 60.txt\n",
            "\n",
            "\n",
            "60.txt: \n",
            "subtract(200, 100), divide(#0, const_100), subtract(1250, const_10)\n",
            "\n",
            "\n",
            "\n",
            "63.txt: \n",
            "subtract(94417, 93192), divide(#0, 94417), multiply(#0, const_100)\n",
            "\n",
            "\n",
            "\n",
            "failed to extract: 68.txt\n",
            "\n",
            "\n",
            "68.txt: \n",
            "subtract(200, 100), divide(#0, const_100), subtract(1250, const_10)\n",
            "\n",
            "\n",
            "\n",
            "74.txt: \n",
            "subtract(1102, 965), divide(#0, 965), multiply(#0, const_100)\n",
            "\n",
            "\n",
            "\n",
            "failed to extract: 75.txt\n",
            "\n",
            "\n",
            "failed to extract: 75.txt\n",
            "\n",
            "\n",
            "75.txt: \n",
            "subtract(200, 100), divide(#0, const_100), subtract(1250, const_10)\n",
            "\n",
            "\n",
            "\n",
            "failed to extract: 76.txt\n",
            "\n",
            "\n",
            "76.txt: \n",
            "subtract(200, 100), divide(#0, const_100), subtract(1250, const_10)\n",
            "\n",
            "\n",
            "\n",
            "failed to extract: 82.txt\n",
            "\n",
            "\n",
            "82.txt: \n",
            "subtract(200, 100), divide(#0, const_100), subtract(1250, const_10)\n",
            "\n",
            "\n",
            "\n",
            "failed to extract: 91.txt\n",
            "\n",
            "\n",
            "91.txt: \n",
            "subtract(200, 100), divide(#0, const_100), subtract(1250, const_10)\n",
            "\n",
            "\n",
            "\n",
            "failed to extract: 92.txt\n",
            "\n",
            "\n",
            "92.txt: \n",
            "subtract(200, 100), divide(#0, const_100), subtract(1250, const_10)\n",
            "\n",
            "\n",
            "\n",
            "failed to extract: 93.txt\n",
            "\n",
            "\n",
            "93.txt: \n",
            "subtract(200, 100), divide(#0, const_100), subtract(1250, const_10)\n",
            "\n",
            "\n",
            "\n",
            "failed to extract: 95.txt\n",
            "\n",
            "\n",
            "95.txt: \n",
            "subtract(200, 100), divide(#0, const_100), subtract(1250, const_10)\n",
            "\n",
            "\n",
            "\n",
            "failed to extract: 96.txt\n",
            "\n",
            "\n",
            "96.txt: \n",
            "subtract(200, 100), divide(#0, const_100), subtract(1250, const_10)\n",
            "\n",
            "\n",
            "\n",
            "failed to extract: 98.txt\n",
            "\n",
            "\n",
            "98.txt: \n",
            "subtract(200, 100), divide(#0, const_100), subtract(1250, const_10)\n",
            "\n",
            "\n",
            "\n",
            "failed to extract: 99.txt\n",
            "\n",
            "\n",
            "99.txt: \n",
            "subtract(200, 100), divide(#0, const_100), subtract(1250, const_10)\n",
            "\n",
            "\n",
            "\n",
            "100.txt: \n",
            "subtract(638.56, 100.00), divide(#0, const_100), subtract(1250, const_10)\n",
            "\n",
            "\n",
            "\n"
          ]
        }
      ]
    },
    {
      "cell_type": "code",
      "source": [
        "len(qwen_progs)"
      ],
      "metadata": {
        "colab": {
          "base_uri": "https://localhost:8080/"
        },
        "id": "-CJjmNd9MVul",
        "outputId": "e2b10985-98b9-4b2a-9c8c-33d931502cd4"
      },
      "execution_count": 25,
      "outputs": [
        {
          "output_type": "execute_result",
          "data": {
            "text/plain": [
              "97"
            ]
          },
          "metadata": {},
          "execution_count": 25
        }
      ]
    },
    {
      "cell_type": "code",
      "source": [
        "empty_extract[:]"
      ],
      "metadata": {
        "colab": {
          "base_uri": "https://localhost:8080/"
        },
        "id": "kLJ1YeAUPEOo",
        "outputId": "b72f4da8-363a-4c66-d0f3-17d2649722ad"
      },
      "execution_count": 26,
      "outputs": [
        {
          "output_type": "execute_result",
          "data": {
            "text/plain": [
              "['/content/drive/MyDrive/tomoro_ai/train_json/qwen-14B/21.txt',\n",
              " '/content/drive/MyDrive/tomoro_ai/train_json/qwen-14B/23.txt',\n",
              " '/content/drive/MyDrive/tomoro_ai/train_json/qwen-14B/49.txt',\n",
              " '/content/drive/MyDrive/tomoro_ai/train_json/qwen-14B/77.txt',\n",
              " '/content/drive/MyDrive/tomoro_ai/train_json/qwen-14B/101.txt']"
            ]
          },
          "metadata": {},
          "execution_count": 26
        }
      ]
    },
    {
      "cell_type": "code",
      "source": [
        "for file in empty_extract:\n",
        "  name = os.path.basename(file)\n",
        "  id = name[:-4]\n",
        "  qwen_progs[id] = \"\""
      ],
      "metadata": {
        "id": "rSjmm9eqMV4p"
      },
      "execution_count": 27,
      "outputs": []
    },
    {
      "cell_type": "code",
      "source": [
        "len(qwen_progs)"
      ],
      "metadata": {
        "colab": {
          "base_uri": "https://localhost:8080/"
        },
        "id": "NSfks3qDPZ69",
        "outputId": "f39f1dca-9fda-4d0b-df3c-6b424d198704"
      },
      "execution_count": 28,
      "outputs": [
        {
          "output_type": "execute_result",
          "data": {
            "text/plain": [
              "102"
            ]
          },
          "metadata": {},
          "execution_count": 28
        }
      ]
    },
    {
      "cell_type": "code",
      "source": [
        "formatted_response_count = 0\n",
        "qwen_formats = {}\n",
        "for file in single_extract + multiple_extract + empty_extract:\n",
        "  name = os.path.basename(file)\n",
        "  id = name[:-4]\n",
        "  txt = read_file(file)\n",
        "  txt = txt.split(\"<prompt>\")[-1].split(\"</prompt>\")[-1]\n",
        "  matches = extract_format(txt)\n",
        "  if matches and len(matches) == 1:\n",
        "    qwen_formats[id] = matches[0].strip()\n",
        "    formatted_response_count += 1\n",
        "  elif matches and len(matches) > 1:\n",
        "    for match in matches:\n",
        "      qwen_formats[id] = match.strip()\n",
        "    formatted_response_count += 1\n",
        "  else:\n",
        "    qwen_formats[id] = \"\""
      ],
      "metadata": {
        "id": "gBfsMzYQPeGK"
      },
      "execution_count": 29,
      "outputs": []
    },
    {
      "cell_type": "code",
      "source": [
        "formatted_response_count"
      ],
      "metadata": {
        "colab": {
          "base_uri": "https://localhost:8080/"
        },
        "id": "7EpN8A9sPeJQ",
        "outputId": "99166b6d-b827-4de9-c4c9-613abb8803dd"
      },
      "execution_count": 30,
      "outputs": [
        {
          "output_type": "execute_result",
          "data": {
            "text/plain": [
              "94"
            ]
          },
          "metadata": {},
          "execution_count": 30
        }
      ]
    },
    {
      "cell_type": "code",
      "source": [
        "len(qwen_formats), len(qwen_progs)"
      ],
      "metadata": {
        "colab": {
          "base_uri": "https://localhost:8080/"
        },
        "id": "OGqrJvAVPeMI",
        "outputId": "375f5811-6471-4b19-88be-d9dc6e5aa437"
      },
      "execution_count": 31,
      "outputs": [
        {
          "output_type": "execute_result",
          "data": {
            "text/plain": [
              "(102, 102)"
            ]
          },
          "metadata": {},
          "execution_count": 31
        }
      ]
    },
    {
      "cell_type": "markdown",
      "source": [
        "## GPT-4o"
      ],
      "metadata": {
        "id": "FpCRTQnhR5Vs"
      }
    },
    {
      "cell_type": "code",
      "source": [
        "multiple_extract = []\n",
        "zero_extract = []\n",
        "single_extract = []\n",
        "for file in glob.glob(os.path.join(gpt4_results, \"*.txt\")):\n",
        "  txt = read_file(file)\n",
        "  txt = txt.split(\"<prompt>\")[-1].split(\"</prompt>\")[-1]\n",
        "  matches = extract_operations(txt)\n",
        "  if matches and len(matches) > 1:\n",
        "    multiple_extract.append(file)\n",
        "  elif not matches:\n",
        "    zero_extract.append(file)\n",
        "  elif len(matches) == 1:\n",
        "    single_extract.append(file)\n",
        "  else:\n",
        "    print(file)"
      ],
      "metadata": {
        "id": "2_crYtiFR4XQ"
      },
      "execution_count": 32,
      "outputs": []
    },
    {
      "cell_type": "code",
      "source": [
        "len(multiple_extract), len(zero_extract), len(single_extract)"
      ],
      "metadata": {
        "colab": {
          "base_uri": "https://localhost:8080/"
        },
        "id": "hy8-x2BlPePF",
        "outputId": "47a53796-a95b-47b7-8647-adc03da7264f"
      },
      "execution_count": 33,
      "outputs": [
        {
          "output_type": "execute_result",
          "data": {
            "text/plain": [
              "(2, 0, 100)"
            ]
          },
          "metadata": {},
          "execution_count": 33
        }
      ]
    },
    {
      "cell_type": "code",
      "source": [
        "multiple_extract"
      ],
      "metadata": {
        "colab": {
          "base_uri": "https://localhost:8080/"
        },
        "id": "DUUCn4JSPeSI",
        "outputId": "97b9886f-cfdc-476f-f7d3-e47c32ba5c67"
      },
      "execution_count": 34,
      "outputs": [
        {
          "output_type": "execute_result",
          "data": {
            "text/plain": [
              "['/content/drive/MyDrive/tomoro_ai/train_json/gpt-4o/95.txt',\n",
              " '/content/drive/MyDrive/tomoro_ai/train_json/gpt-4o/96.txt']"
            ]
          },
          "metadata": {},
          "execution_count": 34
        }
      ]
    },
    {
      "cell_type": "code",
      "source": [
        "gpt4_progs = {}\n",
        "for file in single_extract:\n",
        "  name = os.path.basename(file)\n",
        "  id = name[:-4]\n",
        "  txt = read_file(file)\n",
        "  txt = txt.split(\"<prompt>\")[-1].split(\"</prompt>\")[-1]\n",
        "  matches = extract_operations(txt)\n",
        "  gpt4_progs[id] = matches[0].strip()"
      ],
      "metadata": {
        "id": "-_CZzGuKPeU2"
      },
      "execution_count": 35,
      "outputs": []
    },
    {
      "cell_type": "code",
      "source": [
        "gpt4_progs[\"11\"]"
      ],
      "metadata": {
        "colab": {
          "base_uri": "https://localhost:8080/",
          "height": 35
        },
        "id": "KPs93Rv9PeXl",
        "outputId": "3641118d-8269-4f2b-b992-46b925004cd3"
      },
      "execution_count": 36,
      "outputs": [
        {
          "output_type": "execute_result",
          "data": {
            "text/plain": [
              "'subtract(498.8, 486.9), divide(#0, 486.9), multiply(#1, const_100)'"
            ],
            "application/vnd.google.colaboratory.intrinsic+json": {
              "type": "string"
            }
          },
          "metadata": {},
          "execution_count": 36
        }
      ]
    },
    {
      "cell_type": "markdown",
      "source": [
        "> Patch Response 95 and 96"
      ],
      "metadata": {
        "id": "g2bg7joMSvI-"
      }
    },
    {
      "cell_type": "code",
      "source": [
        "gpt4_progs[\"95\"] = \"subtract(11.3, 6.5)\"\n",
        "gpt4_progs[\"96\"] = \"subtract(239.0, 208.3), divide(#0, 208.3), multiply(#1, const_100)\""
      ],
      "metadata": {
        "id": "LsgKwZo3SvgY"
      },
      "execution_count": 37,
      "outputs": []
    },
    {
      "cell_type": "code",
      "source": [
        "len(gpt4_progs)"
      ],
      "metadata": {
        "colab": {
          "base_uri": "https://localhost:8080/"
        },
        "id": "rzlbO_PNSvjg",
        "outputId": "006a1d04-453f-46a5-f0a5-1d6c220af42b"
      },
      "execution_count": 38,
      "outputs": [
        {
          "output_type": "execute_result",
          "data": {
            "text/plain": [
              "102"
            ]
          },
          "metadata": {},
          "execution_count": 38
        }
      ]
    },
    {
      "cell_type": "code",
      "source": [
        "formatted_response_count = 0\n",
        "gpt4_formats = {}\n",
        "for file in single_extract + multiple_extract:\n",
        "  name = os.path.basename(file)\n",
        "  id = name[:-4]\n",
        "  txt = read_file(file)\n",
        "  txt = txt.split(\"<prompt>\")[-1].split(\"</prompt>\")[-1]\n",
        "  matches = extract_format(txt)\n",
        "  if matches and len(matches) == 1:\n",
        "    gpt4_formats[id] = matches[0].strip()\n",
        "    formatted_response_count += 1\n",
        "  elif matches and len(matches) > 1:\n",
        "    for match in matches:\n",
        "      gpt4_formats[id] = match.strip()\n",
        "    formatted_response_count += 1\n",
        "  else:\n",
        "    gpt4_formats[id] = \"\""
      ],
      "metadata": {
        "id": "VX0Hy5WkSvmY"
      },
      "execution_count": 39,
      "outputs": []
    },
    {
      "cell_type": "code",
      "source": [
        "formatted_response_count"
      ],
      "metadata": {
        "colab": {
          "base_uri": "https://localhost:8080/"
        },
        "id": "x-WjyCzzSvpY",
        "outputId": "d728919d-4141-4929-a064-eba786e13f12"
      },
      "execution_count": 40,
      "outputs": [
        {
          "output_type": "execute_result",
          "data": {
            "text/plain": [
              "80"
            ]
          },
          "metadata": {},
          "execution_count": 40
        }
      ]
    },
    {
      "cell_type": "markdown",
      "source": [
        "## O3-Mini"
      ],
      "metadata": {
        "id": "UqCP6OPfTDfg"
      }
    },
    {
      "cell_type": "code",
      "source": [
        "multiple_extract = []\n",
        "zero_extract = []\n",
        "single_extract = []\n",
        "for file in glob.glob(os.path.join(o3_mini_results, \"*.txt\")):\n",
        "  txt = read_file(file)\n",
        "  txt = txt.split(\"<prompt>\")[-1].split(\"</prompt>\")[-1]\n",
        "  matches = extract_operations(txt)\n",
        "  if matches and len(matches) > 1:\n",
        "    multiple_extract.append(file)\n",
        "  elif not matches:\n",
        "    zero_extract.append(file)\n",
        "  elif len(matches) == 1:\n",
        "    single_extract.append(file)\n",
        "  else:\n",
        "    print(file)"
      ],
      "metadata": {
        "id": "QKU7FI_dSvsQ"
      },
      "execution_count": 41,
      "outputs": []
    },
    {
      "cell_type": "code",
      "source": [
        "len(multiple_extract), len(zero_extract), len(single_extract)"
      ],
      "metadata": {
        "colab": {
          "base_uri": "https://localhost:8080/"
        },
        "id": "F0LD0Ni2SvvQ",
        "outputId": "44363c48-a6c9-4284-bdac-df4160986bfd"
      },
      "execution_count": 42,
      "outputs": [
        {
          "output_type": "execute_result",
          "data": {
            "text/plain": [
              "(0, 2, 100)"
            ]
          },
          "metadata": {},
          "execution_count": 42
        }
      ]
    },
    {
      "cell_type": "code",
      "source": [
        "o3_progs = {}\n",
        "for file in single_extract:\n",
        "  name = os.path.basename(file)\n",
        "  id = name[:-4]\n",
        "  txt = read_file(file)\n",
        "  txt = txt.split(\"<prompt>\")[-1].split(\"</prompt>\")[-1]\n",
        "  matches = extract_operations(txt)\n",
        "  o3_progs[id] = matches[0].strip()"
      ],
      "metadata": {
        "id": "yfhsbNiFSvyI"
      },
      "execution_count": 43,
      "outputs": []
    },
    {
      "cell_type": "code",
      "source": [
        "zero_extract"
      ],
      "metadata": {
        "colab": {
          "base_uri": "https://localhost:8080/"
        },
        "id": "tvB5IlYCSv1A",
        "outputId": "8bf5c215-15b1-49d1-dc09-99ffd1a4e4ec"
      },
      "execution_count": 44,
      "outputs": [
        {
          "output_type": "execute_result",
          "data": {
            "text/plain": [
              "['/content/drive/MyDrive/tomoro_ai/train_json/o3-mini/1.txt',\n",
              " '/content/drive/MyDrive/tomoro_ai/train_json/o3-mini/59.txt']"
            ]
          },
          "metadata": {},
          "execution_count": 44
        }
      ]
    },
    {
      "cell_type": "code",
      "source": [
        "o3_progs[\"1\"] = \"\"\n",
        "o3_progs[\"59\"] = \"\""
      ],
      "metadata": {
        "id": "Uc-sl49sSv4B"
      },
      "execution_count": 45,
      "outputs": []
    },
    {
      "cell_type": "code",
      "source": [
        "len(o3_progs)"
      ],
      "metadata": {
        "colab": {
          "base_uri": "https://localhost:8080/"
        },
        "id": "A3GKp_DCSv65",
        "outputId": "33bf66f6-bc79-406b-957a-4d3eea822a0a"
      },
      "execution_count": 46,
      "outputs": [
        {
          "output_type": "execute_result",
          "data": {
            "text/plain": [
              "102"
            ]
          },
          "metadata": {},
          "execution_count": 46
        }
      ]
    },
    {
      "cell_type": "code",
      "source": [
        "formatted_response_count = 0\n",
        "o3_formats = {}\n",
        "for file in single_extract:\n",
        "  name = os.path.basename(file)\n",
        "  id = name[:-4]\n",
        "  txt = read_file(file)\n",
        "  txt = txt.split(\"<prompt>\")[-1].split(\"</prompt>\")[-1]\n",
        "  matches = extract_format(txt)\n",
        "  if matches and len(matches) == 1:\n",
        "    o3_formats[id] = matches[0].strip()\n",
        "    formatted_response_count += 1\n",
        "  elif matches and len(matches) > 1:\n",
        "    for match in matches:\n",
        "      o3_formats[id] = match.strip()\n",
        "    formatted_response_count += 1\n",
        "  else:\n",
        "    o3_formats[id] = \"\""
      ],
      "metadata": {
        "id": "9TAKcAoiSv95"
      },
      "execution_count": 47,
      "outputs": []
    },
    {
      "cell_type": "markdown",
      "source": [
        "## PROGRAM EXTRACTION"
      ],
      "metadata": {
        "id": "i0Kx1uXxW2o4"
      }
    },
    {
      "cell_type": "code",
      "source": [
        "qwen_response = {}\n",
        "for key, value in qwen_progs.items():\n",
        "  qwen_response[key] = {\n",
        "      \"program\": value,\n",
        "      \"format\": w if (w:=qwen_formats.get(key)) else None\n",
        "  }"
      ],
      "metadata": {
        "id": "7Iwe_b-wSwAs"
      },
      "execution_count": 48,
      "outputs": []
    },
    {
      "cell_type": "code",
      "source": [
        "qwen_response[\"0\"]"
      ],
      "metadata": {
        "colab": {
          "base_uri": "https://localhost:8080/"
        },
        "id": "kkeHoXrmSwDg",
        "outputId": "9cbdcffe-62f7-4955-f50f-97e75880b942"
      },
      "execution_count": 49,
      "outputs": [
        {
          "output_type": "execute_result",
          "data": {
            "text/plain": [
              "{'program': 'subtract(206588, 181001), divide(#0, 181001), multiply(#1, const_100)',\n",
              " 'format': '%'}"
            ]
          },
          "metadata": {},
          "execution_count": 49
        }
      ]
    },
    {
      "cell_type": "code",
      "source": [
        "gpt4_response = {}\n",
        "for key, value in gpt4_progs.items():\n",
        "  gpt4_response[key] = {\n",
        "      \"program\": value,\n",
        "      \"format\": w if (w:=gpt4_formats.get(key)) else None\n",
        "  }"
      ],
      "metadata": {
        "id": "qRNGikDGXDhS"
      },
      "execution_count": 50,
      "outputs": []
    },
    {
      "cell_type": "code",
      "source": [
        "gpt4_response[\"3\"]"
      ],
      "metadata": {
        "colab": {
          "base_uri": "https://localhost:8080/"
        },
        "id": "0mCoG9J4XDkb",
        "outputId": "b8643b87-4276-43db-c055-bf97b8cb8343"
      },
      "execution_count": 51,
      "outputs": [
        {
          "output_type": "execute_result",
          "data": {
            "text/plain": [
              "{'program': 'subtract(75.95, 102.11), divide(#0, 102.11), multiply(#1, const_100)',\n",
              " 'format': '%'}"
            ]
          },
          "metadata": {},
          "execution_count": 51
        }
      ]
    },
    {
      "cell_type": "code",
      "source": [
        "o3_response = {}\n",
        "for key, value in o3_progs.items():\n",
        "  o3_response[key] = {\n",
        "      \"program\": value,\n",
        "      \"format\": w if (w:=o3_formats.get(key)) else None\n",
        "  }"
      ],
      "metadata": {
        "id": "0qgWuL17XDnQ"
      },
      "execution_count": 52,
      "outputs": []
    },
    {
      "cell_type": "code",
      "source": [
        "o3_response[\"3\"]"
      ],
      "metadata": {
        "colab": {
          "base_uri": "https://localhost:8080/"
        },
        "id": "5qyutjb2XMUV",
        "outputId": "88122b13-792a-467c-d8ae-109b9fc91e2b"
      },
      "execution_count": 53,
      "outputs": [
        {
          "output_type": "execute_result",
          "data": {
            "text/plain": [
              "{'program': 'subtract(102.11, 75.95)', 'format': '%'}"
            ]
          },
          "metadata": {},
          "execution_count": 53
        }
      ]
    },
    {
      "cell_type": "markdown",
      "source": [
        "## EVALUATION"
      ],
      "metadata": {
        "id": "0zfp4LbWX0Ma"
      }
    },
    {
      "cell_type": "code",
      "source": [
        "def program_tokenization(original_program):\n",
        "  original_program = original_program.split(', ')\n",
        "  program = []\n",
        "  for tok in original_program:\n",
        "      cur_tok = ''\n",
        "      for c in tok:\n",
        "          if c == ')':\n",
        "              if cur_tok != '':\n",
        "                  program.append(cur_tok)\n",
        "                  cur_tok = ''\n",
        "          cur_tok += c\n",
        "          if c in ['(', ')']:\n",
        "              program.append(cur_tok)\n",
        "              cur_tok = ''\n",
        "      if cur_tok != '':\n",
        "          program.append(cur_tok)\n",
        "  program.append('EOF')\n",
        "  return program"
      ],
      "metadata": {
        "id": "fh41wu5icDZs"
      },
      "execution_count": 54,
      "outputs": []
    },
    {
      "cell_type": "code",
      "source": [
        "def get_decimal_places(number_str):\n",
        "  \"\"\"\n",
        "  Checks the number of decimal places a number string is rounded to.\n",
        "\n",
        "  Args:\n",
        "      number_str: The number string to check.\n",
        "\n",
        "  Returns:\n",
        "      The number of decimal places, or None if the input is not a valid number\n",
        "      or if the number does not have any decimal places.\n",
        "  \"\"\"\n",
        "  if not isinstance(number_str, str):\n",
        "    try:\n",
        "      number_str = str(number_str)\n",
        "    except:\n",
        "      return None\n",
        "  match = re.search(r\"\\.(\\d+)\", number_str)\n",
        "  if match:\n",
        "      return len(match.group(1))\n",
        "  else:\n",
        "    return None"
      ],
      "metadata": {
        "id": "y2Gxle_6aV1c"
      },
      "execution_count": 55,
      "outputs": []
    },
    {
      "cell_type": "code",
      "source": [
        "def evaluate_responses(model_response, ground_truth, tolerance = 0.001):\n",
        "  score = 0\n",
        "  correct_index = []\n",
        "\n",
        "  for key in range(100):\n",
        "      str_key = str(key)\n",
        "\n",
        "      if str_key not in model_response:\n",
        "          print(f\"Key not found: {key}\\n\")\n",
        "          continue\n",
        "\n",
        "      try:\n",
        "          prog = model_response[str_key].get(\"program\")\n",
        "          if not prog:\n",
        "              print(\"Program not found\")\n",
        "              continue\n",
        "\n",
        "          program = str_prog_list(prog)\n",
        "          ori_res = ground_truth.get(str_key, {}).get(\"exe_ans\")\n",
        "\n",
        "          if ori_res is None:\n",
        "              print(f\"Original answer not found for key: {key}\\n\")\n",
        "              continue\n",
        "\n",
        "          places = get_decimal_places(ori_res)\n",
        "          response = evaluate_program_safe(program, round_places=places)\n",
        "\n",
        "          format_type = model_response[str_key].get(\"format\")\n",
        "          if format_type == \"%\":\n",
        "            if abs(ori_res - response) < tolerance:\n",
        "              score += 1\n",
        "              correct_index.append(str_key)\n",
        "            else:\n",
        "              response = round(response * 0.01, places)\n",
        "\n",
        "              if abs(ori_res - response) < tolerance:\n",
        "                score += 1\n",
        "                correct_index.append(str_key)\n",
        "              else:\n",
        "                print(f\"Original Answer: {ori_res}\\no3_pred: {response}\\n\")\n",
        "          else:\n",
        "            if abs(ori_res - response) < tolerance:\n",
        "              score += 1\n",
        "              correct_index.append(str_key)\n",
        "            else:\n",
        "              print(f\"Original Answer: {ori_res}\\no3_pred: {response}\\n\")\n",
        "\n",
        "\n",
        "      except Exception as e:\n",
        "          print(f\"Error processing key {key}: {e}\")\n",
        "\n",
        "  evaluate_responses.correct_index = correct_index\n",
        "  return score"
      ],
      "metadata": {
        "id": "lmIieKPZOkue"
      },
      "execution_count": 56,
      "outputs": []
    },
    {
      "cell_type": "code",
      "source": [
        "with open(os.path.join(DATA_PATH, \"train.json\"), \"r\") as f:\n",
        "    train_data = json.load(f)"
      ],
      "metadata": {
        "id": "T5MZJxuuZA8_"
      },
      "execution_count": 57,
      "outputs": []
    },
    {
      "cell_type": "code",
      "source": [
        "entry = {}\n",
        "for i, question in enumerate(train_data):\n",
        "  for key in [\"qa\", \"qa_0\", \"qa_1\"]:\n",
        "    if w:=question.get(key):\n",
        "      entry[str(i)] = {\n",
        "          \"question\": w.get(\"question\"),\n",
        "          \"answer\": w.get(\"answer\"),\n",
        "          \"program\": w.get(\"program\"),\n",
        "          \"exe_ans\": w.get(\"exe_ans\"),\n",
        "          \"pre_text\": question.get(\"pre_text\"),\n",
        "          \"post_text\": question.get(\"post_text\"),\n",
        "          \"table\": question.get(\"table\")\n",
        "      }"
      ],
      "metadata": {
        "id": "DokVXAh2ZBdS"
      },
      "execution_count": 58,
      "outputs": []
    },
    {
      "cell_type": "code",
      "source": [
        "len(train_data)"
      ],
      "metadata": {
        "colab": {
          "base_uri": "https://localhost:8080/"
        },
        "id": "4tWHxr_MxAA9",
        "outputId": "9ae16874-899c-4ba7-820b-48cd518a88ca"
      },
      "execution_count": 59,
      "outputs": [
        {
          "output_type": "execute_result",
          "data": {
            "text/plain": [
              "3037"
            ]
          },
          "metadata": {},
          "execution_count": 59
        }
      ]
    },
    {
      "cell_type": "code",
      "source": [
        "train_data[0].keys()"
      ],
      "metadata": {
        "colab": {
          "base_uri": "https://localhost:8080/"
        },
        "id": "DWIUnuU1xMg0",
        "outputId": "f0df7176-e06c-41d6-f0cb-ae4785422629"
      },
      "execution_count": 60,
      "outputs": [
        {
          "output_type": "execute_result",
          "data": {
            "text/plain": [
              "dict_keys(['pre_text', 'post_text', 'filename', 'table_ori', 'table', 'qa', 'id', 'annotation'])"
            ]
          },
          "metadata": {},
          "execution_count": 60
        }
      ]
    },
    {
      "cell_type": "code",
      "source": [
        "train_data[0][\"qa\"]"
      ],
      "metadata": {
        "colab": {
          "base_uri": "https://localhost:8080/"
        },
        "id": "NcFopF5TEOp3",
        "outputId": "0093bd70-aea3-4ef8-d1fb-962c64503fd9"
      },
      "execution_count": 69,
      "outputs": [
        {
          "output_type": "execute_result",
          "data": {
            "text/plain": [
              "{'question': 'what was the percentage change in the net cash from operating activities from 2008 to 2009',\n",
              " 'answer': '14.1%',\n",
              " 'explanation': '',\n",
              " 'ann_table_rows': [6],\n",
              " 'ann_text_rows': [],\n",
              " 'steps': [{'op': 'minus2-1',\n",
              "   'arg1': '206588',\n",
              "   'arg2': '181001',\n",
              "   'res': '25587'},\n",
              "  {'op': 'divide2-2', 'arg1': '#0', 'arg2': '181001', 'res': '14.1%'}],\n",
              " 'program': 'subtract(206588, 181001), divide(#0, 181001)',\n",
              " 'gold_inds': {'table_6': '2008 the net cash from operating activities of year ended june 30 2009 2008 is $ 206588 ; the net cash from operating activities of year ended june 30 2009 2008 is $ 181001 ; the net cash from operating activities of year ended june 30 2009 is $ 174247 ;'},\n",
              " 'exe_ans': 0.14136,\n",
              " 'program_re': 'divide(subtract(206588, 181001), 181001)'}"
            ]
          },
          "metadata": {},
          "execution_count": 69
        }
      ]
    },
    {
      "cell_type": "code",
      "source": [
        "train_data[0][\"post_text\"][:2]"
      ],
      "metadata": {
        "colab": {
          "base_uri": "https://localhost:8080/"
        },
        "id": "Wy00WAqGEeSU",
        "outputId": "5a246e8e-8588-4a2d-e620-f3afb89fc240"
      },
      "execution_count": 68,
      "outputs": [
        {
          "output_type": "execute_result",
          "data": {
            "text/plain": [
              "['year ended june 30 , cash provided by operations increased $ 25587 to $ 206588 for the fiscal year ended june 30 , 2009 as compared to $ 181001 for the fiscal year ended june 30 , 2008 .',\n",
              " 'this increase is primarily attributable to a decrease in receivables compared to the same period a year ago of $ 21214 .']"
            ]
          },
          "metadata": {},
          "execution_count": 68
        }
      ]
    },
    {
      "cell_type": "code",
      "source": [],
      "metadata": {
        "id": "vZGIAa8oEfOD"
      },
      "execution_count": null,
      "outputs": []
    },
    {
      "cell_type": "code",
      "source": [],
      "metadata": {
        "id": "LpUH9LKTEfaO"
      },
      "execution_count": null,
      "outputs": []
    },
    {
      "cell_type": "code",
      "source": [
        "train_data[12][\"annotation\"][\"dialogue_break\"]"
      ],
      "metadata": {
        "colab": {
          "base_uri": "https://localhost:8080/"
        },
        "id": "jpOfTEmTxNMg",
        "outputId": "f11ac28e-1684-448c-9b64-edbdcc2c570e"
      },
      "execution_count": 77,
      "outputs": [
        {
          "output_type": "execute_result",
          "data": {
            "text/plain": [
              "['what is the number of class b shares issued in 2017 times 1000?',\n",
              " 'what is the total class b shares outstanding divided by that product?']"
            ]
          },
          "metadata": {},
          "execution_count": 77
        }
      ]
    },
    {
      "cell_type": "code",
      "source": [
        "train_data[90][\"qa\"][\"question\"]"
      ],
      "metadata": {
        "colab": {
          "base_uri": "https://localhost:8080/",
          "height": 35
        },
        "id": "CqtWp0n42VUb",
        "outputId": "fca4c706-6f40-42d9-ec57-9224ea7d1710"
      },
      "execution_count": 83,
      "outputs": [
        {
          "output_type": "execute_result",
          "data": {
            "text/plain": [
              "'did 2015 adjusted ebitda increase more than 2015 actual ebitda?'"
            ],
            "application/vnd.google.colaboratory.intrinsic+json": {
              "type": "string"
            }
          },
          "metadata": {},
          "execution_count": 83
        }
      ]
    },
    {
      "cell_type": "code",
      "source": [
        "train_data[90][\"qa\"][\"exe_ans\"]"
      ],
      "metadata": {
        "colab": {
          "base_uri": "https://localhost:8080/",
          "height": 35
        },
        "id": "r9QNt-mNN8zH",
        "outputId": "5eeb4292-575d-47d0-fdd8-d1b90c6e5b33"
      },
      "execution_count": 84,
      "outputs": [
        {
          "output_type": "execute_result",
          "data": {
            "text/plain": [
              "'no'"
            ],
            "application/vnd.google.colaboratory.intrinsic+json": {
              "type": "string"
            }
          },
          "metadata": {},
          "execution_count": 84
        }
      ]
    },
    {
      "cell_type": "code",
      "source": [
        "for id in range(len(train_data)):\n",
        "  for k in [\"qa\", \"qa_0\", \"qa_1\"]:\n",
        "    if w:=train_data[id].get(k):\n",
        "      prog = w[\"program\"]\n",
        "      list_prog = str_prog_list(prog)\n",
        "      exp_ans = evaluate_program_safe(list_prog)\n",
        "      exe_ans = w[\"exe_ans\"]\n",
        "      break\n",
        "\n",
        "  if isinstance(exe_ans, str):\n",
        "    print(f\"exec_answer: {id}\", type(exe_ans))\n",
        "    continue\n",
        "  try:\n",
        "    if abs(exp_ans - exe_ans) > 0.001:\n",
        "      print(f\"Formatted Answer {id}: {train_data[id['qa']['answer']]}\")\n",
        "      print(f\"Executed Answer {id}: {exe_ans}\")\n",
        "      print(f\"Program {id}: {prog}\")\n",
        "  except:\n",
        "    print(f\"Error: {id}\")"
      ],
      "metadata": {
        "colab": {
          "base_uri": "https://localhost:8080/"
        },
        "collapsed": true,
        "id": "__wZcF4NLxtc",
        "outputId": "0dfacc49-fdcb-4d6f-b053-aea2e86a005e"
      },
      "execution_count": 86,
      "outputs": [
        {
          "output_type": "stream",
          "name": "stdout",
          "text": [
            "exec_answer: 90 <class 'str'>\n",
            "exec_answer: 128 <class 'str'>\n",
            "exec_answer: 183 <class 'str'>\n",
            "Invalid argument: 0\n",
            "Error: 257\n",
            "exec_answer: 593 <class 'str'>\n",
            "exec_answer: 722 <class 'str'>\n",
            "exec_answer: 861 <class 'str'>\n",
            "exec_answer: 865 <class 'str'>\n",
            "exec_answer: 991 <class 'str'>\n",
            "exec_answer: 1467 <class 'str'>\n",
            "Invalid argument: 0\n",
            "Error: 1745\n",
            "exec_answer: 1880 <class 'str'>\n",
            "exec_answer: 1945 <class 'str'>\n",
            "exec_answer: 1946 <class 'str'>\n",
            "exec_answer: 2001 <class 'str'>\n",
            "Invalid argument: 0\n",
            "Error: 2024\n",
            "exec_answer: 2119 <class 'str'>\n",
            "exec_answer: 2315 <class 'str'>\n",
            "exec_answer: 2404 <class 'str'>\n",
            "exec_answer: 2507 <class 'str'>\n",
            "exec_answer: 2526 <class 'str'>\n",
            "Invalid argument: 0\n",
            "Error: 2542\n",
            "exec_answer: 2564 <class 'str'>\n",
            "Invalid operation format: table_average(contingent rental, none)\n",
            "Error: 2703\n",
            "exec_answer: 2928 <class 'str'>\n"
          ]
        }
      ]
    },
    {
      "cell_type": "code",
      "source": [
        "o3_exec_score = evaluate_responses(o3_response, entry)"
      ],
      "metadata": {
        "colab": {
          "base_uri": "https://localhost:8080/"
        },
        "collapsed": true,
        "id": "2xZmcNqdX4KT",
        "outputId": "d9849e03-f887-409f-bb75-ab40b755c24f"
      },
      "execution_count": 97,
      "outputs": [
        {
          "output_type": "stream",
          "name": "stdout",
          "text": [
            "Program not found\n",
            "Original Answer: -0.2616\n",
            "o3_pred: 0.2616\n",
            "\n",
            "Original Answer: -0.2616\n",
            "o3_pred: 0.2616\n",
            "\n",
            "Original Answer: 0.70067\n",
            "o3_pred: 0.29933\n",
            "\n",
            "Invalid argument: C\n",
            "Error processing key 15: unsupported operand type(s) for -: 'float' and 'NoneType'\n",
            "Original Answer: 0.0228\n",
            "o3_pred: 0.1515\n",
            "\n",
            "Original Answer: -0.13249\n",
            "o3_pred: 0.13249\n",
            "\n",
            "Original Answer: -0.56939\n",
            "o3_pred: -56.93872\n",
            "\n",
            "Original Answer: -0.13397\n",
            "o3_pred: 0.13397\n",
            "\n",
            "Original Answer: 0.17647\n",
            "o3_pred: -0.15\n",
            "\n",
            "Original Answer: -0.76786\n",
            "o3_pred: 0.76786\n",
            "\n",
            "Original Answer: -0.14903\n",
            "o3_pred: 169.0\n",
            "\n",
            "Original Answer: 0.49296\n",
            "o3_pred: 0.55336\n",
            "\n",
            "Original Answer: 0.47419\n",
            "o3_pred: 294.0\n",
            "\n",
            "Original Answer: -1281.0\n",
            "o3_pred: 0.5\n",
            "\n",
            "Original Answer: 0.685\n",
            "o3_pred: 0.937\n",
            "\n",
            "Original Answer: 0.67385\n",
            "o3_pred: 0.86957\n",
            "\n",
            "Program not found\n",
            "Original Answer: -0.0637\n",
            "o3_pred: 0.0637\n",
            "\n",
            "Original Answer: 0.25432\n",
            "o3_pred: 2973.0\n",
            "\n",
            "Original Answer: 2484034.0\n",
            "o3_pred: 1200000000.0\n",
            "\n",
            "Original Answer: 0.48\n",
            "o3_pred: 0.62\n",
            "\n",
            "Original Answer: 0.01803\n",
            "o3_pred: 0.02002\n",
            "\n",
            "Original Answer: 3.34978\n",
            "o3_pred: 3.129\n",
            "\n",
            "Original Answer: 0.57656\n",
            "o3_pred: 0.06726\n",
            "\n",
            "Error processing key 90: unsupported operand type(s) for -: 'str' and 'int'\n",
            "Original Answer: 0.11765\n",
            "o3_pred: -0.39189\n",
            "\n",
            "Original Answer: 0.91083\n",
            "o3_pred: 0.47667\n",
            "\n",
            "Original Answer: -0.0142\n",
            "o3_pred: 0.0142\n",
            "\n"
          ]
        }
      ]
    },
    {
      "cell_type": "code",
      "source": [
        "print(f\"O3-mini Execution Accuracy: {o3_exec_score}%\")"
      ],
      "metadata": {
        "colab": {
          "base_uri": "https://localhost:8080/"
        },
        "id": "Zn4Sk8LIYZsp",
        "outputId": "28123f4b-e5a8-4091-c994-07b19c3b8bf2"
      },
      "execution_count": 98,
      "outputs": [
        {
          "output_type": "stream",
          "name": "stdout",
          "text": [
            "O3-mini Execution Accuracy: 71%\n"
          ]
        }
      ]
    },
    {
      "cell_type": "code",
      "source": [
        "o3_correct_index = evaluate_responses.correct_index"
      ],
      "metadata": {
        "id": "Vy4dK-_uRx8r"
      },
      "execution_count": 102,
      "outputs": []
    },
    {
      "cell_type": "code",
      "source": [
        "qwen_exec_score = evaluate_responses(qwen_response, entry)"
      ],
      "metadata": {
        "colab": {
          "base_uri": "https://localhost:8080/"
        },
        "collapsed": true,
        "id": "ZHuLuT1VauW7",
        "outputId": "fdbd58f6-f24c-486f-a652-af1da8102be1"
      },
      "execution_count": 103,
      "outputs": [
        {
          "output_type": "stream",
          "name": "stdout",
          "text": [
            "Original Answer: 0.70067\n",
            "o3_pred: 12.4\n",
            "\n",
            "Original Answer: 0.15625\n",
            "o3_pred: 12.4\n",
            "\n",
            "Original Answer: 0.22986\n",
            "o3_pred: 0.00142\n",
            "\n",
            "Original Answer: 12.0\n",
            "o3_pred: 12.4\n",
            "\n",
            "Original Answer: -19.0\n",
            "o3_pred: 12.4\n",
            "\n",
            "Original Answer: 0.02444\n",
            "o3_pred: 12.4\n",
            "\n",
            "Original Answer: 0.5656\n",
            "o3_pred: 12.4\n",
            "\n",
            "Original Answer: 0.10548\n",
            "o3_pred: 1.4391\n",
            "\n",
            "Original Answer: 16.66667\n",
            "o3_pred: 1240.0\n",
            "\n",
            "Original Answer: 0.11247\n",
            "o3_pred: -1.987\n",
            "\n",
            "Original Answer: 40.33333\n",
            "o3_pred: 43.0\n",
            "\n",
            "Program not found\n",
            "Original Answer: -0.01204\n",
            "o3_pred: 32782.0\n",
            "\n",
            "Program not found\n",
            "Original Answer: 0.83648\n",
            "o3_pred: 8272.0\n",
            "\n",
            "Original Answer: -0.13249\n",
            "o3_pred: 12.4\n",
            "\n",
            "Original Answer: -0.56939\n",
            "o3_pred: 0.56939\n",
            "\n",
            "Original Answer: -0.01506\n",
            "o3_pred: -0.54623\n",
            "\n",
            "Original Answer: 377000.0\n",
            "o3_pred: 12.4\n",
            "\n",
            "Original Answer: 0.31148\n",
            "o3_pred: 12.4\n",
            "\n",
            "Original Answer: -0.13397\n",
            "o3_pred: 0.13397\n",
            "\n",
            "Original Answer: -0.31738\n",
            "o3_pred: 0.46495\n",
            "\n",
            "Original Answer: 0.9818\n",
            "o3_pred: 12.4\n",
            "\n",
            "Original Answer: -489.2\n",
            "o3_pred: -4049.6\n",
            "\n",
            "Original Answer: 0.06092\n",
            "o3_pred: 12.4\n",
            "\n",
            "Original Answer: 0.31683\n",
            "o3_pred: 12.4\n",
            "\n",
            "Original Answer: 0.11546\n",
            "o3_pred: 12.4\n",
            "\n",
            "Original Answer: 0.32\n",
            "o3_pred: 12.4\n",
            "\n",
            "Original Answer: 0.24446\n",
            "o3_pred: 0.61801\n",
            "\n",
            "Original Answer: 0.07605\n",
            "o3_pred: 12.4\n",
            "\n",
            "Original Answer: 0.16827\n",
            "o3_pred: 12.4\n",
            "\n",
            "Original Answer: -0.14903\n",
            "o3_pred: 169.0\n",
            "\n",
            "Program not found\n",
            "Original Answer: 0.47419\n",
            "o3_pred: 2.94\n",
            "\n",
            "Original Answer: -1281.0\n",
            "o3_pred: 13.8\n",
            "\n",
            "Original Answer: 1905.4\n",
            "o3_pred: 1240.0\n",
            "\n",
            "Original Answer: 0.67385\n",
            "o3_pred: 7.6\n",
            "\n",
            "Original Answer: 3.5967\n",
            "o3_pred: 12.4\n",
            "\n",
            "Original Answer: -0.0637\n",
            "o3_pred: 0.0637\n",
            "\n",
            "Original Answer: 644.5009\n",
            "o3_pred: 12.4\n",
            "\n",
            "Original Answer: 8.08481\n",
            "o3_pred: 1225.0\n",
            "\n",
            "Original Answer: 0.25432\n",
            "o3_pred: 2973.0\n",
            "\n",
            "Original Answer: 0.39931\n",
            "o3_pred: 0.00665\n",
            "\n",
            "Original Answer: -0.34454\n",
            "o3_pred: 12.4\n",
            "\n",
            "Original Answer: -0.11349\n",
            "o3_pred: 0.11349\n",
            "\n",
            "Original Answer: -0.78785\n",
            "o3_pred: 0.78785\n",
            "\n",
            "Original Answer: 0.02344\n",
            "o3_pred: 3e-05\n",
            "\n",
            "Original Answer: 0.06667\n",
            "o3_pred: 0.0\n",
            "\n",
            "Original Answer: 0.14197\n",
            "o3_pred: 137.0\n",
            "\n",
            "Original Answer: 2484034.0\n",
            "o3_pred: 1240.0\n",
            "\n",
            "Original Answer: 0.97833\n",
            "o3_pred: 12.4\n",
            "\n",
            "Program not found\n",
            "Original Answer: 0.48\n",
            "o3_pred: 1.68\n",
            "\n",
            "Original Answer: 0.01803\n",
            "o3_pred: 12.4\n",
            "\n",
            "Original Answer: 4.1\n",
            "o3_pred: 4.3\n",
            "\n",
            "Original Answer: -0.00561\n",
            "o3_pred: 12.4\n",
            "\n",
            "Original Answer: 3.34978\n",
            "o3_pred: 3.7\n",
            "\n",
            "Original Answer: -0.19355\n",
            "o3_pred: 0.0004\n",
            "\n",
            "Original Answer: 0.0641\n",
            "o3_pred: 0.0005\n",
            "\n",
            "Original Answer: -0.29195\n",
            "o3_pred: 0.41232\n",
            "\n",
            "Original Answer: 0.57656\n",
            "o3_pred: 12.4\n",
            "\n",
            "Original Answer: 0.17786\n",
            "o3_pred: 0.20402\n",
            "\n",
            "Error processing key 90: unsupported operand type(s) for -: 'str' and 'int'\n",
            "Original Answer: -0.05443\n",
            "o3_pred: 12.4\n",
            "\n",
            "Original Answer: 3919.33333\n",
            "o3_pred: 12.4\n",
            "\n",
            "Original Answer: 0.11765\n",
            "o3_pred: 12.4\n",
            "\n",
            "Original Answer: 4.8\n",
            "o3_pred: 12.4\n",
            "\n",
            "Original Answer: 0.14738\n",
            "o3_pred: 12.4\n",
            "\n",
            "Original Answer: 0.91083\n",
            "o3_pred: 0.47667\n",
            "\n",
            "Original Answer: 10.5\n",
            "o3_pred: 12.4\n",
            "\n",
            "Original Answer: -0.0142\n",
            "o3_pred: 12.4\n",
            "\n"
          ]
        }
      ]
    },
    {
      "cell_type": "code",
      "source": [
        "print(f\"Qwen14B Execution Accuracy: {qwen_exec_score}%\")"
      ],
      "metadata": {
        "colab": {
          "base_uri": "https://localhost:8080/"
        },
        "id": "sIOlyqoTaxwQ",
        "outputId": "6f12c085-4706-4edd-ae81-334e2723bd4c"
      },
      "execution_count": 104,
      "outputs": [
        {
          "output_type": "stream",
          "name": "stdout",
          "text": [
            "Qwen14B Execution Accuracy: 29%\n"
          ]
        }
      ]
    },
    {
      "cell_type": "code",
      "source": [
        "qwen_correct_index = evaluate_responses.correct_index"
      ],
      "metadata": {
        "id": "sFRYxg9ISEOB"
      },
      "execution_count": 105,
      "outputs": []
    },
    {
      "cell_type": "code",
      "source": [
        "gpt4_exec_score = evaluate_responses(gpt4_response, entry)"
      ],
      "metadata": {
        "colab": {
          "base_uri": "https://localhost:8080/"
        },
        "collapsed": true,
        "id": "tzcxQrNwbACx",
        "outputId": "62603dd0-5cd6-43e8-e01b-e6ab3d38c923"
      },
      "execution_count": 108,
      "outputs": [
        {
          "output_type": "stream",
          "name": "stdout",
          "text": [
            "Invalid operation format: divide(#0, 7983\n",
            "Error processing key 2: unsupported operand type(s) for -: 'float' and 'NoneType'\n",
            "Original Answer: -0.2616\n",
            "o3_pred: -0.2562\n",
            "\n",
            "Original Answer: -0.2616\n",
            "o3_pred: 0.0026\n",
            "\n",
            "Original Answer: 0.70067\n",
            "o3_pred: 0.29933\n",
            "\n",
            "Invalid operation format: subtract(3700, 3200),\n",
            "divide(#0, 3200),\n",
            "multiply(#1, const_100)\n",
            "Error processing key 6: unsupported operand type(s) for -: 'float' and 'NoneType'\n",
            "Original Answer: 16.66667\n",
            "o3_pred: 0.16667\n",
            "\n",
            "Original Answer: 0.0228\n",
            "o3_pred: 0.0128\n",
            "\n",
            "Original Answer: 60.3\n",
            "o3_pred: 60300000.0\n",
            "\n",
            "Original Answer: 0.6688\n",
            "o3_pred: 66.88\n",
            "\n",
            "Original Answer: -0.13249\n",
            "o3_pred: 0.13249\n",
            "\n",
            "Invalid operation format: add(#0, 70000\n",
            "Error processing key 30: unsupported operand type(s) for -: 'float' and 'NoneType'\n",
            "Original Answer: -0.13397\n",
            "o3_pred: 0.13397\n",
            "\n",
            "Original Answer: 0.17647\n",
            "o3_pred: -0.15\n",
            "\n",
            "Invalid operation format: subtract(2310.2, 4579.6),\n",
            "  add(#0, 1780.2)\n",
            "Error processing key 38: unsupported operand type(s) for -: 'float' and 'NoneType'\n",
            "Invalid operation format: divide(#0, 364221\n",
            "Error processing key 43: unsupported operand type(s) for -: 'float' and 'NoneType'\n",
            "Original Answer: -0.76786\n",
            "o3_pred: 0.76786\n",
            "\n",
            "Original Answer: -0.14903\n",
            "o3_pred: 169.0\n",
            "\n",
            "Original Answer: 0.47419\n",
            "o3_pred: 294.0\n",
            "\n",
            "Original Answer: -1281.0\n",
            "o3_pred: 1281.0\n",
            "\n",
            "Original Answer: 0.685\n",
            "o3_pred: 0.937\n",
            "\n",
            "Original Answer: 0.67385\n",
            "o3_pred: 0.72653\n",
            "\n",
            "Invalid operation format: divide(873, 15473),\n",
            "multiply(#0, const_100)\n",
            "Error processing key 57: unsupported operand type(s) for -: 'float' and 'NoneType'\n",
            "Original Answer: -0.0637\n",
            "o3_pred: 0.0637\n",
            "\n",
            "Original Answer: 0.25432\n",
            "o3_pred: 2973.0\n",
            "\n",
            "Invalid operation format: divide(5171000, add(5171000, 7779000)\n",
            "Error processing key 67: unsupported operand type(s) for -: 'float' and 'NoneType'\n",
            "Original Answer: -0.11349\n",
            "o3_pred: 0.11349\n",
            "\n",
            "Original Answer: 2484034.0\n",
            "o3_pred: 1200000000.0\n",
            "\n",
            "Original Answer: 0.48\n",
            "o3_pred: 62.0\n",
            "\n",
            "Original Answer: 0.01803\n",
            "o3_pred: 0.02002\n",
            "\n",
            "Invalid operation format: subtract(3.35, divide(221, const_1000))\n",
            "Error processing key 83: unsupported operand type(s) for -: 'float' and 'NoneType'\n",
            "Original Answer: 0.57656\n",
            "o3_pred: 0.25987\n",
            "\n",
            "Error processing key 90: unsupported operand type(s) for -: 'str' and 'int'\n",
            "Invalid argument: 0\n",
            "Error processing key 92: unsupported operand type(s) for -: 'float' and 'NoneType'\n",
            "Original Answer: 0.11765\n",
            "o3_pred: -0.39189\n",
            "\n",
            "Invalid operation format: subtract(4214.5, 4209.6),\n",
            "divide(#0, 4209.6),\n",
            "multiply(#1, const_100)\n",
            "Error processing key 94: unsupported operand type(s) for -: 'float' and 'NoneType'\n",
            "Invalid operation format: multiply(#1, const_100),\n",
            "subtract(111.99, 100\n",
            "Error processing key 99: unsupported operand type(s) for -: 'float' and 'NoneType'\n"
          ]
        }
      ]
    },
    {
      "cell_type": "code",
      "source": [
        "print(f\"GPT4 Execution Accuracy: {gpt4_exec_score}%\")"
      ],
      "metadata": {
        "colab": {
          "base_uri": "https://localhost:8080/"
        },
        "id": "AL51o0EQbDog",
        "outputId": "a4781d61-7f81-448e-f8cb-c09cf2c7f43d"
      },
      "execution_count": 109,
      "outputs": [
        {
          "output_type": "stream",
          "name": "stdout",
          "text": [
            "GPT4 Execution Accuracy: 64%\n"
          ]
        }
      ]
    },
    {
      "cell_type": "code",
      "source": [
        "gpt4_correct_index = evaluate_responses.correct_index"
      ],
      "metadata": {
        "id": "q2j3tfZ5SVH4"
      },
      "execution_count": 110,
      "outputs": []
    },
    {
      "cell_type": "code",
      "source": [
        "# prompt: Plot a Barplot to visualize and compare the accuracy score of O3-mini, Qwen-14B and GPT-4o arrange in descending order, ensure the maximum value is 100\n",
        "import matplotlib.pyplot as plt\n",
        "import seaborn as sns\n",
        "\n",
        "# Sample accuracy scores (replace with your actual scores)\n",
        "accuracy_scores = {\n",
        "    'O3-mini': o3_exec_score,\n",
        "    'Qwen-14B': qwen_exec_score,\n",
        "    'GPT-4o': gpt4_exec_score\n",
        "}\n",
        "\n",
        "# Sort the models by accuracy score in descending order\n",
        "sorted_models = dict(sorted(accuracy_scores.items(), key=lambda item: item[1], reverse=True))\n",
        "\n",
        "# Create the barplot\n",
        "plt.figure(figsize=(10, 6))\n",
        "sns.barplot(x=list(sorted_models.keys()), y=list(sorted_models.values()))\n",
        "plt.ylim(0, 100)  # Set the y-axis limit to 100\n",
        "plt.xlabel(\"Model\")\n",
        "plt.ylabel(\"Accuracy Score (%)\")\n",
        "plt.title(\"Accuracy Comparison of Math Problem Solvers\")\n",
        "plt.show()"
      ],
      "metadata": {
        "colab": {
          "base_uri": "https://localhost:8080/",
          "height": 573
        },
        "id": "k1oZRe1pbIPE",
        "outputId": "25bd6801-415d-4418-ef52-1d923a7335c8"
      },
      "execution_count": 76,
      "outputs": [
        {
          "output_type": "display_data",
          "data": {
            "text/plain": [
              "<Figure size 1000x600 with 1 Axes>"
            ],
            "image/png": "[encoded data removed]"
          },
          "metadata": {}
        }
      ]
    },
    {
      "cell_type": "code",
      "source": [
        "answer_formats = [entry.get(k).get(\"answer\") for k in entry.keys()]"
      ],
      "metadata": {
        "id": "EvGxK0yBrU_C"
      },
      "execution_count": 77,
      "outputs": []
    },
    {
      "cell_type": "code",
      "source": [
        "answer_formats[:4]"
      ],
      "metadata": {
        "colab": {
          "base_uri": "https://localhost:8080/"
        },
        "id": "7HjVXL9Ar3Sd",
        "outputId": "0d32380a-d981-4b89-8050-2caa642e2899"
      },
      "execution_count": 78,
      "outputs": [
        {
          "output_type": "execute_result",
          "data": {
            "text/plain": [
              "['14.1%', '1.3%', '-32%', '-26.16%']"
            ]
          },
          "metadata": {},
          "execution_count": 78
        }
      ]
    },
    {
      "cell_type": "code",
      "source": [
        "percentage_formats_idx = [\n",
        "    i for i, a in enumerate(answer_formats) if bool(re.match(r\"^-?\\d+(\\.\\d+)?%$\", a))\n",
        "]"
      ],
      "metadata": {
        "id": "gJByyRBBr3WZ"
      },
      "execution_count": 79,
      "outputs": []
    },
    {
      "cell_type": "code",
      "source": [
        "percentage_formats_idx[:10]"
      ],
      "metadata": {
        "colab": {
          "base_uri": "https://localhost:8080/"
        },
        "id": "s8nPQNp-r3ZZ",
        "outputId": "cc11b640-5819-422e-9673-d7a6d7a81bea"
      },
      "execution_count": 80,
      "outputs": [
        {
          "output_type": "execute_result",
          "data": {
            "text/plain": [
              "[0, 1, 2, 3, 4, 5, 6, 7, 8, 11]"
            ]
          },
          "metadata": {},
          "execution_count": 80
        }
      ]
    },
    {
      "cell_type": "code",
      "source": [
        "entry.get(\"8\").get(\"exe_ans\"), entry.get(\"8\").get(\"answer\")"
      ],
      "metadata": {
        "colab": {
          "base_uri": "https://localhost:8080/"
        },
        "id": "TBjt-oqGr3oL",
        "outputId": "9706645e-511c-4bc0-f6aa-72e3578487be"
      },
      "execution_count": 81,
      "outputs": [
        {
          "output_type": "execute_result",
          "data": {
            "text/plain": [
              "(0.22986, '22.99%')"
            ]
          },
          "metadata": {},
          "execution_count": 81
        }
      ]
    },
    {
      "cell_type": "code",
      "source": [
        "entry.get(\"8\").get(\"program\")"
      ],
      "metadata": {
        "colab": {
          "base_uri": "https://localhost:8080/",
          "height": 35
        },
        "id": "vSZAKdgysYrv",
        "outputId": "74b75827-c3c8-42b9-a32f-5b328f6985d4"
      },
      "execution_count": 82,
      "outputs": [
        {
          "output_type": "execute_result",
          "data": {
            "text/plain": [
              "'add(27729, 45161), divide(#0, 317105)'"
            ],
            "application/vnd.google.colaboratory.intrinsic+json": {
              "type": "string"
            }
          },
          "metadata": {},
          "execution_count": 82
        }
      ]
    },
    {
      "cell_type": "code",
      "source": [
        "divide_idx = []\n",
        "count = 0\n",
        "for idx in percentage_formats_idx:\n",
        "  prog = entry.get(str(idx)).get(\"program\")\n",
        "  last_operation = prog.split(\"), \")[-1].strip()\n",
        "  if \"divide\" in last_operation:\n",
        "    count += 1\n",
        "    divide_idx.append(idx)\n",
        "print(count)"
      ],
      "metadata": {
        "colab": {
          "base_uri": "https://localhost:8080/"
        },
        "id": "HE7S1ydor3rV",
        "outputId": "3e46d740-0c1b-40a1-b223-b31ca488e78a"
      },
      "execution_count": 83,
      "outputs": [
        {
          "output_type": "stream",
          "name": "stdout",
          "text": [
            "1874\n"
          ]
        }
      ]
    },
    {
      "cell_type": "code",
      "source": [
        "for idx in divide_idx[:10]:\n",
        "  prog = entry.get(f\"{idx}\").get(\"program\")\n",
        "  exe_ans = entry.get(f\"{idx}\").get(\"exe_ans\")\n",
        "  answer = entry.get(f\"{idx}\").get(\"answer\")\n",
        "  print(f\"program: {prog}\")\n",
        "  print(f\"exe_ans: {exe_ans}\")\n",
        "  print(f\"answer: {answer}\\n\\n\")"
      ],
      "metadata": {
        "collapsed": true,
        "colab": {
          "base_uri": "https://localhost:8080/"
        },
        "id": "awz4gmR-tR3n",
        "outputId": "0cded52a-5116-4d62-f274-ec5880ddf330"
      },
      "execution_count": 84,
      "outputs": [
        {
          "output_type": "stream",
          "name": "stdout",
          "text": [
            "program: subtract(206588, 181001), divide(#0, 181001)\n",
            "exe_ans: 0.14136\n",
            "answer: 14.1%\n",
            "\n",
            "\n",
            "program: subtract(9362.2, 9244.9), divide(#0, 9244.9)\n",
            "exe_ans: 0.01269\n",
            "answer: 1.3%\n",
            "\n",
            "\n",
            "program: subtract(5363, 7983), divide(#0, 7983)\n",
            "exe_ans: -0.3282\n",
            "answer: -32%\n",
            "\n",
            "\n",
            "program: add(2530454, 5923147), divide(5923147, #0)\n",
            "exe_ans: 0.70067\n",
            "answer: 70.1%\n",
            "\n",
            "\n",
            "program: subtract(3.7, 3.2), divide(#0, 3.2)\n",
            "exe_ans: 0.15625\n",
            "answer: 15.6%\n",
            "\n",
            "\n",
            "program: subtract(118, 102), divide(#0, 102)\n",
            "exe_ans: 0.15686\n",
            "answer: 16%\n",
            "\n",
            "\n",
            "program: add(27729, 45161), divide(#0, 317105)\n",
            "exe_ans: 0.22986\n",
            "answer: 22.99%\n",
            "\n",
            "\n",
            "program: subtract(498.8, 486.9), divide(#0, 486.9)\n",
            "exe_ans: 0.02444\n",
            "answer: 2.4%\n",
            "\n",
            "\n",
            "program: multiply(1.25, const_1000), divide(707, #0)\n",
            "exe_ans: 0.5656\n",
            "answer: 56.6%\n",
            "\n",
            "\n",
            "program: divide(1697, 16088)\n",
            "exe_ans: 0.10548\n",
            "answer: 11%\n",
            "\n",
            "\n"
          ]
        }
      ]
    },
    {
      "cell_type": "code",
      "source": [
        "mul_idx = []\n",
        "count = 0\n",
        "for idx in percentage_formats_idx:\n",
        "  prog = entry.get(str(idx)).get(\"program\")\n",
        "  last_operation = prog.split(\"), \")[-1].strip()\n",
        "  if \"multiply\" in last_operation:\n",
        "    count += 1\n",
        "    mul_idx.append(idx)\n",
        "print(count)"
      ],
      "metadata": {
        "colab": {
          "base_uri": "https://localhost:8080/"
        },
        "id": "NUqxo4q5sNbB",
        "outputId": "24fbe954-e52f-4812-b4b1-bdf95f12ef1c"
      },
      "execution_count": 85,
      "outputs": [
        {
          "output_type": "stream",
          "name": "stdout",
          "text": [
            "73\n"
          ]
        }
      ]
    },
    {
      "cell_type": "code",
      "source": [
        "for idx in mul_idx[:10]:\n",
        "  prog = entry.get(f\"{idx}\").get(\"program\")\n",
        "  exe_ans = entry.get(f\"{idx}\").get(\"exe_ans\")\n",
        "  answer = entry.get(f\"{idx}\").get(\"answer\")\n",
        "  print(f\"program: {prog}\")\n",
        "  print(f\"exe_ans: {exe_ans}\")\n",
        "  print(f\"answer: {answer}\\n\\n\")"
      ],
      "metadata": {
        "colab": {
          "base_uri": "https://localhost:8080/"
        },
        "collapsed": true,
        "id": "OgiN-tpRsNeD",
        "outputId": "4ef19d46-6eb5-471b-9308-9fc55b6dd195"
      },
      "execution_count": 86,
      "outputs": [
        {
          "output_type": "stream",
          "name": "stdout",
          "text": [
            "program: divide(98750, 432000), multiply(#0, const_100)\n",
            "exe_ans: 22.8588\n",
            "answer: 22.86%\n",
            "\n",
            "\n",
            "program: add(1610.3, 1612.9), add(1762.3, 1722.2), divide(#0, #1), multiply(#2, const_100)\n",
            "exe_ans: 92.50108\n",
            "answer: 92.5%\n",
            "\n",
            "\n",
            "program: divide(1881992, 5148881), multiply(#0, const_100)\n",
            "exe_ans: 36.55148\n",
            "answer: 36.55%\n",
            "\n",
            "\n",
            "program: multiply(11.4, const_1000000), multiply(3158226, #0)\n",
            "exe_ans: 36003776400000.0\n",
            "answer: 28%\n",
            "\n",
            "\n",
            "program: add(701, 161), divide(#0, 689), multiply(#1, const_100)\n",
            "exe_ans: 125.10885\n",
            "answer: 125.1%\n",
            "\n",
            "\n",
            "program: divide(687376, 600883), multiply(const_100, #0)\n",
            "exe_ans: 114.39432\n",
            "answer: 114%\n",
            "\n",
            "\n",
            "program: subtract(317, 290), divide(#0, 317), multiply(#1, const_100)\n",
            "exe_ans: 8.51735\n",
            "answer: 8.52%\n",
            "\n",
            "\n",
            "program: subtract(407, 258), divide(#0, 407), multiply(#1, const_100)\n",
            "exe_ans: 36.60934\n",
            "answer: 36.61%\n",
            "\n",
            "\n",
            "program: subtract(22.0, 20.9), divide(#0, 20.9), multiply(#1, const_100)\n",
            "exe_ans: 5.26316\n",
            "answer: 5.26%\n",
            "\n",
            "\n",
            "program: multiply(2, 7)\n",
            "exe_ans: 14.0\n",
            "answer: 28.6%\n",
            "\n",
            "\n"
          ]
        }
      ]
    },
    {
      "cell_type": "code",
      "source": [
        "def program_score(model_response, ref_response):\n",
        "  score = 0\n",
        "  for key in range(100):\n",
        "    str_key = str(key)\n",
        "    if str_key not in model_response:\n",
        "      print(f\"Key not found: {key}\\n\")\n",
        "      continue\n",
        "\n",
        "    pred_entry = model_response.get(str_key)\n",
        "\n",
        "    if pred_entry and pred_entry.get(\"program\"):\n",
        "      pred_program = pred_entry.get(\"program\")\n",
        "      res_program = ref_response[str_key][\"program\"]\n",
        "      prog_equality = equal_program(\n",
        "          program_tokenization(pred_program),\n",
        "          program_tokenization(res_program)\n",
        "          )\n",
        "\n",
        "      if prog_equality:\n",
        "        score += 1\n",
        "\n",
        "      else:\n",
        "        list_program = str_prog_list(pred_program)\n",
        "        exe_ans = ref_response.get(str_key).get(\"exe_ans\")\n",
        "\n",
        "        if exe_ans is None:\n",
        "          print(f\"Original answer not found for key: {key}\\n\")\n",
        "          continue\n",
        "\n",
        "        places = get_decimal_places(exe_ans)\n",
        "        pred_ans = evaluate_program_safe(list_program, round_places=places)\n",
        "\n",
        "        format_type = model_response[str_key].get(\"format\")\n",
        "        if pred_ans and format_type == \"%\":\n",
        "          pred_ans = round(pred_ans * 0.01, places)\n",
        "\n",
        "        if exe_ans == pred_ans and not prog_equality:\n",
        "          print(f\"Execution Accuracy and Program Accuracy Inconsistency: ({key})\")\n",
        "          print(f\"Original Answer: {exe_ans}, pred_answer: {pred_ans}\")\n",
        "          print(f\"Original Program: {res_program}\\nPred Program; {pred_program}\\n\")\n",
        "\n",
        "  return score"
      ],
      "metadata": {
        "id": "07YYZyAXPlBn"
      },
      "execution_count": 87,
      "outputs": []
    },
    {
      "cell_type": "code",
      "source": [
        "o3_prog_score = program_score(o3_response, entry)"
      ],
      "metadata": {
        "colab": {
          "base_uri": "https://localhost:8080/"
        },
        "collapsed": true,
        "id": "WnPJ6BgeP4g-",
        "outputId": "049c5e85-9e7e-439e-bf3d-9d37b7896c0d"
      },
      "execution_count": 88,
      "outputs": [
        {
          "output_type": "stream",
          "name": "stdout",
          "text": [
            "Execution Accuracy and Program Accuracy Inconsistency: (0)\n",
            "Original Answer: 0.14136, pred_answer: 0.14136\n",
            "Original Program: subtract(206588, 181001), divide(#0, 181001)\n",
            "Pred Program; subtract(206588, 181001), divide(#0, 181001), multiply(#1, const_100)\n",
            "\n",
            "Execution Accuracy and Program Accuracy Inconsistency: (2)\n",
            "Original Answer: -0.3282, pred_answer: -0.3282\n",
            "Original Program: subtract(5363, 7983), divide(#0, 7983)\n",
            "Pred Program; subtract(5363, 7983), divide(#0, 7983), multiply(#1, const_100)\n",
            "\n",
            "Execution Accuracy and Program Accuracy Inconsistency: (6)\n",
            "Original Answer: 0.15625, pred_answer: 0.15625\n",
            "Original Program: subtract(3.7, 3.2), divide(#0, 3.2)\n",
            "Pred Program; subtract(3.7, 3.2), divide(#0, 3.2), multiply(#1, const_100)\n",
            "\n",
            "Execution Accuracy and Program Accuracy Inconsistency: (7)\n",
            "Original Answer: 0.15686, pred_answer: 0.15686\n",
            "Original Program: subtract(118, 102), divide(#0, 102)\n",
            "Pred Program; subtract(118, 102), divide(#0, 102), multiply(#1, const_100)\n",
            "\n",
            "Execution Accuracy and Program Accuracy Inconsistency: (8)\n",
            "Original Answer: 0.22986, pred_answer: 0.22986\n",
            "Original Program: add(27729, 45161), divide(#0, 317105)\n",
            "Pred Program; add(27729, 45161), divide(#0, 317105), multiply(#1, const_100)\n",
            "\n",
            "Execution Accuracy and Program Accuracy Inconsistency: (11)\n",
            "Original Answer: 0.02444, pred_answer: 0.02444\n",
            "Original Program: subtract(498.8, 486.9), divide(#0, 486.9)\n",
            "Pred Program; subtract(498.8, 486.9), divide(#0, 486.9), multiply(#1, const_100)\n",
            "\n",
            "Execution Accuracy and Program Accuracy Inconsistency: (12)\n",
            "Original Answer: 0.5656, pred_answer: 0.5656\n",
            "Original Program: multiply(1.25, const_1000), divide(707, #0)\n",
            "Pred Program; divide(706985, 1250000), multiply(#0, const_100)\n",
            "\n",
            "Execution Accuracy and Program Accuracy Inconsistency: (13)\n",
            "Original Answer: 0.10548, pred_answer: 0.10548\n",
            "Original Program: divide(1697, 16088)\n",
            "Pred Program; divide(1697, 16088), multiply(#0, const_100)\n",
            "\n",
            "Execution Accuracy and Program Accuracy Inconsistency: (14)\n",
            "Original Answer: 1.5882, pred_answer: 1.5882\n",
            "Original Program: subtract(258.82, const_100), divide(#0, const_100)\n",
            "Pred Program; divide(258.82, 100), subtract(#0, const_1), multiply(#1, const_100)\n",
            "\n",
            "Invalid argument: C\n",
            "Execution Accuracy and Program Accuracy Inconsistency: (16)\n",
            "Original Answer: 0.42457, pred_answer: 0.42457\n",
            "Original Program: divide(273, 643)\n",
            "Pred Program; divide(273, 643), multiply(#0, const_100)\n",
            "\n",
            "Execution Accuracy and Program Accuracy Inconsistency: (17)\n",
            "Original Answer: 0.11247, pred_answer: 0.11247\n",
            "Original Program: subtract(196545, 176675), divide(#0, 176675)\n",
            "Pred Program; subtract(196545, 176675), divide(#0, 176675), multiply(#1, const_100)\n",
            "\n",
            "Execution Accuracy and Program Accuracy Inconsistency: (20)\n",
            "Original Answer: 7.0, pred_answer: 7.0\n",
            "Original Program: subtract(344000, 43000), divide(#0, 43000)\n",
            "Pred Program; subtract(344000, 43000), divide(#0, 43000), multiply(#1, const_100)\n",
            "\n",
            "Execution Accuracy and Program Accuracy Inconsistency: (22)\n",
            "Original Answer: -0.01204, pred_answer: -0.01204\n",
            "Original Program: subtract(627444, 635092), divide(#0, 635092)\n",
            "Pred Program; subtract(627444, 635092), divide(#0, 635092), multiply(#1, const_100)\n",
            "\n",
            "Execution Accuracy and Program Accuracy Inconsistency: (23)\n",
            "Original Answer: 60.3, pred_answer: 60.3\n",
            "Original Program: multiply(1.5, const_1000), multiply(#0, 4.02%)\n",
            "Pred Program; divide(4.02, const_100), multiply(1500, #0)\n",
            "\n",
            "Execution Accuracy and Program Accuracy Inconsistency: (24)\n",
            "Original Answer: 0.6688, pred_answer: 0.6688\n",
            "Original Program: subtract(265.06, const_100), divide(#0, const_100), subtract(198.18, const_100), divide(#2, const_100), subtract(#1, #3)\n",
            "Pred Program; subtract(265.06, 198.18)\n",
            "\n",
            "Execution Accuracy and Program Accuracy Inconsistency: (29)\n",
            "Original Answer: -0.01506, pred_answer: -0.01506\n",
            "Original Program: subtract(6147, 6241), divide(#0, 6241)\n",
            "Pred Program; subtract(6147, 6241), divide(#0, 6241), multiply(#1, const_100)\n",
            "\n",
            "Execution Accuracy and Program Accuracy Inconsistency: (31)\n",
            "Original Answer: 0.31148, pred_answer: 0.31148\n",
            "Original Program: divide(240, 183), subtract(#0, const_1)\n",
            "Pred Program; subtract(240,183), divide(#0,183), multiply(#1,const_100)\n",
            "\n",
            "Execution Accuracy and Program Accuracy Inconsistency: (33)\n",
            "Original Answer: -0.31738, pred_answer: -0.31738\n",
            "Original Program: subtract(1127, 1651), divide(#0, 1651)\n",
            "Pred Program; subtract(1127, 1651), divide(#0, 1651), multiply(#1, const_100)\n",
            "\n",
            "Execution Accuracy and Program Accuracy Inconsistency: (35)\n",
            "Original Answer: 0.9818, pred_answer: 0.9818\n",
            "Original Program: subtract(198.18, 100.0), divide(#0, const_100)\n",
            "Pred Program; subtract(198.18, 100.0), divide(#0, const_100), multiply(#1, const_100)\n",
            "\n",
            "Execution Accuracy and Program Accuracy Inconsistency: (37)\n",
            "Original Answer: 0.01543, pred_answer: 0.01543\n",
            "Original Program: subtract(32900, 32400), divide(#0, 32400)\n",
            "Pred Program; subtract(32900, 32400), divide(#0, 32400), multiply(#1, const_100)\n",
            "\n",
            "Execution Accuracy and Program Accuracy Inconsistency: (39)\n",
            "Original Answer: 0.06092, pred_answer: 0.06092\n",
            "Original Program: subtract(187.74, 176.96), divide(#0, 176.96)\n",
            "Pred Program; subtract(187.74, 176.96), divide(#0, 176.96), multiply(#1, const_100)\n",
            "\n",
            "Execution Accuracy and Program Accuracy Inconsistency: (40)\n",
            "Original Answer: 0.31683, pred_answer: 0.31683\n",
            "Original Program: divide(619373, 1954928)\n",
            "Pred Program; divide(619373,1954928), multiply(#0, const_100)\n",
            "\n",
            "Execution Accuracy and Program Accuracy Inconsistency: (41)\n",
            "Original Answer: 0.11546, pred_answer: 0.11546\n",
            "Original Program: divide(740.7, 6415.2)\n",
            "Pred Program; divide(740.7, 6415.2), multiply(#0, const_100)\n",
            "\n",
            "Execution Accuracy and Program Accuracy Inconsistency: (42)\n",
            "Original Answer: 0.32, pred_answer: 0.32\n",
            "Original Program: subtract(132, 100), divide(#0, 100)\n",
            "Pred Program; subtract(132, 100), divide(#0, const_1)\n",
            "\n",
            "Execution Accuracy and Program Accuracy Inconsistency: (43)\n",
            "Original Answer: 0.24446, pred_answer: 0.24446\n",
            "Original Program: subtract(453257, 364221), divide(#0, 364221)\n",
            "Pred Program; subtract(453257, 364221), divide(#0, 364221), multiply(#1, const_100)\n",
            "\n",
            "Execution Accuracy and Program Accuracy Inconsistency: (45)\n",
            "Original Answer: 0.07605, pred_answer: 0.07605\n",
            "Original Program: subtract(5051, 4694), divide(#0, 4694)\n",
            "Pred Program; subtract(5051, 4694), divide(#0, 4694), multiply(#1, const_100)\n",
            "\n",
            "Execution Accuracy and Program Accuracy Inconsistency: (46)\n",
            "Original Answer: 0.16827, pred_answer: 0.16827\n",
            "Original Program: subtract(2423, 2074), divide(#0, 2074)\n",
            "Pred Program; subtract(2423, 2074), divide(#0, 2074), multiply(#1, const_100)\n",
            "\n",
            "Execution Accuracy and Program Accuracy Inconsistency: (47)\n",
            "Original Answer: -0.16641, pred_answer: -0.16641\n",
            "Original Program: subtract(104520, 125385), divide(#0, 125385)\n",
            "Pred Program; subtract(104520, 125385), divide(#0, 125385), multiply(#1, const_100)\n",
            "\n",
            "Execution Accuracy and Program Accuracy Inconsistency: (54)\n",
            "Original Answer: 1905.4, pred_answer: 1905.4\n",
            "Original Program: add(195.0, 410.0), add(#0, 1300.4)\n",
            "Pred Program; add(195, 410), add(#0, 1300.4)\n",
            "\n",
            "Execution Accuracy and Program Accuracy Inconsistency: (56)\n",
            "Original Answer: 0.45308, pred_answer: 0.45308\n",
            "Original Program: subtract(73501, 50583), divide(#0, 50583)\n",
            "Pred Program; subtract(73501, 50583), divide(#0, 50583), multiply(#1, const_100)\n",
            "\n",
            "Execution Accuracy and Program Accuracy Inconsistency: (57)\n",
            "Original Answer: 0.05642, pred_answer: 0.05642\n",
            "Original Program: divide(873, 15473)\n",
            "Pred Program; divide(873, 15473), multiply(#0, const_100)\n",
            "\n",
            "Execution Accuracy and Program Accuracy Inconsistency: (58)\n",
            "Original Answer: 0.21457, pred_answer: 0.21457\n",
            "Original Program: subtract(300, 247), divide(#0, 247)\n",
            "Pred Program; subtract(300, 247), divide(#0, 247), multiply(#1, const_100)\n",
            "\n",
            "Execution Accuracy and Program Accuracy Inconsistency: (60)\n",
            "Original Answer: 3.5967, pred_answer: 3.5967\n",
            "Original Program: subtract(459.67, const_100), divide(#0, const_100)\n",
            "Pred Program; subtract(459.67, 100), divide(#0, const_100), multiply(#1, const_100)\n",
            "\n",
            "Execution Accuracy and Program Accuracy Inconsistency: (62)\n",
            "Original Answer: 644.5009, pred_answer: 644.5009\n",
            "Original Program: divide(597, 553), multiply(#0, 597)\n",
            "Pred Program; subtract(597, 553), divide(#0, 553), add(const_1, #1), multiply(597, #2)\n",
            "\n",
            "Execution Accuracy and Program Accuracy Inconsistency: (63)\n",
            "Original Answer: 8.08481, pred_answer: 8.08481\n",
            "Original Program: subtract(93192, 10258), divide(#0, 10258)\n",
            "Pred Program; subtract(93192, 10258), divide(#0, 10258), multiply(#1, const_100)\n",
            "\n",
            "Execution Accuracy and Program Accuracy Inconsistency: (64)\n",
            "Original Answer: 0.45308, pred_answer: 0.45308\n",
            "Original Program: subtract(73501, 50583), divide(#0, 50583)\n",
            "Pred Program; subtract(73501, 50583), divide(#0, 50583), multiply(#1, const_100)\n",
            "\n",
            "Execution Accuracy and Program Accuracy Inconsistency: (66)\n",
            "Original Answer: 0.0992, pred_answer: 0.0992\n",
            "Original Program: subtract(8.20, 7.46), divide(#0, 7.46)\n",
            "Pred Program; subtract(8.20, 7.46), divide(#0, 7.46), multiply(#1, const_100)\n",
            "\n",
            "Execution Accuracy and Program Accuracy Inconsistency: (67)\n",
            "Original Answer: 0.39931, pred_answer: 0.39931\n",
            "Original Program: add(5171000, 7779000), divide(5171000, #0)\n",
            "Pred Program; add(5171000, 7779000), divide(5171000, #0), multiply(#1, const_100)\n",
            "\n",
            "Execution Accuracy and Program Accuracy Inconsistency: (68)\n",
            "Original Answer: -0.34454, pred_answer: -0.34454\n",
            "Original Program: subtract(78, 119), divide(#0, 119)\n",
            "Pred Program; subtract(78, 119), divide(#0, 119), multiply(#1, const_100)\n",
            "\n",
            "Execution Accuracy and Program Accuracy Inconsistency: (69)\n",
            "Original Answer: -0.11349, pred_answer: -0.11349\n",
            "Original Program: subtract(425.7, 480.2), divide(#0, 480.2)\n",
            "Pred Program; subtract(425.7, 480.2), divide(#0, 480.2), multiply(#1, const_100)\n",
            "\n",
            "Execution Accuracy and Program Accuracy Inconsistency: (70)\n",
            "Original Answer: -0.78785, pred_answer: -0.78785\n",
            "Original Program: subtract(807, 3804), divide(#0, 3804)\n",
            "Pred Program; subtract(807, 3804), divide(#0, 3804), multiply(#1, const_100)\n",
            "\n",
            "Execution Accuracy and Program Accuracy Inconsistency: (71)\n",
            "Original Answer: 0.02344, pred_answer: 0.02344\n",
            "Original Program: subtract(13.1, 12.8), divide(#0, 12.8)\n",
            "Pred Program; subtract(13.1, 12.8), divide(#0, 12.8), multiply(#1, const_100)\n",
            "\n",
            "Execution Accuracy and Program Accuracy Inconsistency: (72)\n",
            "Original Answer: 0.06667, pred_answer: 0.06667\n",
            "Original Program: divide(200, 3000)\n",
            "Pred Program; divide(200,3000), multiply(#0, const_100)\n",
            "\n",
            "Execution Accuracy and Program Accuracy Inconsistency: (73)\n",
            "Original Answer: 0.03148, pred_answer: 0.03148\n",
            "Original Program: subtract(3867, 3749), divide(#0, 3749)\n",
            "Pred Program; subtract(3867, 3749), divide(#0, 3749), multiply(#1, const_100)\n",
            "\n",
            "Execution Accuracy and Program Accuracy Inconsistency: (74)\n",
            "Original Answer: 0.14197, pred_answer: 0.14197\n",
            "Original Program: subtract(1102, 965), divide(#0, 965)\n",
            "Pred Program; subtract(1102, 965), divide(#0, 965), multiply(#1, const_100)\n",
            "\n",
            "Execution Accuracy and Program Accuracy Inconsistency: (76)\n",
            "Original Answer: 0.97833, pred_answer: 0.97833\n",
            "Original Program: divide(408424, 417471)\n",
            "Pred Program; divide(408424, 417471), multiply(#0, const_100)\n",
            "\n",
            "Execution Accuracy and Program Accuracy Inconsistency: (77)\n",
            "Original Answer: 0.65672, pred_answer: 0.65672\n",
            "Original Program: multiply(4.4, const_1000), divide(#0, 6700)\n",
            "Pred Program; divide(4400, 6700), multiply(#0, const_100)\n",
            "\n",
            "Execution Accuracy and Program Accuracy Inconsistency: (79)\n",
            "Original Answer: 0.16735, pred_answer: 0.16735\n",
            "Original Program: subtract(57.2, 49.0), divide(#0, 49.0)\n",
            "Pred Program; subtract(57.2, 49.0), divide(#0, 49.0), multiply(#1, const_100)\n",
            "\n",
            "Execution Accuracy and Program Accuracy Inconsistency: (82)\n",
            "Original Answer: -0.00561, pred_answer: -0.00561\n",
            "Original Program: subtract(662272, 666009), divide(#0, 666009)\n",
            "Pred Program; subtract(662272, 666009), divide(#0, 666009), multiply(#1, const_100)\n",
            "\n",
            "Execution Accuracy and Program Accuracy Inconsistency: (84)\n",
            "Original Answer: -0.19355, pred_answer: -0.19355\n",
            "Original Program: subtract(25, 31), divide(#0, 31)\n",
            "Pred Program; subtract(25, 31), divide(#0, 31), multiply(#1, const_100)\n",
            "\n",
            "Execution Accuracy and Program Accuracy Inconsistency: (85)\n",
            "Original Answer: 0.10931, pred_answer: 0.10931\n",
            "Original Program: subtract(27.4, 24.7), divide(#0, 24.7)\n",
            "Pred Program; subtract(27.4, 24.7), divide(#0, 24.7), multiply(#1, const_100)\n",
            "\n",
            "Execution Accuracy and Program Accuracy Inconsistency: (86)\n",
            "Original Answer: 0.0641, pred_answer: 0.0641\n",
            "Original Program: subtract(83, 78), divide(#0, 78)\n",
            "Pred Program; subtract(83, 78), divide(#0, 78), multiply(#1, const_100)\n",
            "\n",
            "Execution Accuracy and Program Accuracy Inconsistency: (87)\n",
            "Original Answer: -0.29195, pred_answer: -0.29195\n",
            "Original Program: subtract(21.1, 29.8), divide(#0, 29.8)\n",
            "Pred Program; divide(21.1, 29.8), subtract(#0, const_1), multiply(#1, const_100)\n",
            "\n",
            "Execution Accuracy and Program Accuracy Inconsistency: (89)\n",
            "Original Answer: 0.17786, pred_answer: 0.17786\n",
            "Original Program: divide(154300, 867558)\n",
            "Pred Program; divide(154300, 867558), multiply(#0, const_100)\n",
            "\n",
            "Execution Accuracy and Program Accuracy Inconsistency: (91)\n",
            "Original Answer: -0.05443, pred_answer: -0.05443\n",
            "Original Program: subtract(9381, 9921), divide(#0, 9921)\n",
            "Pred Program; subtract(9381, 9921), divide(#0, 9921), multiply(#1, const_100)\n",
            "\n",
            "Execution Accuracy and Program Accuracy Inconsistency: (94)\n",
            "Original Answer: 0.00116, pred_answer: 0.00116\n",
            "Original Program: subtract(4214.5, 4209.6), divide(#0, 4209.6)\n",
            "Pred Program; subtract(4214.5, 4209.6), divide(#0, 4209.6), multiply(#1, const_100)\n",
            "\n",
            "Execution Accuracy and Program Accuracy Inconsistency: (96)\n",
            "Original Answer: 0.14738, pred_answer: 0.14738\n",
            "Original Program: subtract(239.0, 208.3), divide(#0, 208.3)\n",
            "Pred Program; subtract(239.0, 208.3), divide(#0, 208.3), multiply(#1, const_100)\n",
            "\n"
          ]
        }
      ]
    },
    {
      "cell_type": "code",
      "source": [
        "print(f\"O3-mini Program Accuracy: {o3_prog_score}%\")"
      ],
      "metadata": {
        "colab": {
          "base_uri": "https://localhost:8080/"
        },
        "id": "8CrO3GtxZ9Cq",
        "outputId": "94930bdf-e35b-46cf-d0f3-4b59789970b3"
      },
      "execution_count": 89,
      "outputs": [
        {
          "output_type": "stream",
          "name": "stdout",
          "text": [
            "O3-mini Program Accuracy: 12%\n"
          ]
        }
      ]
    },
    {
      "cell_type": "code",
      "source": [
        "qwen_prog_score = program_score(qwen_response, entry)"
      ],
      "metadata": {
        "colab": {
          "base_uri": "https://localhost:8080/"
        },
        "collapsed": true,
        "id": "2-gJt21oaOne",
        "outputId": "2f9fd79b-6da6-4655-a5ca-6e2ec8d9a150"
      },
      "execution_count": 90,
      "outputs": [
        {
          "output_type": "stream",
          "name": "stdout",
          "text": [
            "Execution Accuracy and Program Accuracy Inconsistency: (0)\n",
            "Original Answer: 0.14136, pred_answer: 0.14136\n",
            "Original Program: subtract(206588, 181001), divide(#0, 181001)\n",
            "Pred Program; subtract(206588, 181001), divide(#0, 181001), multiply(#1, const_100)\n",
            "\n",
            "Execution Accuracy and Program Accuracy Inconsistency: (1)\n",
            "Original Answer: 0.01269, pred_answer: 0.01269\n",
            "Original Program: subtract(9362.2, 9244.9), divide(#0, 9244.9)\n",
            "Pred Program; subtract(9362.2, 9244.9), divide(#0, 9244.9), multiply(#1, const_100)\n",
            "\n",
            "Execution Accuracy and Program Accuracy Inconsistency: (2)\n",
            "Original Answer: -0.3282, pred_answer: -0.3282\n",
            "Original Program: subtract(5363, 7983), divide(#0, 7983)\n",
            "Pred Program; subtract(5363, 7983), divide(#0, 7983), multiply(#1, const_100)\n",
            "\n",
            "Execution Accuracy and Program Accuracy Inconsistency: (7)\n",
            "Original Answer: 0.15686, pred_answer: 0.15686\n",
            "Original Program: subtract(118, 102), divide(#0, 102)\n",
            "Pred Program; subtract(118, 102), divide(#0, 102), multiply(#1, const_100)\n",
            "\n",
            "Execution Accuracy and Program Accuracy Inconsistency: (20)\n",
            "Original Answer: 7.0, pred_answer: 7.0\n",
            "Original Program: subtract(344000, 43000), divide(#0, 43000)\n",
            "Pred Program; subtract(344000, 43000), divide(#0, 43000), multiply(#1, const_100)\n",
            "\n",
            "Execution Accuracy and Program Accuracy Inconsistency: (34)\n",
            "Original Answer: 0.17647, pred_answer: 0.17647\n",
            "Original Program: subtract(2.80, 2.38), divide(#0, 2.38)\n",
            "Pred Program; subtract(2800, 2380), divide(#0, 2380), multiply(#1, const_100)\n",
            "\n",
            "Execution Accuracy and Program Accuracy Inconsistency: (36)\n",
            "Original Answer: 110774.5, pred_answer: 110774.5\n",
            "Original Program: add(103369, 118180), divide(#0, const_2)\n",
            "Pred Program; subtract(118180, 103369), divide(#0, const_2), add(#1, 103369)\n",
            "\n",
            "Execution Accuracy and Program Accuracy Inconsistency: (37)\n",
            "Original Answer: 0.01543, pred_answer: 0.01543\n",
            "Original Program: subtract(32900, 32400), divide(#0, 32400)\n",
            "Pred Program; subtract(32900, 32400), divide(#0, 32400), multiply(#1, const_100)\n",
            "\n",
            "Execution Accuracy and Program Accuracy Inconsistency: (44)\n",
            "Original Answer: -0.76786, pred_answer: -0.76786\n",
            "Original Program: subtract(1.3, 5.6), divide(#0, 5.6)\n",
            "Pred Program; subtract(1.3, 5.6), divide(#0, 5.6), multiply(#1, const_100)\n",
            "\n",
            "Execution Accuracy and Program Accuracy Inconsistency: (47)\n",
            "Original Answer: -0.16641, pred_answer: -0.16641\n",
            "Original Program: subtract(104520, 125385), divide(#0, 125385)\n",
            "Pred Program; subtract(104520, 125385), divide(#0, 125385), multiply(#1, const_100)\n",
            "\n",
            "Execution Accuracy and Program Accuracy Inconsistency: (53)\n",
            "Original Answer: 0.685, pred_answer: 0.685\n",
            "Original Program: subtract(33.7, 20.0), divide(#0, 20.0)\n",
            "Pred Program; subtract(33700, 20000), divide(#0, 20000), multiply(#1, const_100)\n",
            "\n",
            "Execution Accuracy and Program Accuracy Inconsistency: (56)\n",
            "Original Answer: 0.45308, pred_answer: 0.45308\n",
            "Original Program: subtract(73501, 50583), divide(#0, 50583)\n",
            "Pred Program; subtract(73501, 50583), divide(#0, 50583), multiply(#1, const_100)\n",
            "\n",
            "Execution Accuracy and Program Accuracy Inconsistency: (57)\n",
            "Original Answer: 0.05642, pred_answer: 0.05642\n",
            "Original Program: divide(873, 15473)\n",
            "Pred Program; divide(873, 15473), multiply(#0, const_100)\n",
            "\n",
            "Execution Accuracy and Program Accuracy Inconsistency: (58)\n",
            "Original Answer: 0.21457, pred_answer: 0.21457\n",
            "Original Program: subtract(300, 247), divide(#0, 247)\n",
            "Pred Program; subtract(300, 247), divide(#0, 247), multiply(#1, const_100)\n",
            "\n",
            "Execution Accuracy and Program Accuracy Inconsistency: (59)\n",
            "Original Answer: 0.08118, pred_answer: 0.08118\n",
            "Original Program: subtract(45296, 41895), divide(#0, 41895)\n",
            "Pred Program; subtract(45296, 41895), divide(#0, 41895), multiply(#1, const_100)\n",
            "\n",
            "Execution Accuracy and Program Accuracy Inconsistency: (64)\n",
            "Original Answer: 0.45308, pred_answer: 0.45308\n",
            "Original Program: subtract(73501, 50583), divide(#0, 50583)\n",
            "Pred Program; subtract(73501, 50583), divide(#0, 50583), multiply(#1, const_100)\n",
            "\n",
            "Execution Accuracy and Program Accuracy Inconsistency: (66)\n",
            "Original Answer: 0.0992, pred_answer: 0.0992\n",
            "Original Program: subtract(8.20, 7.46), divide(#0, 7.46)\n",
            "Pred Program; subtract(8.20, 7.46), divide(#0, 7.46), multiply(#1, const_100)\n",
            "\n",
            "Execution Accuracy and Program Accuracy Inconsistency: (73)\n",
            "Original Answer: 0.03148, pred_answer: 0.03148\n",
            "Original Program: subtract(3867, 3749), divide(#0, 3749)\n",
            "Pred Program; subtract(3867, 3749), divide(#0, 3749), multiply(#1, const_100)\n",
            "\n",
            "Execution Accuracy and Program Accuracy Inconsistency: (79)\n",
            "Original Answer: 0.16735, pred_answer: 0.16735\n",
            "Original Program: subtract(57.2, 49.0), divide(#0, 49.0)\n",
            "Pred Program; subtract(57200, 49000), divide(#0, 49000), multiply(#1, const_100)\n",
            "\n",
            "Execution Accuracy and Program Accuracy Inconsistency: (85)\n",
            "Original Answer: 0.10931, pred_answer: 0.10931\n",
            "Original Program: subtract(27.4, 24.7), divide(#0, 24.7)\n",
            "Pred Program; subtract(27.4, 24.7), divide(#0, 24.7), multiply(#1, const_100)\n",
            "\n",
            "Execution Accuracy and Program Accuracy Inconsistency: (94)\n",
            "Original Answer: 0.00116, pred_answer: 0.00116\n",
            "Original Program: subtract(4214.5, 4209.6), divide(#0, 4209.6)\n",
            "Pred Program; subtract(4214.5, 4209.6), divide(#0, 4209.6), multiply(#1, const_100)\n",
            "\n"
          ]
        }
      ]
    },
    {
      "cell_type": "code",
      "source": [
        "print(f\"Qwen-14B Program Accuracy: {qwen_prog_score}%\")"
      ],
      "metadata": {
        "colab": {
          "base_uri": "https://localhost:8080/"
        },
        "id": "iLdJQfzIaXF7",
        "outputId": "2d01c79a-daa3-4501-c59a-50e7b227abe3"
      },
      "execution_count": 91,
      "outputs": [
        {
          "output_type": "stream",
          "name": "stdout",
          "text": [
            "Qwen-14B Program Accuracy: 7%\n"
          ]
        }
      ]
    },
    {
      "cell_type": "code",
      "source": [
        "gpt4_prog_score = program_score(gpt4_response, entry)"
      ],
      "metadata": {
        "colab": {
          "base_uri": "https://localhost:8080/"
        },
        "collapsed": true,
        "id": "rO0rSTxEaf5Q",
        "outputId": "0b70970f-afa0-43d4-86a7-c8507c7bcc4f"
      },
      "execution_count": 92,
      "outputs": [
        {
          "output_type": "stream",
          "name": "stdout",
          "text": [
            "Execution Accuracy and Program Accuracy Inconsistency: (0)\n",
            "Original Answer: 0.14136, pred_answer: 0.14136\n",
            "Original Program: subtract(206588, 181001), divide(#0, 181001)\n",
            "Pred Program; subtract(206588, 181001), divide(#0, 181001), multiply(#1, const_100)\n",
            "\n",
            "Execution Accuracy and Program Accuracy Inconsistency: (1)\n",
            "Original Answer: 0.01269, pred_answer: 0.01269\n",
            "Original Program: subtract(9362.2, 9244.9), divide(#0, 9244.9)\n",
            "Pred Program; subtract(9362.2, 9244.9), divide(#0, 9244.9), multiply(#1, const_100)\n",
            "\n",
            "Invalid operation format: divide(#0, 7983\n",
            "Invalid operation format: subtract(3700, 3200),\n",
            "divide(#0, 3200),\n",
            "multiply(#1, const_100)\n",
            "Execution Accuracy and Program Accuracy Inconsistency: (7)\n",
            "Original Answer: 0.15686, pred_answer: 0.15686\n",
            "Original Program: subtract(118, 102), divide(#0, 102)\n",
            "Pred Program; subtract(118, 102), divide(#0, 102), multiply(#1, const_100)\n",
            "\n",
            "Execution Accuracy and Program Accuracy Inconsistency: (11)\n",
            "Original Answer: 0.02444, pred_answer: 0.02444\n",
            "Original Program: subtract(498.8, 486.9), divide(#0, 486.9)\n",
            "Pred Program; subtract(498.8, 486.9), divide(#0, 486.9), multiply(#1, const_100)\n",
            "\n",
            "Execution Accuracy and Program Accuracy Inconsistency: (12)\n",
            "Original Answer: 0.5656, pred_answer: 0.5656\n",
            "Original Program: multiply(1.25, const_1000), divide(707, #0)\n",
            "Pred Program; divide(707, 1250), multiply(#0, const_100)\n",
            "\n",
            "Execution Accuracy and Program Accuracy Inconsistency: (13)\n",
            "Original Answer: 0.10548, pred_answer: 0.10548\n",
            "Original Program: divide(1697, 16088)\n",
            "Pred Program; divide(1697, 16088), multiply(#0, const_100)\n",
            "\n",
            "Execution Accuracy and Program Accuracy Inconsistency: (14)\n",
            "Original Answer: 1.5882, pred_answer: 1.5882\n",
            "Original Program: subtract(258.82, const_100), divide(#0, const_100)\n",
            "Pred Program; subtract(258.82, 100), divide(#0, 100), multiply(#1, const_100)\n",
            "\n",
            "Execution Accuracy and Program Accuracy Inconsistency: (17)\n",
            "Original Answer: 0.11247, pred_answer: 0.11247\n",
            "Original Program: subtract(196545, 176675), divide(#0, 176675)\n",
            "Pred Program; subtract(196545, 176675), divide(#0, 176675), multiply(#1, const_100)\n",
            "\n",
            "Execution Accuracy and Program Accuracy Inconsistency: (20)\n",
            "Original Answer: 7.0, pred_answer: 7.0\n",
            "Original Program: subtract(344000, 43000), divide(#0, 43000)\n",
            "Pred Program; subtract(344000, 43000), divide(#0, 43000), multiply(#1, const_100)\n",
            "\n",
            "Execution Accuracy and Program Accuracy Inconsistency: (22)\n",
            "Original Answer: -0.01204, pred_answer: -0.01204\n",
            "Original Program: subtract(627444, 635092), divide(#0, 635092)\n",
            "Pred Program; subtract(627444, 635092), divide(#0, 635092), multiply(#1, const_100)\n",
            "\n",
            "Execution Accuracy and Program Accuracy Inconsistency: (27)\n",
            "Original Answer: -0.56939, pred_answer: -0.56939\n",
            "Original Program: subtract(156.7, 363.9), divide(#0, 363.9)\n",
            "Pred Program; subtract(156.7, 363.9), divide(#0, 363.9), multiply(#1, const_100)\n",
            "\n",
            "Execution Accuracy and Program Accuracy Inconsistency: (29)\n",
            "Original Answer: -0.01506, pred_answer: -0.01506\n",
            "Original Program: subtract(6147, 6241), divide(#0, 6241)\n",
            "Pred Program; subtract(6147, 6241), divide(#0, 6241), multiply(#1, const_100)\n",
            "\n",
            "Invalid operation format: add(#0, 70000\n",
            "Execution Accuracy and Program Accuracy Inconsistency: (31)\n",
            "Original Answer: 0.31148, pred_answer: 0.31148\n",
            "Original Program: divide(240, 183), subtract(#0, const_1)\n",
            "Pred Program; subtract(240,183), divide(#0,183), multiply(#1,const_100)\n",
            "\n",
            "Execution Accuracy and Program Accuracy Inconsistency: (33)\n",
            "Original Answer: -0.31738, pred_answer: -0.31738\n",
            "Original Program: subtract(1127, 1651), divide(#0, 1651)\n",
            "Pred Program; subtract(1127, 1651), divide(#0, 1651), multiply(#1, const_100)\n",
            "\n",
            "Execution Accuracy and Program Accuracy Inconsistency: (35)\n",
            "Original Answer: 0.9818, pred_answer: 0.9818\n",
            "Original Program: subtract(198.18, 100.0), divide(#0, const_100)\n",
            "Pred Program; subtract(198.18, 100.0), divide(#0, 100.0), multiply(#1, const_100)\n",
            "\n",
            "Execution Accuracy and Program Accuracy Inconsistency: (37)\n",
            "Original Answer: 0.01543, pred_answer: 0.01543\n",
            "Original Program: subtract(32900, 32400), divide(#0, 32400)\n",
            "Pred Program; subtract(32900, 32400), divide(#0, 32400), multiply(#1, const_100)\n",
            "\n",
            "Invalid operation format: subtract(2310.2, 4579.6),\n",
            "  add(#0, 1780.2)\n",
            "Execution Accuracy and Program Accuracy Inconsistency: (39)\n",
            "Original Answer: 0.06092, pred_answer: 0.06092\n",
            "Original Program: subtract(187.74, 176.96), divide(#0, 176.96)\n",
            "Pred Program; subtract(187.74, 176.96), divide(#0, 176.96), multiply(#1, const_100)\n",
            "\n",
            "Execution Accuracy and Program Accuracy Inconsistency: (40)\n",
            "Original Answer: 0.31683, pred_answer: 0.31683\n",
            "Original Program: divide(619373, 1954928)\n",
            "Pred Program; divide(619373, 1954928), multiply(#0, const_100)\n",
            "\n",
            "Execution Accuracy and Program Accuracy Inconsistency: (41)\n",
            "Original Answer: 0.11546, pred_answer: 0.11546\n",
            "Original Program: divide(740.7, 6415.2)\n",
            "Pred Program; divide(740.7, 6415.2), multiply(#0, const_100)\n",
            "\n",
            "Execution Accuracy and Program Accuracy Inconsistency: (42)\n",
            "Original Answer: 0.32, pred_answer: 0.32\n",
            "Original Program: subtract(132, 100), divide(#0, 100)\n",
            "Pred Program; subtract(132, 100), divide(#0, 100), multiply(#1, const_100)\n",
            "\n",
            "Invalid operation format: divide(#0, 364221\n",
            "Execution Accuracy and Program Accuracy Inconsistency: (45)\n",
            "Original Answer: 0.07605, pred_answer: 0.07605\n",
            "Original Program: subtract(5051, 4694), divide(#0, 4694)\n",
            "Pred Program; subtract(5051, 4694), divide(#0, 4694), multiply(#1, const_100)\n",
            "\n",
            "Execution Accuracy and Program Accuracy Inconsistency: (46)\n",
            "Original Answer: 0.16827, pred_answer: 0.16827\n",
            "Original Program: subtract(2423, 2074), divide(#0, 2074)\n",
            "Pred Program; subtract(2423, 2074), divide(#0, 2074), multiply(#1, const_100)\n",
            "\n",
            "Execution Accuracy and Program Accuracy Inconsistency: (47)\n",
            "Original Answer: -0.16641, pred_answer: -0.16641\n",
            "Original Program: subtract(104520, 125385), divide(#0, 125385)\n",
            "Pred Program; subtract(104520, 125385), divide(#0, 125385), multiply(#1, const_100)\n",
            "\n",
            "Execution Accuracy and Program Accuracy Inconsistency: (49)\n",
            "Original Answer: 0.49296, pred_answer: 0.49296\n",
            "Original Program: multiply(2.8, const_1000), divide(#0, 5680)\n",
            "Pred Program; divide(2800, 5680), multiply(#0, const_100)\n",
            "\n",
            "Execution Accuracy and Program Accuracy Inconsistency: (56)\n",
            "Original Answer: 0.45308, pred_answer: 0.45308\n",
            "Original Program: subtract(73501, 50583), divide(#0, 50583)\n",
            "Pred Program; subtract(73501, 50583), divide(#0, 50583), multiply(#1, const_100)\n",
            "\n",
            "Invalid operation format: divide(873, 15473),\n",
            "multiply(#0, const_100)\n",
            "Execution Accuracy and Program Accuracy Inconsistency: (58)\n",
            "Original Answer: 0.21457, pred_answer: 0.21457\n",
            "Original Program: subtract(300, 247), divide(#0, 247)\n",
            "Pred Program; subtract(300, 247), divide(#0, 247), multiply(#1, const_100)\n",
            "\n",
            "Execution Accuracy and Program Accuracy Inconsistency: (59)\n",
            "Original Answer: 0.08118, pred_answer: 0.08118\n",
            "Original Program: subtract(45296, 41895), divide(#0, 41895)\n",
            "Pred Program; subtract(45296, 41895), divide(#0, 41895), multiply(#1, const_100)\n",
            "\n",
            "Execution Accuracy and Program Accuracy Inconsistency: (63)\n",
            "Original Answer: 8.08481, pred_answer: 8.08481\n",
            "Original Program: subtract(93192, 10258), divide(#0, 10258)\n",
            "Pred Program; subtract(93192, 10258), divide(#0, 10258), multiply(#1, const_100)\n",
            "\n",
            "Execution Accuracy and Program Accuracy Inconsistency: (64)\n",
            "Original Answer: 0.45308, pred_answer: 0.45308\n",
            "Original Program: subtract(73501, 50583), divide(#0, 50583)\n",
            "Pred Program; subtract(73501, 50583), divide(#0, 50583), multiply(#1, const_100)\n",
            "\n",
            "Execution Accuracy and Program Accuracy Inconsistency: (66)\n",
            "Original Answer: 0.0992, pred_answer: 0.0992\n",
            "Original Program: subtract(8.20, 7.46), divide(#0, 7.46)\n",
            "Pred Program; subtract(8.20, 7.46), divide(#0, 7.46), multiply(#1, const_100)\n",
            "\n",
            "Invalid operation format: divide(5171000, add(5171000, 7779000)\n",
            "Execution Accuracy and Program Accuracy Inconsistency: (68)\n",
            "Original Answer: -0.34454, pred_answer: -0.34454\n",
            "Original Program: subtract(78, 119), divide(#0, 119)\n",
            "Pred Program; subtract(78, 119), divide(#0, 119), multiply(#1, const_100)\n",
            "\n",
            "Execution Accuracy and Program Accuracy Inconsistency: (70)\n",
            "Original Answer: -0.78785, pred_answer: -0.78785\n",
            "Original Program: subtract(807, 3804), divide(#0, 3804)\n",
            "Pred Program; subtract(807, 3804), divide(#0, 3804), multiply(#1, const_100)\n",
            "\n",
            "Execution Accuracy and Program Accuracy Inconsistency: (71)\n",
            "Original Answer: 0.02344, pred_answer: 0.02344\n",
            "Original Program: subtract(13.1, 12.8), divide(#0, 12.8)\n",
            "Pred Program; subtract(13.1, 12.8), divide(#0, 12.8), multiply(#1, const_100)\n",
            "\n",
            "Execution Accuracy and Program Accuracy Inconsistency: (72)\n",
            "Original Answer: 0.06667, pred_answer: 0.06667\n",
            "Original Program: divide(200, 3000)\n",
            "Pred Program; divide(200, 3000), multiply(#0, const_100)\n",
            "\n",
            "Execution Accuracy and Program Accuracy Inconsistency: (73)\n",
            "Original Answer: 0.03148, pred_answer: 0.03148\n",
            "Original Program: subtract(3867, 3749), divide(#0, 3749)\n",
            "Pred Program; subtract(3867, 3749), divide(#0, 3749), multiply(#1, const_100)\n",
            "\n",
            "Execution Accuracy and Program Accuracy Inconsistency: (74)\n",
            "Original Answer: 0.14197, pred_answer: 0.14197\n",
            "Original Program: subtract(1102, 965), divide(#0, 965)\n",
            "Pred Program; subtract(1102, 965), divide(#0, 965), multiply(#1, const_100)\n",
            "\n",
            "Execution Accuracy and Program Accuracy Inconsistency: (76)\n",
            "Original Answer: 0.97833, pred_answer: 0.97833\n",
            "Original Program: divide(408424, 417471)\n",
            "Pred Program; divide(408424, 417471), multiply(#0, const_100)\n",
            "\n",
            "Execution Accuracy and Program Accuracy Inconsistency: (77)\n",
            "Original Answer: 0.65672, pred_answer: 0.65672\n",
            "Original Program: multiply(4.4, const_1000), divide(#0, 6700)\n",
            "Pred Program; divide(4400, 6700), multiply(#0, const_100)\n",
            "\n",
            "Execution Accuracy and Program Accuracy Inconsistency: (79)\n",
            "Original Answer: 0.16735, pred_answer: 0.16735\n",
            "Original Program: subtract(57.2, 49.0), divide(#0, 49.0)\n",
            "Pred Program; subtract(57200000, 49000000), divide(#0, 49000000), multiply(#1, const_100)\n",
            "\n",
            "Execution Accuracy and Program Accuracy Inconsistency: (82)\n",
            "Original Answer: -0.00561, pred_answer: -0.00561\n",
            "Original Program: subtract(662272, 666009), divide(#0, 666009)\n",
            "Pred Program; subtract(662272, 666009), divide(#0, 666009), multiply(#1, const_100)\n",
            "\n",
            "Invalid operation format: subtract(3.35, divide(221, const_1000))\n",
            "Execution Accuracy and Program Accuracy Inconsistency: (84)\n",
            "Original Answer: -0.19355, pred_answer: -0.19355\n",
            "Original Program: subtract(25, 31), divide(#0, 31)\n",
            "Pred Program; subtract(25, 31), divide(#0, 31), multiply(#1, const_100)\n",
            "\n",
            "Execution Accuracy and Program Accuracy Inconsistency: (85)\n",
            "Original Answer: 0.10931, pred_answer: 0.10931\n",
            "Original Program: subtract(27.4, 24.7), divide(#0, 24.7)\n",
            "Pred Program; subtract(27.4, 24.7), divide(#0, 24.7), multiply(#1, const_100)\n",
            "\n",
            "Execution Accuracy and Program Accuracy Inconsistency: (86)\n",
            "Original Answer: 0.0641, pred_answer: 0.0641\n",
            "Original Program: subtract(83, 78), divide(#0, 78)\n",
            "Pred Program; subtract(83, 78), divide(#0, 78), multiply(#1, const_100)\n",
            "\n",
            "Execution Accuracy and Program Accuracy Inconsistency: (87)\n",
            "Original Answer: -0.29195, pred_answer: -0.29195\n",
            "Original Program: subtract(21.1, 29.8), divide(#0, 29.8)\n",
            "Pred Program; subtract(21.1, 29.8), divide(#0, 29.8), multiply(#1, const_100)\n",
            "\n",
            "Execution Accuracy and Program Accuracy Inconsistency: (89)\n",
            "Original Answer: 0.17786, pred_answer: 0.17786\n",
            "Original Program: divide(154300, 867558)\n",
            "Pred Program; divide(154300, 867558), multiply(#0, const_100)\n",
            "\n",
            "Execution Accuracy and Program Accuracy Inconsistency: (91)\n",
            "Original Answer: -0.05443, pred_answer: -0.05443\n",
            "Original Program: subtract(9381, 9921), divide(#0, 9921)\n",
            "Pred Program; subtract(9381, 9921), divide(#0, 9921), multiply(#1, const_100)\n",
            "\n",
            "Invalid argument: 0\n",
            "Invalid operation format: subtract(4214.5, 4209.6),\n",
            "divide(#0, 4209.6),\n",
            "multiply(#1, const_100)\n",
            "Execution Accuracy and Program Accuracy Inconsistency: (96)\n",
            "Original Answer: 0.14738, pred_answer: 0.14738\n",
            "Original Program: subtract(239.0, 208.3), divide(#0, 208.3)\n",
            "Pred Program; subtract(239.0, 208.3), divide(#0, 208.3), multiply(#1, const_100)\n",
            "\n",
            "Execution Accuracy and Program Accuracy Inconsistency: (97)\n",
            "Original Answer: 0.91083, pred_answer: 0.91083\n",
            "Original Program: subtract(60.0, 28.6), divide(28.6, #0)\n",
            "Pred Program; subtract(60.0, 28.6), divide(28.6, #0), multiply(#1, const_100)\n",
            "\n",
            "Execution Accuracy and Program Accuracy Inconsistency: (98)\n",
            "Original Answer: 10.5, pred_answer: 10.5\n",
            "Original Program: subtract(19.7, 9.2)\n",
            "Pred Program; subtract(19681, 9212), divide(#0, const_1000)\n",
            "\n",
            "Invalid operation format: multiply(#1, const_100),\n",
            "subtract(111.99, 100\n"
          ]
        }
      ]
    },
    {
      "cell_type": "code",
      "source": [
        "print(f\"GPT4 Program Accuracy: {gpt4_prog_score}%\")"
      ],
      "metadata": {
        "colab": {
          "base_uri": "https://localhost:8080/"
        },
        "id": "CEhvvOcFfhG9",
        "outputId": "b27782ca-641b-476c-9c72-36c534946fb0"
      },
      "execution_count": 93,
      "outputs": [
        {
          "output_type": "stream",
          "name": "stdout",
          "text": [
            "GPT4 Program Accuracy: 13%\n"
          ]
        }
      ]
    },
    {
      "cell_type": "code",
      "source": [
        "def adjusted_program_score(model_response, ref_response,\n",
        "                           pattern = r\"^(\\w+)\\(\\s*([#\\w%.-]+)\\s*,\\s*([#\\w%.-]+)\\s*\\)$\"):\n",
        "  score = 0\n",
        "  correct_index = []\n",
        "  for key in range(100):\n",
        "    str_key = str(key)\n",
        "    if str_key not in model_response:\n",
        "      print(f\"Key not found: {key}\\n\")\n",
        "      continue\n",
        "\n",
        "    if model_response[str_key].get(\"format\") and \"%\" in model_response[str_key].get(\"format\"):\n",
        "      list_prog = str_prog_list(model_response[str_key][\"program\"])\n",
        "      if all([bool(re.match(pattern, op)) for op in list_prog]):\n",
        "        list_prog = list_prog[:-1]\n",
        "        str_prog = prog_str_sequence(list_prog)\n",
        "        if equal_program(\n",
        "            program_tokenization(model_response[str_key][\"program\"]),\n",
        "            program_tokenization(entry[str_key][\"program\"])\n",
        "            ):\n",
        "            score += 1\n",
        "            correct_index.append(str_key)\n",
        "        elif equal_program(\n",
        "            program_tokenization(str_prog),\n",
        "            program_tokenization(entry[str_key][\"program\"])\n",
        "            ):\n",
        "            score += 1\n",
        "            correct_index.append(str_key)\n",
        "        else:\n",
        "          print(f\"Incorrect Progam: {key}\")\n",
        "          print(f\"Pred Program({key}): {model_response[str_key]['program']}\")\n",
        "          print(f\"Ref Program({key}): {entry[str_key]['program']}\\n\")\n",
        "    else:\n",
        "      if equal_program(\n",
        "          program_tokenization(model_response[str_key][\"program\"]),\n",
        "          program_tokenization(entry[str_key][\"program\"])\n",
        "          ):\n",
        "          score += 1\n",
        "          correct_index.append(str_key)\n",
        "      else:\n",
        "        print(f\"Incorrect Progam: {key}\")\n",
        "        print(f\"Pred Program({key}): {model_response[str_key]['program']}\")\n",
        "        print(f\"Ref Program({key}): {entry[str_key]['program']}\\n\")\n",
        "\n",
        "  adjusted_program_score.correct_index = correct_index\n",
        "  return score"
      ],
      "metadata": {
        "id": "888GqkxSeGm5"
      },
      "execution_count": 146,
      "outputs": []
    },
    {
      "cell_type": "code",
      "source": [
        "o3_prog_score = adjusted_program_score(o3_response, entry)"
      ],
      "metadata": {
        "colab": {
          "base_uri": "https://localhost:8080/"
        },
        "collapsed": true,
        "id": "giQz4XiVhluU",
        "outputId": "ce82ed29-740d-4f86-f332-908bdbcc8ddc"
      },
      "execution_count": 112,
      "outputs": [
        {
          "output_type": "stream",
          "name": "stdout",
          "text": [
            "Incorrect Progam: 1\n",
            "Pred Program(1): \n",
            "Ref Program(1): subtract(9362.2, 9244.9), divide(#0, 9244.9)\n",
            "\n",
            "Incorrect Progam: 3\n",
            "Pred Program(3): subtract(102.11, 75.95)\n",
            "Ref Program(3): subtract(75.95, const_100), divide(#0, const_100), subtract(102.11, const_100), divide(#2, const_100), subtract(#1, #3)\n",
            "\n",
            "Incorrect Progam: 4\n",
            "Pred Program(4): subtract(75.95, const_100), subtract(102.11, const_100), subtract(#1, #0)\n",
            "Ref Program(4): subtract(75.95, const_100), divide(#0, const_100), subtract(102.11, const_100), divide(#2, const_100), subtract(#1, #3)\n",
            "\n",
            "Incorrect Progam: 5\n",
            "Pred Program(5): add(2530454, 5923147), divide(2530454, #0), multiply(#1, const_100)\n",
            "Ref Program(5): add(2530454, 5923147), divide(5923147, #0)\n",
            "\n",
            "Incorrect Progam: 12\n",
            "Pred Program(12): divide(706985, 1250000), multiply(#0, const_100)\n",
            "Ref Program(12): multiply(1.25, const_1000), divide(707, #0)\n",
            "\n",
            "Incorrect Progam: 14\n",
            "Pred Program(14): divide(258.82, 100), subtract(#0, const_1), multiply(#1, const_100)\n",
            "Ref Program(14): subtract(258.82, const_100), divide(#0, const_100)\n",
            "\n",
            "Incorrect Progam: 15\n",
            "Pred Program(15): divide(C, 6)\n",
            "Ref Program(15): divide(const_100, 6)\n",
            "\n",
            "Incorrect Progam: 21\n",
            "Pred Program(21): subtract(228, 198), divide(#0, 198), multiply(#1, const_100)\n",
            "Ref Program(21): divide(228, 100), divide(#0, 100)\n",
            "\n",
            "Incorrect Progam: 23\n",
            "Pred Program(23): divide(4.02, const_100), multiply(1500, #0)\n",
            "Ref Program(23): multiply(1.5, const_1000), multiply(#0, 4.02%)\n",
            "\n",
            "Incorrect Progam: 24\n",
            "Pred Program(24): subtract(265.06, 198.18)\n",
            "Ref Program(24): subtract(265.06, const_100), divide(#0, const_100), subtract(198.18, const_100), divide(#2, const_100), subtract(#1, #3)\n",
            "\n",
            "Incorrect Progam: 26\n",
            "Pred Program(26): subtract(317, 275), divide(#0, 317), multiply(#1, const_100)\n",
            "Ref Program(26): subtract(275, 317), divide(#0, 317)\n",
            "\n",
            "Incorrect Progam: 27\n",
            "Pred Program(27): subtract(156.7, 363.9), divide(#0, 363.9), multiply(#1, const_100)\n",
            "Ref Program(27): subtract(156.7, 363.9), divide(#0, 363.9)\n",
            "\n",
            "Incorrect Progam: 31\n",
            "Pred Program(31): subtract(240,183), divide(#0,183), multiply(#1,const_100)\n",
            "Ref Program(31): divide(240, 183), subtract(#0, const_1)\n",
            "\n",
            "Incorrect Progam: 32\n",
            "Pred Program(32): subtract(189.6, 164.2), divide(#0, 189.6), multiply(#1, const_100)\n",
            "Ref Program(32): subtract(164.2, 189.6), divide(#0, 189.6)\n",
            "\n",
            "Incorrect Progam: 34\n",
            "Pred Program(34): subtract(2.38, 2.80), divide(#0, 2.80), multiply(#1, const_100)\n",
            "Ref Program(34): subtract(2.80, 2.38), divide(#0, 2.38)\n",
            "\n",
            "Incorrect Progam: 40\n",
            "Pred Program(40): divide(619373,1954928), multiply(#0, const_100)\n",
            "Ref Program(40): divide(619373, 1954928)\n",
            "\n",
            "Incorrect Progam: 42\n",
            "Pred Program(42): subtract(132, 100), divide(#0, const_1)\n",
            "Ref Program(42): subtract(132, 100), divide(#0, 100)\n",
            "\n",
            "Incorrect Progam: 44\n",
            "Pred Program(44): subtract(5.6, 1.3), divide(#0, 5.6), multiply(#1, const_100)\n",
            "Ref Program(44): subtract(1.3, 5.6), divide(#0, 5.6)\n",
            "\n",
            "Incorrect Progam: 48\n",
            "Pred Program(48): subtract(1134, 965)\n",
            "Ref Program(48): subtract(965, 1134), divide(#0, 1134)\n",
            "\n",
            "Incorrect Progam: 49\n",
            "Pred Program(49): add(960, 1300), add(2800, #0), divide(2800, #1), multiply(#2, const_100)\n",
            "Ref Program(49): multiply(2.8, const_1000), divide(#0, 5680)\n",
            "\n",
            "Incorrect Progam: 50\n",
            "Pred Program(50): divide(98750,432000), multiply(#0,const_100)\n",
            "Ref Program(50): divide(98750, 432000), multiply(#0, const_100)\n",
            "\n",
            "Incorrect Progam: 51\n",
            "Pred Program(51): subtract(620, 326)\n",
            "Ref Program(51): subtract(620, 326), divide(#0, 620)\n",
            "\n",
            "Incorrect Progam: 52\n",
            "Pred Program(52): subtract(2658, 1377), divide(#0, 2658), multiply(#1, const_100)\n",
            "Ref Program(52): subtract(1377, 2658)\n",
            "\n",
            "Incorrect Progam: 53\n",
            "Pred Program(53): subtract(33.7, 17.4), divide(#0, 17.4), multiply(#1, const_100)\n",
            "Ref Program(53): subtract(33.7, 20.0), divide(#0, 20.0)\n",
            "\n",
            "Incorrect Progam: 54\n",
            "Pred Program(54): add(195, 410), add(#0, 1300.4)\n",
            "Ref Program(54): add(195.0, 410.0), add(#0, 1300.4)\n",
            "\n",
            "Incorrect Progam: 55\n",
            "Pred Program(55): add(35, 75), add(#0, 725), subtract(3710, #1), divide(2500, #2), multiply(#3, const_100)\n",
            "Ref Program(55): multiply(2.5, const_1000), divide(#0, 3710)\n",
            "\n",
            "Incorrect Progam: 59\n",
            "Pred Program(59): \n",
            "Ref Program(59): subtract(45296, 41895), divide(#0, 41895)\n",
            "\n",
            "Incorrect Progam: 60\n",
            "Pred Program(60): subtract(459.67, 100), divide(#0, const_100), multiply(#1, const_100)\n",
            "Ref Program(60): subtract(459.67, const_100), divide(#0, const_100)\n",
            "\n",
            "Incorrect Progam: 61\n",
            "Pred Program(61): subtract(-1367, -1460), divide(#0, 1460), multiply(#1, const_100)\n",
            "Ref Program(61): subtract(-1367, -1460), divide(#0, -1460)\n",
            "\n",
            "Incorrect Progam: 62\n",
            "Pred Program(62): subtract(597, 553), divide(#0, 553), add(const_1, #1), multiply(597, #2)\n",
            "Ref Program(62): divide(597, 553), multiply(#0, 597)\n",
            "\n",
            "Incorrect Progam: 65\n",
            "Pred Program(65): subtract(14663, 11690)\n",
            "Ref Program(65): subtract(14663, 11690), divide(#0, 11690)\n",
            "\n",
            "Incorrect Progam: 72\n",
            "Pred Program(72): divide(200,3000), multiply(#0, const_100)\n",
            "Ref Program(72): divide(200, 3000)\n",
            "\n",
            "Incorrect Progam: 75\n",
            "Pred Program(75): multiply(1200, const_1000000)\n",
            "Ref Program(75): add(1197607, 1188003), add(#0, 98424)\n",
            "\n",
            "Incorrect Progam: 77\n",
            "Pred Program(77): divide(4400, 6700), multiply(#0, const_100)\n",
            "Ref Program(77): multiply(4.4, const_1000), divide(#0, 6700)\n",
            "\n",
            "Incorrect Progam: 78\n",
            "Pred Program(78): subtract(175, 113)\n",
            "Ref Program(78): subtract(175, 100), divide(#0, 100), subtract(127, 100), divide(#2, 100), subtract(#1, #3)\n",
            "\n",
            "Incorrect Progam: 80\n",
            "Pred Program(80): divide(58.2, 2907.3), multiply(#0, const_100)\n",
            "Ref Program(80): add(2907.3, 320.1), divide(58.2, #0)\n",
            "\n",
            "Incorrect Progam: 83\n",
            "Pred Program(83): subtract(3.35, 0.221)\n",
            "Ref Program(83): divide(221, const_1000000), subtract(3.35, #0)\n",
            "\n",
            "Incorrect Progam: 87\n",
            "Pred Program(87): divide(21.1, 29.8), subtract(#0, const_1), multiply(#1, const_100)\n",
            "Ref Program(87): subtract(21.1, 29.8), divide(#0, 29.8)\n",
            "\n",
            "Incorrect Progam: 88\n",
            "Pred Program(88): add(3855, 1672), add(#0, 1307), add(#1, 6434), add(#2, 1074), add(#3, 10517), divide(1672, #4), multiply(#5, const_100)\n",
            "Ref Program(88): add(136, 828), divide(#0, 1672)\n",
            "\n",
            "Incorrect Progam: 90\n",
            "Pred Program(90): subtract(1018.5, 907.0), subtract(1033.9, 792.9)\n",
            "Ref Program(90): subtract(1018.5, 907.0), subtract(1033.9, 792.9), greater(#0, #1)\n",
            "\n",
            "Incorrect Progam: 93\n",
            "Pred Program(93): add(19, 26), add(17, 57), subtract(#0, #1), divide(#2, #1), multiply(#3, const_100)\n",
            "Ref Program(93): subtract(19, 17), divide(#0, 17)\n",
            "\n",
            "Incorrect Progam: 97\n",
            "Pred Program(97): divide(28.6, 60.0), multiply(#0, const_100)\n",
            "Ref Program(97): subtract(60.0, 28.6), divide(28.6, #0)\n",
            "\n",
            "Incorrect Progam: 99\n",
            "Pred Program(99): subtract(111.99, 110.57)\n",
            "Ref Program(99): subtract(110.57, const_100), divide(#0, const_100), subtract(111.99, const_100), divide(#2, const_100), subtract(#1, #3)\n",
            "\n"
          ]
        }
      ]
    },
    {
      "cell_type": "code",
      "source": [
        "print(f\"Adjusted O3-mini Program Accuracy: {o3_prog_score}%\")"
      ],
      "metadata": {
        "colab": {
          "base_uri": "https://localhost:8080/"
        },
        "id": "B_PVdmUzh0t7",
        "outputId": "1e4daba3-e2da-426c-8251-e2dc05c20265"
      },
      "execution_count": 113,
      "outputs": [
        {
          "output_type": "stream",
          "name": "stdout",
          "text": [
            "Adjusted O3-mini Program Accuracy: 57%\n"
          ]
        }
      ]
    },
    {
      "cell_type": "code",
      "source": [
        "o3_prog_corrrect_index = adjusted_program_score.correct_index"
      ],
      "metadata": {
        "id": "NxRI06Y7TUFj"
      },
      "execution_count": 116,
      "outputs": []
    },
    {
      "cell_type": "code",
      "source": [
        "qwen_prog_score = adjusted_program_score(qwen_response, entry)"
      ],
      "metadata": {
        "colab": {
          "base_uri": "https://localhost:8080/"
        },
        "collapsed": true,
        "id": "eMjU9VRTjEB4",
        "outputId": "4bc05e19-7271-49b2-c6f9-7fc15a4e85ad"
      },
      "execution_count": 117,
      "outputs": [
        {
          "output_type": "stream",
          "name": "stdout",
          "text": [
            "Incorrect Progam: 5\n",
            "Pred Program(5): subtract(200, 100), divide(#0, const_100), subtract(1250, const_10)\n",
            "Ref Program(5): add(2530454, 5923147), divide(5923147, #0)\n",
            "\n",
            "Incorrect Progam: 6\n",
            "Pred Program(6): subtract(3200, 2300), divide(#0, const_100), subtract(1250, const_10)\n",
            "Ref Program(6): subtract(3.7, 3.2), divide(#0, 3.2)\n",
            "\n",
            "Incorrect Progam: 8\n",
            "Pred Program(8): divide(45161, 317105)\n",
            "Ref Program(8): add(27729, 45161), divide(#0, 317105)\n",
            "\n",
            "Incorrect Progam: 9\n",
            "Pred Program(9): subtract(200, 100), divide(#0, const_100), subtract(1250, const_10)\n",
            "Ref Program(9): add(4.5, 4.1), add(#0, 3.4)\n",
            "\n",
            "Incorrect Progam: 10\n",
            "Pred Program(10): subtract(472, 400), divide(#0, const_100), subtract(1250, const_10)\n",
            "Ref Program(10): subtract(-50, -31)\n",
            "\n",
            "Incorrect Progam: 11\n",
            "Pred Program(11): subtract(200, 100), divide(#0, const_100), subtract(1250, const_10)\n",
            "Ref Program(11): subtract(498.8, 486.9), divide(#0, 486.9)\n",
            "\n",
            "Incorrect Progam: 12\n",
            "Pred Program(12): subtract(200, 100), divide(#0, const_100), subtract(1250, const_10)\n",
            "Ref Program(12): multiply(1.25, const_1000), divide(707, #0)\n",
            "\n",
            "Incorrect Progam: 13\n",
            "Pred Program(13): subtract(16088, 1697), divide(#0, const_100)\n",
            "Ref Program(13): divide(1697, 16088)\n",
            "\n",
            "Incorrect Progam: 14\n",
            "Pred Program(14): divide(258.82, 100), subtract(#0, const_1)\n",
            "Ref Program(14): subtract(258.82, const_100), divide(#0, const_100)\n",
            "\n",
            "Incorrect Progam: 15\n",
            "Pred Program(15): subtract(200, 100), divide(#0, const_100), subtract(1250, const_10)\n",
            "Ref Program(15): divide(const_100, 6)\n",
            "\n",
            "Incorrect Progam: 17\n",
            "Pred Program(17): subtract(176675, 196545), divide(#0, const_100)\n",
            "Ref Program(17): subtract(196545, 176675), divide(#0, 176675)\n",
            "\n",
            "Incorrect Progam: 18\n",
            "Pred Program(18): 43\n",
            "Ref Program(18): add(43, 34), add(#0, 44), divide(#1, const_3)\n",
            "\n",
            "Incorrect Progam: 21\n",
            "Pred Program(21): \n",
            "Ref Program(21): divide(228, 100), divide(#0, 100)\n",
            "\n",
            "Incorrect Progam: 22\n",
            "Pred Program(22): subtract(627444, 594662), divide(#0, const_1000000), multiply(#0, const_100)\n",
            "Ref Program(22): subtract(627444, 635092), divide(#0, 635092)\n",
            "\n",
            "Incorrect Progam: 23\n",
            "Pred Program(23): \n",
            "Ref Program(23): multiply(1.5, const_1000), multiply(#0, 4.02%)\n",
            "\n",
            "Incorrect Progam: 26\n",
            "Pred Program(26): subtract(275, 317), divide(#0, const_100), subtract(1250, const_10)\n",
            "Ref Program(26): subtract(275, 317), divide(#0, 317)\n",
            "\n",
            "Incorrect Progam: 27\n",
            "Pred Program(27): subtract(363.9, 156.7), divide(#0, 363.9), multiply(#1, const_100)\n",
            "Ref Program(27): subtract(156.7, 363.9), divide(#0, 363.9)\n",
            "\n",
            "Incorrect Progam: 29\n",
            "Pred Program(29): subtract(2832, 6241), divide(#0, 6241), multiply(#1, const_100)\n",
            "Ref Program(29): subtract(6147, 6241), divide(#0, 6241)\n",
            "\n",
            "Incorrect Progam: 30\n",
            "Pred Program(30): subtract(200, 100), divide(#0, const_100), subtract(1250, const_10)\n",
            "Ref Program(30): add(160000, 80000), add(#0, 70000), add(#1, 67000)\n",
            "\n",
            "Incorrect Progam: 31\n",
            "Pred Program(31): subtract(240, 183), divide(#0, const_100), subtract(1250, const_10)\n",
            "Ref Program(31): divide(240, 183), subtract(#0, const_1)\n",
            "\n",
            "Incorrect Progam: 32\n",
            "Pred Program(32): subtract(189.6, 164.2), divide(#0, 189.6), multiply(#1, const_100)\n",
            "Ref Program(32): subtract(164.2, 189.6), divide(#0, 189.6)\n",
            "\n",
            "Incorrect Progam: 33\n",
            "Pred Program(33): subtract(1651, 1127), divide(#0, 1127), multiply(#1, const_100)\n",
            "Ref Program(33): subtract(1127, 1651), divide(#0, 1651)\n",
            "\n",
            "Incorrect Progam: 34\n",
            "Pred Program(34): subtract(2800, 2380), divide(#0, 2380), multiply(#1, const_100)\n",
            "Ref Program(34): subtract(2.80, 2.38), divide(#0, 2.38)\n",
            "\n",
            "Incorrect Progam: 35\n",
            "Pred Program(35): subtract(200, 100), divide(#0, const_100), subtract(1250, const_10)\n",
            "Ref Program(35): subtract(198.18, 100.0), divide(#0, const_100)\n",
            "\n",
            "Incorrect Progam: 36\n",
            "Pred Program(36): subtract(118180, 103369), divide(#0, const_2), add(#1, 103369)\n",
            "Ref Program(36): add(103369, 118180), divide(#0, const_2)\n",
            "\n",
            "Incorrect Progam: 38\n",
            "Pred Program(38): subtract(2310.2, 4579.6), subtract(#0, 1780.2)\n",
            "Ref Program(38): add(2310.2, -4579.6), add(#0, 1780.2)\n",
            "\n",
            "Incorrect Progam: 39\n",
            "Pred Program(39): subtract(200, 100), divide(#0, const_100), subtract(1250, const_10)\n",
            "Ref Program(39): subtract(187.74, 176.96), divide(#0, 176.96)\n",
            "\n",
            "Incorrect Progam: 40\n",
            "Pred Program(40): subtract(619373, 1954928), divide(#0, const_1000), subtract(1250, const_10)\n",
            "Ref Program(40): divide(619373, 1954928)\n",
            "\n",
            "Incorrect Progam: 41\n",
            "Pred Program(41): subtract(200, 100), divide(#0, const_100), subtract(1250, const_10)\n",
            "Ref Program(41): divide(740.7, 6415.2)\n",
            "\n",
            "Incorrect Progam: 42\n",
            "Pred Program(42): subtract(200, 100), divide(#0, const_100), subtract(1250, const_10)\n",
            "Ref Program(42): subtract(132, 100), divide(#0, 100)\n",
            "\n",
            "Incorrect Progam: 43\n",
            "Pred Program(43): subtract(364221, 225104), divide(#0, 225104), multiply(#1, const_100)\n",
            "Ref Program(43): subtract(453257, 364221), divide(#0, 364221)\n",
            "\n",
            "Incorrect Progam: 45\n",
            "Pred Program(45): subtract(200, 100), divide(#0, const_100), subtract(1250, const_10)\n",
            "Ref Program(45): subtract(5051, 4694), divide(#0, 4694)\n",
            "\n",
            "Incorrect Progam: 46\n",
            "Pred Program(46): subtract(2007, 2006), divide(#0, const_100), subtract(1250, const_10)\n",
            "Ref Program(46): subtract(2423, 2074), divide(#0, 2074)\n",
            "\n",
            "Incorrect Progam: 48\n",
            "Pred Program(48): subtract(1134, 965)\n",
            "Ref Program(48): subtract(965, 1134), divide(#0, 1134)\n",
            "\n",
            "Incorrect Progam: 49\n",
            "Pred Program(49): \n",
            "Ref Program(49): multiply(2.8, const_1000), divide(#0, 5680)\n",
            "\n",
            "Incorrect Progam: 51\n",
            "Pred Program(51): subtract(620, 326)\n",
            "Ref Program(51): subtract(620, 326), divide(#0, 620)\n",
            "\n",
            "Incorrect Progam: 53\n",
            "Pred Program(53): subtract(33700, 20000), divide(#0, 20000), multiply(#1, const_100)\n",
            "Ref Program(53): subtract(33.7, 20.0), divide(#0, 20.0)\n",
            "\n",
            "Incorrect Progam: 54\n",
            "Pred Program(54): subtract(200, 100), divide(#0, const_100), subtract(1250, const_10)\n",
            "Ref Program(54): add(195.0, 410.0), add(#0, 1300.4)\n",
            "\n",
            "Incorrect Progam: 55\n",
            "Pred Program(55): subtract(2510, 3170), divide(#0, const_100), subtract(100, #0)\n",
            "Ref Program(55): multiply(2.5, const_1000), divide(#0, 3710)\n",
            "\n",
            "Incorrect Progam: 60\n",
            "Pred Program(60): subtract(200, 100), divide(#0, const_100), subtract(1250, const_10)\n",
            "Ref Program(60): subtract(459.67, const_100), divide(#0, const_100)\n",
            "\n",
            "Incorrect Progam: 61\n",
            "Pred Program(61): subtract(1460, 1367), divide(#0, 1460), multiply(#1, const_100)\n",
            "Ref Program(61): subtract(-1367, -1460), divide(#0, -1460)\n",
            "\n",
            "Incorrect Progam: 62\n",
            "Pred Program(62): subtract(200, 100), divide(#0, const_100), subtract(1250, const_10)\n",
            "Ref Program(62): divide(597, 553), multiply(#0, 597)\n",
            "\n",
            "Incorrect Progam: 63\n",
            "Pred Program(63): subtract(94417, 93192), divide(#0, 94417), multiply(#0, const_100)\n",
            "Ref Program(63): subtract(93192, 10258), divide(#0, 10258)\n",
            "\n",
            "Incorrect Progam: 65\n",
            "Pred Program(65): subtract(14663, 11690)\n",
            "Ref Program(65): subtract(14663, 11690), divide(#0, 11690)\n",
            "\n",
            "Incorrect Progam: 67\n",
            "Pred Program(67): divide(5171000, 7779000)\n",
            "Ref Program(67): add(5171000, 7779000), divide(5171000, #0)\n",
            "\n",
            "Incorrect Progam: 68\n",
            "Pred Program(68): subtract(200, 100), divide(#0, const_100), subtract(1250, const_10)\n",
            "Ref Program(68): subtract(78, 119), divide(#0, 119)\n",
            "\n",
            "Incorrect Progam: 69\n",
            "Pred Program(69): subtract(480.2, 425.7), divide(#0, 480.2), multiply(#1, const_100)\n",
            "Ref Program(69): subtract(425.7, 480.2), divide(#0, 480.2)\n",
            "\n",
            "Incorrect Progam: 70\n",
            "Pred Program(70): subtract(3804, 807), divide(#0, 3804), multiply(#1, const_100)\n",
            "Ref Program(70): subtract(807, 3804), divide(#0, 3804)\n",
            "\n",
            "Incorrect Progam: 71\n",
            "Pred Program(71): subtract(13.1, 12.8), divide(#0, const_100)\n",
            "Ref Program(71): subtract(13.1, 12.8), divide(#0, 12.8)\n",
            "\n",
            "Incorrect Progam: 72\n",
            "Pred Program(72): divide(200, 1000), subtract(1000, 200), divide(#0, #1)\n",
            "Ref Program(72): divide(200, 3000)\n",
            "\n",
            "Incorrect Progam: 75\n",
            "Pred Program(75): subtract(200, 100), divide(#0, const_100), subtract(1250, const_10)\n",
            "Ref Program(75): add(1197607, 1188003), add(#0, 98424)\n",
            "\n",
            "Incorrect Progam: 76\n",
            "Pred Program(76): subtract(200, 100), divide(#0, const_100), subtract(1250, const_10)\n",
            "Ref Program(76): divide(408424, 417471)\n",
            "\n",
            "Incorrect Progam: 77\n",
            "Pred Program(77): \n",
            "Ref Program(77): multiply(4.4, const_1000), divide(#0, 6700)\n",
            "\n",
            "Incorrect Progam: 78\n",
            "Pred Program(78): subtract(175, 113), subtract(219, 114), subtract(103, 102), subtract(100, 100), add(#0, #1), add(#2, #3), add(#4, #5)\n",
            "Ref Program(78): subtract(175, 100), divide(#0, 100), subtract(127, 100), divide(#2, 100), subtract(#1, #3)\n",
            "\n",
            "Incorrect Progam: 79\n",
            "Pred Program(79): subtract(57200, 49000), divide(#0, 49000), multiply(#1, const_100)\n",
            "Ref Program(79): subtract(57.2, 49.0), divide(#0, 49.0)\n",
            "\n",
            "Incorrect Progam: 80\n",
            "Pred Program(80): subtract(200, 100), divide(#0, const_100), subtract(1250, const_10)\n",
            "Ref Program(80): add(2907.3, 320.1), divide(58.2, #0)\n",
            "\n",
            "Incorrect Progam: 81\n",
            "Pred Program(81): add(1300, 1500), add(#0, 1500), divide(#1, const_1000)\n",
            "Ref Program(81): add(1.5, 1.3), add(#0, 1.3)\n",
            "\n",
            "Incorrect Progam: 82\n",
            "Pred Program(82): subtract(200, 100), divide(#0, const_100), subtract(1250, const_10)\n",
            "Ref Program(82): subtract(662272, 666009), divide(#0, 666009)\n",
            "\n",
            "Incorrect Progam: 83\n",
            "Pred Program(83): 3.70\n",
            "Ref Program(83): divide(221, const_1000000), subtract(3.35, #0)\n",
            "\n",
            "Incorrect Progam: 84\n",
            "Pred Program(84): subtract(29, 25), divide(#0, const_100)\n",
            "Ref Program(84): subtract(25, 31), divide(#0, 31)\n",
            "\n",
            "Incorrect Progam: 86\n",
            "Pred Program(86): subtract(83, 78), divide(#0, const_100)\n",
            "Ref Program(86): subtract(83, 78), divide(#0, 78)\n",
            "\n",
            "Incorrect Progam: 87\n",
            "Pred Program(87): subtract(29.8, 21.1), divide(#0, 21.1), multiply(#1, const_100)\n",
            "Ref Program(87): subtract(21.1, 29.8), divide(#0, 29.8)\n",
            "\n",
            "Incorrect Progam: 88\n",
            "Pred Program(88): subtract(200, 100), divide(#0, const_100), subtract(1250, const_10)\n",
            "Ref Program(88): add(136, 828), divide(#0, 1672)\n",
            "\n",
            "Incorrect Progam: 89\n",
            "Pred Program(89): divide(154300, 756311), multiply(#0, const_100)\n",
            "Ref Program(89): divide(154300, 867558)\n",
            "\n",
            "Incorrect Progam: 90\n",
            "Pred Program(90): subtract(1018.5, 1033.9), subtract(1033.9, 1018.5), greater(#0, #1)\n",
            "Ref Program(90): subtract(1018.5, 907.0), subtract(1033.9, 792.9), greater(#0, #1)\n",
            "\n",
            "Incorrect Progam: 91\n",
            "Pred Program(91): subtract(200, 100), divide(#0, const_100), subtract(1250, const_10)\n",
            "Ref Program(91): subtract(9381, 9921), divide(#0, 9921)\n",
            "\n",
            "Incorrect Progam: 92\n",
            "Pred Program(92): subtract(200, 100), divide(#0, const_100), subtract(1250, const_10)\n",
            "Ref Program(92): add(3734, 2059), add(#0, 5965), divide(#1, const_3)\n",
            "\n",
            "Incorrect Progam: 93\n",
            "Pred Program(93): subtract(200, 100), divide(#0, const_100), subtract(1250, const_10)\n",
            "Ref Program(93): subtract(19, 17), divide(#0, 17)\n",
            "\n",
            "Incorrect Progam: 95\n",
            "Pred Program(95): subtract(200, 100), divide(#0, const_100), subtract(1250, const_10)\n",
            "Ref Program(95): subtract(11.3, 6.5)\n",
            "\n",
            "Incorrect Progam: 96\n",
            "Pred Program(96): subtract(200, 100), divide(#0, const_100), subtract(1250, const_10)\n",
            "Ref Program(96): subtract(239.0, 208.3), divide(#0, 208.3)\n",
            "\n",
            "Incorrect Progam: 97\n",
            "Pred Program(97): divide(28.6, 60), multiply(#0, const_100)\n",
            "Ref Program(97): subtract(60.0, 28.6), divide(28.6, #0)\n",
            "\n",
            "Incorrect Progam: 98\n",
            "Pred Program(98): subtract(200, 100), divide(#0, const_100), subtract(1250, const_10)\n",
            "Ref Program(98): subtract(19.7, 9.2)\n",
            "\n",
            "Incorrect Progam: 99\n",
            "Pred Program(99): subtract(200, 100), divide(#0, const_100), subtract(1250, const_10)\n",
            "Ref Program(99): subtract(110.57, const_100), divide(#0, const_100), subtract(111.99, const_100), divide(#2, const_100), subtract(#1, #3)\n",
            "\n"
          ]
        }
      ]
    },
    {
      "cell_type": "code",
      "source": [
        "print(f\"Adjusted QWEN-14B Program Accuracy: {qwen_prog_score}%\")"
      ],
      "metadata": {
        "colab": {
          "base_uri": "https://localhost:8080/"
        },
        "id": "xfTAtx1YjoJt",
        "outputId": "f7fb5ae3-5393-4d6b-c19f-3431a89de4de"
      },
      "execution_count": 118,
      "outputs": [
        {
          "output_type": "stream",
          "name": "stdout",
          "text": [
            "Adjusted QWEN-14B Program Accuracy: 26%\n"
          ]
        }
      ]
    },
    {
      "cell_type": "code",
      "source": [
        "qwen_prog_corrrect_index = adjusted_program_score.correct_index"
      ],
      "metadata": {
        "id": "IQpuyKbYTf6I"
      },
      "execution_count": 119,
      "outputs": []
    },
    {
      "cell_type": "code",
      "source": [
        "gpt4_prog_score = adjusted_program_score(gpt4_response, entry)"
      ],
      "metadata": {
        "colab": {
          "base_uri": "https://localhost:8080/"
        },
        "collapsed": true,
        "id": "IQ6BiL4Nj95s",
        "outputId": "d0a4084f-ed20-4731-e2e6-e7215f9cfb7b"
      },
      "execution_count": 142,
      "outputs": [
        {
          "output_type": "stream",
          "name": "stdout",
          "text": [
            "Incorrect Progam: 3\n",
            "Pred Program(3): subtract(75.95, 102.11), divide(#0, 102.11), multiply(#1, const_100)\n",
            "Ref Program(3): subtract(75.95, const_100), divide(#0, const_100), subtract(102.11, const_100), divide(#2, const_100), subtract(#1, #3)\n",
            "\n",
            "Incorrect Progam: 4\n",
            "Pred Program(4): subtract(102.11, 75.95), divide(#0, const_100)\n",
            "Ref Program(4): subtract(75.95, const_100), divide(#0, const_100), subtract(102.11, const_100), divide(#2, const_100), subtract(#1, #3)\n",
            "\n",
            "Incorrect Progam: 5\n",
            "Pred Program(5): add(2530454, 5923147), divide(2530454, #0), multiply(#1, const_100)\n",
            "Ref Program(5): add(2530454, 5923147), divide(5923147, #0)\n",
            "\n",
            "Incorrect Progam: 12\n",
            "Pred Program(12): divide(707, 1250), multiply(#0, const_100)\n",
            "Ref Program(12): multiply(1.25, const_1000), divide(707, #0)\n",
            "\n",
            "Incorrect Progam: 14\n",
            "Pred Program(14): subtract(258.82, 100), divide(#0, 100), multiply(#1, const_100)\n",
            "Ref Program(14): subtract(258.82, const_100), divide(#0, const_100)\n",
            "\n",
            "Incorrect Progam: 15\n",
            "Pred Program(15): divide(const_1, 6)\n",
            "Ref Program(15): divide(const_100, 6)\n",
            "\n",
            "Incorrect Progam: 21\n",
            "Pred Program(21): subtract(228, 100), divide(#0, 100)\n",
            "Ref Program(21): divide(228, 100), divide(#0, 100)\n",
            "\n",
            "Incorrect Progam: 23\n",
            "Pred Program(23): multiply(1500, const_1000000), multiply(#0, 4.02), divide(#1, const_100)\n",
            "Ref Program(23): multiply(1.5, const_1000), multiply(#0, 4.02%)\n",
            "\n",
            "Incorrect Progam: 24\n",
            "Pred Program(24): subtract(265.06, 198.18)\n",
            "Ref Program(24): subtract(265.06, const_100), divide(#0, const_100), subtract(198.18, const_100), divide(#2, const_100), subtract(#1, #3)\n",
            "\n",
            "Incorrect Progam: 26\n",
            "Pred Program(26): subtract(317, 275), divide(#0, 317), multiply(#1, const_100)\n",
            "Ref Program(26): subtract(275, 317), divide(#0, 317)\n",
            "\n",
            "Incorrect Progam: 30\n",
            "Pred Program(30): add(160000, 80000), \n",
            "add(#0, 70000), \n",
            "add(#1, 67000)\n",
            "Ref Program(30): add(160000, 80000), add(#0, 70000), add(#1, 67000)\n",
            "\n",
            "Incorrect Progam: 31\n",
            "Pred Program(31): subtract(240,183), divide(#0,183), multiply(#1,const_100)\n",
            "Ref Program(31): divide(240, 183), subtract(#0, const_1)\n",
            "\n",
            "Incorrect Progam: 32\n",
            "Pred Program(32): subtract(189.6, 164.2), divide(#0, 189.6), multiply(#1, const_100)\n",
            "Ref Program(32): subtract(164.2, 189.6), divide(#0, 189.6)\n",
            "\n",
            "Incorrect Progam: 34\n",
            "Pred Program(34): subtract(2.38, 2.8), divide(#0, 2.8), multiply(#1, const_100)\n",
            "Ref Program(34): subtract(2.80, 2.38), divide(#0, 2.38)\n",
            "\n",
            "Incorrect Progam: 35\n",
            "Pred Program(35): subtract(198.18, 100.0), divide(#0, 100.0), multiply(#1, const_100)\n",
            "Ref Program(35): subtract(198.18, 100.0), divide(#0, const_100)\n",
            "\n",
            "Incorrect Progam: 38\n",
            "Pred Program(38): subtract(2310.2, 4579.6),\n",
            "  add(#0, 1780.2)\n",
            "Ref Program(38): add(2310.2, -4579.6), add(#0, 1780.2)\n",
            "\n",
            "Incorrect Progam: 44\n",
            "Pred Program(44): subtract(5.6, 1.3), divide(#0, 5.6), multiply(#1, const_100)\n",
            "Ref Program(44): subtract(1.3, 5.6), divide(#0, 5.6)\n",
            "\n",
            "Incorrect Progam: 48\n",
            "Pred Program(48): subtract(1134, 965)\n",
            "Ref Program(48): subtract(965, 1134), divide(#0, 1134)\n",
            "\n",
            "Incorrect Progam: 49\n",
            "Pred Program(49): divide(2800, 5680), multiply(#0, const_100)\n",
            "Ref Program(49): multiply(2.8, const_1000), divide(#0, 5680)\n",
            "\n",
            "Incorrect Progam: 51\n",
            "Pred Program(51): subtract(620, 326)\n",
            "Ref Program(51): subtract(620, 326), divide(#0, 620)\n",
            "\n",
            "Incorrect Progam: 52\n",
            "Pred Program(52): subtract(2658, 1377)\n",
            "Ref Program(52): subtract(1377, 2658)\n",
            "\n",
            "Incorrect Progam: 53\n",
            "Pred Program(53): subtract(33.7, 17.4), divide(#0, 17.4), multiply(#1, const_100)\n",
            "Ref Program(53): subtract(33.7, 20.0), divide(#0, 20.0)\n",
            "\n",
            "Incorrect Progam: 55\n",
            "Pred Program(55): divide(2.5, 3.441), multiply(#0, const_100)\n",
            "Ref Program(55): multiply(2.5, const_1000), divide(#0, 3710)\n",
            "\n",
            "Incorrect Progam: 60\n",
            "Pred Program(60): subtract(459.67, 100), divide(#0, 100)\n",
            "Ref Program(60): subtract(459.67, const_100), divide(#0, const_100)\n",
            "\n",
            "Incorrect Progam: 61\n",
            "Pred Program(61): subtract(1460, 1367), divide(#0, 1460), multiply(#1, const_100)\n",
            "Ref Program(61): subtract(-1367, -1460), divide(#0, -1460)\n",
            "\n",
            "Incorrect Progam: 65\n",
            "Pred Program(65): subtract(14663, 11690)\n",
            "Ref Program(65): subtract(14663, 11690), divide(#0, 11690)\n",
            "\n",
            "Incorrect Progam: 69\n",
            "Pred Program(69): subtract(480.2, 425.7), divide(#0, 480.2), multiply(#1, const_100)\n",
            "Ref Program(69): subtract(425.7, 480.2), divide(#0, 480.2)\n",
            "\n",
            "Incorrect Progam: 75\n",
            "Pred Program(75): 1200000000\n",
            "Ref Program(75): add(1197607, 1188003), add(#0, 98424)\n",
            "\n",
            "Incorrect Progam: 77\n",
            "Pred Program(77): divide(4400, 6700), multiply(#0, const_100)\n",
            "Ref Program(77): multiply(4.4, const_1000), divide(#0, 6700)\n",
            "\n",
            "Incorrect Progam: 78\n",
            "Pred Program(78): subtract(175, 100), subtract(113, 100), subtract(#0, #1)\n",
            "Ref Program(78): subtract(175, 100), divide(#0, 100), subtract(127, 100), divide(#2, 100), subtract(#1, #3)\n",
            "\n",
            "Incorrect Progam: 79\n",
            "Pred Program(79): subtract(57200000, 49000000), divide(#0, 49000000), multiply(#1, const_100)\n",
            "Ref Program(79): subtract(57.2, 49.0), divide(#0, 49.0)\n",
            "\n",
            "Incorrect Progam: 80\n",
            "Pred Program(80): divide(58.2, 2907.3), multiply(#0, const_100)\n",
            "Ref Program(80): add(2907.3, 320.1), divide(58.2, #0)\n",
            "\n",
            "Incorrect Progam: 83\n",
            "Pred Program(83): subtract(3.35, divide(221, const_1000))\n",
            "Ref Program(83): divide(221, const_1000000), subtract(3.35, #0)\n",
            "\n",
            "Incorrect Progam: 88\n",
            "Pred Program(88): add(708, 136), add(#0, 828), divide(#1, 6434), multiply(#2, const_100)\n",
            "Ref Program(88): add(136, 828), divide(#0, 1672)\n",
            "\n",
            "Incorrect Progam: 90\n",
            "Pred Program(90): subtract(1033.9, 792.9), subtract(1018.5, 907.0), greater(#0, #1)\n",
            "Ref Program(90): subtract(1018.5, 907.0), subtract(1033.9, 792.9), greater(#0, #1)\n",
            "\n",
            "Incorrect Progam: 92\n",
            "Pred Program(92): subtract(0, 3734), subtract(0, 2059), subtract(0, 5965), add(#0, #1), add(#2, #3), divide(#4, const_3)\n",
            "Ref Program(92): add(3734, 2059), add(#0, 5965), divide(#1, const_3)\n",
            "\n",
            "Incorrect Progam: 93\n",
            "Pred Program(93): add(17, 57), add(19, 26), subtract(#1, #0), divide(#2, #0), multiply(#3, const_100)\n",
            "Ref Program(93): subtract(19, 17), divide(#0, 17)\n",
            "\n",
            "Incorrect Progam: 98\n",
            "Pred Program(98): subtract(19681, 9212), divide(#0, const_1000)\n",
            "Ref Program(98): subtract(19.7, 9.2)\n",
            "\n",
            "55\n"
          ]
        }
      ]
    },
    {
      "cell_type": "code",
      "source": [
        "print(f\"Adjusted GPT-4o Program Accuracy: {gpt4_prog_score}%\")"
      ],
      "metadata": {
        "colab": {
          "base_uri": "https://localhost:8080/"
        },
        "id": "EC-rhL8oj9_a",
        "outputId": "df8122b2-f033-40b0-d6bc-59589300f7d3"
      },
      "execution_count": 143,
      "outputs": [
        {
          "output_type": "stream",
          "name": "stdout",
          "text": [
            "Adjusted GPT-4o Program Accuracy: 55%\n"
          ]
        }
      ]
    },
    {
      "cell_type": "code",
      "source": [
        "gpt4_prog_correct_index = adjusted_program_score.correct_index"
      ],
      "metadata": {
        "id": "yQouAxD1TtVL"
      },
      "execution_count": 144,
      "outputs": []
    },
    {
      "cell_type": "code",
      "source": [
        "o3_exec_score"
      ],
      "metadata": {
        "colab": {
          "base_uri": "https://localhost:8080/"
        },
        "id": "9dZ4mGFsUiDR",
        "outputId": "226378d5-1a17-46aa-86ac-4bc3a1c9df16"
      },
      "execution_count": 152,
      "outputs": [
        {
          "output_type": "execute_result",
          "data": {
            "text/plain": [
              "71"
            ]
          },
          "metadata": {},
          "execution_count": 152
        }
      ]
    },
    {
      "cell_type": "code",
      "source": [
        "# prompt: plot the execution accuracy and adjusted program accuracy using a compund bar plot. execution accuracy and program accuracy on a separate bar\n",
        "\n",
        "import matplotlib.pyplot as plt\n",
        "import numpy as np\n",
        "\n",
        "# Sample data (replace with your actual scores)\n",
        "models = ['O3-mini', 'Qwen-14B', 'GPT-4o']\n",
        "execution_accuracy = [o3_exec_score, qwen_exec_score, gpt4_exec_score]  # Replace with your actual execution accuracy values\n",
        "adjusted_program_accuracy = [o3_prog_score, qwen_prog_score, gpt4_prog_score] # Replace with your actual adjusted program accuracy\n",
        "\n",
        "\n",
        "# Set width of bar\n",
        "barWidth = 0.25\n",
        "fig = plt.subplots(figsize =(12, 8))\n",
        "\n",
        "# Set position of bar on X axis\n",
        "br1 = np.arange(len(execution_accuracy))\n",
        "br2 = [x + barWidth for x in br1]\n",
        "\n",
        "# Make the plot\n",
        "plt.bar(br1, execution_accuracy, color ='r', width = barWidth,\n",
        "        edgecolor ='grey', label ='Execution Accuracy')\n",
        "plt.bar(br2, adjusted_program_accuracy, color ='b', width = barWidth,\n",
        "        edgecolor ='grey', label ='Program Accuracy')\n",
        "\n",
        "# Adding Xticks\n",
        "plt.xlabel('Models', fontweight ='bold', fontsize = 15)\n",
        "plt.ylabel('Accuracy (%)', fontweight ='bold', fontsize = 15)\n",
        "plt.xticks([r + barWidth * 0.5 for r in range(len(execution_accuracy))],\n",
        "        models)\n",
        "\n",
        "plt.legend()\n",
        "plt.title(\"Execution Accuracy, and Program Accuracy Comparison\")\n",
        "plt.show()"
      ],
      "metadata": {
        "colab": {
          "base_uri": "https://localhost:8080/",
          "height": 729
        },
        "id": "jRa3IZrcIYb3",
        "outputId": "7a1d5114-fed6-4641-d015-f431e42913b7"
      },
      "execution_count": 153,
      "outputs": [
        {
          "output_type": "display_data",
          "data": {
            "text/plain": [
              "<Figure size 1200x800 with 1 Axes>"
            ],
            "image/png": "[encoded data removed]"
          },
          "metadata": {}
        }
      ]
    },
    {
      "cell_type": "code",
      "source": [
        "o3_correct_index[:10]"
      ],
      "metadata": {
        "colab": {
          "base_uri": "https://localhost:8080/"
        },
        "id": "MZD6MXjujCJ2",
        "outputId": "7cc970bf-7c06-4f3b-dbfc-b23090825272"
      },
      "execution_count": 154,
      "outputs": [
        {
          "output_type": "execute_result",
          "data": {
            "text/plain": [
              "['0', '2', '6', '7', '8', '9', '10', '11', '12', '13']"
            ]
          },
          "metadata": {},
          "execution_count": 154
        }
      ]
    },
    {
      "cell_type": "code",
      "source": [
        "set(o3_correct_index).difference(set(o3_prog_corrrect_index))"
      ],
      "metadata": {
        "colab": {
          "base_uri": "https://localhost:8080/"
        },
        "id": "r2RmbywFjCPY",
        "outputId": "19ce2a03-ba55-4f19-c392-afba53c4d48e"
      },
      "execution_count": 158,
      "outputs": [
        {
          "output_type": "execute_result",
          "data": {
            "text/plain": [
              "{'12',\n",
              " '14',\n",
              " '23',\n",
              " '24',\n",
              " '31',\n",
              " '40',\n",
              " '42',\n",
              " '50',\n",
              " '54',\n",
              " '60',\n",
              " '62',\n",
              " '72',\n",
              " '77',\n",
              " '87'}"
            ]
          },
          "metadata": {},
          "execution_count": 158
        }
      ]
    },
    {
      "cell_type": "code",
      "source": [
        "o3_response.get(\"12\")"
      ],
      "metadata": {
        "colab": {
          "base_uri": "https://localhost:8080/"
        },
        "id": "cbYHxTe_jCYT",
        "outputId": "b36a0ba5-9213-4547-93a5-079c7970c407"
      },
      "execution_count": 159,
      "outputs": [
        {
          "output_type": "execute_result",
          "data": {
            "text/plain": [
              "{'program': 'divide(706985, 1250000), multiply(#0, const_100)', 'format': '%'}"
            ]
          },
          "metadata": {},
          "execution_count": 159
        }
      ]
    },
    {
      "cell_type": "code",
      "source": [
        "entry.get(\"12\").get(\"program\")"
      ],
      "metadata": {
        "colab": {
          "base_uri": "https://localhost:8080/",
          "height": 35
        },
        "id": "TOMoJKGDjfhF",
        "outputId": "ce77a339-6283-4e61-d766-78e4ed749d8e"
      },
      "execution_count": 161,
      "outputs": [
        {
          "output_type": "execute_result",
          "data": {
            "text/plain": [
              "'multiply(1.25, const_1000), divide(707, #0)'"
            ],
            "application/vnd.google.colaboratory.intrinsic+json": {
              "type": "string"
            }
          },
          "metadata": {},
          "execution_count": 161
        }
      ]
    },
    {
      "cell_type": "code",
      "source": [
        "train_data[12][\"table\"]"
      ],
      "metadata": {
        "colab": {
          "base_uri": "https://localhost:8080/"
        },
        "id": "XAZ5MebOjgkI",
        "outputId": "61ec24c1-63d7-4c56-a55c-12343f3e0701"
      },
      "execution_count": 166,
      "outputs": [
        {
          "output_type": "execute_result",
          "data": {
            "text/plain": [
              "[['', 'class a common stock', 'class b common stock'],\n",
              " ['balance at december 31 2016', '2014', '2014'],\n",
              " ['issue of shares on business combination at july 3 2017',\n",
              "  '427709',\n",
              "  '717111'],\n",
              " ['issue of shares upon vesting of restricted stock units ( 1 )',\n",
              "  '290',\n",
              "  '2014'],\n",
              " ['issue of shares on exercises of stock options ( 1 )', '256', '2014'],\n",
              " ['stock repurchase program ( 2 ) ( 3 )',\n",
              "  '-6047 ( 6047 )',\n",
              "  '-10126 ( 10126 )'],\n",
              " ['balance at december 31 2017', '422208', '706985']]"
            ]
          },
          "metadata": {},
          "execution_count": 166
        }
      ]
    },
    {
      "cell_type": "code",
      "source": [
        "train_data[12][\"qa\"][\"question\"]"
      ],
      "metadata": {
        "colab": {
          "base_uri": "https://localhost:8080/",
          "height": 35
        },
        "id": "BNldgR0pkPTh",
        "outputId": "95c384be-cdcb-4bcc-b72a-6cbc165f8786"
      },
      "execution_count": 169,
      "outputs": [
        {
          "output_type": "execute_result",
          "data": {
            "text/plain": [
              "'what portion of the authorized shares of class b common stock is outstanding as of december 31 , 2017?'"
            ],
            "application/vnd.google.colaboratory.intrinsic+json": {
              "type": "string"
            }
          },
          "metadata": {},
          "execution_count": 169
        }
      ]
    },
    {
      "cell_type": "code",
      "source": [
        "train_data[12][\"qa\"][\"gold_inds\"]"
      ],
      "metadata": {
        "colab": {
          "base_uri": "https://localhost:8080/"
        },
        "id": "Buctlqo3lb7e",
        "outputId": "5ded7b8b-a339-4e0c-eeaf-cd70c7e5d745"
      },
      "execution_count": 174,
      "outputs": [
        {
          "output_type": "execute_result",
          "data": {
            "text/plain": [
              "{'text_4': 'equity common stock we are authorized to issue 2 billion shares of class a common stock , 1.25 billion shares of class b common stock and 50 million shares of preferred stock each of which have a par value of $ 0.0001 per share .',\n",
              " 'text_6': 'the number of class a common stock and class b common stock shares outstanding at december 31 , 2017 is 422 million and 707 million , respectively .'}"
            ]
          },
          "metadata": {},
          "execution_count": 174
        }
      ]
    },
    {
      "cell_type": "code",
      "source": [
        "def table_to_html(data: list) -> str:\n",
        "  html = \"<table class='wikitable'>\"\n",
        "\n",
        "  for i, row in enumerate(data, start=1):\n",
        "    html += \"<tr><td>{}</td>\".format(i) + \"\".join(f\"<td>{cell}</td>\" for cell in row) + \"</tr>\"\n",
        "  html += \"</table>\"\n",
        "\n",
        "  return html"
      ],
      "metadata": {
        "id": "Rd0xooeGk23y"
      },
      "execution_count": 170,
      "outputs": []
    },
    {
      "cell_type": "code",
      "source": [
        "def financial_report_html(entry: dict) -> str:\n",
        "  pre_text = \" \".join(entry.get(\"pre_text\"))\n",
        "  post_text = \" \".join(entry.get(\"post_text\"))\n",
        "  table = entry.get(\"table\")\n",
        "\n",
        "  html = f\"\"\"\n",
        "              <div>\n",
        "                <p>{pre_text}</p>\n",
        "              </div>\n",
        "              <div>\n",
        "                {table_to_html(table)}\n",
        "              </div>\n",
        "              <div>\n",
        "                <p>{post_text}</p>\n",
        "              </div>\n",
        "  \"\"\"\n",
        "\n",
        "  return html"
      ],
      "metadata": {
        "id": "H57Z_k5_ktwV"
      },
      "execution_count": 171,
      "outputs": []
    },
    {
      "cell_type": "code",
      "source": [
        "HTML(financial_report_html(train_data[12]))"
      ],
      "metadata": {
        "colab": {
          "base_uri": "https://localhost:8080/",
          "height": 557
        },
        "id": "UZT8vTzekuhZ",
        "outputId": "67bd7eda-970c-4796-a086-f46b1ad58ae7"
      },
      "execution_count": 173,
      "outputs": [
        {
          "output_type": "execute_result",
          "data": {
            "text/plain": [
              "<IPython.core.display.HTML object>"
            ],
            "text/html": [
              "\n",
              "              <div>\n",
              "                <p>baker hughes , a ge company notes to consolidated and combined financial statements bhge 2017 form 10-k | 85 the total intrinsic value of rsus ( defined as the value of the shares awarded at the current market price ) vested and outstanding in 2017 was $ 17 million and $ 38 million , respectively . the total fair value of rsus vested in 2017 was $ 19 million . as of december 31 , 2017 , there was $ 98 million of total unrecognized compensation cost related to unvested rsus , which is expected to be recognized over a weighted average period of 2.5 years . note 12 . equity common stock we are authorized to issue 2 billion shares of class a common stock , 1.25 billion shares of class b common stock and 50 million shares of preferred stock each of which have a par value of $ 0.0001 per share . on july 3 , 2017 , each share of baker hughes common stock was converted into one share of class a common stock in the company . the number of class a common stock and class b common stock shares outstanding at december 31 , 2017 is 422 million and 707 million , respectively . we have not issued any preferred stock . ge owns all the issued and outstanding class b common stock . each share of class a and class b common stock and the associated membership interest in bhge llc form a paired interest . while each share of class b common stock has equal voting rights to a share of class a common stock , it has no economic rights , meaning holders of class b common stock have no right to dividends and any assets in the event of liquidation of the company . former baker hughes stockholders immediately after the completion of the transactions received a special one-time cash dividend of $ 17.50 per share paid by the company to holders of record of the company's class a common stock . in addition , during 2017 the company declared and paid regular dividends of $ 0.17 per share and $ 0.18 per share to holders of record of the company's class a common stock during the quarters ended september 30 , 2017 and december 31 , 2017 , respectively . the following table presents the changes in number of shares outstanding ( in thousands ) : class a common class b common .</p>\n",
              "              </div>\n",
              "              <div>\n",
              "                <table class='wikitable'><tr><td>1</td><td></td><td>class a common stock</td><td>class b common stock</td></tr><tr><td>2</td><td>balance at december 31 2016</td><td>2014</td><td>2014</td></tr><tr><td>3</td><td>issue of shares on business combination at july 3 2017</td><td>427709</td><td>717111</td></tr><tr><td>4</td><td>issue of shares upon vesting of restricted stock units ( 1 )</td><td>290</td><td>2014</td></tr><tr><td>5</td><td>issue of shares on exercises of stock options ( 1 )</td><td>256</td><td>2014</td></tr><tr><td>6</td><td>stock repurchase program ( 2 ) ( 3 )</td><td>-6047 ( 6047 )</td><td>-10126 ( 10126 )</td></tr><tr><td>7</td><td>balance at december 31 2017</td><td>422208</td><td>706985</td></tr></table>\n",
              "              </div>\n",
              "              <div>\n",
              "                <p>( 1 ) share amounts reflected above are net of shares withheld to satisfy the employee's tax withholding obligation . ( 2 ) on november 2 , 2017 , our board of directors authorized bhge llc to repurchase up to $ 3 billion of its common units from the company and ge . the proceeds of this repurchase are to be used by bhge to repurchase class a common stock of the company on the open market , which if fully implemented would result in the repurchase of approximately $ 1.1 billion of class a common stock . the class b common stock of the company , that is paired with repurchased common units , was repurchased by the company at par value . the $ 3 billion repurchase authorization is the aggregate authorization for repurchases of class a and class b common stock together with its paired unit . bhge llc had authorization remaining to repurchase up to approximately $ 2.5 billion of its common units from bhge and ge at december 31 , 2017 . ( 3 ) during 2017 , we repurchased and canceled 6046735 shares of class a common stock for a total of $ 187 million . we also repurchased and canceled 10126467 shares of class b common stock from ge which is paired together with common units of bhge llc for $ 314 million. .</p>\n",
              "              </div>\n",
              "  "
            ]
          },
          "metadata": {},
          "execution_count": 173
        }
      ]
    },
    {
      "cell_type": "code",
      "source": [
        "entry.get(\"59\")[\"program\"].split(\"), \")"
      ],
      "metadata": {
        "colab": {
          "base_uri": "https://localhost:8080/"
        },
        "id": "QlPZS06P0DgZ",
        "outputId": "1e96d211-add3-48b6-decc-84db123319a1"
      },
      "execution_count": 179,
      "outputs": [
        {
          "output_type": "execute_result",
          "data": {
            "text/plain": [
              "['subtract(45296, 41895', 'divide(#0, 41895)']"
            ]
          },
          "metadata": {},
          "execution_count": 179
        }
      ]
    },
    {
      "cell_type": "code",
      "source": [
        "prog_len = [len(entry.get(key)[\"program\"].split(\"), \")) for key in entry]"
      ],
      "metadata": {
        "id": "BFQhxN_b0Fvl"
      },
      "execution_count": 183,
      "outputs": []
    },
    {
      "cell_type": "code",
      "source": [
        "prog_len[:10]"
      ],
      "metadata": {
        "colab": {
          "base_uri": "https://localhost:8080/"
        },
        "id": "uDpF5gFu0E1_",
        "outputId": "29bcce1a-cb12-444a-f17a-43f914866d8f"
      },
      "execution_count": 185,
      "outputs": [
        {
          "output_type": "execute_result",
          "data": {
            "text/plain": [
              "[2, 2, 2, 5, 5, 2, 2, 2, 2, 2]"
            ]
          },
          "metadata": {},
          "execution_count": 185
        }
      ]
    },
    {
      "cell_type": "code",
      "source": [
        "len(prog_len)"
      ],
      "metadata": {
        "colab": {
          "base_uri": "https://localhost:8080/"
        },
        "id": "TPU_J4Gvt0JG",
        "outputId": "19915644-e21f-4dcb-b5c3-d51f4c61065a"
      },
      "execution_count": 188,
      "outputs": [
        {
          "output_type": "execute_result",
          "data": {
            "text/plain": [
              "3037"
            ]
          },
          "metadata": {},
          "execution_count": 188
        }
      ]
    },
    {
      "cell_type": "code",
      "source": [
        "dct = dict()\n",
        "for i, v in enumerate(prog_len[:100]):\n",
        "  dct[v] = dct.get(v, []) + [i]"
      ],
      "metadata": {
        "id": "Ri_831ve0D7e"
      },
      "execution_count": 205,
      "outputs": []
    },
    {
      "cell_type": "code",
      "source": [
        "o3_cnt_dct = dict()\n",
        "for ind in o3_correct_index:\n",
        "  for i in dct.keys():\n",
        "    if int(ind) in dct[i]:\n",
        "      o3_cnt_dct[i] = o3_cnt_dct.get(i, 0) + 1"
      ],
      "metadata": {
        "id": "u4c72_354kfz"
      },
      "execution_count": 229,
      "outputs": []
    },
    {
      "cell_type": "code",
      "source": [
        "gpt4_cnt_dct = dict()\n",
        "for ind in gpt4_correct_index:\n",
        "  for i in dct.keys():\n",
        "    if int(ind) in dct[i]:\n",
        "      gpt4_cnt_dct[i] = gpt4_cnt_dct.get(i, 0) + 1"
      ],
      "metadata": {
        "id": "rLxQfCMZ0SYF"
      },
      "execution_count": 227,
      "outputs": []
    },
    {
      "cell_type": "code",
      "source": [
        "qwen_cnt_dct = dict()\n",
        "for ind in qwen_correct_index:\n",
        "  for i in dct.keys():\n",
        "    if int(ind) in dct[i]:\n",
        "      qwen_cnt_dct[i] = qwen_cnt_dct.get(i, 0) + 1"
      ],
      "metadata": {
        "id": "tFYXXsQI4sjs"
      },
      "execution_count": 230,
      "outputs": []
    },
    {
      "cell_type": "code",
      "source": [
        "rounds_cnt = {k:len(v) for k, v in dct.items()}"
      ],
      "metadata": {
        "id": "otAkiOTB1EK3"
      },
      "execution_count": 225,
      "outputs": []
    },
    {
      "cell_type": "code",
      "source": [
        "rounds_cnt"
      ],
      "metadata": {
        "colab": {
          "base_uri": "https://localhost:8080/"
        },
        "id": "a-vNnx6T4_DQ",
        "outputId": "013c21e0-17a8-4320-c304-06f3390fd29e"
      },
      "execution_count": 233,
      "outputs": [
        {
          "output_type": "execute_result",
          "data": {
            "text/plain": [
              "{2: 77, 5: 5, 1: 13, 3: 5}"
            ]
          },
          "metadata": {},
          "execution_count": 233
        }
      ]
    },
    {
      "cell_type": "code",
      "source": [
        "gpt4_cnt_dct"
      ],
      "metadata": {
        "colab": {
          "base_uri": "https://localhost:8080/"
        },
        "id": "R8QEWPCd0LaA",
        "outputId": "a35c8bc0-0f68-4fa0-ac9d-25060b7ec4ab"
      },
      "execution_count": 228,
      "outputs": [
        {
          "output_type": "execute_result",
          "data": {
            "text/plain": [
              "{2: 52, 1: 10, 3: 2}"
            ]
          },
          "metadata": {},
          "execution_count": 228
        }
      ]
    },
    {
      "cell_type": "code",
      "source": [
        "qwen_cnt_dct"
      ],
      "metadata": {
        "colab": {
          "base_uri": "https://localhost:8080/"
        },
        "id": "VYpbqFEQ41sI",
        "outputId": "51a28a23-652a-4393-a429-e2f73a6f5588"
      },
      "execution_count": 231,
      "outputs": [
        {
          "output_type": "execute_result",
          "data": {
            "text/plain": [
              "{2: 23, 5: 3, 1: 2, 3: 1}"
            ]
          },
          "metadata": {},
          "execution_count": 231
        }
      ]
    },
    {
      "cell_type": "code",
      "source": [
        "o3_cnt_dct"
      ],
      "metadata": {
        "colab": {
          "base_uri": "https://localhost:8080/"
        },
        "id": "rvtOg-oovvMo",
        "outputId": "453f8cd4-02f1-4d85-9303-50449d09951b"
      },
      "execution_count": 232,
      "outputs": [
        {
          "output_type": "execute_result",
          "data": {
            "text/plain": [
              "{2: 55, 1: 11, 3: 4, 5: 1}"
            ]
          },
          "metadata": {},
          "execution_count": 232
        }
      ]
    },
    {
      "cell_type": "code",
      "source": [
        "23 * 100 / 77"
      ],
      "metadata": {
        "colab": {
          "base_uri": "https://localhost:8080/"
        },
        "id": "bBkp7zV-6f78",
        "outputId": "23a838f5-a5cf-4696-f618-a77376c24ccd"
      },
      "execution_count": 237,
      "outputs": [
        {
          "output_type": "execute_result",
          "data": {
            "text/plain": [
              "29.87012987012987"
            ]
          },
          "metadata": {},
          "execution_count": 237
        }
      ]
    },
    {
      "cell_type": "code",
      "source": [
        "models = [\"o3-mini\"] * 4 + [\"qwen\"] * 4 + [\"gpt4\"] * 4\n",
        "program_steps = [1, 2, 3, 5] + [1, 2, 3, 5] + [1, 2, 3, 5]"
      ],
      "metadata": {
        "id": "6tFjEet36zUJ"
      },
      "execution_count": 245,
      "outputs": []
    },
    {
      "cell_type": "code",
      "source": [
        "ratio = []\n",
        "for model in [o3_cnt_dct, qwen_cnt_dct, gpt4_cnt_dct]:\n",
        "  for step in [1, 2, 3, 5]:\n",
        "    ratio.append(model.get(step, 0) / rounds_cnt[step])"
      ],
      "metadata": {
        "id": "uUVz_K4m6zZF"
      },
      "execution_count": 246,
      "outputs": []
    },
    {
      "cell_type": "code",
      "source": [
        "len(ratio)"
      ],
      "metadata": {
        "colab": {
          "base_uri": "https://localhost:8080/"
        },
        "id": "9T3zqUtz_7iB",
        "outputId": "24735f37-a785-48c6-9409-b43b65c160a7"
      },
      "execution_count": 247,
      "outputs": [
        {
          "output_type": "execute_result",
          "data": {
            "text/plain": [
              "12"
            ]
          },
          "metadata": {},
          "execution_count": 247
        }
      ]
    },
    {
      "cell_type": "code",
      "source": [
        "ratio_df = pd.DataFrame(data = {\n",
        "    \"model\": models,\n",
        "    \"program_step\": program_steps,\n",
        "    \"ratio\": ratio\n",
        "})"
      ],
      "metadata": {
        "id": "m_75J0fO_yBG"
      },
      "execution_count": 249,
      "outputs": []
    },
    {
      "cell_type": "code",
      "source": [
        "ratio_df.sort_values(by=[\"program_step\", \"ratio\"], ascending = [True, False], inplace=True)"
      ],
      "metadata": {
        "id": "6UFZ3qg0CN7Q"
      },
      "execution_count": 256,
      "outputs": []
    },
    {
      "cell_type": "code",
      "source": [
        "ratio_df"
      ],
      "metadata": {
        "colab": {
          "base_uri": "https://localhost:8080/",
          "height": 426
        },
        "id": "qAn07BBt_pNL",
        "outputId": "507cf68f-2dc3-4447-f698-e4b5ec365a0d"
      },
      "execution_count": 257,
      "outputs": [
        {
          "output_type": "execute_result",
          "data": {
            "text/plain": [
              "      model  program_step     ratio\n",
              "0   o3-mini             1  0.846154\n",
              "8      gpt4             1  0.769231\n",
              "4      qwen             1  0.153846\n",
              "1   o3-mini             2  0.714286\n",
              "9      gpt4             2  0.675325\n",
              "5      qwen             2  0.298701\n",
              "2   o3-mini             3  0.800000\n",
              "10     gpt4             3  0.400000\n",
              "6      qwen             3  0.200000\n",
              "7      qwen             5  0.600000\n",
              "3   o3-mini             5  0.200000\n",
              "11     gpt4             5  0.000000"
            ],
            "text/html": [
              "\n",
              "  <div id=\"df-2cbd0c1a-8db8-4a0f-b390-396a3cf5ea07\" class=\"colab-df-container\">\n",
              "    <div>\n",
              "<style scoped>\n",
              "    .dataframe tbody tr th:only-of-type {\n",
              "        vertical-align: middle;\n",
              "    }\n",
              "\n",
              "    .dataframe tbody tr th {\n",
              "        vertical-align: top;\n",
              "    }\n",
              "\n",
              "    .dataframe thead th {\n",
              "        text-align: right;\n",
              "    }\n",
              "</style>\n",
              "<table border=\"1\" class=\"dataframe\">\n",
              "  <thead>\n",
              "    <tr style=\"text-align: right;\">\n",
              "      <th></th>\n",
              "      <th>model</th>\n",
              "      <th>program_step</th>\n",
              "      <th>ratio</th>\n",
              "    </tr>\n",
              "  </thead>\n",
              "  <tbody>\n",
              "    <tr>\n",
              "      <th>0</th>\n",
              "      <td>o3-mini</td>\n",
              "      <td>1</td>\n",
              "      <td>0.846154</td>\n",
              "    </tr>\n",
              "    <tr>\n",
              "      <th>8</th>\n",
              "      <td>gpt4</td>\n",
              "      <td>1</td>\n",
              "      <td>0.769231</td>\n",
              "    </tr>\n",
              "    <tr>\n",
              "      <th>4</th>\n",
              "      <td>qwen</td>\n",
              "      <td>1</td>\n",
              "      <td>0.153846</td>\n",
              "    </tr>\n",
              "    <tr>\n",
              "      <th>1</th>\n",
              "      <td>o3-mini</td>\n",
              "      <td>2</td>\n",
              "      <td>0.714286</td>\n",
              "    </tr>\n",
              "    <tr>\n",
              "      <th>9</th>\n",
              "      <td>gpt4</td>\n",
              "      <td>2</td>\n",
              "      <td>0.675325</td>\n",
              "    </tr>\n",
              "    <tr>\n",
              "      <th>5</th>\n",
              "      <td>qwen</td>\n",
              "      <td>2</td>\n",
              "      <td>0.298701</td>\n",
              "    </tr>\n",
              "    <tr>\n",
              "      <th>2</th>\n",
              "      <td>o3-mini</td>\n",
              "      <td>3</td>\n",
              "      <td>0.800000</td>\n",
              "    </tr>\n",
              "    <tr>\n",
              "      <th>10</th>\n",
              "      <td>gpt4</td>\n",
              "      <td>3</td>\n",
              "      <td>0.400000</td>\n",
              "    </tr>\n",
              "    <tr>\n",
              "      <th>6</th>\n",
              "      <td>qwen</td>\n",
              "      <td>3</td>\n",
              "      <td>0.200000</td>\n",
              "    </tr>\n",
              "    <tr>\n",
              "      <th>7</th>\n",
              "      <td>qwen</td>\n",
              "      <td>5</td>\n",
              "      <td>0.600000</td>\n",
              "    </tr>\n",
              "    <tr>\n",
              "      <th>3</th>\n",
              "      <td>o3-mini</td>\n",
              "      <td>5</td>\n",
              "      <td>0.200000</td>\n",
              "    </tr>\n",
              "    <tr>\n",
              "      <th>11</th>\n",
              "      <td>gpt4</td>\n",
              "      <td>5</td>\n",
              "      <td>0.000000</td>\n",
              "    </tr>\n",
              "  </tbody>\n",
              "</table>\n",
              "</div>\n",
              "    <div class=\"colab-df-buttons\">\n",
              "\n",
              "  <div class=\"colab-df-container\">\n",
              "    <button class=\"colab-df-convert\" onclick=\"convertToInteractive('df-2cbd0c1a-8db8-4a0f-b390-396a3cf5ea07')\"\n",
              "            title=\"Convert this dataframe to an interactive table.\"\n",
              "            style=\"display:none;\">\n",
              "\n",
              "  <svg xmlns=\"http://www.w3.org/2000/svg\" height=\"24px\" viewBox=\"0 -960 960 960\">\n",
              "    <path d=\"M120-120v-720h720v720H120Zm60-500h600v-160H180v160Zm220 220h160v-160H400v160Zm0 220h160v-160H400v160ZM180-400h160v-160H180v160Zm440 0h160v-160H620v160ZM180-180h160v-160H180v160Zm440 0h160v-160H620v160Z\"/>\n",
              "  </svg>\n",
              "    </button>\n",
              "\n",
              "  <style>\n",
              "    .colab-df-container {\n",
              "      display:flex;\n",
              "      gap: 12px;\n",
              "    }\n",
              "\n",
              "    .colab-df-convert {\n",
              "      background-color: #E8F0FE;\n",
              "      border: none;\n",
              "      border-radius: 50%;\n",
              "      cursor: pointer;\n",
              "      display: none;\n",
              "      fill: #1967D2;\n",
              "      height: 32px;\n",
              "      padding: 0 0 0 0;\n",
              "      width: 32px;\n",
              "    }\n",
              "\n",
              "    .colab-df-convert:hover {\n",
              "      background-color: #E2EBFA;\n",
              "      box-shadow: 0px 1px 2px rgba(60, 64, 67, 0.3), 0px 1px 3px 1px rgba(60, 64, 67, 0.15);\n",
              "      fill: #174EA6;\n",
              "    }\n",
              "\n",
              "    .colab-df-buttons div {\n",
              "      margin-bottom: 4px;\n",
              "    }\n",
              "\n",
              "    [theme=dark] .colab-df-convert {\n",
              "      background-color: #3B4455;\n",
              "      fill: #D2E3FC;\n",
              "    }\n",
              "\n",
              "    [theme=dark] .colab-df-convert:hover {\n",
              "      background-color: #434B5C;\n",
              "      box-shadow: 0px 1px 3px 1px rgba(0, 0, 0, 0.15);\n",
              "      filter: drop-shadow(0px 1px 2px rgba(0, 0, 0, 0.3));\n",
              "      fill: #FFFFFF;\n",
              "    }\n",
              "  </style>\n",
              "\n",
              "    <script>\n",
              "      const buttonEl =\n",
              "        document.querySelector('#df-2cbd0c1a-8db8-4a0f-b390-396a3cf5ea07 button.colab-df-convert');\n",
              "      buttonEl.style.display =\n",
              "        google.colab.kernel.accessAllowed ? 'block' : 'none';\n",
              "\n",
              "      async function convertToInteractive(key) {\n",
              "        const element = document.querySelector('#df-2cbd0c1a-8db8-4a0f-b390-396a3cf5ea07');\n",
              "        const dataTable =\n",
              "          await google.colab.kernel.invokeFunction('convertToInteractive',\n",
              "                                                    [key], {});\n",
              "        if (!dataTable) return;\n",
              "\n",
              "        const docLinkHtml = 'Like what you see? Visit the ' +\n",
              "          '<a target=\"_blank\" href=https://colab.research.google.com/notebooks/data_table.ipynb>data table notebook</a>'\n",
              "          + ' to learn more about interactive tables.';\n",
              "        element.innerHTML = '';\n",
              "        dataTable['output_type'] = 'display_data';\n",
              "        await google.colab.output.renderOutput(dataTable, element);\n",
              "        const docLink = document.createElement('div');\n",
              "        docLink.innerHTML = docLinkHtml;\n",
              "        element.appendChild(docLink);\n",
              "      }\n",
              "    </script>\n",
              "  </div>\n",
              "\n",
              "\n",
              "<div id=\"df-b4fe298b-7d87-40de-957f-f7ba51a09604\">\n",
              "  <button class=\"colab-df-quickchart\" onclick=\"quickchart('df-b4fe298b-7d87-40de-957f-f7ba51a09604')\"\n",
              "            title=\"Suggest charts\"\n",
              "            style=\"display:none;\">\n",
              "\n",
              "<svg xmlns=\"http://www.w3.org/2000/svg\" height=\"24px\"viewBox=\"0 0 24 24\"\n",
              "     width=\"24px\">\n",
              "    <g>\n",
              "        <path d=\"M19 3H5c-1.1 0-2 .9-2 2v14c0 1.1.9 2 2 2h14c1.1 0 2-.9 2-2V5c0-1.1-.9-2-2-2zM9 17H7v-7h2v7zm4 0h-2V7h2v10zm4 0h-2v-4h2v4z\"/>\n",
              "    </g>\n",
              "</svg>\n",
              "  </button>\n",
              "\n",
              "<style>\n",
              "  .colab-df-quickchart {\n",
              "      --bg-color: #E8F0FE;\n",
              "      --fill-color: #1967D2;\n",
              "      --hover-bg-color: #E2EBFA;\n",
              "      --hover-fill-color: #174EA6;\n",
              "      --disabled-fill-color: #AAA;\n",
              "      --disabled-bg-color: #DDD;\n",
              "  }\n",
              "\n",
              "  [theme=dark] .colab-df-quickchart {\n",
              "      --bg-color: #3B4455;\n",
              "      --fill-color: #D2E3FC;\n",
              "      --hover-bg-color: #434B5C;\n",
              "      --hover-fill-color: #FFFFFF;\n",
              "      --disabled-bg-color: #3B4455;\n",
              "      --disabled-fill-color: #666;\n",
              "  }\n",
              "\n",
              "  .colab-df-quickchart {\n",
              "    background-color: var(--bg-color);\n",
              "    border: none;\n",
              "    border-radius: 50%;\n",
              "    cursor: pointer;\n",
              "    display: none;\n",
              "    fill: var(--fill-color);\n",
              "    height: 32px;\n",
              "    padding: 0;\n",
              "    width: 32px;\n",
              "  }\n",
              "\n",
              "  .colab-df-quickchart:hover {\n",
              "    background-color: var(--hover-bg-color);\n",
              "    box-shadow: 0 1px 2px rgba(60, 64, 67, 0.3), 0 1px 3px 1px rgba(60, 64, 67, 0.15);\n",
              "    fill: var(--button-hover-fill-color);\n",
              "  }\n",
              "\n",
              "  .colab-df-quickchart-complete:disabled,\n",
              "  .colab-df-quickchart-complete:disabled:hover {\n",
              "    background-color: var(--disabled-bg-color);\n",
              "    fill: var(--disabled-fill-color);\n",
              "    box-shadow: none;\n",
              "  }\n",
              "\n",
              "  .colab-df-spinner {\n",
              "    border: 2px solid var(--fill-color);\n",
              "    border-color: transparent;\n",
              "    border-bottom-color: var(--fill-color);\n",
              "    animation:\n",
              "      spin 1s steps(1) infinite;\n",
              "  }\n",
              "\n",
              "  @keyframes spin {\n",
              "    0% {\n",
              "      border-color: transparent;\n",
              "      border-bottom-color: var(--fill-color);\n",
              "      border-left-color: var(--fill-color);\n",
              "    }\n",
              "    20% {\n",
              "      border-color: transparent;\n",
              "      border-left-color: var(--fill-color);\n",
              "      border-top-color: var(--fill-color);\n",
              "    }\n",
              "    30% {\n",
              "      border-color: transparent;\n",
              "      border-left-color: var(--fill-color);\n",
              "      border-top-color: var(--fill-color);\n",
              "      border-right-color: var(--fill-color);\n",
              "    }\n",
              "    40% {\n",
              "      border-color: transparent;\n",
              "      border-right-color: var(--fill-color);\n",
              "      border-top-color: var(--fill-color);\n",
              "    }\n",
              "    60% {\n",
              "      border-color: transparent;\n",
              "      border-right-color: var(--fill-color);\n",
              "    }\n",
              "    80% {\n",
              "      border-color: transparent;\n",
              "      border-right-color: var(--fill-color);\n",
              "      border-bottom-color: var(--fill-color);\n",
              "    }\n",
              "    90% {\n",
              "      border-color: transparent;\n",
              "      border-bottom-color: var(--fill-color);\n",
              "    }\n",
              "  }\n",
              "</style>\n",
              "\n",
              "  <script>\n",
              "    async function quickchart(key) {\n",
              "      const quickchartButtonEl =\n",
              "        document.querySelector('#' + key + ' button');\n",
              "      quickchartButtonEl.disabled = true;  // To prevent multiple clicks.\n",
              "      quickchartButtonEl.classList.add('colab-df-spinner');\n",
              "      try {\n",
              "        const charts = await google.colab.kernel.invokeFunction(\n",
              "            'suggestCharts', [key], {});\n",
              "      } catch (error) {\n",
              "        console.error('Error during call to suggestCharts:', error);\n",
              "      }\n",
              "      quickchartButtonEl.classList.remove('colab-df-spinner');\n",
              "      quickchartButtonEl.classList.add('colab-df-quickchart-complete');\n",
              "    }\n",
              "    (() => {\n",
              "      let quickchartButtonEl =\n",
              "        document.querySelector('#df-b4fe298b-7d87-40de-957f-f7ba51a09604 button');\n",
              "      quickchartButtonEl.style.display =\n",
              "        google.colab.kernel.accessAllowed ? 'block' : 'none';\n",
              "    })();\n",
              "  </script>\n",
              "</div>\n",
              "\n",
              "  <div id=\"id_aa7a156e-edd6-4dcf-8538-236e8ddce5ec\">\n",
              "    <style>\n",
              "      .colab-df-generate {\n",
              "        background-color: #E8F0FE;\n",
              "        border: none;\n",
              "        border-radius: 50%;\n",
              "        cursor: pointer;\n",
              "        display: none;\n",
              "        fill: #1967D2;\n",
              "        height: 32px;\n",
              "        padding: 0 0 0 0;\n",
              "        width: 32px;\n",
              "      }\n",
              "\n",
              "      .colab-df-generate:hover {\n",
              "        background-color: #E2EBFA;\n",
              "        box-shadow: 0px 1px 2px rgba(60, 64, 67, 0.3), 0px 1px 3px 1px rgba(60, 64, 67, 0.15);\n",
              "        fill: #174EA6;\n",
              "      }\n",
              "\n",
              "      [theme=dark] .colab-df-generate {\n",
              "        background-color: #3B4455;\n",
              "        fill: #D2E3FC;\n",
              "      }\n",
              "\n",
              "      [theme=dark] .colab-df-generate:hover {\n",
              "        background-color: #434B5C;\n",
              "        box-shadow: 0px 1px 3px 1px rgba(0, 0, 0, 0.15);\n",
              "        filter: drop-shadow(0px 1px 2px rgba(0, 0, 0, 0.3));\n",
              "        fill: #FFFFFF;\n",
              "      }\n",
              "    </style>\n",
              "    <button class=\"colab-df-generate\" onclick=\"generateWithVariable('ratio_df')\"\n",
              "            title=\"Generate code using this dataframe.\"\n",
              "            style=\"display:none;\">\n",
              "\n",
              "  <svg xmlns=\"http://www.w3.org/2000/svg\" height=\"24px\"viewBox=\"0 0 24 24\"\n",
              "       width=\"24px\">\n",
              "    <path d=\"M7,19H8.4L18.45,9,17,7.55,7,17.6ZM5,21V16.75L18.45,3.32a2,2,0,0,1,2.83,0l1.4,1.43a1.91,1.91,0,0,1,.58,1.4,1.91,1.91,0,0,1-.58,1.4L9.25,21ZM18.45,9,17,7.55Zm-12,3A5.31,5.31,0,0,0,4.9,8.1,5.31,5.31,0,0,0,1,6.5,5.31,5.31,0,0,0,4.9,4.9,5.31,5.31,0,0,0,6.5,1,5.31,5.31,0,0,0,8.1,4.9,5.31,5.31,0,0,0,12,6.5,5.46,5.46,0,0,0,6.5,12Z\"/>\n",
              "  </svg>\n",
              "    </button>\n",
              "    <script>\n",
              "      (() => {\n",
              "      const buttonEl =\n",
              "        document.querySelector('#id_aa7a156e-edd6-4dcf-8538-236e8ddce5ec button.colab-df-generate');\n",
              "      buttonEl.style.display =\n",
              "        google.colab.kernel.accessAllowed ? 'block' : 'none';\n",
              "\n",
              "      buttonEl.onclick = () => {\n",
              "        google.colab.notebook.generateWithVariable('ratio_df');\n",
              "      }\n",
              "      })();\n",
              "    </script>\n",
              "  </div>\n",
              "\n",
              "    </div>\n",
              "  </div>\n"
            ],
            "application/vnd.google.colaboratory.intrinsic+json": {
              "type": "dataframe",
              "variable_name": "ratio_df",
              "summary": "{\n  \"name\": \"ratio_df\",\n  \"rows\": 12,\n  \"fields\": [\n    {\n      \"column\": \"model\",\n      \"properties\": {\n        \"dtype\": \"category\",\n        \"num_unique_values\": 3,\n        \"samples\": [\n          \"o3-mini\",\n          \"gpt4\",\n          \"qwen\"\n        ],\n        \"semantic_type\": \"\",\n        \"description\": \"\"\n      }\n    },\n    {\n      \"column\": \"program_step\",\n      \"properties\": {\n        \"dtype\": \"number\",\n        \"std\": 1,\n        \"min\": 1,\n        \"max\": 5,\n        \"num_unique_values\": 4,\n        \"samples\": [\n          2,\n          5,\n          1\n        ],\n        \"semantic_type\": \"\",\n        \"description\": \"\"\n      }\n    },\n    {\n      \"column\": \"ratio\",\n      \"properties\": {\n        \"dtype\": \"number\",\n        \"std\": 0.2953480776086649,\n        \"min\": 0.0,\n        \"max\": 0.8461538461538461,\n        \"num_unique_values\": 11,\n        \"samples\": [\n          0.2987012987012987,\n          0.8461538461538461,\n          0.6\n        ],\n        \"semantic_type\": \"\",\n        \"description\": \"\"\n      }\n    }\n  ]\n}"
            }
          },
          "metadata": {},
          "execution_count": 257
        }
      ]
    },
    {
      "cell_type": "code",
      "source": [
        "# prompt: Plot a grouped bar chart for ratio_df. group model for each program step.\n",
        "\n",
        "import matplotlib.pyplot as plt\n",
        "import seaborn as sns\n",
        "\n",
        "# Assuming ratio_df is already created as in the provided code\n",
        "\n",
        "plt.figure(figsize=(10, 6))\n",
        "sns.barplot(x='program_step', y='ratio', hue='model', data=ratio_df)\n",
        "plt.xlabel('Program Steps')\n",
        "plt.ylabel('Ratio')\n",
        "plt.title('Ratio of Correct Prediction by Program Step')\n",
        "plt.show()\n"
      ],
      "metadata": {
        "colab": {
          "base_uri": "https://localhost:8080/",
          "height": 573
        },
        "id": "4bSlq8GVxkHO",
        "outputId": "16b96efc-b4a9-40c3-a1a7-eaa5b34cbc6f"
      },
      "execution_count": 259,
      "outputs": [
        {
          "output_type": "display_data",
          "data": {
            "text/plain": [
              "<Figure size 1000x600 with 1 Axes>"
            ],
            "image/png": "[encoded data removed]"
          },
          "metadata": {}
        }
      ]
    },
    {
      "cell_type": "code",
      "source": [
        "dct[1]"
      ],
      "metadata": {
        "colab": {
          "base_uri": "https://localhost:8080/"
        },
        "id": "c6pINrcaD-4b",
        "outputId": "ce077228-cd19-411b-802e-53f728b3d767"
      },
      "execution_count": 263,
      "outputs": [
        {
          "output_type": "execute_result",
          "data": {
            "text/plain": [
              "[10, 13, 15, 16, 40, 41, 52, 57, 72, 76, 89, 95, 98]"
            ]
          },
          "metadata": {},
          "execution_count": 263
        }
      ]
    },
    {
      "cell_type": "code",
      "source": [
        "set(dct[5]).difference([int(i) for i in qwen_correct_index])"
      ],
      "metadata": {
        "colab": {
          "base_uri": "https://localhost:8080/"
        },
        "id": "1OAF_Wii3GnG",
        "outputId": "1d9118e5-b7b0-4017-b160-88a9901f82c3"
      },
      "execution_count": 317,
      "outputs": [
        {
          "output_type": "execute_result",
          "data": {
            "text/plain": [
              "{78, 99}"
            ]
          },
          "metadata": {},
          "execution_count": 317
        }
      ]
    },
    {
      "cell_type": "code",
      "source": [
        "qwen_response.get(\"99\")"
      ],
      "metadata": {
        "colab": {
          "base_uri": "https://localhost:8080/"
        },
        "id": "ng3tWSVtRY_r",
        "outputId": "308f6a56-75e9-4a03-b763-e5f99a3675a3"
      },
      "execution_count": 321,
      "outputs": [
        {
          "output_type": "execute_result",
          "data": {
            "text/plain": [
              "{'program': 'subtract(200, 100), divide(#0, const_100), subtract(1250, const_10)',\n",
              " 'format': '%'}"
            ]
          },
          "metadata": {},
          "execution_count": 321
        }
      ]
    },
    {
      "cell_type": "code",
      "source": [
        "train_data[99].get(\"qa\")"
      ],
      "metadata": {
        "colab": {
          "base_uri": "https://localhost:8080/"
        },
        "id": "iNqmOodjSAKh",
        "outputId": "f7b9c93f-7016-4a21-9d83-202445d1e2b3"
      },
      "execution_count": 322,
      "outputs": [
        {
          "output_type": "execute_result",
          "data": {
            "text/plain": [
              "{'question': 'what was the difference in percentage cumulative total shareowners 2019 returns for united parcel service inc . versus the standard & poor 2019s 500 index for the five years ended 12/31/10?',\n",
              " 'answer': '-1.42%',\n",
              " 'explanation': '',\n",
              " 'ann_table_rows': [1, 2],\n",
              " 'ann_text_rows': [],\n",
              " 'steps': [{'op': 'minus2-1',\n",
              "   'arg1': '110.57',\n",
              "   'arg2': 'const_100',\n",
              "   'res': '10.57'},\n",
              "  {'op': 'divide2-2', 'arg1': '#0', 'arg2': 'const_100', 'res': '10.57%'},\n",
              "  {'op': 'minus2-3', 'arg1': '111.99', 'arg2': 'const_100', 'res': '11.99'},\n",
              "  {'op': 'divide2-4', 'arg1': '#2', 'arg2': 'const_100', 'res': '11.99%'},\n",
              "  {'op': 'minus2-5', 'arg1': '#1', 'arg2': '#3', 'res': '-1.42%'}],\n",
              " 'program': 'subtract(110.57, const_100), divide(#0, const_100), subtract(111.99, const_100), divide(#2, const_100), subtract(#1, #3)',\n",
              " 'gold_inds': {'table_1': 'the united parcel service inc . of 12/31/05 is $ 100.00 ; the united parcel service inc . of 12/31/06 is $ 101.76 ; the united parcel service inc . of 12/31/07 is $ 98.20 ; the united parcel service inc . of 12/31/08 is $ 78.76 ; the united parcel service inc . of 12/31/09 is $ 84.87 ; the united parcel service inc . of 12/31/10 is $ 110.57 ;',\n",
              "  'table_2': 'the standard & poor 2019s 500 index of 12/31/05 is $ 100.00 ; the standard & poor 2019s 500 index of 12/31/06 is $ 115.79 ; the standard & poor 2019s 500 index of 12/31/07 is $ 122.16 ; the standard & poor 2019s 500 index of 12/31/08 is $ 76.96 ; the standard & poor 2019s 500 index of 12/31/09 is $ 97.33 ; the standard & poor 2019s 500 index of 12/31/10 is $ 111.99 ;'},\n",
              " 'exe_ans': -0.0142,\n",
              " 'program_re': 'subtract(divide(subtract(110.57, const_100), const_100), divide(subtract(111.99, const_100), const_100))'}"
            ]
          },
          "metadata": {},
          "execution_count": 322
        }
      ]
    },
    {
      "cell_type": "code",
      "source": [
        "entry[\"24\"]"
      ],
      "metadata": {
        "colab": {
          "base_uri": "https://localhost:8080/"
        },
        "id": "MI2ckkHo3DsC",
        "outputId": "5351a229-95c6-4839-f3bc-79eb16ce219e"
      },
      "execution_count": 289,
      "outputs": [
        {
          "output_type": "execute_result",
          "data": {
            "text/plain": [
              "{'question': 'what was the difference in cumulative percentage returns between edwards lifesciences and the s&p 500 for the five years ended 2016?',\n",
              " 'answer': '67%',\n",
              " 'program': 'subtract(265.06, const_100), divide(#0, const_100), subtract(198.18, const_100), divide(#2, const_100), subtract(#1, #3)',\n",
              " 'exe_ans': 0.6688,\n",
              " 'pre_text': ['2mar201707015999 ( c ) in october 2016 , our accelerated share repurchase ( 2018 2018asr 2019 2019 ) agreement concluded and we received an additional 44 thousand shares of our common stock .',\n",
              "  'shares purchased pursuant to the asr agreement are presented in the table above in the periods in which they were received .',\n",
              "  'performance graph the following graph compares the performance of our common stock with that of the s&p 500 index and the s&p 500 healthcare equipment index .',\n",
              "  'the cumulative total return listed below assumes an initial investment of $ 100 at the market close on december 30 , 2011 and reinvestment of dividends .',\n",
              "  'comparison of 5 year cumulative total return 2011 2012 2016201520142013 edwards lifesciences corporation s&p 500 s&p 500 healthcare equipment index december 31 .'],\n",
              " 'post_text': ['.'],\n",
              " 'table': [['total cumulative return', '2012', '2013', '2014', '2015', '2016'],\n",
              "  ['edwards lifesciences',\n",
              "   '$ 127.54',\n",
              "   '$ 93.01',\n",
              "   '$ 180.17',\n",
              "   '$ 223.42',\n",
              "   '$ 265.06'],\n",
              "  ['s&p 500', '116.00', '153.58', '174.60', '177.01', '198.18'],\n",
              "  ['s&p 500 healthcare equipment index',\n",
              "   '117.42',\n",
              "   '150.28',\n",
              "   '181.96',\n",
              "   '194.37',\n",
              "   '207.46']]}"
            ]
          },
          "metadata": {},
          "execution_count": 289
        }
      ]
    },
    {
      "cell_type": "code",
      "source": [
        "full_dct = dict()\n",
        "for i, v in enumerate(prog_len):\n",
        "  full_dct[v] = full_dct.get(v, []) + [i]"
      ],
      "metadata": {
        "id": "d9xoOHz03Dyl"
      },
      "execution_count": 314,
      "outputs": []
    },
    {
      "cell_type": "code",
      "source": [
        "{k:len(v) for k, v in full_dct.items()}"
      ],
      "metadata": {
        "colab": {
          "base_uri": "https://localhost:8080/"
        },
        "id": "BWdOvQTS3D2i",
        "outputId": "ee77a8db-6a4e-407d-c357-0f0eed526ca5"
      },
      "execution_count": 316,
      "outputs": [
        {
          "output_type": "execute_result",
          "data": {
            "text/plain": [
              "{2: 2107, 5: 43, 1: 571, 3: 283, 4: 33}"
            ]
          },
          "metadata": {},
          "execution_count": 316
        }
      ]
    },
    {
      "cell_type": "code",
      "source": [],
      "metadata": {
        "id": "VGqCvdB23BsN"
      },
      "execution_count": null,
      "outputs": []
    },
    {
      "cell_type": "code",
      "source": [],
      "metadata": {
        "id": "08gpLaWF3Bv9"
      },
      "execution_count": null,
      "outputs": []
    },
    {
      "cell_type": "code",
      "source": [],
      "metadata": {
        "id": "jwRtC0ql3Bzk"
      },
      "execution_count": null,
      "outputs": []
    },
    {
      "cell_type": "code",
      "source": [],
      "metadata": {
        "id": "yUGcK1n73B2w"
      },
      "execution_count": null,
      "outputs": []
    },
    {
      "cell_type": "code",
      "source": [],
      "metadata": {
        "id": "3IkRnxQy3B6r"
      },
      "execution_count": null,
      "outputs": []
    },
    {
      "cell_type": "code",
      "source": [],
      "metadata": {
        "id": "fxs0qaNL3B91"
      },
      "execution_count": null,
      "outputs": []
    },
    {
      "cell_type": "code",
      "source": [],
      "metadata": {
        "id": "GH5IO0PY3CBs"
      },
      "execution_count": null,
      "outputs": []
    },
    {
      "cell_type": "code",
      "source": [],
      "metadata": {
        "id": "02zOLyKG3CFd"
      },
      "execution_count": null,
      "outputs": []
    },
    {
      "cell_type": "code",
      "source": [],
      "metadata": {
        "id": "4y2H2pCw3CcZ"
      },
      "execution_count": null,
      "outputs": []
    },
    {
      "cell_type": "code",
      "source": [],
      "metadata": {
        "id": "eDFcSyw33CgV"
      },
      "execution_count": null,
      "outputs": []
    },
    {
      "cell_type": "code",
      "source": [],
      "metadata": {
        "id": "0-bhoba33Cju"
      },
      "execution_count": null,
      "outputs": []
    },
    {
      "cell_type": "code",
      "source": [
        "_ = evaluate_responses(o3_response, entry)"
      ],
      "metadata": {
        "colab": {
          "base_uri": "https://localhost:8080/"
        },
        "collapsed": true,
        "id": "KB8LESHRp_5e",
        "outputId": "b2341d5f-9929-443d-e278-6fb84c7595ba"
      },
      "execution_count": 155,
      "outputs": [
        {
          "output_type": "stream",
          "name": "stdout",
          "text": [
            "Program not found\n",
            "Original Answer: -0.2616\n",
            "o3_pred: 0.2616\n",
            "\n",
            "Original Answer: -0.2616\n",
            "o3_pred: 0.2616\n",
            "\n",
            "Original Answer: 0.70067\n",
            "o3_pred: 0.29933\n",
            "\n",
            "Invalid argument: C\n",
            "Error processing key 15: unsupported operand type(s) for -: 'float' and 'NoneType'\n",
            "Original Answer: 0.0228\n",
            "o3_pred: 0.1515\n",
            "\n",
            "Original Answer: -0.13249\n",
            "o3_pred: 0.13249\n",
            "\n",
            "Original Answer: -0.56939\n",
            "o3_pred: -56.93872\n",
            "\n",
            "Original Answer: -0.13397\n",
            "o3_pred: 0.13397\n",
            "\n",
            "Original Answer: 0.17647\n",
            "o3_pred: -0.15\n",
            "\n",
            "Original Answer: -0.76786\n",
            "o3_pred: 0.76786\n",
            "\n",
            "Original Answer: -0.14903\n",
            "o3_pred: 169.0\n",
            "\n",
            "Original Answer: 0.49296\n",
            "o3_pred: 0.55336\n",
            "\n",
            "Original Answer: 0.47419\n",
            "o3_pred: 294.0\n",
            "\n",
            "Original Answer: -1281.0\n",
            "o3_pred: 0.5\n",
            "\n",
            "Original Answer: 0.685\n",
            "o3_pred: 0.937\n",
            "\n",
            "Original Answer: 0.67385\n",
            "o3_pred: 0.86957\n",
            "\n",
            "Program not found\n",
            "Original Answer: -0.0637\n",
            "o3_pred: 0.0637\n",
            "\n",
            "Original Answer: 0.25432\n",
            "o3_pred: 2973.0\n",
            "\n",
            "Original Answer: 2484034.0\n",
            "o3_pred: 1200000000.0\n",
            "\n",
            "Original Answer: 0.48\n",
            "o3_pred: 0.62\n",
            "\n",
            "Original Answer: 0.01803\n",
            "o3_pred: 0.02002\n",
            "\n",
            "Original Answer: 3.34978\n",
            "o3_pred: 3.129\n",
            "\n",
            "Original Answer: 0.57656\n",
            "o3_pred: 0.06726\n",
            "\n",
            "Error processing key 90: unsupported operand type(s) for -: 'str' and 'int'\n",
            "Original Answer: 0.11765\n",
            "o3_pred: -0.39189\n",
            "\n",
            "Original Answer: 0.91083\n",
            "o3_pred: 0.47667\n",
            "\n",
            "Original Answer: -0.0142\n",
            "o3_pred: 0.0142\n",
            "\n"
          ]
        }
      ]
    },
    {
      "cell_type": "code",
      "source": [
        "_ = adjusted_program_score(o3_response, entry)"
      ],
      "metadata": {
        "collapsed": true,
        "colab": {
          "base_uri": "https://localhost:8080/"
        },
        "id": "8HTE1fberHfz",
        "outputId": "e4ae683f-97ac-4bad-dbd5-781ddef60903"
      },
      "execution_count": 156,
      "outputs": [
        {
          "output_type": "stream",
          "name": "stdout",
          "text": [
            "Incorrect Progam: 1\n",
            "Pred Program(1): \n",
            "Ref Program(1): subtract(9362.2, 9244.9), divide(#0, 9244.9)\n",
            "\n",
            "Incorrect Progam: 3\n",
            "Pred Program(3): subtract(102.11, 75.95)\n",
            "Ref Program(3): subtract(75.95, const_100), divide(#0, const_100), subtract(102.11, const_100), divide(#2, const_100), subtract(#1, #3)\n",
            "\n",
            "Incorrect Progam: 4\n",
            "Pred Program(4): subtract(75.95, const_100), subtract(102.11, const_100), subtract(#1, #0)\n",
            "Ref Program(4): subtract(75.95, const_100), divide(#0, const_100), subtract(102.11, const_100), divide(#2, const_100), subtract(#1, #3)\n",
            "\n",
            "Incorrect Progam: 5\n",
            "Pred Program(5): add(2530454, 5923147), divide(2530454, #0), multiply(#1, const_100)\n",
            "Ref Program(5): add(2530454, 5923147), divide(5923147, #0)\n",
            "\n",
            "Incorrect Progam: 12\n",
            "Pred Program(12): divide(706985, 1250000), multiply(#0, const_100)\n",
            "Ref Program(12): multiply(1.25, const_1000), divide(707, #0)\n",
            "\n",
            "Incorrect Progam: 14\n",
            "Pred Program(14): divide(258.82, 100), subtract(#0, const_1), multiply(#1, const_100)\n",
            "Ref Program(14): subtract(258.82, const_100), divide(#0, const_100)\n",
            "\n",
            "Incorrect Progam: 15\n",
            "Pred Program(15): divide(C, 6)\n",
            "Ref Program(15): divide(const_100, 6)\n",
            "\n",
            "Incorrect Progam: 21\n",
            "Pred Program(21): subtract(228, 198), divide(#0, 198), multiply(#1, const_100)\n",
            "Ref Program(21): divide(228, 100), divide(#0, 100)\n",
            "\n",
            "Incorrect Progam: 23\n",
            "Pred Program(23): divide(4.02, const_100), multiply(1500, #0)\n",
            "Ref Program(23): multiply(1.5, const_1000), multiply(#0, 4.02%)\n",
            "\n",
            "Incorrect Progam: 24\n",
            "Pred Program(24): subtract(265.06, 198.18)\n",
            "Ref Program(24): subtract(265.06, const_100), divide(#0, const_100), subtract(198.18, const_100), divide(#2, const_100), subtract(#1, #3)\n",
            "\n",
            "Incorrect Progam: 26\n",
            "Pred Program(26): subtract(317, 275), divide(#0, 317), multiply(#1, const_100)\n",
            "Ref Program(26): subtract(275, 317), divide(#0, 317)\n",
            "\n",
            "Incorrect Progam: 27\n",
            "Pred Program(27): subtract(156.7, 363.9), divide(#0, 363.9), multiply(#1, const_100)\n",
            "Ref Program(27): subtract(156.7, 363.9), divide(#0, 363.9)\n",
            "\n",
            "Incorrect Progam: 31\n",
            "Pred Program(31): subtract(240,183), divide(#0,183), multiply(#1,const_100)\n",
            "Ref Program(31): divide(240, 183), subtract(#0, const_1)\n",
            "\n",
            "Incorrect Progam: 32\n",
            "Pred Program(32): subtract(189.6, 164.2), divide(#0, 189.6), multiply(#1, const_100)\n",
            "Ref Program(32): subtract(164.2, 189.6), divide(#0, 189.6)\n",
            "\n",
            "Incorrect Progam: 34\n",
            "Pred Program(34): subtract(2.38, 2.80), divide(#0, 2.80), multiply(#1, const_100)\n",
            "Ref Program(34): subtract(2.80, 2.38), divide(#0, 2.38)\n",
            "\n",
            "Incorrect Progam: 40\n",
            "Pred Program(40): divide(619373,1954928), multiply(#0, const_100)\n",
            "Ref Program(40): divide(619373, 1954928)\n",
            "\n",
            "Incorrect Progam: 42\n",
            "Pred Program(42): subtract(132, 100), divide(#0, const_1)\n",
            "Ref Program(42): subtract(132, 100), divide(#0, 100)\n",
            "\n",
            "Incorrect Progam: 44\n",
            "Pred Program(44): subtract(5.6, 1.3), divide(#0, 5.6), multiply(#1, const_100)\n",
            "Ref Program(44): subtract(1.3, 5.6), divide(#0, 5.6)\n",
            "\n",
            "Incorrect Progam: 48\n",
            "Pred Program(48): subtract(1134, 965)\n",
            "Ref Program(48): subtract(965, 1134), divide(#0, 1134)\n",
            "\n",
            "Incorrect Progam: 49\n",
            "Pred Program(49): add(960, 1300), add(2800, #0), divide(2800, #1), multiply(#2, const_100)\n",
            "Ref Program(49): multiply(2.8, const_1000), divide(#0, 5680)\n",
            "\n",
            "Incorrect Progam: 50\n",
            "Pred Program(50): divide(98750,432000), multiply(#0,const_100)\n",
            "Ref Program(50): divide(98750, 432000), multiply(#0, const_100)\n",
            "\n",
            "Incorrect Progam: 51\n",
            "Pred Program(51): subtract(620, 326)\n",
            "Ref Program(51): subtract(620, 326), divide(#0, 620)\n",
            "\n",
            "Incorrect Progam: 52\n",
            "Pred Program(52): subtract(2658, 1377), divide(#0, 2658), multiply(#1, const_100)\n",
            "Ref Program(52): subtract(1377, 2658)\n",
            "\n",
            "Incorrect Progam: 53\n",
            "Pred Program(53): subtract(33.7, 17.4), divide(#0, 17.4), multiply(#1, const_100)\n",
            "Ref Program(53): subtract(33.7, 20.0), divide(#0, 20.0)\n",
            "\n",
            "Incorrect Progam: 54\n",
            "Pred Program(54): add(195, 410), add(#0, 1300.4)\n",
            "Ref Program(54): add(195.0, 410.0), add(#0, 1300.4)\n",
            "\n",
            "Incorrect Progam: 55\n",
            "Pred Program(55): add(35, 75), add(#0, 725), subtract(3710, #1), divide(2500, #2), multiply(#3, const_100)\n",
            "Ref Program(55): multiply(2.5, const_1000), divide(#0, 3710)\n",
            "\n",
            "Incorrect Progam: 59\n",
            "Pred Program(59): \n",
            "Ref Program(59): subtract(45296, 41895), divide(#0, 41895)\n",
            "\n",
            "Incorrect Progam: 60\n",
            "Pred Program(60): subtract(459.67, 100), divide(#0, const_100), multiply(#1, const_100)\n",
            "Ref Program(60): subtract(459.67, const_100), divide(#0, const_100)\n",
            "\n",
            "Incorrect Progam: 61\n",
            "Pred Program(61): subtract(-1367, -1460), divide(#0, 1460), multiply(#1, const_100)\n",
            "Ref Program(61): subtract(-1367, -1460), divide(#0, -1460)\n",
            "\n",
            "Incorrect Progam: 62\n",
            "Pred Program(62): subtract(597, 553), divide(#0, 553), add(const_1, #1), multiply(597, #2)\n",
            "Ref Program(62): divide(597, 553), multiply(#0, 597)\n",
            "\n",
            "Incorrect Progam: 65\n",
            "Pred Program(65): subtract(14663, 11690)\n",
            "Ref Program(65): subtract(14663, 11690), divide(#0, 11690)\n",
            "\n",
            "Incorrect Progam: 72\n",
            "Pred Program(72): divide(200,3000), multiply(#0, const_100)\n",
            "Ref Program(72): divide(200, 3000)\n",
            "\n",
            "Incorrect Progam: 75\n",
            "Pred Program(75): multiply(1200, const_1000000)\n",
            "Ref Program(75): add(1197607, 1188003), add(#0, 98424)\n",
            "\n",
            "Incorrect Progam: 77\n",
            "Pred Program(77): divide(4400, 6700), multiply(#0, const_100)\n",
            "Ref Program(77): multiply(4.4, const_1000), divide(#0, 6700)\n",
            "\n",
            "Incorrect Progam: 78\n",
            "Pred Program(78): subtract(175, 113)\n",
            "Ref Program(78): subtract(175, 100), divide(#0, 100), subtract(127, 100), divide(#2, 100), subtract(#1, #3)\n",
            "\n",
            "Incorrect Progam: 80\n",
            "Pred Program(80): divide(58.2, 2907.3), multiply(#0, const_100)\n",
            "Ref Program(80): add(2907.3, 320.1), divide(58.2, #0)\n",
            "\n",
            "Incorrect Progam: 83\n",
            "Pred Program(83): subtract(3.35, 0.221)\n",
            "Ref Program(83): divide(221, const_1000000), subtract(3.35, #0)\n",
            "\n",
            "Incorrect Progam: 87\n",
            "Pred Program(87): divide(21.1, 29.8), subtract(#0, const_1), multiply(#1, const_100)\n",
            "Ref Program(87): subtract(21.1, 29.8), divide(#0, 29.8)\n",
            "\n",
            "Incorrect Progam: 88\n",
            "Pred Program(88): add(3855, 1672), add(#0, 1307), add(#1, 6434), add(#2, 1074), add(#3, 10517), divide(1672, #4), multiply(#5, const_100)\n",
            "Ref Program(88): add(136, 828), divide(#0, 1672)\n",
            "\n",
            "Incorrect Progam: 90\n",
            "Pred Program(90): subtract(1018.5, 907.0), subtract(1033.9, 792.9)\n",
            "Ref Program(90): subtract(1018.5, 907.0), subtract(1033.9, 792.9), greater(#0, #1)\n",
            "\n",
            "Incorrect Progam: 93\n",
            "Pred Program(93): add(19, 26), add(17, 57), subtract(#0, #1), divide(#2, #1), multiply(#3, const_100)\n",
            "Ref Program(93): subtract(19, 17), divide(#0, 17)\n",
            "\n",
            "Incorrect Progam: 97\n",
            "Pred Program(97): divide(28.6, 60.0), multiply(#0, const_100)\n",
            "Ref Program(97): subtract(60.0, 28.6), divide(28.6, #0)\n",
            "\n",
            "Incorrect Progam: 99\n",
            "Pred Program(99): subtract(111.99, 110.57)\n",
            "Ref Program(99): subtract(110.57, const_100), divide(#0, const_100), subtract(111.99, const_100), divide(#2, const_100), subtract(#1, #3)\n",
            "\n"
          ]
        }
      ]
    },
    {
      "cell_type": "code",
      "source": [
        "o3_correct_index = evaluate_responses.correct_index"
      ],
      "metadata": {
        "id": "lyx2Fhgmp_9W"
      },
      "execution_count": 157,
      "outputs": []
    },
    {
      "cell_type": "code",
      "source": [
        "o3_prog_corrrect_index = adjusted_program_score.correct_index"
      ],
      "metadata": {
        "id": "Eam086HbrM5G"
      },
      "execution_count": 158,
      "outputs": []
    },
    {
      "cell_type": "code",
      "source": [
        "o3_correct_index[:10]"
      ],
      "metadata": {
        "colab": {
          "base_uri": "https://localhost:8080/"
        },
        "id": "__lIQw8hqAAG",
        "outputId": "0c8cb0d8-3431-4054-f79d-65979bafd257"
      },
      "execution_count": 159,
      "outputs": [
        {
          "output_type": "execute_result",
          "data": {
            "text/plain": [
              "['0', '2', '6', '7', '8', '9', '10', '11', '12', '13']"
            ]
          },
          "metadata": {},
          "execution_count": 159
        }
      ]
    },
    {
      "cell_type": "code",
      "source": [
        "o3_prog_corrrect_index[:10]"
      ],
      "metadata": {
        "colab": {
          "base_uri": "https://localhost:8080/"
        },
        "id": "mQarqmbtrGte",
        "outputId": "c8f5a1e3-36ee-45bd-d120-2ec885ae57fe"
      },
      "execution_count": 160,
      "outputs": [
        {
          "output_type": "execute_result",
          "data": {
            "text/plain": [
              "['0', '2', '6', '7', '8', '9', '10', '11', '13', '16']"
            ]
          },
          "metadata": {},
          "execution_count": 160
        }
      ]
    },
    {
      "cell_type": "code",
      "source": [
        "set(o3_prog_corrrect_index).difference(set(o3_correct_index))"
      ],
      "metadata": {
        "colab": {
          "base_uri": "https://localhost:8080/"
        },
        "id": "1Wf1pHsErbib",
        "outputId": "186d6b6b-276a-4741-e8b1-76c244a63d94"
      },
      "execution_count": 161,
      "outputs": [
        {
          "output_type": "execute_result",
          "data": {
            "text/plain": [
              "set()"
            ]
          },
          "metadata": {},
          "execution_count": 161
        }
      ]
    },
    {
      "cell_type": "code",
      "source": [
        "set(o3_correct_index).difference(o3_prog_corrrect_index)"
      ],
      "metadata": {
        "colab": {
          "base_uri": "https://localhost:8080/"
        },
        "id": "3cnFPnfUrblx",
        "outputId": "026a4412-2e60-457c-841d-dec534bc1cb8"
      },
      "execution_count": 162,
      "outputs": [
        {
          "output_type": "execute_result",
          "data": {
            "text/plain": [
              "{'12',\n",
              " '14',\n",
              " '23',\n",
              " '24',\n",
              " '31',\n",
              " '40',\n",
              " '42',\n",
              " '50',\n",
              " '54',\n",
              " '60',\n",
              " '62',\n",
              " '72',\n",
              " '77',\n",
              " '87'}"
            ]
          },
          "metadata": {},
          "execution_count": 162
        }
      ]
    },
    {
      "cell_type": "code",
      "source": [
        "o3_response.get(\"77\").get(\"program\")"
      ],
      "metadata": {
        "colab": {
          "base_uri": "https://localhost:8080/",
          "height": 35
        },
        "id": "Fc3d8YgKrbp6",
        "outputId": "5468e918-4f40-4f5f-e885-e93ed33fb9cc"
      },
      "execution_count": 167,
      "outputs": [
        {
          "output_type": "execute_result",
          "data": {
            "text/plain": [
              "'divide(4400, 6700), multiply(#0, const_100)'"
            ],
            "application/vnd.google.colaboratory.intrinsic+json": {
              "type": "string"
            }
          },
          "metadata": {},
          "execution_count": 167
        }
      ]
    },
    {
      "cell_type": "code",
      "source": [
        "entry.get(\"77\").get(\"program\")"
      ],
      "metadata": {
        "colab": {
          "base_uri": "https://localhost:8080/",
          "height": 35
        },
        "id": "HSxNr_agrbtY",
        "outputId": "0993a198-3dfe-4ffe-f1a2-1f7c499acb98"
      },
      "execution_count": 168,
      "outputs": [
        {
          "output_type": "execute_result",
          "data": {
            "text/plain": [
              "'multiply(4.4, const_1000), divide(#0, 6700)'"
            ],
            "application/vnd.google.colaboratory.intrinsic+json": {
              "type": "string"
            }
          },
          "metadata": {},
          "execution_count": 168
        }
      ]
    },
    {
      "cell_type": "code",
      "source": [],
      "metadata": {
        "id": "QB0oAA0aHAer"
      },
      "execution_count": null,
      "outputs": []
    },
    {
      "cell_type": "code",
      "source": [],
      "metadata": {
        "id": "jcK8481uHAiH"
      },
      "execution_count": null,
      "outputs": []
    },
    {
      "cell_type": "code",
      "source": [
        "evaluate_program_safe(str_prog_list(o3_response.get(\"25\").get(\"program\")))"
      ],
      "metadata": {
        "colab": {
          "base_uri": "https://localhost:8080/"
        },
        "id": "TT8V1oaO5k4M",
        "outputId": "a4804e10-6cb8-4bd3-e096-0c7cd440a35b"
      },
      "execution_count": 143,
      "outputs": [
        {
          "output_type": "execute_result",
          "data": {
            "text/plain": [
              "83.6485"
            ]
          },
          "metadata": {},
          "execution_count": 143
        }
      ]
    },
    {
      "cell_type": "code",
      "source": [
        "entry.get(\"25\").get(\"answer\")"
      ],
      "metadata": {
        "colab": {
          "base_uri": "https://localhost:8080/",
          "height": 35
        },
        "id": "jjW2FSI85lMc",
        "outputId": "c073a85e-15af-406d-ff3b-242342800dd0"
      },
      "execution_count": 144,
      "outputs": [
        {
          "output_type": "execute_result",
          "data": {
            "text/plain": [
              "'83.6%'"
            ],
            "application/vnd.google.colaboratory.intrinsic+json": {
              "type": "string"
            }
          },
          "metadata": {},
          "execution_count": 144
        }
      ]
    },
    {
      "cell_type": "code",
      "source": [
        "entry.get(\"25\").get(\"exe_ans\")"
      ],
      "metadata": {
        "colab": {
          "base_uri": "https://localhost:8080/"
        },
        "id": "1HMw2aEh58kK",
        "outputId": "c81d09e4-e352-4067-e6da-9056d0dac131"
      },
      "execution_count": 145,
      "outputs": [
        {
          "output_type": "execute_result",
          "data": {
            "text/plain": [
              "0.83648"
            ]
          },
          "metadata": {},
          "execution_count": 145
        }
      ]
    },
    {
      "cell_type": "code",
      "source": [
        "# prompt: find equality between two floats to the nearest thousandth\n",
        "\n",
        "def nearly_equal(a, b, tolerance=0.001):\n",
        "  \"\"\"\n",
        "  Checks if two floats are equal to the nearest thousandth.\n",
        "  \"\"\"\n",
        "  return abs(a - b) < tolerance\n"
      ],
      "metadata": {
        "id": "NR9u8duL6PDP"
      },
      "execution_count": null,
      "outputs": []
    },
    {
      "cell_type": "code",
      "source": [
        "prog_12 = o3_response.get(\"12\").get(\"program\")\n",
        "exe_prog_12 = entry.get(\"12\").get(\"program\")"
      ],
      "metadata": {
        "id": "p4_zS5hUrbwx"
      },
      "execution_count": 162,
      "outputs": []
    },
    {
      "cell_type": "code",
      "source": [
        "equal_program(\n",
        "    program_tokenization(prog_12),\n",
        "    program_tokenization(exe_prog_12)\n",
        ")"
      ],
      "metadata": {
        "colab": {
          "base_uri": "https://localhost:8080/"
        },
        "id": "KjDGshj6rb0I",
        "outputId": "90d0caf1-bf20-4883-bae1-66159a630d10"
      },
      "execution_count": 163,
      "outputs": [
        {
          "output_type": "execute_result",
          "data": {
            "text/plain": [
              "False"
            ]
          },
          "metadata": {},
          "execution_count": 163
        }
      ]
    },
    {
      "cell_type": "code",
      "source": [
        "o3_response[\"45\"][\"program\"].split(\"),\")[:-1]"
      ],
      "metadata": {
        "colab": {
          "base_uri": "https://localhost:8080/",
          "height": 35
        },
        "id": "gkz_DlmfzO04",
        "outputId": "98f6db43-cfef-4612-bd9a-9207568f2073"
      },
      "execution_count": 103,
      "outputs": [
        {
          "output_type": "execute_result",
          "data": {
            "text/plain": [
              "'subtract(5051, 4694), divide(#0, 4694), multiply(#1, const_100)'"
            ],
            "application/vnd.google.colaboratory.intrinsic+json": {
              "type": "string"
            }
          },
          "metadata": {},
          "execution_count": 103
        }
      ]
    },
    {
      "cell_type": "code",
      "source": [
        "op = \"add(34, const_55)\""
      ],
      "metadata": {
        "id": "xoXGgtQuEHcu"
      },
      "execution_count": 99,
      "outputs": []
    },
    {
      "cell_type": "code",
      "source": [
        "bool(\n",
        "    re.match(r\"^(\\w+)\\(\\s*([#\\w%.-]+)\\s*,\\s*([#\\w%.-]+)\\s*\\)$\",\n",
        "             op)\n",
        ")"
      ],
      "metadata": {
        "colab": {
          "base_uri": "https://localhost:8080/"
        },
        "id": "14ddmiWozO5D",
        "outputId": "b420fec6-e122-44b3-8565-c1de535b25c3"
      },
      "execution_count": 101,
      "outputs": [
        {
          "output_type": "execute_result",
          "data": {
            "text/plain": [
              "True"
            ]
          },
          "metadata": {},
          "execution_count": 101
        }
      ]
    },
    {
      "cell_type": "code",
      "source": [
        "str_prog_list(o3_response[\"45\"][\"program\"])[:-1]"
      ],
      "metadata": {
        "colab": {
          "base_uri": "https://localhost:8080/"
        },
        "id": "LszgbVHczO8h",
        "outputId": "e1cf474a-8b82-4648-cd3c-4830c0c86018"
      },
      "execution_count": 105,
      "outputs": [
        {
          "output_type": "execute_result",
          "data": {
            "text/plain": [
              "['subtract(5051, 4694)', 'divide(#0, 4694)']"
            ]
          },
          "metadata": {},
          "execution_count": 105
        }
      ]
    },
    {
      "cell_type": "code",
      "source": [
        "prog_str_sequence(str_prog_list(o3_response[\"45\"][\"program\"])[:-1])"
      ],
      "metadata": {
        "colab": {
          "base_uri": "https://localhost:8080/",
          "height": 35
        },
        "id": "wNfWKHjnzPD9",
        "outputId": "e204be55-b689-416f-b052-6ffebe5c3875"
      },
      "execution_count": 108,
      "outputs": [
        {
          "output_type": "execute_result",
          "data": {
            "text/plain": [
              "'subtract(5051, 4694), divide(#0, 4694)'"
            ],
            "application/vnd.google.colaboratory.intrinsic+json": {
              "type": "string"
            }
          },
          "metadata": {},
          "execution_count": 108
        }
      ]
    },
    {
      "cell_type": "code",
      "source": [],
      "metadata": {
        "id": "2vekyMuNzPG-"
      },
      "execution_count": null,
      "outputs": []
    },
    {
      "cell_type": "code",
      "source": [],
      "metadata": {
        "id": "KN3FAgsmzPKf"
      },
      "execution_count": null,
      "outputs": []
    },
    {
      "cell_type": "code",
      "source": [],
      "metadata": {
        "id": "woMb3ofzzPPP"
      },
      "execution_count": null,
      "outputs": []
    },
    {
      "cell_type": "code",
      "source": [],
      "metadata": {
        "id": "NO6jNW7_sNy8"
      },
      "execution_count": null,
      "outputs": []
    },
    {
      "cell_type": "code",
      "source": [
        "entry[\"56\"][\"program\"]"
      ],
      "metadata": {
        "colab": {
          "base_uri": "https://localhost:8080/",
          "height": 35
        },
        "id": "tRBacxq5bWR6",
        "outputId": "30fc8e65-eb31-4aef-b026-6461cf125310"
      },
      "execution_count": 67,
      "outputs": [
        {
          "output_type": "execute_result",
          "data": {
            "text/plain": [
              "'subtract(73501, 50583), divide(#0, 50583)'"
            ],
            "application/vnd.google.colaboratory.intrinsic+json": {
              "type": "string"
            }
          },
          "metadata": {},
          "execution_count": 67
        }
      ]
    },
    {
      "cell_type": "code",
      "source": [],
      "metadata": {
        "colab": {
          "base_uri": "https://localhost:8080/"
        },
        "id": "1kzcMfOrgEND",
        "outputId": "9fb3273c-a809-404e-a12a-bd84d5ad3a9b"
      },
      "execution_count": 109,
      "outputs": [
        {
          "output_type": "execute_result",
          "data": {
            "text/plain": [
              "True"
            ]
          },
          "metadata": {},
          "execution_count": 109
        }
      ]
    },
    {
      "cell_type": "code",
      "source": [
        "prog_1 = \"multiply(456, 100), divide(#0, 750), divide(120, 150), multiply(#2, 100), add(#3, #1), subtract(100, #4)\"\n",
        "prog_2 = \"divide(456, 750), multiply(#0, 100), multiply(120, 100), divide(#2, 150), add(#1, #3), subtract(100, #4)\""
      ],
      "metadata": {
        "id": "nJkr_-kElBFY"
      },
      "execution_count": 110,
      "outputs": []
    },
    {
      "cell_type": "code",
      "source": [
        "equal_program(program_tokenization(prog_1),\n",
        "              program_tokenization(prog_2))"
      ],
      "metadata": {
        "colab": {
          "base_uri": "https://localhost:8080/"
        },
        "id": "r2HxIxhblTm6",
        "outputId": "02e5ba23-c292-45fa-bb27-e4e1828a1217"
      },
      "execution_count": 111,
      "outputs": [
        {
          "output_type": "execute_result",
          "data": {
            "text/plain": [
              "True"
            ]
          },
          "metadata": {},
          "execution_count": 111
        }
      ]
    },
    {
      "cell_type": "code",
      "source": [
        "o3_progs[\"4\"]"
      ],
      "metadata": {
        "colab": {
          "base_uri": "https://localhost:8080/",
          "height": 35
        },
        "id": "l98aw5Nonbmt",
        "outputId": "e17bf84b-9706-4cf5-f87c-b8f938bf8308"
      },
      "execution_count": 88,
      "outputs": [
        {
          "output_type": "execute_result",
          "data": {
            "text/plain": [
              "'subtract(75.95, const_100), subtract(102.11, const_100), subtract(#1, #0)'"
            ],
            "application/vnd.google.colaboratory.intrinsic+json": {
              "type": "string"
            }
          },
          "metadata": {},
          "execution_count": 88
        }
      ]
    },
    {
      "cell_type": "code",
      "source": [
        "o3_progs[\"4\"]"
      ],
      "metadata": {
        "colab": {
          "base_uri": "https://localhost:8080/",
          "height": 35
        },
        "id": "aOAFt3_6-yfO",
        "outputId": "a1ff10d1-c164-4f1d-9b1e-a263ef35511a"
      },
      "execution_count": 92,
      "outputs": [
        {
          "output_type": "execute_result",
          "data": {
            "text/plain": [
              "'subtract(75.95, const_100), subtract(102.11, const_100), subtract(#1, #0)'"
            ],
            "application/vnd.google.colaboratory.intrinsic+json": {
              "type": "string"
            }
          },
          "metadata": {},
          "execution_count": 92
        }
      ]
    },
    {
      "cell_type": "code",
      "source": [
        "entry[\"4\"][\"program\"]"
      ],
      "metadata": {
        "colab": {
          "base_uri": "https://localhost:8080/",
          "height": 35
        },
        "id": "33E-R0o8nbp6",
        "outputId": "f811e160-7843-4b60-8f7d-6548a5e0d322"
      },
      "execution_count": 89,
      "outputs": [
        {
          "output_type": "execute_result",
          "data": {
            "text/plain": [
              "'subtract(75.95, const_100), divide(#0, const_100), subtract(102.11, const_100), divide(#2, const_100), subtract(#1, #3)'"
            ],
            "application/vnd.google.colaboratory.intrinsic+json": {
              "type": "string"
            }
          },
          "metadata": {},
          "execution_count": 89
        }
      ]
    },
    {
      "cell_type": "code",
      "source": [
        "score = 0\n",
        "for i in range(100):\n",
        "  if str(i) not in o3_progs:\n",
        "    print(f\"Index {i} not found\")\n",
        "  else:\n",
        "    pred_tokens = program_tokenization(o3_progs[str(i)])\n",
        "    ref_tokens = program_tokenization(entry[str(i)][\"program\"])\n",
        "\n",
        "    if equal_program(pred_tokens, ref_tokens):\n",
        "      score += 1\n",
        "    else:\n",
        "      print(f\"O3-mini Program({i}): {o3_progs[str(i)]}\")\n",
        "      print(f\"Ref Program({i}): {entry[str(i)]['program']}\\n\")"
      ],
      "metadata": {
        "colab": {
          "base_uri": "https://localhost:8080/"
        },
        "id": "2HzhRF1cnbtD",
        "outputId": "3aa457b6-6393-4574-aab5-69a4779ad9ce"
      },
      "execution_count": 93,
      "outputs": [
        {
          "output_type": "stream",
          "name": "stdout",
          "text": [
            "O3-mini Program(0): subtract(206588, 181001), divide(#0, 181001), multiply(#1, const_100)\n",
            "Ref Program(0): subtract(206588, 181001), divide(#0, 181001)\n",
            "\n",
            "O3-mini Program(1): \n",
            "Ref Program(1): subtract(9362.2, 9244.9), divide(#0, 9244.9)\n",
            "\n",
            "O3-mini Program(2): subtract(5363, 7983), divide(#0, 7983), multiply(#1, const_100)\n",
            "Ref Program(2): subtract(5363, 7983), divide(#0, 7983)\n",
            "\n",
            "O3-mini Program(3): subtract(102.11, 75.95)\n",
            "Ref Program(3): subtract(75.95, const_100), divide(#0, const_100), subtract(102.11, const_100), divide(#2, const_100), subtract(#1, #3)\n",
            "\n",
            "O3-mini Program(4): subtract(75.95, const_100), subtract(102.11, const_100), subtract(#1, #0)\n",
            "Ref Program(4): subtract(75.95, const_100), divide(#0, const_100), subtract(102.11, const_100), divide(#2, const_100), subtract(#1, #3)\n",
            "\n",
            "O3-mini Program(5): add(2530454, 5923147), divide(2530454, #0), multiply(#1, const_100)\n",
            "Ref Program(5): add(2530454, 5923147), divide(5923147, #0)\n",
            "\n",
            "O3-mini Program(6): subtract(3.7, 3.2), divide(#0, 3.2), multiply(#1, const_100)\n",
            "Ref Program(6): subtract(3.7, 3.2), divide(#0, 3.2)\n",
            "\n",
            "O3-mini Program(7): subtract(118, 102), divide(#0, 102), multiply(#1, const_100)\n",
            "Ref Program(7): subtract(118, 102), divide(#0, 102)\n",
            "\n",
            "O3-mini Program(8): add(27729, 45161), divide(#0, 317105), multiply(#1, const_100)\n",
            "Ref Program(8): add(27729, 45161), divide(#0, 317105)\n",
            "\n",
            "O3-mini Program(11): subtract(498.8, 486.9), divide(#0, 486.9), multiply(#1, const_100)\n",
            "Ref Program(11): subtract(498.8, 486.9), divide(#0, 486.9)\n",
            "\n",
            "O3-mini Program(12): divide(706985, 1250000), multiply(#0, const_100)\n",
            "Ref Program(12): multiply(1.25, const_1000), divide(707, #0)\n",
            "\n",
            "O3-mini Program(13): divide(1697, 16088), multiply(#0, const_100)\n",
            "Ref Program(13): divide(1697, 16088)\n",
            "\n",
            "O3-mini Program(14): divide(258.82, 100), subtract(#0, const_1), multiply(#1, const_100)\n",
            "Ref Program(14): subtract(258.82, const_100), divide(#0, const_100)\n",
            "\n",
            "O3-mini Program(15): divide(C, 6)\n",
            "Ref Program(15): divide(const_100, 6)\n",
            "\n",
            "O3-mini Program(16): divide(273, 643), multiply(#0, const_100)\n",
            "Ref Program(16): divide(273, 643)\n",
            "\n",
            "O3-mini Program(17): subtract(196545, 176675), divide(#0, 176675), multiply(#1, const_100)\n",
            "Ref Program(17): subtract(196545, 176675), divide(#0, 176675)\n",
            "\n",
            "O3-mini Program(20): subtract(344000, 43000), divide(#0, 43000), multiply(#1, const_100)\n",
            "Ref Program(20): subtract(344000, 43000), divide(#0, 43000)\n",
            "\n",
            "O3-mini Program(21): subtract(228, 198), divide(#0, 198), multiply(#1, const_100)\n",
            "Ref Program(21): divide(228, 100), divide(#0, 100)\n",
            "\n",
            "O3-mini Program(22): subtract(627444, 635092), divide(#0, 635092), multiply(#1, const_100)\n",
            "Ref Program(22): subtract(627444, 635092), divide(#0, 635092)\n",
            "\n",
            "O3-mini Program(23): divide(4.02, const_100), multiply(1500, #0)\n",
            "Ref Program(23): multiply(1.5, const_1000), multiply(#0, 4.02%)\n",
            "\n",
            "O3-mini Program(24): subtract(265.06, 198.18)\n",
            "Ref Program(24): subtract(265.06, const_100), divide(#0, const_100), subtract(198.18, const_100), divide(#2, const_100), subtract(#1, #3)\n",
            "\n",
            "O3-mini Program(25): subtract(18161, 9889), divide(#0, 9889), multiply(#1, const_100)\n",
            "Ref Program(25): subtract(18161, 9889), divide(#0, 9889)\n",
            "\n",
            "O3-mini Program(26): subtract(317, 275), divide(#0, 317), multiply(#1, const_100)\n",
            "Ref Program(26): subtract(275, 317), divide(#0, 317)\n",
            "\n",
            "O3-mini Program(27): subtract(156.7, 363.9), divide(#0, 363.9), multiply(#1, const_100)\n",
            "Ref Program(27): subtract(156.7, 363.9), divide(#0, 363.9)\n",
            "\n",
            "O3-mini Program(29): subtract(6147, 6241), divide(#0, 6241), multiply(#1, const_100)\n",
            "Ref Program(29): subtract(6147, 6241), divide(#0, 6241)\n",
            "\n",
            "O3-mini Program(31): subtract(240,183), divide(#0,183), multiply(#1,const_100)\n",
            "Ref Program(31): divide(240, 183), subtract(#0, const_1)\n",
            "\n",
            "O3-mini Program(32): subtract(189.6, 164.2), divide(#0, 189.6), multiply(#1, const_100)\n",
            "Ref Program(32): subtract(164.2, 189.6), divide(#0, 189.6)\n",
            "\n",
            "O3-mini Program(33): subtract(1127, 1651), divide(#0, 1651), multiply(#1, const_100)\n",
            "Ref Program(33): subtract(1127, 1651), divide(#0, 1651)\n",
            "\n",
            "O3-mini Program(34): subtract(2.38, 2.80), divide(#0, 2.80), multiply(#1, const_100)\n",
            "Ref Program(34): subtract(2.80, 2.38), divide(#0, 2.38)\n",
            "\n",
            "O3-mini Program(35): subtract(198.18, 100.0), divide(#0, const_100), multiply(#1, const_100)\n",
            "Ref Program(35): subtract(198.18, 100.0), divide(#0, const_100)\n",
            "\n",
            "O3-mini Program(37): subtract(32900, 32400), divide(#0, 32400), multiply(#1, const_100)\n",
            "Ref Program(37): subtract(32900, 32400), divide(#0, 32400)\n",
            "\n",
            "O3-mini Program(39): subtract(187.74, 176.96), divide(#0, 176.96), multiply(#1, const_100)\n",
            "Ref Program(39): subtract(187.74, 176.96), divide(#0, 176.96)\n",
            "\n",
            "O3-mini Program(40): divide(619373,1954928), multiply(#0, const_100)\n",
            "Ref Program(40): divide(619373, 1954928)\n",
            "\n",
            "O3-mini Program(41): divide(740.7, 6415.2), multiply(#0, const_100)\n",
            "Ref Program(41): divide(740.7, 6415.2)\n",
            "\n",
            "O3-mini Program(42): subtract(132, 100), divide(#0, const_1)\n",
            "Ref Program(42): subtract(132, 100), divide(#0, 100)\n",
            "\n",
            "O3-mini Program(43): subtract(453257, 364221), divide(#0, 364221), multiply(#1, const_100)\n",
            "Ref Program(43): subtract(453257, 364221), divide(#0, 364221)\n",
            "\n",
            "O3-mini Program(44): subtract(5.6, 1.3), divide(#0, 5.6), multiply(#1, const_100)\n",
            "Ref Program(44): subtract(1.3, 5.6), divide(#0, 5.6)\n",
            "\n",
            "O3-mini Program(45): subtract(5051, 4694), divide(#0, 4694), multiply(#1, const_100)\n",
            "Ref Program(45): subtract(5051, 4694), divide(#0, 4694)\n",
            "\n",
            "O3-mini Program(46): subtract(2423, 2074), divide(#0, 2074), multiply(#1, const_100)\n",
            "Ref Program(46): subtract(2423, 2074), divide(#0, 2074)\n",
            "\n",
            "O3-mini Program(47): subtract(104520, 125385), divide(#0, 125385), multiply(#1, const_100)\n",
            "Ref Program(47): subtract(104520, 125385), divide(#0, 125385)\n",
            "\n",
            "O3-mini Program(48): subtract(1134, 965)\n",
            "Ref Program(48): subtract(965, 1134), divide(#0, 1134)\n",
            "\n",
            "O3-mini Program(49): add(960, 1300), add(2800, #0), divide(2800, #1), multiply(#2, const_100)\n",
            "Ref Program(49): multiply(2.8, const_1000), divide(#0, 5680)\n",
            "\n",
            "O3-mini Program(50): divide(98750,432000), multiply(#0,const_100)\n",
            "Ref Program(50): divide(98750, 432000), multiply(#0, const_100)\n",
            "\n",
            "O3-mini Program(51): subtract(620, 326)\n",
            "Ref Program(51): subtract(620, 326), divide(#0, 620)\n",
            "\n",
            "O3-mini Program(52): subtract(2658, 1377), divide(#0, 2658), multiply(#1, const_100)\n",
            "Ref Program(52): subtract(1377, 2658)\n",
            "\n",
            "O3-mini Program(53): subtract(33.7, 17.4), divide(#0, 17.4), multiply(#1, const_100)\n",
            "Ref Program(53): subtract(33.7, 20.0), divide(#0, 20.0)\n",
            "\n",
            "O3-mini Program(54): add(195, 410), add(#0, 1300.4)\n",
            "Ref Program(54): add(195.0, 410.0), add(#0, 1300.4)\n",
            "\n",
            "O3-mini Program(55): add(35, 75), add(#0, 725), subtract(3710, #1), divide(2500, #2), multiply(#3, const_100)\n",
            "Ref Program(55): multiply(2.5, const_1000), divide(#0, 3710)\n",
            "\n",
            "O3-mini Program(56): subtract(73501, 50583), divide(#0, 50583), multiply(#1, const_100)\n",
            "Ref Program(56): subtract(73501, 50583), divide(#0, 50583)\n",
            "\n",
            "O3-mini Program(57): divide(873, 15473), multiply(#0, const_100)\n",
            "Ref Program(57): divide(873, 15473)\n",
            "\n",
            "O3-mini Program(58): subtract(300, 247), divide(#0, 247), multiply(#1, const_100)\n",
            "Ref Program(58): subtract(300, 247), divide(#0, 247)\n",
            "\n",
            "O3-mini Program(59): \n",
            "Ref Program(59): subtract(45296, 41895), divide(#0, 41895)\n",
            "\n",
            "O3-mini Program(60): subtract(459.67, 100), divide(#0, const_100), multiply(#1, const_100)\n",
            "Ref Program(60): subtract(459.67, const_100), divide(#0, const_100)\n",
            "\n",
            "O3-mini Program(61): subtract(-1367, -1460), divide(#0, 1460), multiply(#1, const_100)\n",
            "Ref Program(61): subtract(-1367, -1460), divide(#0, -1460)\n",
            "\n",
            "O3-mini Program(62): subtract(597, 553), divide(#0, 553), add(const_1, #1), multiply(597, #2)\n",
            "Ref Program(62): divide(597, 553), multiply(#0, 597)\n",
            "\n",
            "O3-mini Program(63): subtract(93192, 10258), divide(#0, 10258), multiply(#1, const_100)\n",
            "Ref Program(63): subtract(93192, 10258), divide(#0, 10258)\n",
            "\n",
            "O3-mini Program(64): subtract(73501, 50583), divide(#0, 50583), multiply(#1, const_100)\n",
            "Ref Program(64): subtract(73501, 50583), divide(#0, 50583)\n",
            "\n",
            "O3-mini Program(65): subtract(14663, 11690)\n",
            "Ref Program(65): subtract(14663, 11690), divide(#0, 11690)\n",
            "\n",
            "O3-mini Program(66): subtract(8.20, 7.46), divide(#0, 7.46), multiply(#1, const_100)\n",
            "Ref Program(66): subtract(8.20, 7.46), divide(#0, 7.46)\n",
            "\n",
            "O3-mini Program(67): add(5171000, 7779000), divide(5171000, #0), multiply(#1, const_100)\n",
            "Ref Program(67): add(5171000, 7779000), divide(5171000, #0)\n",
            "\n",
            "O3-mini Program(68): subtract(78, 119), divide(#0, 119), multiply(#1, const_100)\n",
            "Ref Program(68): subtract(78, 119), divide(#0, 119)\n",
            "\n",
            "O3-mini Program(69): subtract(425.7, 480.2), divide(#0, 480.2), multiply(#1, const_100)\n",
            "Ref Program(69): subtract(425.7, 480.2), divide(#0, 480.2)\n",
            "\n",
            "O3-mini Program(70): subtract(807, 3804), divide(#0, 3804), multiply(#1, const_100)\n",
            "Ref Program(70): subtract(807, 3804), divide(#0, 3804)\n",
            "\n",
            "O3-mini Program(71): subtract(13.1, 12.8), divide(#0, 12.8), multiply(#1, const_100)\n",
            "Ref Program(71): subtract(13.1, 12.8), divide(#0, 12.8)\n",
            "\n",
            "O3-mini Program(72): divide(200,3000), multiply(#0, const_100)\n",
            "Ref Program(72): divide(200, 3000)\n",
            "\n",
            "O3-mini Program(73): subtract(3867, 3749), divide(#0, 3749), multiply(#1, const_100)\n",
            "Ref Program(73): subtract(3867, 3749), divide(#0, 3749)\n",
            "\n",
            "O3-mini Program(74): subtract(1102, 965), divide(#0, 965), multiply(#1, const_100)\n",
            "Ref Program(74): subtract(1102, 965), divide(#0, 965)\n",
            "\n",
            "O3-mini Program(75): multiply(1200, const_1000000)\n",
            "Ref Program(75): add(1197607, 1188003), add(#0, 98424)\n",
            "\n",
            "O3-mini Program(76): divide(408424, 417471), multiply(#0, const_100)\n",
            "Ref Program(76): divide(408424, 417471)\n",
            "\n",
            "O3-mini Program(77): divide(4400, 6700), multiply(#0, const_100)\n",
            "Ref Program(77): multiply(4.4, const_1000), divide(#0, 6700)\n",
            "\n",
            "O3-mini Program(78): subtract(175, 113)\n",
            "Ref Program(78): subtract(175, 100), divide(#0, 100), subtract(127, 100), divide(#2, 100), subtract(#1, #3)\n",
            "\n",
            "O3-mini Program(79): subtract(57.2, 49.0), divide(#0, 49.0), multiply(#1, const_100)\n",
            "Ref Program(79): subtract(57.2, 49.0), divide(#0, 49.0)\n",
            "\n",
            "O3-mini Program(80): divide(58.2, 2907.3), multiply(#0, const_100)\n",
            "Ref Program(80): add(2907.3, 320.1), divide(58.2, #0)\n",
            "\n",
            "O3-mini Program(82): subtract(662272, 666009), divide(#0, 666009), multiply(#1, const_100)\n",
            "Ref Program(82): subtract(662272, 666009), divide(#0, 666009)\n",
            "\n",
            "O3-mini Program(83): subtract(3.35, 0.221)\n",
            "Ref Program(83): divide(221, const_1000000), subtract(3.35, #0)\n",
            "\n",
            "O3-mini Program(84): subtract(25, 31), divide(#0, 31), multiply(#1, const_100)\n",
            "Ref Program(84): subtract(25, 31), divide(#0, 31)\n",
            "\n",
            "O3-mini Program(85): subtract(27.4, 24.7), divide(#0, 24.7), multiply(#1, const_100)\n",
            "Ref Program(85): subtract(27.4, 24.7), divide(#0, 24.7)\n",
            "\n",
            "O3-mini Program(86): subtract(83, 78), divide(#0, 78), multiply(#1, const_100)\n",
            "Ref Program(86): subtract(83, 78), divide(#0, 78)\n",
            "\n",
            "O3-mini Program(87): divide(21.1, 29.8), subtract(#0, const_1), multiply(#1, const_100)\n",
            "Ref Program(87): subtract(21.1, 29.8), divide(#0, 29.8)\n",
            "\n",
            "O3-mini Program(88): add(3855, 1672), add(#0, 1307), add(#1, 6434), add(#2, 1074), add(#3, 10517), divide(1672, #4), multiply(#5, const_100)\n",
            "Ref Program(88): add(136, 828), divide(#0, 1672)\n",
            "\n",
            "O3-mini Program(89): divide(154300, 867558), multiply(#0, const_100)\n",
            "Ref Program(89): divide(154300, 867558)\n",
            "\n",
            "O3-mini Program(90): subtract(1018.5, 907.0), subtract(1033.9, 792.9)\n",
            "Ref Program(90): subtract(1018.5, 907.0), subtract(1033.9, 792.9), greater(#0, #1)\n",
            "\n",
            "O3-mini Program(91): subtract(9381, 9921), divide(#0, 9921), multiply(#1, const_100)\n",
            "Ref Program(91): subtract(9381, 9921), divide(#0, 9921)\n",
            "\n",
            "O3-mini Program(93): add(19, 26), add(17, 57), subtract(#0, #1), divide(#2, #1), multiply(#3, const_100)\n",
            "Ref Program(93): subtract(19, 17), divide(#0, 17)\n",
            "\n",
            "O3-mini Program(94): subtract(4214.5, 4209.6), divide(#0, 4209.6), multiply(#1, const_100)\n",
            "Ref Program(94): subtract(4214.5, 4209.6), divide(#0, 4209.6)\n",
            "\n",
            "O3-mini Program(96): subtract(239.0, 208.3), divide(#0, 208.3), multiply(#1, const_100)\n",
            "Ref Program(96): subtract(239.0, 208.3), divide(#0, 208.3)\n",
            "\n",
            "O3-mini Program(97): divide(28.6, 60.0), multiply(#0, const_100)\n",
            "Ref Program(97): subtract(60.0, 28.6), divide(28.6, #0)\n",
            "\n",
            "O3-mini Program(99): subtract(111.99, 110.57)\n",
            "Ref Program(99): subtract(110.57, const_100), divide(#0, const_100), subtract(111.99, const_100), divide(#2, const_100), subtract(#1, #3)\n",
            "\n"
          ]
        }
      ]
    },
    {
      "cell_type": "code",
      "source": [
        "score"
      ],
      "metadata": {
        "colab": {
          "base_uri": "https://localhost:8080/"
        },
        "id": "EsXdwKNznA1o",
        "outputId": "02183a0c-689d-4427-c54d-cae9773334cf"
      },
      "execution_count": 94,
      "outputs": [
        {
          "output_type": "execute_result",
          "data": {
            "text/plain": [
              "12"
            ]
          },
          "metadata": {},
          "execution_count": 94
        }
      ]
    },
    {
      "cell_type": "code",
      "source": [],
      "metadata": {
        "id": "Zs1p4vaNAH2L"
      },
      "execution_count": null,
      "outputs": []
    },
    {
      "cell_type": "code",
      "source": [
        "candidates = {}\n",
        "for id in range(len(nbest_predictions)):\n",
        "  ref_program = nbest_predictions[str(id)][0][\"ref_prog\"]\n",
        "  pred_program = nbest_predictions[str(id)][0][\"pred_prog\"]\n",
        "  ref_answer = nbest_predictions[str(id)][0][\"ref_answer\"]\n",
        "\n",
        "  if len(pred_program) == 2 and bool(re.match(r\"^-?\\d*\\.?\\d+%?$\", pred_program[0])):\n",
        "    # print(f\"Single Word({id}): {pred_program}\")\n",
        "    if \"%\" in pred_program[0]:\n",
        "      pred_answer = float(pred_program[0].replace(\"%\", \"\")) / 100\n",
        "    else:\n",
        "      pred_answer = float(pred_program[0])\n",
        "  else:\n",
        "    try:\n",
        "      if \"EOF\" not in pred_program:\n",
        "        pred_program += [\")\", \"EOF\"]\n",
        "      pred_prog = detokenize(pred_program)\n",
        "    except:\n",
        "      print(f\"Error detokenizing: {pred_program}\")\n",
        "      continue\n",
        "    try:\n",
        "      pred_prog = str_prog_list(pred_prog)\n",
        "    except:\n",
        "      print(f\"Error str_prog_list: {pred_program}\")\n",
        "      continue\n",
        "    try:\n",
        "      pred_answer = evaluate_program_safe(pred_prog)\n",
        "    except:\n",
        "      print(f\"Error evaluate_program_safe: {pred_program}\")\n",
        "      pred_answer = None\n",
        "\n",
        "  if pred_answer:\n",
        "    try:\n",
        "      prog_equality = equal_program(pred_program, ref_program)\n",
        "    except:\n",
        "        print(f\"Error equal_program: {pred_program}\")\n",
        "        print(f\"Error equal_program: {ref_program}\")\n",
        "        continue\n",
        "    if pred_answer != ref_answer and prog_equality:\n",
        "      print(\"\\n\\n\")\n",
        "      print(f\"Pred Program({id}): {pred_program}\")\n",
        "      print(f\"Ref Program({id}): {ref_program}\\n\")\n",
        "      print(\"\\n\\n\")\n",
        "      continue"
      ],
      "metadata": {
        "colab": {
          "base_uri": "https://localhost:8080/"
        },
        "collapsed": true,
        "id": "rP-xISNlc7OB",
        "outputId": "3646f425-f854-47f3-f046-05feb103de84"
      },
      "execution_count": 54,
      "outputs": [
        {
          "output_type": "stream",
          "name": "stdout",
          "text": [
            "Invalid operation format: \n",
            "Error detokenizing: ['multiply(', '45', ')', 'EOF']\n",
            "Error detokenizing: ['multiply(', '1.3', ')', 'EOF']\n",
            "\n",
            "\n",
            "\n",
            "Pred Program(252): ['greater(', '36197', '345059', ')', 'EOF']\n",
            "Ref Program(252): ['greater(', '36197', '345059', ')', 'EOF']\n",
            "\n",
            "\n",
            "\n",
            "\n",
            "Error detokenizing: ['subtract(', '22.8', '27.4', ')', 'divide(', '#0', 'multiply(', '#0', '27.4', ')', 'multiply(', '#1', 'const_100', ')', 'EOF']\n",
            "Error detokenizing: ['multiply(', '1.9', ')', 'EOF']\n",
            "Error detokenizing: ['multiply(', '932', ')', 'EOF']\n",
            "Error detokenizing: ['multiply(', '41', ')', 'EOF']\n",
            "Error detokenizing: ['multiply(', '41', ')', 'EOF']\n",
            "Error detokenizing: ['multiply(', '1000', ')', 'EOF']\n",
            "Error detokenizing: ['multiply(', '1000', ')', 'EOF']\n"
          ]
        }
      ]
    }
  ]
}